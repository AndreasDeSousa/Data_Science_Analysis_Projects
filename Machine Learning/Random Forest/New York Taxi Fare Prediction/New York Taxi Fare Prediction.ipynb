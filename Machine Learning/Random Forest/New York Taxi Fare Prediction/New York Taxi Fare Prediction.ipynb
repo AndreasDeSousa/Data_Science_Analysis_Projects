{
 "cells": [
  {
   "cell_type": "markdown",
   "metadata": {
    "id": "ymeK3K4P879t"
   },
   "source": [
    "<h1 style=\"color:Orange;font-size:170%;\">New York City Taxi Fare Prediction</h1>\n",
    "\n",
    "\n",
    "\n",
    "![](Taxi.jpg)\n",
    "\n",
    "Dataset Link: [https://www.kaggle.com/c/new-york-city-taxi-fare-prediction](https://www.kaggle.com/c/new-york-city-taxi-fare-prediction)\n",
    "\n",
    "We'll train a machine learning model to predict the fare for a taxi ride in New York city given information like pickup date & time, pickup location, drop location and no. of passengers. \n",
    "\n",
    "This dataset is taken from a [Kaggle competition](Https://www.kaggle.com/c/new-york-city-taxi-fare-prediction) organized by Google Cloud.\n",
    "It contains over 55 millions rows of training data. We'll attempt to achieve a respectable score in the competition using just a fraction of the data.\n",
    "\n"
   ]
  },
  {
   "cell_type": "markdown",
   "metadata": {
    "id": "ovhvtVIlVM0w"
   },
   "source": [
    "> _**TIP #1**: Create an outline for your notebook & for each section before you start coding_\n",
    "\n",
    "Here's an outline of the project:\n",
    "\n",
    "1. Download the dataset\n",
    "2. Explore & analyze the dataset\n",
    "3. Prepare the dataset for ML training\n",
    "4. Train hardcoded & baseline models\n",
    "5. Make predictions & submit to Kaggle\n",
    "6. Perform feature engineering\n",
    "7. Train & evaluate different models\n",
    "8. Tune hyper-parameters for the best models\n",
    "9. Train on a GPU with the entire dataset\n",
    "10. Document & publish the project online\n"
   ]
  },
  {
   "cell_type": "markdown",
   "metadata": {
    "id": "KprVTPb44pV7"
   },
   "source": [
    "## 1. Download the Dataset\n",
    "\n",
    "Steps:\n",
    "\n",
    "- Install required libraries\n",
    "- Download data from Kaggle\n",
    "- View dataset files\n",
    "- Load training set with Pandas\n",
    "- Load test set with Pandas"
   ]
  },
  {
   "cell_type": "markdown",
   "metadata": {
    "id": "QoD0siP-6b5K"
   },
   "source": [
    "### Install Required Libraries"
   ]
  },
  {
   "cell_type": "code",
   "execution_count": 6,
   "metadata": {
    "id": "BMPQKKyo6hR_"
   },
   "outputs": [
    {
     "name": "stdout",
     "output_type": "stream",
     "text": [
      "Requirement already satisfied: opendatasets in c:\\users\\desou\\anaconda3\\lib\\site-packages (0.1.20)\n",
      "Requirement already satisfied: kaggle in c:\\users\\desou\\anaconda3\\lib\\site-packages (from opendatasets) (1.5.12)\n",
      "Requirement already satisfied: tqdm in c:\\users\\desou\\anaconda3\\lib\\site-packages (from opendatasets) (4.59.0)\n",
      "Requirement already satisfied: click in c:\\users\\desou\\anaconda3\\lib\\site-packages (from opendatasets) (7.1.2)\n",
      "Requirement already satisfied: python-dateutil in c:\\users\\desou\\anaconda3\\lib\\site-packages (from kaggle->opendatasets) (2.8.1)\n",
      "Requirement already satisfied: requests in c:\\users\\desou\\anaconda3\\lib\\site-packages (from kaggle->opendatasets) (2.25.1)\n",
      "Requirement already satisfied: six>=1.10 in c:\\users\\desou\\anaconda3\\lib\\site-packages (from kaggle->opendatasets) (1.15.0)\n",
      "Requirement already satisfied: certifi in c:\\users\\desou\\anaconda3\\lib\\site-packages (from kaggle->opendatasets) (2020.12.5)\n",
      "Requirement already satisfied: python-slugify in c:\\users\\desou\\anaconda3\\lib\\site-packages (from kaggle->opendatasets) (5.0.2)\n",
      "Requirement already satisfied: urllib3 in c:\\users\\desou\\anaconda3\\lib\\site-packages (from kaggle->opendatasets) (1.26.4)\n",
      "Requirement already satisfied: text-unidecode>=1.3 in c:\\users\\desou\\anaconda3\\lib\\site-packages (from python-slugify->kaggle->opendatasets) (1.3)\n",
      "Requirement already satisfied: idna<3,>=2.5 in c:\\users\\desou\\anaconda3\\lib\\site-packages (from requests->kaggle->opendatasets) (2.10)\n",
      "Requirement already satisfied: chardet<5,>=3.0.2 in c:\\users\\desou\\anaconda3\\lib\\site-packages (from requests->kaggle->opendatasets) (4.0.0)\n",
      "Collecting xgboost\n",
      "  Downloading xgboost-1.5.0-py3-none-win_amd64.whl (106.6 MB)\n",
      "Requirement already satisfied: scipy in c:\\users\\desou\\anaconda3\\lib\\site-packages (from xgboost) (1.6.2)\n",
      "Requirement already satisfied: numpy in c:\\users\\desou\\anaconda3\\lib\\site-packages (from xgboost) (1.20.1)\n",
      "Installing collected packages: xgboost\n",
      "Successfully installed xgboost-1.5.0\n"
     ]
    }
   ],
   "source": [
    "!pip install opendatasets --upgrade\n",
    "!pip install pandas\n",
    "!pip install numpy\n",
    "!pip install scikit-learn\n",
    "!pip install xgboost"
   ]
  },
  {
   "cell_type": "code",
   "execution_count": 135,
   "metadata": {
    "id": "7RwbGaaTLJok"
   },
   "outputs": [
    {
     "data": {
      "application/javascript": "IPython.notebook.set_autosave_interval(60000)"
     },
     "metadata": {},
     "output_type": "display_data"
    },
    {
     "name": "stdout",
     "output_type": "stream",
     "text": [
      "Autosaving every 60 seconds\n"
     ]
    }
   ],
   "source": [
    "import opendatasets as od\n",
    "import pandas as pd\n",
    "import random\n",
    "import time\n",
    "import numpy as np\n",
    "\n",
    "from sklearn.linear_model import Ridge\n",
    "from sklearn.ensemble import RandomForestRegressor\n",
    "from xgboost import XGBRegressor\n",
    "from sklearn.model_selection import train_test_split\n",
    "from sklearn.metrics import mean_squared_error\n",
    "from sklearn.linear_model import LinearRegression\n",
    "\n",
    "\n",
    "%autosave 60"
   ]
  },
  {
   "cell_type": "markdown",
   "metadata": {
    "id": "gR7X9VVl6h1J"
   },
   "source": [
    "### Download Data from Kaggle\n",
    "\n",
    "We'll use the [opendatasets](https://github.com/JovianML/opendatasets) library to download the dataset. You'll need to download your Kaggle API key that is a file called `kaggle.json` from Kaggle. Log-in to Kaggle and go to *Profile picture -> Account -> API -> Create New API* and download it on the same folder as the project."
   ]
  },
  {
   "cell_type": "code",
   "execution_count": 8,
   "metadata": {
    "id": "RS0BaBV86j0Q"
   },
   "outputs": [
    {
     "name": "stderr",
     "output_type": "stream",
     "text": [
      "  0%|          | 0.00/1.56G [00:00<?, ?B/s]"
     ]
    },
    {
     "name": "stdout",
     "output_type": "stream",
     "text": [
      "Downloading new-york-city-taxi-fare-prediction.zip to .\\new-york-city-taxi-fare-prediction\n"
     ]
    },
    {
     "name": "stderr",
     "output_type": "stream",
     "text": [
      "100%|██████████| 1.56G/1.56G [08:15<00:00, 3.38MB/s]\n"
     ]
    },
    {
     "name": "stdout",
     "output_type": "stream",
     "text": [
      "\n",
      "Extracting archive .\\new-york-city-taxi-fare-prediction/new-york-city-taxi-fare-prediction.zip to .\\new-york-city-taxi-fare-prediction\n"
     ]
    }
   ],
   "source": [
    "dataset_url = 'https://www.kaggle.com/c/new-york-city-taxi-fare-prediction'\n",
    "od.download(dataset_url)"
   ]
  },
  {
   "cell_type": "code",
   "execution_count": 15,
   "metadata": {
    "id": "xotpf7sjPUXy"
   },
   "outputs": [],
   "source": [
    "# The dataset will be save in a folder called 'new-york-city-taxi-fare-prediction'. We save that folder as data_dir so it will be more handy to access the data.\n",
    "data_dir = 'new-york-city-taxi-fare-prediction'"
   ]
  },
  {
   "cell_type": "markdown",
   "metadata": {
    "id": "CRKXBoII6koE"
   },
   "source": [
    "### View Dataset Files\n",
    "\n",
    "Let's look at the size, no. of lines and first few lines of each file."
   ]
  },
  {
   "cell_type": "code",
   "execution_count": 16,
   "metadata": {
    "id": "JSeQME-i6nHb"
   },
   "outputs": [
    {
     "name": "stdout",
     "output_type": "stream",
     "text": [
      " Volume in drive D is DATA\n",
      " Volume Serial Number is 284D-6F1A\n",
      "\n",
      " Directory of D:\\Data Projects\\Data_Science_Analysis_Projects\\Machine Learning\\Random Forest\\New York Taxi Fare Prediction\n",
      "\n",
      "\n",
      " Directory of D:\\Data Projects\\Data_Science_Analysis_Projects\\Machine Learning\\Random Forest\\New York Taxi Fare Prediction\\new-york-city-taxi-fare-prediction\n",
      "\n",
      "15/11/2021  04:15    <DIR>          .\n",
      "15/11/2021  04:15    <DIR>          ..\n",
      "14/11/2021  13:03               486 GCP-Coupons-Instructions.rtf\n",
      "15/11/2021  00:49           392'295 linear_model_submission.csv\n",
      "15/11/2021  03:31           474'367 rf_submission.csv\n",
      "15/11/2021  03:15           474'667 ridge_submission.csv\n",
      "14/11/2021  13:03           343'271 sample_submission.csv\n",
      "14/11/2021  13:03           983'020 test.csv\n",
      "14/11/2021  13:03     5'697'178'298 train.csv\n",
      "15/11/2021  03:41           388'165 XGB_submission.csv\n",
      "15/11/2021  04:15           388'117 xgb_tuned_submission.csv\n",
      "               9 File(s)  5'700'622'686 bytes\n",
      "               2 Dir(s)  54'301'421'568 bytes free\n"
     ]
    },
    {
     "name": "stderr",
     "output_type": "stream",
     "text": [
      "File Not Found\n"
     ]
    }
   ],
   "source": [
    "# We can check the content of the folder and relative size as follow:\n",
    "!dir -l {data_dir}"
   ]
  },
  {
   "cell_type": "markdown",
   "source": [
    "Using a whole dataset will make iteration slower. A good practice is that to use a small sample to experiment and iterate faster. Upload the entire dataset in pandas will be slow and also all the afterwards operations will be affected.\n",
    "We will work with a 1% sample of the data (~500k rows ~ half of the test set size) and at the END come back and work with the entire dataset."
   ],
   "metadata": {
    "collapsed": false
   }
  },
  {
   "cell_type": "code",
   "execution_count": 17,
   "metadata": {
    "id": "v5HqD9eWP_gE"
   },
   "outputs": [
    {
     "data": {
      "text/plain": "(55423856, 8)"
     },
     "execution_count": 17,
     "metadata": {},
     "output_type": "execute_result"
    }
   ],
   "source": [
    "df_train_val = pd.read_csv(data_dir + \"/train.csv\")\n",
    "df_train_val.shape"
   ]
  },
  {
   "cell_type": "code",
   "execution_count": 18,
   "outputs": [
    {
     "data": {
      "text/plain": "Index(['key', 'fare_amount', 'pickup_datetime', 'pickup_longitude',\n       'pickup_latitude', 'dropoff_longitude', 'dropoff_latitude',\n       'passenger_count'],\n      dtype='object')"
     },
     "execution_count": 18,
     "metadata": {},
     "output_type": "execute_result"
    }
   ],
   "source": [
    "df_train_val.columns"
   ],
   "metadata": {
    "collapsed": false,
    "pycharm": {
     "name": "#%%\n"
    }
   }
  },
  {
   "cell_type": "code",
   "execution_count": 19,
   "metadata": {
    "id": "PjwJxDjFQZSM"
   },
   "outputs": [
    {
     "data": {
      "text/plain": "Index(['key', 'pickup_datetime', 'pickup_longitude', 'pickup_latitude',\n       'dropoff_longitude', 'dropoff_latitude', 'passenger_count'],\n      dtype='object')"
     },
     "execution_count": 19,
     "metadata": {},
     "output_type": "execute_result"
    }
   ],
   "source": [
    "df_test = pd.read_csv(data_dir + \"/test.csv\")\n",
    "df_test.columns"
   ]
  },
  {
   "cell_type": "markdown",
   "source": [
    "The test data look similar to train data except for the **fair amount** that is the **target column** since we must to predict it. For submitting the preditcion to Kaggle we need a submission file which looks like this:"
   ],
   "metadata": {
    "collapsed": false
   }
  },
  {
   "cell_type": "code",
   "execution_count": 20,
   "metadata": {
    "id": "centXUzKQ9op"
   },
   "outputs": [
    {
     "data": {
      "text/plain": "                           key  fare_amount\n0  2015-01-27 13:08:24.0000002        11.35\n1  2015-01-27 13:08:24.0000003        11.35\n2  2011-10-08 11:53:44.0000002        11.35\n3  2012-12-01 21:12:12.0000002        11.35\n4  2012-12-01 21:12:12.0000003        11.35",
      "text/html": "<div>\n<style scoped>\n    .dataframe tbody tr th:only-of-type {\n        vertical-align: middle;\n    }\n\n    .dataframe tbody tr th {\n        vertical-align: top;\n    }\n\n    .dataframe thead th {\n        text-align: right;\n    }\n</style>\n<table border=\"1\" class=\"dataframe\">\n  <thead>\n    <tr style=\"text-align: right;\">\n      <th></th>\n      <th>key</th>\n      <th>fare_amount</th>\n    </tr>\n  </thead>\n  <tbody>\n    <tr>\n      <th>0</th>\n      <td>2015-01-27 13:08:24.0000002</td>\n      <td>11.35</td>\n    </tr>\n    <tr>\n      <th>1</th>\n      <td>2015-01-27 13:08:24.0000003</td>\n      <td>11.35</td>\n    </tr>\n    <tr>\n      <th>2</th>\n      <td>2011-10-08 11:53:44.0000002</td>\n      <td>11.35</td>\n    </tr>\n    <tr>\n      <th>3</th>\n      <td>2012-12-01 21:12:12.0000002</td>\n      <td>11.35</td>\n    </tr>\n    <tr>\n      <th>4</th>\n      <td>2012-12-01 21:12:12.0000003</td>\n      <td>11.35</td>\n    </tr>\n  </tbody>\n</table>\n</div>"
     },
     "execution_count": 20,
     "metadata": {},
     "output_type": "execute_result"
    }
   ],
   "source": [
    "df_sample_sub = pd.read_csv(data_dir + \"/sample_submission.csv\")\n",
    "df_sample_sub.head()"
   ]
  },
  {
   "cell_type": "markdown",
   "source": [
    "You notice that the key values correspond exactly to the test set. The fare_amont corresponds to the predicted value of out model. In this case the values are 11.35 only because is a sample file. Once you test the model and filled this the submission file you can submit the file to the kaggle competition on the late section [here](https://www.kaggle.com/c/new-york-city-taxi-fare-prediction/submit) for check you model score. We compare our score with the leader board to sse how much your model can be optimized."
   ],
   "metadata": {
    "collapsed": false
   }
  },
  {
   "cell_type": "markdown",
   "metadata": {
    "id": "ZD2m2fpRQUq1"
   },
   "source": [
    "Observations:\n",
    "\n",
    "- This is a supervised learning regression problem\n",
    "- Training data is 5.5 GB in size\n",
    "- Training data has 5.5 million rows\n",
    "- Test set is much smaller (< 10,000 rows)\n",
    "- The training set has 8 columns:\n",
    "    - `key` (a unique identifier)\n",
    "    - `fare_amount` (target column)\n",
    "    - `pickup_datetime`\n",
    "    - `pickup_longitude`\n",
    "    - `pickup_latitude`\n",
    "    - `dropoff_longitude`\n",
    "    - `dropoff_latitude`\n",
    "    - `passenger_count`\n",
    "- The test set has all columns except the target column `fare_amount`.\n",
    "- The submission file should contain the `key` and `fare_amount` for each test sample.\n",
    "\n"
   ]
  },
  {
   "cell_type": "markdown",
   "metadata": {
    "id": "g3ECfaXG6opv"
   },
   "source": [
    "### Loading Training Set\n",
    "\n",
    "> _**TIP #2**: When working with large datasets, always start with a sample to experiment & iterate faster._\n",
    "\n",
    "Loading the entire dataset into Pandas is going to be slow, so we can use the following optimizations:\n",
    "\n",
    "- Ignore the `key` column\n",
    "- Parse pickup datetime while loading data \n",
    "- Specify data types for other columns\n",
    "   - `float32` for geo coordinates\n",
    "   - `float32` for fare amount\n",
    "   - `uint8` for passenger count\n",
    "- Work with a 1% sample of the data (~500k rows)\n",
    "\n",
    "We can apply these optimizations while using [`pd.read_csv`](https://pandas.pydata.org/pandas-docs/stable/reference/api/pandas.read_csv.html)"
   ]
  },
  {
   "cell_type": "code",
   "execution_count": 21,
   "metadata": {
    "id": "BvqQSC5NTK3w"
   },
   "outputs": [
    {
     "data": {
      "text/plain": "['fare_amount',\n 'pickup_datetime',\n 'pickup_longitude',\n 'pickup_latitude',\n 'dropoff_longitude',\n 'dropoff_latitude',\n 'passenger_count']"
     },
     "execution_count": 21,
     "metadata": {},
     "output_type": "execute_result"
    }
   ],
   "source": [
    "sel_cols = 'fare_amount,pickup_datetime,pickup_longitude,pickup_latitude,dropoff_longitude,dropoff_latitude,passenger_count'.split(',')\n",
    "sel_cols"
   ]
  },
  {
   "cell_type": "code",
   "execution_count": 22,
   "metadata": {
    "id": "53-fOkat6qoX"
   },
   "outputs": [],
   "source": [
    "dtypes = {\n",
    "    'fare_amount' : 'float32',\n",
    "    'pickup_longitude' : 'float32',\n",
    "    'pickup_latitude' : 'float32',\n",
    "    'dropoff_longitude' : 'float32',\n",
    "    'dropoff_latitude' : 'float32',\n",
    "    'passenger_count' : 'uint8'\n",
    "}"
   ]
  },
  {
   "cell_type": "code",
   "execution_count": 23,
   "outputs": [],
   "source": [
    "def skiprow(row_idx):\n",
    "    \"\"\"\n",
    "    This function return a True value with a probability defined by the sample_fraction.\n",
    "    The first row will always took.\n",
    "    Input arg: row_idx\n",
    "    Output arg: Boolean\n",
    "\n",
    "    \"\"\"\n",
    "\n",
    "    if row_idx == 0: # Keep the first row\n",
    "        return False\n",
    "    return random.random() > sample_fraction # If random is greater than samplefration (which is 99% of probability it will skip the row"
   ],
   "metadata": {
    "collapsed": false,
    "pycharm": {
     "name": "#%%\n"
    }
   }
  },
  {
   "cell_type": "code",
   "execution_count": 24,
   "outputs": [],
   "source": [
    "elapsed = {\n",
    "    \"1%\" : 0,\n",
    "    \"3%\" : 0,\n",
    "    \"10%\": 0,\n",
    "    \"30%\": 0,\n",
    "    \"100%\": 0\n",
    "}"
   ],
   "metadata": {
    "collapsed": false,
    "pycharm": {
     "name": "#%%\n"
    }
   }
  },
  {
   "cell_type": "code",
   "execution_count": 25,
   "outputs": [],
   "source": [
    "random.seed(42)\n",
    "\n",
    "# 1% of the data\n",
    "t = time.time()\n",
    "sample_fraction = 0.01\n",
    "\n",
    "# df_train_val = pd.read_csv(data_dir + \"/train.csv\",usecols = sel_cols, dtype = dtypes, nrows = 500)\n",
    "df_train_val = pd.read_csv(data_dir + \"/train.csv\",\n",
    "                       usecols = sel_cols,\n",
    "                       parse_dates = ['pickup_datetime'], # the types datetime need to pass separately\n",
    "                       dtype = dtypes,\n",
    "                       skiprows = skiprow)\n",
    "elapsed[\"1%\"] = round((time.time() - t)/60,2)"
   ],
   "metadata": {
    "collapsed": false,
    "pycharm": {
     "name": "#%%\n"
    }
   }
  },
  {
   "cell_type": "markdown",
   "source": [
    "> _**TIP #3**: Fix the seeds for random number generators so that you get the same results every time you run your notebook._"
   ],
   "metadata": {
    "collapsed": false
   }
  },
  {
   "cell_type": "markdown",
   "source": [
    "For fun and for exploratory purpose we will try to load 3%, 10%, 30% and 100% of the data."
   ],
   "metadata": {
    "collapsed": false
   }
  },
  {
   "cell_type": "code",
   "execution_count": null,
   "metadata": {
    "id": "Ye0DzTlkTSV7"
   },
   "outputs": [],
   "source": [
    "# 3% of the data\n",
    "t = time.time()\n",
    "sample_fraction = 0.03\n",
    "\n",
    "# df_train_val = pd.read_csv(data_dir + \"/train.csv\",usecols = sel_cols, dtype = dtypes, nrows = 500)\n",
    "df_train_val_time = pd.read_csv(data_dir + \"/train.csv\",\n",
    "                            usecols = sel_cols,\n",
    "                            parse_dates = ['pickup_datetime'],\n",
    "                            dtype = dtypes,\n",
    "                            skiprows = skiprow)\n",
    "elapsed[\"3%\"] = round((time.time() - t)/60,2)\n"
   ]
  },
  {
   "cell_type": "code",
   "execution_count": null,
   "outputs": [],
   "source": [
    "# 10% of the data\n",
    "t = time.time()\n",
    "\n",
    "sample_fraction = 0.1\n",
    "\n",
    "# df_train_val = pd.read_csv(data_dir + \"/train.csv\",usecols = sel_cols, dtype = dtypes, nrows = 500)\n",
    "df_train_val_time = pd.read_csv(data_dir + \"/train.csv\",\n",
    "                            usecols = sel_cols,\n",
    "                            parse_dates = ['pickup_datetime'],\n",
    "                            dtype = dtypes,\n",
    "                            skiprows = skiprow)\n",
    "\n",
    "elapsed[\"10%\"] = round((time.time() - t)/60,2)\n",
    "elapsed"
   ],
   "metadata": {
    "collapsed": false,
    "pycharm": {
     "name": "#%%\n"
    }
   }
  },
  {
   "cell_type": "code",
   "execution_count": null,
   "outputs": [],
   "source": [
    "# 30% of the data\n",
    "t = time.time()\n",
    "\n",
    "sample_fraction = 0.3\n",
    "\n",
    "# df_train_val = pd.read_csv(data_dir + \"/train.csv\",usecols = sel_cols, dtype = dtypes, nrows = 500)\n",
    "df_train_val_time = pd.read_csv(data_dir + \"/train.csv\",\n",
    "                            usecols = sel_cols,\n",
    "                            parse_dates = ['pickup_datetime'],\n",
    "                            dtype = dtypes,\n",
    "                            skiprows = skiprow)\n",
    "\n",
    "elapsed[\"30%\"] = round((time.time() - t)/60,2)\n",
    "elapsed"
   ],
   "metadata": {
    "collapsed": false,
    "pycharm": {
     "name": "#%%\n"
    }
   }
  },
  {
   "cell_type": "code",
   "execution_count": null,
   "outputs": [],
   "source": [
    "# 100% of the data\n",
    "t = time.time()\n",
    "\n",
    "sample_fraction = 1\n",
    "\n",
    "# df_train_val = pd.read_csv(data_dir + \"/train.csv\",usecols = sel_cols, dtype = dtypes, nrows = 500)\n",
    "df_train_val_time = pd.read_csv(data_dir + \"/train.csv\",\n",
    "                            usecols = sel_cols,\n",
    "                            parse_dates = ['pickup_datetime'],\n",
    "                            dtype = dtypes,\n",
    "                            skiprows = skiprow)\n",
    "\n",
    "elapsed[\"100%\"] = round((time.time() - t)/60,2)"
   ],
   "metadata": {
    "collapsed": false,
    "pycharm": {
     "name": "#%%\n"
    }
   }
  },
  {
   "cell_type": "code",
   "execution_count": null,
   "outputs": [],
   "source": [
    "del df_train_val_time"
   ],
   "metadata": {
    "collapsed": false,
    "pycharm": {
     "name": "#%%\n"
    }
   }
  },
  {
   "cell_type": "code",
   "execution_count": null,
   "outputs": [],
   "source": [
    "elapsed # In minutes"
   ],
   "metadata": {
    "collapsed": false,
    "pycharm": {
     "name": "#%%\n"
    }
   }
  },
  {
   "cell_type": "markdown",
   "metadata": {
    "id": "riKehMfZ6vbT"
   },
   "source": [
    "### Load Test Set\n",
    "\n",
    "For the test set, we'll simply provide the data types."
   ]
  },
  {
   "cell_type": "code",
   "execution_count": 26,
   "metadata": {
    "id": "vOO33o4o6xDS"
   },
   "outputs": [],
   "source": [
    "df_test = pd.read_csv(data_dir + \"/test.csv\",dtype=dtypes, parse_dates=['pickup_datetime'])"
   ]
  },
  {
   "cell_type": "code",
   "execution_count": 27,
   "metadata": {
    "id": "9oqXKAsbTYPl"
   },
   "outputs": [
    {
     "data": {
      "text/plain": "                              key           pickup_datetime  pickup_longitude  \\\n0     2015-01-27 13:08:24.0000002 2015-01-27 13:08:24+00:00        -73.973320   \n1     2015-01-27 13:08:24.0000003 2015-01-27 13:08:24+00:00        -73.986862   \n2     2011-10-08 11:53:44.0000002 2011-10-08 11:53:44+00:00        -73.982521   \n3     2012-12-01 21:12:12.0000002 2012-12-01 21:12:12+00:00        -73.981163   \n4     2012-12-01 21:12:12.0000003 2012-12-01 21:12:12+00:00        -73.966049   \n...                           ...                       ...               ...   \n9909  2015-05-10 12:37:51.0000002 2015-05-10 12:37:51+00:00        -73.968124   \n9910  2015-01-12 17:05:51.0000001 2015-01-12 17:05:51+00:00        -73.945511   \n9911  2015-04-19 20:44:15.0000001 2015-04-19 20:44:15+00:00        -73.991600   \n9912  2015-01-31 01:05:19.0000005 2015-01-31 01:05:19+00:00        -73.985573   \n9913  2015-01-18 14:06:23.0000006 2015-01-18 14:06:23+00:00        -73.988022   \n\n      pickup_latitude  dropoff_longitude  dropoff_latitude  passenger_count  \n0           40.763805         -73.981430         40.743835                1  \n1           40.719383         -73.998886         40.739201                1  \n2           40.751259         -73.979652         40.746140                1  \n3           40.767807         -73.990448         40.751637                1  \n4           40.789776         -73.988564         40.744427                1  \n...               ...                ...               ...              ...  \n9909        40.796997         -73.955643         40.780388                6  \n9910        40.803600         -73.960213         40.776371                6  \n9911        40.726608         -73.789742         40.647011                6  \n9912        40.735432         -73.939178         40.801731                6  \n9913        40.754070         -74.000282         40.759220                6  \n\n[9914 rows x 7 columns]",
      "text/html": "<div>\n<style scoped>\n    .dataframe tbody tr th:only-of-type {\n        vertical-align: middle;\n    }\n\n    .dataframe tbody tr th {\n        vertical-align: top;\n    }\n\n    .dataframe thead th {\n        text-align: right;\n    }\n</style>\n<table border=\"1\" class=\"dataframe\">\n  <thead>\n    <tr style=\"text-align: right;\">\n      <th></th>\n      <th>key</th>\n      <th>pickup_datetime</th>\n      <th>pickup_longitude</th>\n      <th>pickup_latitude</th>\n      <th>dropoff_longitude</th>\n      <th>dropoff_latitude</th>\n      <th>passenger_count</th>\n    </tr>\n  </thead>\n  <tbody>\n    <tr>\n      <th>0</th>\n      <td>2015-01-27 13:08:24.0000002</td>\n      <td>2015-01-27 13:08:24+00:00</td>\n      <td>-73.973320</td>\n      <td>40.763805</td>\n      <td>-73.981430</td>\n      <td>40.743835</td>\n      <td>1</td>\n    </tr>\n    <tr>\n      <th>1</th>\n      <td>2015-01-27 13:08:24.0000003</td>\n      <td>2015-01-27 13:08:24+00:00</td>\n      <td>-73.986862</td>\n      <td>40.719383</td>\n      <td>-73.998886</td>\n      <td>40.739201</td>\n      <td>1</td>\n    </tr>\n    <tr>\n      <th>2</th>\n      <td>2011-10-08 11:53:44.0000002</td>\n      <td>2011-10-08 11:53:44+00:00</td>\n      <td>-73.982521</td>\n      <td>40.751259</td>\n      <td>-73.979652</td>\n      <td>40.746140</td>\n      <td>1</td>\n    </tr>\n    <tr>\n      <th>3</th>\n      <td>2012-12-01 21:12:12.0000002</td>\n      <td>2012-12-01 21:12:12+00:00</td>\n      <td>-73.981163</td>\n      <td>40.767807</td>\n      <td>-73.990448</td>\n      <td>40.751637</td>\n      <td>1</td>\n    </tr>\n    <tr>\n      <th>4</th>\n      <td>2012-12-01 21:12:12.0000003</td>\n      <td>2012-12-01 21:12:12+00:00</td>\n      <td>-73.966049</td>\n      <td>40.789776</td>\n      <td>-73.988564</td>\n      <td>40.744427</td>\n      <td>1</td>\n    </tr>\n    <tr>\n      <th>...</th>\n      <td>...</td>\n      <td>...</td>\n      <td>...</td>\n      <td>...</td>\n      <td>...</td>\n      <td>...</td>\n      <td>...</td>\n    </tr>\n    <tr>\n      <th>9909</th>\n      <td>2015-05-10 12:37:51.0000002</td>\n      <td>2015-05-10 12:37:51+00:00</td>\n      <td>-73.968124</td>\n      <td>40.796997</td>\n      <td>-73.955643</td>\n      <td>40.780388</td>\n      <td>6</td>\n    </tr>\n    <tr>\n      <th>9910</th>\n      <td>2015-01-12 17:05:51.0000001</td>\n      <td>2015-01-12 17:05:51+00:00</td>\n      <td>-73.945511</td>\n      <td>40.803600</td>\n      <td>-73.960213</td>\n      <td>40.776371</td>\n      <td>6</td>\n    </tr>\n    <tr>\n      <th>9911</th>\n      <td>2015-04-19 20:44:15.0000001</td>\n      <td>2015-04-19 20:44:15+00:00</td>\n      <td>-73.991600</td>\n      <td>40.726608</td>\n      <td>-73.789742</td>\n      <td>40.647011</td>\n      <td>6</td>\n    </tr>\n    <tr>\n      <th>9912</th>\n      <td>2015-01-31 01:05:19.0000005</td>\n      <td>2015-01-31 01:05:19+00:00</td>\n      <td>-73.985573</td>\n      <td>40.735432</td>\n      <td>-73.939178</td>\n      <td>40.801731</td>\n      <td>6</td>\n    </tr>\n    <tr>\n      <th>9913</th>\n      <td>2015-01-18 14:06:23.0000006</td>\n      <td>2015-01-18 14:06:23+00:00</td>\n      <td>-73.988022</td>\n      <td>40.754070</td>\n      <td>-74.000282</td>\n      <td>40.759220</td>\n      <td>6</td>\n    </tr>\n  </tbody>\n</table>\n<p>9914 rows × 7 columns</p>\n</div>"
     },
     "execution_count": 27,
     "metadata": {},
     "output_type": "execute_result"
    }
   ],
   "source": [
    "df_test"
   ]
  },
  {
   "cell_type": "code",
   "execution_count": 28,
   "outputs": [
    {
     "data": {
      "text/plain": "        fare_amount           pickup_datetime  pickup_longitude  \\\n0               4.0 2014-12-06 20:36:22+00:00        -73.979813   \n1               8.0 2013-01-17 17:22:00+00:00          0.000000   \n2               8.9 2011-06-15 18:07:00+00:00        -73.996330   \n3               6.9 2009-12-14 12:33:00+00:00        -73.982430   \n4               7.0 2013-11-06 11:26:54+00:00        -73.959061   \n...             ...                       ...               ...   \n552445         45.0 2014-02-06 23:59:45+00:00        -73.973587   \n552446         22.5 2015-01-05 15:29:08+00:00        -73.935928   \n552447          4.5 2013-02-17 22:27:00+00:00        -73.992531   \n552448         14.5 2013-01-27 12:41:00+00:00        -74.012115   \n552449          6.0 2014-10-18 07:51:00+00:00        -73.997681   \n\n        pickup_latitude  dropoff_longitude  dropoff_latitude  passenger_count  \n0             40.751904         -73.979446         40.755482                1  \n1              0.000000           0.000000          0.000000                2  \n2             40.753223         -73.978897         40.766964                3  \n3             40.745747         -73.982430         40.745747                1  \n4             40.781059         -73.962059         40.768604                1  \n...                 ...                ...               ...              ...  \n552445        40.747669         -73.999916         40.602894                1  \n552446        40.799656         -73.985710         40.726952                2  \n552447        40.748619         -73.998436         40.740143                1  \n552448        40.706635         -73.988724         40.756218                1  \n552449        40.724380         -73.994148         40.717796                1  \n\n[552450 rows x 7 columns]",
      "text/html": "<div>\n<style scoped>\n    .dataframe tbody tr th:only-of-type {\n        vertical-align: middle;\n    }\n\n    .dataframe tbody tr th {\n        vertical-align: top;\n    }\n\n    .dataframe thead th {\n        text-align: right;\n    }\n</style>\n<table border=\"1\" class=\"dataframe\">\n  <thead>\n    <tr style=\"text-align: right;\">\n      <th></th>\n      <th>fare_amount</th>\n      <th>pickup_datetime</th>\n      <th>pickup_longitude</th>\n      <th>pickup_latitude</th>\n      <th>dropoff_longitude</th>\n      <th>dropoff_latitude</th>\n      <th>passenger_count</th>\n    </tr>\n  </thead>\n  <tbody>\n    <tr>\n      <th>0</th>\n      <td>4.0</td>\n      <td>2014-12-06 20:36:22+00:00</td>\n      <td>-73.979813</td>\n      <td>40.751904</td>\n      <td>-73.979446</td>\n      <td>40.755482</td>\n      <td>1</td>\n    </tr>\n    <tr>\n      <th>1</th>\n      <td>8.0</td>\n      <td>2013-01-17 17:22:00+00:00</td>\n      <td>0.000000</td>\n      <td>0.000000</td>\n      <td>0.000000</td>\n      <td>0.000000</td>\n      <td>2</td>\n    </tr>\n    <tr>\n      <th>2</th>\n      <td>8.9</td>\n      <td>2011-06-15 18:07:00+00:00</td>\n      <td>-73.996330</td>\n      <td>40.753223</td>\n      <td>-73.978897</td>\n      <td>40.766964</td>\n      <td>3</td>\n    </tr>\n    <tr>\n      <th>3</th>\n      <td>6.9</td>\n      <td>2009-12-14 12:33:00+00:00</td>\n      <td>-73.982430</td>\n      <td>40.745747</td>\n      <td>-73.982430</td>\n      <td>40.745747</td>\n      <td>1</td>\n    </tr>\n    <tr>\n      <th>4</th>\n      <td>7.0</td>\n      <td>2013-11-06 11:26:54+00:00</td>\n      <td>-73.959061</td>\n      <td>40.781059</td>\n      <td>-73.962059</td>\n      <td>40.768604</td>\n      <td>1</td>\n    </tr>\n    <tr>\n      <th>...</th>\n      <td>...</td>\n      <td>...</td>\n      <td>...</td>\n      <td>...</td>\n      <td>...</td>\n      <td>...</td>\n      <td>...</td>\n    </tr>\n    <tr>\n      <th>552445</th>\n      <td>45.0</td>\n      <td>2014-02-06 23:59:45+00:00</td>\n      <td>-73.973587</td>\n      <td>40.747669</td>\n      <td>-73.999916</td>\n      <td>40.602894</td>\n      <td>1</td>\n    </tr>\n    <tr>\n      <th>552446</th>\n      <td>22.5</td>\n      <td>2015-01-05 15:29:08+00:00</td>\n      <td>-73.935928</td>\n      <td>40.799656</td>\n      <td>-73.985710</td>\n      <td>40.726952</td>\n      <td>2</td>\n    </tr>\n    <tr>\n      <th>552447</th>\n      <td>4.5</td>\n      <td>2013-02-17 22:27:00+00:00</td>\n      <td>-73.992531</td>\n      <td>40.748619</td>\n      <td>-73.998436</td>\n      <td>40.740143</td>\n      <td>1</td>\n    </tr>\n    <tr>\n      <th>552448</th>\n      <td>14.5</td>\n      <td>2013-01-27 12:41:00+00:00</td>\n      <td>-74.012115</td>\n      <td>40.706635</td>\n      <td>-73.988724</td>\n      <td>40.756218</td>\n      <td>1</td>\n    </tr>\n    <tr>\n      <th>552449</th>\n      <td>6.0</td>\n      <td>2014-10-18 07:51:00+00:00</td>\n      <td>-73.997681</td>\n      <td>40.724380</td>\n      <td>-73.994148</td>\n      <td>40.717796</td>\n      <td>1</td>\n    </tr>\n  </tbody>\n</table>\n<p>552450 rows × 7 columns</p>\n</div>"
     },
     "execution_count": 28,
     "metadata": {},
     "output_type": "execute_result"
    }
   ],
   "source": [
    "df_train_val"
   ],
   "metadata": {
    "collapsed": false,
    "pycharm": {
     "name": "#%%\n"
    }
   }
  },
  {
   "cell_type": "markdown",
   "metadata": {
    "id": "f9CYWu1c6yD9"
   },
   "source": [
    "## 2. Explore the Dataset\n",
    "\n",
    "- Basic info about training set\n",
    "- Basic info about test set\n",
    "- Exploratory data analysis & visualization\n",
    "- Ask & answer questions"
   ]
  },
  {
   "cell_type": "markdown",
   "metadata": {
    "id": "HK044Ke76_QB"
   },
   "source": [
    "### Training Set"
   ]
  },
  {
   "cell_type": "code",
   "execution_count": 29,
   "metadata": {
    "id": "ThJJwhCR7Gzb"
   },
   "outputs": [
    {
     "name": "stdout",
     "output_type": "stream",
     "text": [
      "<class 'pandas.core.frame.DataFrame'>\n",
      "RangeIndex: 552450 entries, 0 to 552449\n",
      "Data columns (total 7 columns):\n",
      " #   Column             Non-Null Count   Dtype              \n",
      "---  ------             --------------   -----              \n",
      " 0   fare_amount        552450 non-null  float32            \n",
      " 1   pickup_datetime    552450 non-null  datetime64[ns, UTC]\n",
      " 2   pickup_longitude   552450 non-null  float32            \n",
      " 3   pickup_latitude    552450 non-null  float32            \n",
      " 4   dropoff_longitude  552450 non-null  float32            \n",
      " 5   dropoff_latitude   552450 non-null  float32            \n",
      " 6   passenger_count    552450 non-null  uint8              \n",
      "dtypes: datetime64[ns, UTC](1), float32(5), uint8(1)\n",
      "memory usage: 15.3 MB\n"
     ]
    }
   ],
   "source": [
    "df_train_val.info()"
   ]
  },
  {
   "cell_type": "code",
   "execution_count": 30,
   "metadata": {
    "id": "GrcLO35KTsWi"
   },
   "outputs": [
    {
     "data": {
      "text/plain": "         fare_amount  pickup_longitude  pickup_latitude  dropoff_longitude  \\\ncount  552450.000000     552450.000000    552450.000000      552450.000000   \nmean       11.354463        -72.288383        39.830513         -72.295395   \nstd         9.810809         11.622035         8.041162          12.065184   \nmin       -52.000000      -1183.362793     -3084.490234       -3356.729736   \n25%         6.000000        -73.992020        40.734875         -73.991425   \n50%         8.500000        -73.981819        40.752621         -73.980179   \n75%        12.500000        -73.967155        40.767036         -73.963737   \nmax       499.000000       2420.209473       404.983337        2467.752686   \n\n       dropoff_latitude  passenger_count  \ncount     552450.000000    552450.000000  \nmean          39.854305         1.684983  \nstd            9.226158         1.337664  \nmin        -2073.150635         0.000000  \n25%           40.733990         1.000000  \n50%           40.753101         1.000000  \n75%           40.768059         2.000000  \nmax         3351.403076       208.000000  ",
      "text/html": "<div>\n<style scoped>\n    .dataframe tbody tr th:only-of-type {\n        vertical-align: middle;\n    }\n\n    .dataframe tbody tr th {\n        vertical-align: top;\n    }\n\n    .dataframe thead th {\n        text-align: right;\n    }\n</style>\n<table border=\"1\" class=\"dataframe\">\n  <thead>\n    <tr style=\"text-align: right;\">\n      <th></th>\n      <th>fare_amount</th>\n      <th>pickup_longitude</th>\n      <th>pickup_latitude</th>\n      <th>dropoff_longitude</th>\n      <th>dropoff_latitude</th>\n      <th>passenger_count</th>\n    </tr>\n  </thead>\n  <tbody>\n    <tr>\n      <th>count</th>\n      <td>552450.000000</td>\n      <td>552450.000000</td>\n      <td>552450.000000</td>\n      <td>552450.000000</td>\n      <td>552450.000000</td>\n      <td>552450.000000</td>\n    </tr>\n    <tr>\n      <th>mean</th>\n      <td>11.354463</td>\n      <td>-72.288383</td>\n      <td>39.830513</td>\n      <td>-72.295395</td>\n      <td>39.854305</td>\n      <td>1.684983</td>\n    </tr>\n    <tr>\n      <th>std</th>\n      <td>9.810809</td>\n      <td>11.622035</td>\n      <td>8.041162</td>\n      <td>12.065184</td>\n      <td>9.226158</td>\n      <td>1.337664</td>\n    </tr>\n    <tr>\n      <th>min</th>\n      <td>-52.000000</td>\n      <td>-1183.362793</td>\n      <td>-3084.490234</td>\n      <td>-3356.729736</td>\n      <td>-2073.150635</td>\n      <td>0.000000</td>\n    </tr>\n    <tr>\n      <th>25%</th>\n      <td>6.000000</td>\n      <td>-73.992020</td>\n      <td>40.734875</td>\n      <td>-73.991425</td>\n      <td>40.733990</td>\n      <td>1.000000</td>\n    </tr>\n    <tr>\n      <th>50%</th>\n      <td>8.500000</td>\n      <td>-73.981819</td>\n      <td>40.752621</td>\n      <td>-73.980179</td>\n      <td>40.753101</td>\n      <td>1.000000</td>\n    </tr>\n    <tr>\n      <th>75%</th>\n      <td>12.500000</td>\n      <td>-73.967155</td>\n      <td>40.767036</td>\n      <td>-73.963737</td>\n      <td>40.768059</td>\n      <td>2.000000</td>\n    </tr>\n    <tr>\n      <th>max</th>\n      <td>499.000000</td>\n      <td>2420.209473</td>\n      <td>404.983337</td>\n      <td>2467.752686</td>\n      <td>3351.403076</td>\n      <td>208.000000</td>\n    </tr>\n  </tbody>\n</table>\n</div>"
     },
     "execution_count": 30,
     "metadata": {},
     "output_type": "execute_result"
    }
   ],
   "source": [
    "df_train_val.describe()"
   ]
  },
  {
   "cell_type": "markdown",
   "metadata": {
    "id": "k5jzYKMNTuQc",
    "pycharm": {
     "name": "#%% md\n"
    }
   },
   "source": [
    "As we can see that half of the fre is costing less than 8 dollar. That's give us an idea how good our model need to be. An ideal variance of the prediction can be 3 dollars, more than this will be too much. There are some value dirty as negative fare, pickup longitude as -1183 which is not valid (a lot out of the area), and a max passenger of 208."
   ]
  },
  {
   "cell_type": "code",
   "execution_count": 31,
   "outputs": [
    {
     "data": {
      "text/plain": "(Timestamp('2009-01-01 00:11:46+0000', tz='UTC'),\n Timestamp('2015-06-30 23:59:54+0000', tz='UTC'))"
     },
     "execution_count": 31,
     "metadata": {},
     "output_type": "execute_result"
    }
   ],
   "source": [
    "df_train_val[\"pickup_datetime\"].min(),df_train_val[\"pickup_datetime\"].max()"
   ],
   "metadata": {
    "collapsed": false,
    "pycharm": {
     "name": "#%%\n"
    }
   }
  },
  {
   "cell_type": "markdown",
   "metadata": {
    "id": "7WIzKrOwTzGv"
   },
   "source": [
    "Observations about training data:\n",
    "\n",
    "- 550k+ rows, as expected\n",
    "- No missing data (in the sample)\n",
    "- `fare_amount` ranges from \\$-52.0 to \\$499.0 \n",
    "- `passenger_count` ranges from 0 to 208 \n",
    "- There seem to be some errors in the latitude & longitude values\n",
    "- Dates range from 1st Jan 2009 to 30th June 2015\n",
    "- The dataset takes up ~19 MB of space in the RAM\n",
    "\n",
    "We may need to deal with outliers and data entry errors before we train our model.\n"
   ]
  },
  {
   "cell_type": "markdown",
   "metadata": {
    "id": "DtRcylCW7Hvu"
   },
   "source": [
    "### Test Set"
   ]
  },
  {
   "cell_type": "code",
   "execution_count": 32,
   "metadata": {
    "id": "zK-AtxR_7I6X"
   },
   "outputs": [
    {
     "name": "stdout",
     "output_type": "stream",
     "text": [
      "<class 'pandas.core.frame.DataFrame'>\n",
      "RangeIndex: 9914 entries, 0 to 9913\n",
      "Data columns (total 7 columns):\n",
      " #   Column             Non-Null Count  Dtype              \n",
      "---  ------             --------------  -----              \n",
      " 0   key                9914 non-null   object             \n",
      " 1   pickup_datetime    9914 non-null   datetime64[ns, UTC]\n",
      " 2   pickup_longitude   9914 non-null   float32            \n",
      " 3   pickup_latitude    9914 non-null   float32            \n",
      " 4   dropoff_longitude  9914 non-null   float32            \n",
      " 5   dropoff_latitude   9914 non-null   float32            \n",
      " 6   passenger_count    9914 non-null   uint8              \n",
      "dtypes: datetime64[ns, UTC](1), float32(4), object(1), uint8(1)\n",
      "memory usage: 319.6+ KB\n"
     ]
    }
   ],
   "source": [
    "df_test.info()"
   ]
  },
  {
   "cell_type": "code",
   "execution_count": 33,
   "metadata": {
    "id": "lKA33FctWGEe"
   },
   "outputs": [
    {
     "data": {
      "text/plain": "       pickup_longitude  pickup_latitude  dropoff_longitude  dropoff_latitude  \\\ncount       9914.000000      9914.000000        9914.000000       9914.000000   \nmean         -73.976181        40.750954         -73.974945         40.751553   \nstd            0.042799         0.033542           0.039093          0.035436   \nmin          -74.252190        40.573143         -74.263245         40.568974   \n25%          -73.992500        40.736125         -73.991249         40.735253   \n50%          -73.982327        40.753052         -73.980015         40.754065   \n75%          -73.968012        40.767113         -73.964062         40.768757   \nmax          -72.986534        41.709557         -72.990967         41.696682   \n\n       passenger_count  \ncount      9914.000000  \nmean          1.671273  \nstd           1.278747  \nmin           1.000000  \n25%           1.000000  \n50%           1.000000  \n75%           2.000000  \nmax           6.000000  ",
      "text/html": "<div>\n<style scoped>\n    .dataframe tbody tr th:only-of-type {\n        vertical-align: middle;\n    }\n\n    .dataframe tbody tr th {\n        vertical-align: top;\n    }\n\n    .dataframe thead th {\n        text-align: right;\n    }\n</style>\n<table border=\"1\" class=\"dataframe\">\n  <thead>\n    <tr style=\"text-align: right;\">\n      <th></th>\n      <th>pickup_longitude</th>\n      <th>pickup_latitude</th>\n      <th>dropoff_longitude</th>\n      <th>dropoff_latitude</th>\n      <th>passenger_count</th>\n    </tr>\n  </thead>\n  <tbody>\n    <tr>\n      <th>count</th>\n      <td>9914.000000</td>\n      <td>9914.000000</td>\n      <td>9914.000000</td>\n      <td>9914.000000</td>\n      <td>9914.000000</td>\n    </tr>\n    <tr>\n      <th>mean</th>\n      <td>-73.976181</td>\n      <td>40.750954</td>\n      <td>-73.974945</td>\n      <td>40.751553</td>\n      <td>1.671273</td>\n    </tr>\n    <tr>\n      <th>std</th>\n      <td>0.042799</td>\n      <td>0.033542</td>\n      <td>0.039093</td>\n      <td>0.035436</td>\n      <td>1.278747</td>\n    </tr>\n    <tr>\n      <th>min</th>\n      <td>-74.252190</td>\n      <td>40.573143</td>\n      <td>-74.263245</td>\n      <td>40.568974</td>\n      <td>1.000000</td>\n    </tr>\n    <tr>\n      <th>25%</th>\n      <td>-73.992500</td>\n      <td>40.736125</td>\n      <td>-73.991249</td>\n      <td>40.735253</td>\n      <td>1.000000</td>\n    </tr>\n    <tr>\n      <th>50%</th>\n      <td>-73.982327</td>\n      <td>40.753052</td>\n      <td>-73.980015</td>\n      <td>40.754065</td>\n      <td>1.000000</td>\n    </tr>\n    <tr>\n      <th>75%</th>\n      <td>-73.968012</td>\n      <td>40.767113</td>\n      <td>-73.964062</td>\n      <td>40.768757</td>\n      <td>2.000000</td>\n    </tr>\n    <tr>\n      <th>max</th>\n      <td>-72.986534</td>\n      <td>41.709557</td>\n      <td>-72.990967</td>\n      <td>41.696682</td>\n      <td>6.000000</td>\n    </tr>\n  </tbody>\n</table>\n</div>"
     },
     "execution_count": 33,
     "metadata": {},
     "output_type": "execute_result"
    }
   ],
   "source": [
    "df_test.describe()"
   ]
  },
  {
   "cell_type": "markdown",
   "source": [
    "Since we have a huge amount of data we can drop the data from the training set which fall out the test set data."
   ],
   "metadata": {
    "collapsed": false,
    "pycharm": {
     "name": "#%% md\n"
    }
   }
  },
  {
   "cell_type": "code",
   "execution_count": 34,
   "metadata": {
    "id": "hRudxeE2Wfhm"
   },
   "outputs": [
    {
     "data": {
      "text/plain": "(Timestamp('2009-01-01 11:04:24+0000', tz='UTC'),\n Timestamp('2015-06-30 20:03:50+0000', tz='UTC'))"
     },
     "execution_count": 34,
     "metadata": {},
     "output_type": "execute_result"
    }
   ],
   "source": [
    "df_test[\"pickup_datetime\"].min(),df_test[\"pickup_datetime\"].max()"
   ]
  },
  {
   "cell_type": "markdown",
   "metadata": {
    "id": "CQRCB4HiWLYb"
   },
   "source": [
    "Some observations about the test set:\n",
    "\n",
    "- 9914 rows of data\n",
    "- No missing values\n",
    "- No obvious data entry errors\n",
    "- 1 to 6 passengers (we can limit training data to this range)\n",
    "- Latitudes lie between 40 and 42\n",
    "- Longitudes lie between -75 and -72\n",
    "- Pickup dates range from Jan 1st 2009 to Jun  30th 2015 (same as training set)\n",
    "\n",
    "We can use the ranges of the test set to drop outliers/invalid data from the training set."
   ]
  },
  {
   "cell_type": "markdown",
   "metadata": {
    "id": "DpkjXgOr7Yaq"
   },
   "source": [
    "### Ask & Answer Questions\n",
    "\n",
    "Ask & answer questions about the dataset:\n",
    "\n",
    "1. What is the busiest day of the week?\n",
    "2. What is the busiest time of the day?\n",
    "3. In which month are fares the highest?\n",
    "4. Which pickup locations have the highest fares?\n",
    "5. Which drop locations have the highest fares?\n",
    "6. What is the average ride distance?\n",
    "7. ???\n",
    "\n",
    "Performing EDA on your dataset and asking questions will help you develop a deeper understand of the data and give you ideas for feature engineering.\n"
   ]
  },
  {
   "cell_type": "markdown",
   "metadata": {
    "id": "UBoP2YdZZOcL"
   },
   "source": [
    "> _**TIP #4**: Take an iterative approach to building ML models: do some EDA, do some feature engineering, train a model, then repeat to improve your model._"
   ]
  },
  {
   "cell_type": "markdown",
   "metadata": {
    "id": "Fo0ue49U7eu4"
   },
   "source": [
    "## 3. Prepare Dataset for Training\n",
    "\n",
    "- Split Training & Validation Set\n",
    "- Fill/Remove Missing Values\n",
    "- Extract Inputs & Outputs\n",
    "   - Training\n",
    "   - Validation\n",
    "   - Test"
   ]
  },
  {
   "cell_type": "markdown",
   "metadata": {
    "id": "mswEXeiu7mrA"
   },
   "source": [
    "### Split Training & Validation Set\n",
    "\n",
    "We'll set aside 20% of the training data as the validation set, to evaluate the models we train on previously unseen data. \n",
    "\n",
    "Since the test set and training set have the same date ranges, we can pick a random 20% fraction.\n",
    "\n",
    "> _**TIP #5**: Your validation set should be as similar to the test set or real-world data as possible i.e. the evaluation metric score of a model on validation & test sets should be very close, otherwise you're shooting in the dark._\n"
   ]
  },
  {
   "cell_type": "markdown",
   "source": [
    "Try also with StratifiedShuffleSplit method"
   ],
   "metadata": {
    "collapsed": false
   }
  },
  {
   "cell_type": "code",
   "execution_count": 35,
   "metadata": {
    "id": "-A1hKczB7U0I"
   },
   "outputs": [],
   "source": [
    "train_df, val_df = train_test_split(df_train_val, test_size=0.2, random_state=42) # We set random_state=42 so we always have the same test and val data"
   ]
  },
  {
   "cell_type": "code",
   "execution_count": 36,
   "metadata": {
    "id": "223dkJPcZ5wM"
   },
   "outputs": [
    {
     "data": {
      "text/plain": "(441960, 110490)"
     },
     "execution_count": 36,
     "metadata": {},
     "output_type": "execute_result"
    }
   ],
   "source": [
    "len(train_df), len(val_df)"
   ]
  },
  {
   "cell_type": "markdown",
   "metadata": {
    "id": "RREUhZFx7k37"
   },
   "source": [
    "### Fill/Remove Missing Values\n",
    "\n",
    "There are no missing values in our sample, but if there were, we could simply drop the rows with missing values instead of trying to fill them (there is a lot of training data). Since the missing value is estimated around 1% or 2% and we have many data we can drop this values."
   ]
  },
  {
   "cell_type": "code",
   "execution_count": 37,
   "metadata": {
    "id": "62tQ1Mkj-B1U"
   },
   "outputs": [],
   "source": [
    "train_df = train_df.dropna()\n",
    "val_df = val_df.dropna()"
   ]
  },
  {
   "cell_type": "markdown",
   "metadata": {
    "id": "v8aL-x9C-Gc5"
   },
   "source": [
    "### Extract Inputs and Outputs\n",
    "Before create a model we need to separate the input and the outputs columns."
   ]
  },
  {
   "cell_type": "code",
   "execution_count": 38,
   "metadata": {
    "id": "3EznRfztapJd"
   },
   "outputs": [
    {
     "data": {
      "text/plain": "Index(['fare_amount', 'pickup_datetime', 'pickup_longitude', 'pickup_latitude',\n       'dropoff_longitude', 'dropoff_latitude', 'passenger_count'],\n      dtype='object')"
     },
     "execution_count": 38,
     "metadata": {},
     "output_type": "execute_result"
    }
   ],
   "source": [
    "train_df.columns"
   ]
  },
  {
   "cell_type": "markdown",
   "source": [
    "We can't pass a datetime colum into a ML model by himself because it's a timestamp not a number. We need to convert that column or split it into multiple columns"
   ],
   "metadata": {
    "collapsed": false
   }
  },
  {
   "cell_type": "code",
   "execution_count": 39,
   "metadata": {
    "id": "20_-9TgMapjR"
   },
   "outputs": [],
   "source": [
    "input_cols = ['pickup_longitude', 'pickup_latitude', 'dropoff_longitude', 'dropoff_latitude', 'passenger_count']"
   ]
  },
  {
   "cell_type": "code",
   "execution_count": 40,
   "metadata": {
    "id": "7CAarE7UapzF"
   },
   "outputs": [],
   "source": [
    "target_cols = 'fare_amount'"
   ]
  },
  {
   "cell_type": "markdown",
   "metadata": {
    "id": "1b-bhEhS-Mz6"
   },
   "source": [
    "#### Training set"
   ]
  },
  {
   "cell_type": "code",
   "execution_count": 41,
   "metadata": {
    "id": "1zTNkuqe-H3O"
   },
   "outputs": [
    {
     "data": {
      "text/plain": "        pickup_longitude  pickup_latitude  dropoff_longitude  \\\n353352        -73.993652        40.741543         -73.977974   \n360070        -73.993805        40.724579         -73.993805   \n372609        -73.959160        40.780750         -73.969116   \n550895        -73.952187        40.783951         -73.978645   \n444151        -73.977112        40.746834         -73.991104   \n...                  ...              ...                ...   \n110268        -73.987152        40.750633         -73.979073   \n259178        -73.972656        40.764042         -74.013176   \n365838        -73.991982        40.749767         -73.989845   \n131932        -73.969055        40.761398         -73.990814   \n121958        -73.983040        40.742142         -74.002510   \n\n        dropoff_latitude  passenger_count  \n353352         40.742352                4  \n360070         40.724579                1  \n372609         40.761230                1  \n550895         40.772602                1  \n444151         40.750404                2  \n...                  ...              ...  \n110268         40.763168                1  \n259178         40.707840                2  \n365838         40.720551                3  \n131932         40.751328                1  \n121958         40.727650                1  \n\n[441960 rows x 5 columns]",
      "text/html": "<div>\n<style scoped>\n    .dataframe tbody tr th:only-of-type {\n        vertical-align: middle;\n    }\n\n    .dataframe tbody tr th {\n        vertical-align: top;\n    }\n\n    .dataframe thead th {\n        text-align: right;\n    }\n</style>\n<table border=\"1\" class=\"dataframe\">\n  <thead>\n    <tr style=\"text-align: right;\">\n      <th></th>\n      <th>pickup_longitude</th>\n      <th>pickup_latitude</th>\n      <th>dropoff_longitude</th>\n      <th>dropoff_latitude</th>\n      <th>passenger_count</th>\n    </tr>\n  </thead>\n  <tbody>\n    <tr>\n      <th>353352</th>\n      <td>-73.993652</td>\n      <td>40.741543</td>\n      <td>-73.977974</td>\n      <td>40.742352</td>\n      <td>4</td>\n    </tr>\n    <tr>\n      <th>360070</th>\n      <td>-73.993805</td>\n      <td>40.724579</td>\n      <td>-73.993805</td>\n      <td>40.724579</td>\n      <td>1</td>\n    </tr>\n    <tr>\n      <th>372609</th>\n      <td>-73.959160</td>\n      <td>40.780750</td>\n      <td>-73.969116</td>\n      <td>40.761230</td>\n      <td>1</td>\n    </tr>\n    <tr>\n      <th>550895</th>\n      <td>-73.952187</td>\n      <td>40.783951</td>\n      <td>-73.978645</td>\n      <td>40.772602</td>\n      <td>1</td>\n    </tr>\n    <tr>\n      <th>444151</th>\n      <td>-73.977112</td>\n      <td>40.746834</td>\n      <td>-73.991104</td>\n      <td>40.750404</td>\n      <td>2</td>\n    </tr>\n    <tr>\n      <th>...</th>\n      <td>...</td>\n      <td>...</td>\n      <td>...</td>\n      <td>...</td>\n      <td>...</td>\n    </tr>\n    <tr>\n      <th>110268</th>\n      <td>-73.987152</td>\n      <td>40.750633</td>\n      <td>-73.979073</td>\n      <td>40.763168</td>\n      <td>1</td>\n    </tr>\n    <tr>\n      <th>259178</th>\n      <td>-73.972656</td>\n      <td>40.764042</td>\n      <td>-74.013176</td>\n      <td>40.707840</td>\n      <td>2</td>\n    </tr>\n    <tr>\n      <th>365838</th>\n      <td>-73.991982</td>\n      <td>40.749767</td>\n      <td>-73.989845</td>\n      <td>40.720551</td>\n      <td>3</td>\n    </tr>\n    <tr>\n      <th>131932</th>\n      <td>-73.969055</td>\n      <td>40.761398</td>\n      <td>-73.990814</td>\n      <td>40.751328</td>\n      <td>1</td>\n    </tr>\n    <tr>\n      <th>121958</th>\n      <td>-73.983040</td>\n      <td>40.742142</td>\n      <td>-74.002510</td>\n      <td>40.727650</td>\n      <td>1</td>\n    </tr>\n  </tbody>\n</table>\n<p>441960 rows × 5 columns</p>\n</div>"
     },
     "execution_count": 41,
     "metadata": {},
     "output_type": "execute_result"
    }
   ],
   "source": [
    "train_inputs = train_df[input_cols]\n",
    "train_inputs"
   ]
  },
  {
   "cell_type": "code",
   "execution_count": 42,
   "metadata": {
    "id": "rsdfMMSybTsQ"
   },
   "outputs": [
    {
     "data": {
      "text/plain": "353352     6.0\n360070     3.7\n372609    10.0\n550895     8.9\n444151     7.3\n          ... \n110268     9.3\n259178    18.5\n365838    10.1\n131932    10.9\n121958     9.5\nName: fare_amount, Length: 441960, dtype: float32"
     },
     "execution_count": 42,
     "metadata": {},
     "output_type": "execute_result"
    }
   ],
   "source": [
    "train_targets = train_df[target_cols]\n",
    "train_targets"
   ]
  },
  {
   "cell_type": "markdown",
   "metadata": {
    "id": "tj49BUY_-InI"
   },
   "source": [
    "#### Validation set"
   ]
  },
  {
   "cell_type": "code",
   "execution_count": 43,
   "metadata": {
    "id": "FR-5yVjY-PZV"
   },
   "outputs": [
    {
     "data": {
      "text/plain": "        pickup_longitude  pickup_latitude  dropoff_longitude  \\\n15971         -73.995834        40.759190         -73.973679   \n149839        -73.977386        40.738335         -73.976143   \n515867        -73.983910        40.749470         -73.787170   \n90307         -73.790794        40.643463         -73.972252   \n287032        -73.976593        40.761944         -73.991463   \n...                  ...              ...                ...   \n467556        -73.968567        40.761238         -73.983406   \n19482         -73.986725        40.755920         -73.985855   \n186063          0.000000         0.000000           0.000000   \n382260        -73.980057        40.760334         -73.872589   \n18838         -73.955406        40.782417         -73.960434   \n\n        dropoff_latitude  passenger_count  \n15971          40.739086                1  \n149839         40.751205                1  \n515867         40.646645                1  \n90307          40.690182                1  \n287032         40.750309                2  \n...                  ...              ...  \n467556         40.750019                3  \n19482          40.731171                1  \n186063          0.000000                1  \n382260         40.774300                1  \n18838          40.767666                1  \n\n[110490 rows x 5 columns]",
      "text/html": "<div>\n<style scoped>\n    .dataframe tbody tr th:only-of-type {\n        vertical-align: middle;\n    }\n\n    .dataframe tbody tr th {\n        vertical-align: top;\n    }\n\n    .dataframe thead th {\n        text-align: right;\n    }\n</style>\n<table border=\"1\" class=\"dataframe\">\n  <thead>\n    <tr style=\"text-align: right;\">\n      <th></th>\n      <th>pickup_longitude</th>\n      <th>pickup_latitude</th>\n      <th>dropoff_longitude</th>\n      <th>dropoff_latitude</th>\n      <th>passenger_count</th>\n    </tr>\n  </thead>\n  <tbody>\n    <tr>\n      <th>15971</th>\n      <td>-73.995834</td>\n      <td>40.759190</td>\n      <td>-73.973679</td>\n      <td>40.739086</td>\n      <td>1</td>\n    </tr>\n    <tr>\n      <th>149839</th>\n      <td>-73.977386</td>\n      <td>40.738335</td>\n      <td>-73.976143</td>\n      <td>40.751205</td>\n      <td>1</td>\n    </tr>\n    <tr>\n      <th>515867</th>\n      <td>-73.983910</td>\n      <td>40.749470</td>\n      <td>-73.787170</td>\n      <td>40.646645</td>\n      <td>1</td>\n    </tr>\n    <tr>\n      <th>90307</th>\n      <td>-73.790794</td>\n      <td>40.643463</td>\n      <td>-73.972252</td>\n      <td>40.690182</td>\n      <td>1</td>\n    </tr>\n    <tr>\n      <th>287032</th>\n      <td>-73.976593</td>\n      <td>40.761944</td>\n      <td>-73.991463</td>\n      <td>40.750309</td>\n      <td>2</td>\n    </tr>\n    <tr>\n      <th>...</th>\n      <td>...</td>\n      <td>...</td>\n      <td>...</td>\n      <td>...</td>\n      <td>...</td>\n    </tr>\n    <tr>\n      <th>467556</th>\n      <td>-73.968567</td>\n      <td>40.761238</td>\n      <td>-73.983406</td>\n      <td>40.750019</td>\n      <td>3</td>\n    </tr>\n    <tr>\n      <th>19482</th>\n      <td>-73.986725</td>\n      <td>40.755920</td>\n      <td>-73.985855</td>\n      <td>40.731171</td>\n      <td>1</td>\n    </tr>\n    <tr>\n      <th>186063</th>\n      <td>0.000000</td>\n      <td>0.000000</td>\n      <td>0.000000</td>\n      <td>0.000000</td>\n      <td>1</td>\n    </tr>\n    <tr>\n      <th>382260</th>\n      <td>-73.980057</td>\n      <td>40.760334</td>\n      <td>-73.872589</td>\n      <td>40.774300</td>\n      <td>1</td>\n    </tr>\n    <tr>\n      <th>18838</th>\n      <td>-73.955406</td>\n      <td>40.782417</td>\n      <td>-73.960434</td>\n      <td>40.767666</td>\n      <td>1</td>\n    </tr>\n  </tbody>\n</table>\n<p>110490 rows × 5 columns</p>\n</div>"
     },
     "execution_count": 43,
     "metadata": {},
     "output_type": "execute_result"
    }
   ],
   "source": [
    "val_inputs = val_df[input_cols]\n",
    "val_inputs"
   ]
  },
  {
   "cell_type": "code",
   "execution_count": 44,
   "metadata": {
    "id": "bL75iGCkbe3t"
   },
   "outputs": [
    {
     "data": {
      "text/plain": "15971     14.000000\n149839     6.500000\n515867    49.570000\n90307     49.700001\n287032     8.500000\n            ...    \n467556     6.100000\n19482      7.300000\n186063     4.500000\n382260    32.900002\n18838     11.500000\nName: fare_amount, Length: 110490, dtype: float32"
     },
     "execution_count": 44,
     "metadata": {},
     "output_type": "execute_result"
    }
   ],
   "source": [
    "val_targets = val_df[target_cols]\n",
    "val_targets"
   ]
  },
  {
   "cell_type": "markdown",
   "metadata": {
    "id": "PxUKnWZG-SEP"
   },
   "source": [
    "#### Test set"
   ]
  },
  {
   "cell_type": "code",
   "execution_count": 45,
   "metadata": {
    "id": "eszwMU1U-S04"
   },
   "outputs": [
    {
     "data": {
      "text/plain": "      pickup_longitude  pickup_latitude  dropoff_longitude  dropoff_latitude  \\\n0           -73.973320        40.763805         -73.981430         40.743835   \n1           -73.986862        40.719383         -73.998886         40.739201   \n2           -73.982521        40.751259         -73.979652         40.746140   \n3           -73.981163        40.767807         -73.990448         40.751637   \n4           -73.966049        40.789776         -73.988564         40.744427   \n...                ...              ...                ...               ...   \n9909        -73.968124        40.796997         -73.955643         40.780388   \n9910        -73.945511        40.803600         -73.960213         40.776371   \n9911        -73.991600        40.726608         -73.789742         40.647011   \n9912        -73.985573        40.735432         -73.939178         40.801731   \n9913        -73.988022        40.754070         -74.000282         40.759220   \n\n      passenger_count  \n0                   1  \n1                   1  \n2                   1  \n3                   1  \n4                   1  \n...               ...  \n9909                6  \n9910                6  \n9911                6  \n9912                6  \n9913                6  \n\n[9914 rows x 5 columns]",
      "text/html": "<div>\n<style scoped>\n    .dataframe tbody tr th:only-of-type {\n        vertical-align: middle;\n    }\n\n    .dataframe tbody tr th {\n        vertical-align: top;\n    }\n\n    .dataframe thead th {\n        text-align: right;\n    }\n</style>\n<table border=\"1\" class=\"dataframe\">\n  <thead>\n    <tr style=\"text-align: right;\">\n      <th></th>\n      <th>pickup_longitude</th>\n      <th>pickup_latitude</th>\n      <th>dropoff_longitude</th>\n      <th>dropoff_latitude</th>\n      <th>passenger_count</th>\n    </tr>\n  </thead>\n  <tbody>\n    <tr>\n      <th>0</th>\n      <td>-73.973320</td>\n      <td>40.763805</td>\n      <td>-73.981430</td>\n      <td>40.743835</td>\n      <td>1</td>\n    </tr>\n    <tr>\n      <th>1</th>\n      <td>-73.986862</td>\n      <td>40.719383</td>\n      <td>-73.998886</td>\n      <td>40.739201</td>\n      <td>1</td>\n    </tr>\n    <tr>\n      <th>2</th>\n      <td>-73.982521</td>\n      <td>40.751259</td>\n      <td>-73.979652</td>\n      <td>40.746140</td>\n      <td>1</td>\n    </tr>\n    <tr>\n      <th>3</th>\n      <td>-73.981163</td>\n      <td>40.767807</td>\n      <td>-73.990448</td>\n      <td>40.751637</td>\n      <td>1</td>\n    </tr>\n    <tr>\n      <th>4</th>\n      <td>-73.966049</td>\n      <td>40.789776</td>\n      <td>-73.988564</td>\n      <td>40.744427</td>\n      <td>1</td>\n    </tr>\n    <tr>\n      <th>...</th>\n      <td>...</td>\n      <td>...</td>\n      <td>...</td>\n      <td>...</td>\n      <td>...</td>\n    </tr>\n    <tr>\n      <th>9909</th>\n      <td>-73.968124</td>\n      <td>40.796997</td>\n      <td>-73.955643</td>\n      <td>40.780388</td>\n      <td>6</td>\n    </tr>\n    <tr>\n      <th>9910</th>\n      <td>-73.945511</td>\n      <td>40.803600</td>\n      <td>-73.960213</td>\n      <td>40.776371</td>\n      <td>6</td>\n    </tr>\n    <tr>\n      <th>9911</th>\n      <td>-73.991600</td>\n      <td>40.726608</td>\n      <td>-73.789742</td>\n      <td>40.647011</td>\n      <td>6</td>\n    </tr>\n    <tr>\n      <th>9912</th>\n      <td>-73.985573</td>\n      <td>40.735432</td>\n      <td>-73.939178</td>\n      <td>40.801731</td>\n      <td>6</td>\n    </tr>\n    <tr>\n      <th>9913</th>\n      <td>-73.988022</td>\n      <td>40.754070</td>\n      <td>-74.000282</td>\n      <td>40.759220</td>\n      <td>6</td>\n    </tr>\n  </tbody>\n</table>\n<p>9914 rows × 5 columns</p>\n</div>"
     },
     "execution_count": 45,
     "metadata": {},
     "output_type": "execute_result"
    }
   ],
   "source": [
    "test_inputs = df_test[input_cols]\n",
    "test_inputs"
   ]
  },
  {
   "cell_type": "markdown",
   "metadata": {
    "id": "D69gMpoc-T3x"
   },
   "source": [
    "## 4. Train Hardcoded & Baseline Models\n",
    "\n",
    "> _**TIP #6**: Always create a simple hardcoded or baseline model to establish the minimum score any proper ML model should beat._\n",
    "\n",
    "- Hardcoded model: always predict average fare\n",
    "- Baseline model: Linear regression \n",
    "\n",
    "For evaluation the dataset uses RMSE error: \n",
    "[https://www.kaggle.com/c/new-york-city-taxi-fare-prediction/overview/evaluation](https://www.kaggle.com/c/new-york-city-taxi-fare-prediction/overview/evaluation)"
   ]
  },
  {
   "cell_type": "markdown",
   "metadata": {
    "id": "HojOJqvh-8I2"
   },
   "source": [
    "### Train & Evaluate Hardcoded Model\n",
    "\n",
    "Let's create a simple model that always predicts the average. It can be trained very quickly and can establish the minimum score that any proper ML should beat. It serve to test if what we are doing is correct and give a base line to beat."
   ]
  },
  {
   "cell_type": "code",
   "execution_count": 46,
   "metadata": {
    "id": "egLCJe0TdrGF"
   },
   "outputs": [],
   "source": [
    "class MeanRegressor:\n",
    "    def __init__(self):\n",
    "        self.mean = None\n",
    "    \n",
    "    def fit(self, inputs, targets):\n",
    "        self.mean = targets.mean()\n",
    "\n",
    "    def predict(self, inputs):\n",
    "        return np.full(inputs.shape[0], self.mean) # np.full(# of rows, mean)"
   ]
  },
  {
   "cell_type": "code",
   "execution_count": 47,
   "metadata": {
    "id": "qi3N8Kkh-_SZ"
   },
   "outputs": [
    {
     "data": {
      "text/plain": "11.354591369628906"
     },
     "execution_count": 47,
     "metadata": {},
     "output_type": "execute_result"
    }
   ],
   "source": [
    "mean_model = MeanRegressor()\n",
    "mean_model.fit(train_inputs, train_targets)\n",
    "\n",
    "mean_model.mean"
   ]
  },
  {
   "cell_type": "markdown",
   "source": [
    "This model ignores the inputs and calculate the average of the targets and store it on the variable mean. This is the average spread of the fairs."
   ],
   "metadata": {
    "collapsed": false
   }
  },
  {
   "cell_type": "code",
   "execution_count": 52,
   "metadata": {
    "id": "LyJOWf0-dkbr"
   },
   "outputs": [
    {
     "data": {
      "text/plain": "array([11.35459137, 11.35459137, 11.35459137, ..., 11.35459137,\n       11.35459137, 11.35459137])"
     },
     "execution_count": 52,
     "metadata": {},
     "output_type": "execute_result"
    }
   ],
   "source": [
    "train_predicts = mean_model.predict(train_inputs)\n",
    "train_predicts"
   ]
  },
  {
   "cell_type": "code",
   "execution_count": 53,
   "outputs": [
    {
     "data": {
      "text/plain": "353352     6.0\n360070     3.7\n372609    10.0\n550895     8.9\n444151     7.3\n          ... \n110268     9.3\n259178    18.5\n365838    10.1\n131932    10.9\n121958     9.5\nName: fare_amount, Length: 441960, dtype: float32"
     },
     "execution_count": 53,
     "metadata": {},
     "output_type": "execute_result"
    }
   ],
   "source": [
    "# We want to compare the predicts with the targets\n",
    "train_targets"
   ],
   "metadata": {
    "collapsed": false,
    "pycharm": {
     "name": "#%%\n"
    }
   }
  },
  {
   "cell_type": "markdown",
   "source": [
    "As we can see some value are far but we will setup a metric to determine how well we pwrformed."
   ],
   "metadata": {
    "collapsed": false
   }
  },
  {
   "cell_type": "code",
   "execution_count": 54,
   "metadata": {
    "id": "4Mp2LEKHdktj"
   },
   "outputs": [
    {
     "data": {
      "text/plain": "array([11.35459137, 11.35459137, 11.35459137, ..., 11.35459137,\n       11.35459137, 11.35459137])"
     },
     "execution_count": 54,
     "metadata": {},
     "output_type": "execute_result"
    }
   ],
   "source": [
    "val_predicts = mean_model.predict(val_inputs)\n",
    "val_predicts"
   ]
  },
  {
   "cell_type": "code",
   "execution_count": 55,
   "metadata": {
    "id": "pkbSKOZqdm0z"
   },
   "outputs": [
    {
     "data": {
      "text/plain": "15971     14.000000\n149839     6.500000\n515867    49.570000\n90307     49.700001\n287032     8.500000\n            ...    \n467556     6.100000\n19482      7.300000\n186063     4.500000\n382260    32.900002\n18838     11.500000\nName: fare_amount, Length: 110490, dtype: float32"
     },
     "execution_count": 55,
     "metadata": {},
     "output_type": "execute_result"
    }
   ],
   "source": [
    "val_targets"
   ]
  },
  {
   "cell_type": "markdown",
   "source": [
    "Let's compute an RMSE to have a value of our performance"
   ],
   "metadata": {
    "collapsed": false
   }
  },
  {
   "cell_type": "code",
   "execution_count": 56,
   "metadata": {
    "id": "nvJkxaImdnP1"
   },
   "outputs": [],
   "source": [
    "def rmse(targets, preds):\n",
    "    return mean_squared_error(targets, preds, squared = False)"
   ]
  },
  {
   "cell_type": "code",
   "execution_count": 57,
   "metadata": {
    "id": "AHoIUSyXdupG"
   },
   "outputs": [
    {
     "data": {
      "text/plain": "9.78978199423857"
     },
     "execution_count": 57,
     "metadata": {},
     "output_type": "execute_result"
    }
   ],
   "source": [
    "train_rmse = rmse(train_targets, train_predicts)\n",
    "train_rmse"
   ]
  },
  {
   "cell_type": "markdown",
   "source": [
    "This prediction is quite bad since is the mean variance of the actual price. This actually is expected because is a rudimentary model, but the point is to have a baseline for improvement."
   ],
   "metadata": {
    "collapsed": false
   }
  },
  {
   "cell_type": "code",
   "execution_count": 58,
   "metadata": {
    "id": "Kedz-UOFd4kM"
   },
   "outputs": [
    {
     "data": {
      "text/plain": "9.899954151552434"
     },
     "execution_count": 58,
     "metadata": {},
     "output_type": "execute_result"
    }
   ],
   "source": [
    "val_rmse = rmse(val_targets, val_predicts)\n",
    "val_rmse"
   ]
  },
  {
   "cell_type": "markdown",
   "metadata": {
    "id": "52_3bDeJeOLl"
   },
   "source": [
    "Our hard-coded model is off by  9.899 on average, which is pretty bad considering the average fare is 11.35."
   ]
  },
  {
   "cell_type": "markdown",
   "metadata": {
    "id": "HwWoP6if-_uA"
   },
   "source": [
    "### Train & Evaluate Baseline Model\n",
    "\n",
    "We'll train a linear regression model as our baseline, which tries to express the target as a weighted sum of the inputs."
   ]
  },
  {
   "cell_type": "code",
   "execution_count": 59,
   "metadata": {
    "id": "F2ivNSaf_Bh3"
   },
   "outputs": [],
   "source": [
    "linear_model = LinearRegression()"
   ]
  },
  {
   "cell_type": "code",
   "execution_count": 60,
   "outputs": [
    {
     "data": {
      "text/plain": "LinearRegression()"
     },
     "execution_count": 60,
     "metadata": {},
     "output_type": "execute_result"
    }
   ],
   "source": [
    "linear_model.fit(train_inputs, train_targets)"
   ],
   "metadata": {
    "collapsed": false,
    "pycharm": {
     "name": "#%%\n"
    }
   }
  },
  {
   "cell_type": "code",
   "execution_count": 61,
   "metadata": {
    "id": "MSsDURPWecmP"
   },
   "outputs": [],
   "source": [
    "train_preds = linear_model.predict(train_inputs)"
   ]
  },
  {
   "cell_type": "code",
   "execution_count": 62,
   "metadata": {
    "id": "j9vkP2Wbec3Z"
   },
   "outputs": [
    {
     "data": {
      "text/plain": "array([11.546229 , 11.284613 , 11.2841425, ..., 11.458913 , 11.284283 ,\n       11.284451 ], dtype=float32)"
     },
     "execution_count": 62,
     "metadata": {},
     "output_type": "execute_result"
    }
   ],
   "source": [
    "train_preds"
   ]
  },
  {
   "cell_type": "code",
   "execution_count": 63,
   "metadata": {
    "id": "ZFYfI2fledIo"
   },
   "outputs": [
    {
     "data": {
      "text/plain": "353352     6.0\n360070     3.7\n372609    10.0\n550895     8.9\n444151     7.3\n          ... \n110268     9.3\n259178    18.5\n365838    10.1\n131932    10.9\n121958     9.5\nName: fare_amount, Length: 441960, dtype: float32"
     },
     "execution_count": 63,
     "metadata": {},
     "output_type": "execute_result"
    }
   ],
   "source": [
    "train_targets"
   ]
  },
  {
   "cell_type": "markdown",
   "source": [
    "The prediction still close to 11 but they are not the same value like before"
   ],
   "metadata": {
    "collapsed": false
   }
  },
  {
   "cell_type": "code",
   "execution_count": 64,
   "metadata": {
    "id": "MyeI6iZmemFM"
   },
   "outputs": [
    {
     "data": {
      "text/plain": "9.788632"
     },
     "execution_count": 64,
     "metadata": {},
     "output_type": "execute_result"
    }
   ],
   "source": [
    "rmse( train_targets, train_preds )"
   ]
  },
  {
   "cell_type": "code",
   "execution_count": 65,
   "metadata": {
    "id": "3Gv3omU8emm-"
   },
   "outputs": [
    {
     "data": {
      "text/plain": "array([11.28433  , 11.284498 , 11.284783 , ..., 11.8045025, 11.284436 ,\n       11.284135 ], dtype=float32)"
     },
     "execution_count": 65,
     "metadata": {},
     "output_type": "execute_result"
    }
   ],
   "source": [
    "val_preds = linear_model.predict(val_inputs)\n",
    "val_preds"
   ]
  },
  {
   "cell_type": "code",
   "execution_count": 66,
   "metadata": {
    "id": "d6SIpnucem5D"
   },
   "outputs": [
    {
     "data": {
      "text/plain": "9.898088"
     },
     "execution_count": 66,
     "metadata": {},
     "output_type": "execute_result"
    }
   ],
   "source": [
    "rmse(val_targets, val_preds ) # 0.1 better than average model"
   ]
  },
  {
   "cell_type": "markdown",
   "metadata": {
    "id": "c3y9WJfSe6Um"
   },
   "source": [
    "The linear regression model is off by $9.898, which isn't much better than simply predicting the average. \n",
    "\n",
    "This is mainly because the training data (geocoordinates) is not in a format that's useful for the model, and we're not using one of the most important columns: pickup date & time.\n",
    "\n",
    "However, now we have a baseline that our other models should ideally beat."
   ]
  },
  {
   "cell_type": "markdown",
   "metadata": {
    "id": "2c1nCUvn_B_o"
   },
   "source": [
    "## 5. Make Predictions and Submit to Kaggle\n",
    "\n",
    "> _**TIP #7**: When working on a Kaggle competition, submit early and submit often (ideally daily). The best way to improve your models is to try & beat your previous score._\n",
    "\n",
    "- Make predictions for test set\n",
    "- Generate submissions CSV\n",
    "- Submit to Kaggle\n",
    "- Record in experiment tracking sheet"
   ]
  },
  {
   "cell_type": "code",
   "execution_count": 67,
   "metadata": {
    "id": "dtRdQgUV_Fh4"
   },
   "outputs": [
    {
     "data": {
      "text/plain": "      pickup_longitude  pickup_latitude  dropoff_longitude  dropoff_latitude  \\\n0           -73.973320        40.763805         -73.981430         40.743835   \n1           -73.986862        40.719383         -73.998886         40.739201   \n2           -73.982521        40.751259         -73.979652         40.746140   \n3           -73.981163        40.767807         -73.990448         40.751637   \n4           -73.966049        40.789776         -73.988564         40.744427   \n...                ...              ...                ...               ...   \n9909        -73.968124        40.796997         -73.955643         40.780388   \n9910        -73.945511        40.803600         -73.960213         40.776371   \n9911        -73.991600        40.726608         -73.789742         40.647011   \n9912        -73.985573        40.735432         -73.939178         40.801731   \n9913        -73.988022        40.754070         -74.000282         40.759220   \n\n      passenger_count  \n0                   1  \n1                   1  \n2                   1  \n3                   1  \n4                   1  \n...               ...  \n9909                6  \n9910                6  \n9911                6  \n9912                6  \n9913                6  \n\n[9914 rows x 5 columns]",
      "text/html": "<div>\n<style scoped>\n    .dataframe tbody tr th:only-of-type {\n        vertical-align: middle;\n    }\n\n    .dataframe tbody tr th {\n        vertical-align: top;\n    }\n\n    .dataframe thead th {\n        text-align: right;\n    }\n</style>\n<table border=\"1\" class=\"dataframe\">\n  <thead>\n    <tr style=\"text-align: right;\">\n      <th></th>\n      <th>pickup_longitude</th>\n      <th>pickup_latitude</th>\n      <th>dropoff_longitude</th>\n      <th>dropoff_latitude</th>\n      <th>passenger_count</th>\n    </tr>\n  </thead>\n  <tbody>\n    <tr>\n      <th>0</th>\n      <td>-73.973320</td>\n      <td>40.763805</td>\n      <td>-73.981430</td>\n      <td>40.743835</td>\n      <td>1</td>\n    </tr>\n    <tr>\n      <th>1</th>\n      <td>-73.986862</td>\n      <td>40.719383</td>\n      <td>-73.998886</td>\n      <td>40.739201</td>\n      <td>1</td>\n    </tr>\n    <tr>\n      <th>2</th>\n      <td>-73.982521</td>\n      <td>40.751259</td>\n      <td>-73.979652</td>\n      <td>40.746140</td>\n      <td>1</td>\n    </tr>\n    <tr>\n      <th>3</th>\n      <td>-73.981163</td>\n      <td>40.767807</td>\n      <td>-73.990448</td>\n      <td>40.751637</td>\n      <td>1</td>\n    </tr>\n    <tr>\n      <th>4</th>\n      <td>-73.966049</td>\n      <td>40.789776</td>\n      <td>-73.988564</td>\n      <td>40.744427</td>\n      <td>1</td>\n    </tr>\n    <tr>\n      <th>...</th>\n      <td>...</td>\n      <td>...</td>\n      <td>...</td>\n      <td>...</td>\n      <td>...</td>\n    </tr>\n    <tr>\n      <th>9909</th>\n      <td>-73.968124</td>\n      <td>40.796997</td>\n      <td>-73.955643</td>\n      <td>40.780388</td>\n      <td>6</td>\n    </tr>\n    <tr>\n      <th>9910</th>\n      <td>-73.945511</td>\n      <td>40.803600</td>\n      <td>-73.960213</td>\n      <td>40.776371</td>\n      <td>6</td>\n    </tr>\n    <tr>\n      <th>9911</th>\n      <td>-73.991600</td>\n      <td>40.726608</td>\n      <td>-73.789742</td>\n      <td>40.647011</td>\n      <td>6</td>\n    </tr>\n    <tr>\n      <th>9912</th>\n      <td>-73.985573</td>\n      <td>40.735432</td>\n      <td>-73.939178</td>\n      <td>40.801731</td>\n      <td>6</td>\n    </tr>\n    <tr>\n      <th>9913</th>\n      <td>-73.988022</td>\n      <td>40.754070</td>\n      <td>-74.000282</td>\n      <td>40.759220</td>\n      <td>6</td>\n    </tr>\n  </tbody>\n</table>\n<p>9914 rows × 5 columns</p>\n</div>"
     },
     "execution_count": 67,
     "metadata": {},
     "output_type": "execute_result"
    }
   ],
   "source": [
    "test_inputs"
   ]
  },
  {
   "cell_type": "code",
   "execution_count": 68,
   "metadata": {
    "id": "LaFg2Pc2gaOU"
   },
   "outputs": [],
   "source": [
    "test_preds = linear_model.predict(test_inputs)"
   ]
  },
  {
   "cell_type": "code",
   "execution_count": 69,
   "metadata": {
    "id": "JatqolD1gado"
   },
   "outputs": [
    {
     "data": {
      "text/plain": "                              key  fare_amount\n0     2015-01-27 13:08:24.0000002        11.35\n1     2015-01-27 13:08:24.0000003        11.35\n2     2011-10-08 11:53:44.0000002        11.35\n3     2012-12-01 21:12:12.0000002        11.35\n4     2012-12-01 21:12:12.0000003        11.35\n...                           ...          ...\n9909  2015-05-10 12:37:51.0000002        11.35\n9910  2015-01-12 17:05:51.0000001        11.35\n9911  2015-04-19 20:44:15.0000001        11.35\n9912  2015-01-31 01:05:19.0000005        11.35\n9913  2015-01-18 14:06:23.0000006        11.35\n\n[9914 rows x 2 columns]",
      "text/html": "<div>\n<style scoped>\n    .dataframe tbody tr th:only-of-type {\n        vertical-align: middle;\n    }\n\n    .dataframe tbody tr th {\n        vertical-align: top;\n    }\n\n    .dataframe thead th {\n        text-align: right;\n    }\n</style>\n<table border=\"1\" class=\"dataframe\">\n  <thead>\n    <tr style=\"text-align: right;\">\n      <th></th>\n      <th>key</th>\n      <th>fare_amount</th>\n    </tr>\n  </thead>\n  <tbody>\n    <tr>\n      <th>0</th>\n      <td>2015-01-27 13:08:24.0000002</td>\n      <td>11.35</td>\n    </tr>\n    <tr>\n      <th>1</th>\n      <td>2015-01-27 13:08:24.0000003</td>\n      <td>11.35</td>\n    </tr>\n    <tr>\n      <th>2</th>\n      <td>2011-10-08 11:53:44.0000002</td>\n      <td>11.35</td>\n    </tr>\n    <tr>\n      <th>3</th>\n      <td>2012-12-01 21:12:12.0000002</td>\n      <td>11.35</td>\n    </tr>\n    <tr>\n      <th>4</th>\n      <td>2012-12-01 21:12:12.0000003</td>\n      <td>11.35</td>\n    </tr>\n    <tr>\n      <th>...</th>\n      <td>...</td>\n      <td>...</td>\n    </tr>\n    <tr>\n      <th>9909</th>\n      <td>2015-05-10 12:37:51.0000002</td>\n      <td>11.35</td>\n    </tr>\n    <tr>\n      <th>9910</th>\n      <td>2015-01-12 17:05:51.0000001</td>\n      <td>11.35</td>\n    </tr>\n    <tr>\n      <th>9911</th>\n      <td>2015-04-19 20:44:15.0000001</td>\n      <td>11.35</td>\n    </tr>\n    <tr>\n      <th>9912</th>\n      <td>2015-01-31 01:05:19.0000005</td>\n      <td>11.35</td>\n    </tr>\n    <tr>\n      <th>9913</th>\n      <td>2015-01-18 14:06:23.0000006</td>\n      <td>11.35</td>\n    </tr>\n  </tbody>\n</table>\n<p>9914 rows × 2 columns</p>\n</div>"
     },
     "execution_count": 69,
     "metadata": {},
     "output_type": "execute_result"
    }
   ],
   "source": [
    "sub_df = pd.read_csv(data_dir + '/sample_submission.csv')\n",
    "sub_df"
   ]
  },
  {
   "cell_type": "code",
   "execution_count": 70,
   "metadata": {
    "id": "4UM0edzAgatI"
   },
   "outputs": [
    {
     "data": {
      "text/plain": "                              key  fare_amount\n0     2015-01-27 13:08:24.0000002    11.284283\n1     2015-01-27 13:08:24.0000003    11.284636\n2     2011-10-08 11:53:44.0000002    11.284387\n3     2012-12-01 21:12:12.0000002    11.284225\n4     2012-12-01 21:12:12.0000003    11.284052\n...                           ...          ...\n9909  2015-05-10 12:37:51.0000002    11.720262\n9910  2015-01-12 17:05:51.0000001    11.720210\n9911  2015-04-19 20:44:15.0000001    11.721233\n9912  2015-01-31 01:05:19.0000005    11.720783\n9913  2015-01-18 14:06:23.0000006    11.720579\n\n[9914 rows x 2 columns]",
      "text/html": "<div>\n<style scoped>\n    .dataframe tbody tr th:only-of-type {\n        vertical-align: middle;\n    }\n\n    .dataframe tbody tr th {\n        vertical-align: top;\n    }\n\n    .dataframe thead th {\n        text-align: right;\n    }\n</style>\n<table border=\"1\" class=\"dataframe\">\n  <thead>\n    <tr style=\"text-align: right;\">\n      <th></th>\n      <th>key</th>\n      <th>fare_amount</th>\n    </tr>\n  </thead>\n  <tbody>\n    <tr>\n      <th>0</th>\n      <td>2015-01-27 13:08:24.0000002</td>\n      <td>11.284283</td>\n    </tr>\n    <tr>\n      <th>1</th>\n      <td>2015-01-27 13:08:24.0000003</td>\n      <td>11.284636</td>\n    </tr>\n    <tr>\n      <th>2</th>\n      <td>2011-10-08 11:53:44.0000002</td>\n      <td>11.284387</td>\n    </tr>\n    <tr>\n      <th>3</th>\n      <td>2012-12-01 21:12:12.0000002</td>\n      <td>11.284225</td>\n    </tr>\n    <tr>\n      <th>4</th>\n      <td>2012-12-01 21:12:12.0000003</td>\n      <td>11.284052</td>\n    </tr>\n    <tr>\n      <th>...</th>\n      <td>...</td>\n      <td>...</td>\n    </tr>\n    <tr>\n      <th>9909</th>\n      <td>2015-05-10 12:37:51.0000002</td>\n      <td>11.720262</td>\n    </tr>\n    <tr>\n      <th>9910</th>\n      <td>2015-01-12 17:05:51.0000001</td>\n      <td>11.720210</td>\n    </tr>\n    <tr>\n      <th>9911</th>\n      <td>2015-04-19 20:44:15.0000001</td>\n      <td>11.721233</td>\n    </tr>\n    <tr>\n      <th>9912</th>\n      <td>2015-01-31 01:05:19.0000005</td>\n      <td>11.720783</td>\n    </tr>\n    <tr>\n      <th>9913</th>\n      <td>2015-01-18 14:06:23.0000006</td>\n      <td>11.720579</td>\n    </tr>\n  </tbody>\n</table>\n<p>9914 rows × 2 columns</p>\n</div>"
     },
     "execution_count": 70,
     "metadata": {},
     "output_type": "execute_result"
    }
   ],
   "source": [
    "sub_df['fare_amount'] = test_preds\n",
    "sub_df"
   ]
  },
  {
   "cell_type": "code",
   "execution_count": 71,
   "outputs": [],
   "source": [
    "# For upload to kaggle we need index= None or pandas will ad also the index column and we will have 2 index column\n",
    "sub_df.to_csv(data_dir + 'linear_model_submission.csv', index=None)"
   ],
   "metadata": {
    "collapsed": false,
    "pycharm": {
     "name": "#%%\n"
    }
   }
  },
  {
   "cell_type": "markdown",
   "source": [
    "The submission was evaluate 9.4 which is close to our rmse 9.78 considering that we only use 10% of the dataset."
   ],
   "metadata": {
    "collapsed": false
   }
  },
  {
   "cell_type": "markdown",
   "metadata": {
    "id": "tWqY-qJ4bnlf"
   },
   "source": [
    "> _**TIP #8**: Create reusable functions for common tasks. They'll help you iterate faster and free up your mind to think about new ideas._"
   ]
  },
  {
   "cell_type": "code",
   "execution_count": 72,
   "metadata": {
    "id": "A1rSS5Ctgjs_"
   },
   "outputs": [],
   "source": [
    "def predict_and_submit(model, test_inputs, fname):\n",
    "    test_preds = model.predict(test_inputs)\n",
    "    sub_df = pd.read_csv(data_dir+'/sample_submission.csv')\n",
    "    sub_df['fare_amount'] = test_preds\n",
    "    sub_df.to_csv(data_dir +'/'+ fname, index=None)\n",
    "    return sub_df"
   ]
  },
  {
   "cell_type": "code",
   "execution_count": 73,
   "metadata": {
    "id": "Jo7t2RcYgkCL"
   },
   "outputs": [
    {
     "data": {
      "text/plain": "                              key  fare_amount\n0     2015-01-27 13:08:24.0000002    11.284283\n1     2015-01-27 13:08:24.0000003    11.284636\n2     2011-10-08 11:53:44.0000002    11.284387\n3     2012-12-01 21:12:12.0000002    11.284225\n4     2012-12-01 21:12:12.0000003    11.284052\n...                           ...          ...\n9909  2015-05-10 12:37:51.0000002    11.720262\n9910  2015-01-12 17:05:51.0000001    11.720210\n9911  2015-04-19 20:44:15.0000001    11.721233\n9912  2015-01-31 01:05:19.0000005    11.720783\n9913  2015-01-18 14:06:23.0000006    11.720579\n\n[9914 rows x 2 columns]",
      "text/html": "<div>\n<style scoped>\n    .dataframe tbody tr th:only-of-type {\n        vertical-align: middle;\n    }\n\n    .dataframe tbody tr th {\n        vertical-align: top;\n    }\n\n    .dataframe thead th {\n        text-align: right;\n    }\n</style>\n<table border=\"1\" class=\"dataframe\">\n  <thead>\n    <tr style=\"text-align: right;\">\n      <th></th>\n      <th>key</th>\n      <th>fare_amount</th>\n    </tr>\n  </thead>\n  <tbody>\n    <tr>\n      <th>0</th>\n      <td>2015-01-27 13:08:24.0000002</td>\n      <td>11.284283</td>\n    </tr>\n    <tr>\n      <th>1</th>\n      <td>2015-01-27 13:08:24.0000003</td>\n      <td>11.284636</td>\n    </tr>\n    <tr>\n      <th>2</th>\n      <td>2011-10-08 11:53:44.0000002</td>\n      <td>11.284387</td>\n    </tr>\n    <tr>\n      <th>3</th>\n      <td>2012-12-01 21:12:12.0000002</td>\n      <td>11.284225</td>\n    </tr>\n    <tr>\n      <th>4</th>\n      <td>2012-12-01 21:12:12.0000003</td>\n      <td>11.284052</td>\n    </tr>\n    <tr>\n      <th>...</th>\n      <td>...</td>\n      <td>...</td>\n    </tr>\n    <tr>\n      <th>9909</th>\n      <td>2015-05-10 12:37:51.0000002</td>\n      <td>11.720262</td>\n    </tr>\n    <tr>\n      <th>9910</th>\n      <td>2015-01-12 17:05:51.0000001</td>\n      <td>11.720210</td>\n    </tr>\n    <tr>\n      <th>9911</th>\n      <td>2015-04-19 20:44:15.0000001</td>\n      <td>11.721233</td>\n    </tr>\n    <tr>\n      <th>9912</th>\n      <td>2015-01-31 01:05:19.0000005</td>\n      <td>11.720783</td>\n    </tr>\n    <tr>\n      <th>9913</th>\n      <td>2015-01-18 14:06:23.0000006</td>\n      <td>11.720579</td>\n    </tr>\n  </tbody>\n</table>\n<p>9914 rows × 2 columns</p>\n</div>"
     },
     "execution_count": 73,
     "metadata": {},
     "output_type": "execute_result"
    }
   ],
   "source": [
    "predict_and_submit(linear_model, test_inputs, 'linear_submission2.csv')"
   ]
  },
  {
   "cell_type": "markdown",
   "metadata": {
    "id": "YA3RD2_BjHo7"
   },
   "source": [
    "Now instead of doing manually the process to generate the submission we can just call a function."
   ]
  },
  {
   "cell_type": "markdown",
   "metadata": {
    "id": "EZpNqiYieqJs"
   },
   "source": [
    "> _**TIP #9**: Track your ideas & experiments systematically to avoid become overwhelmed with dozens of models. Use this template: https://bit.ly/mltrackingsheet_"
   ]
  },
  {
   "cell_type": "markdown",
   "metadata": {
    "id": "JEbYT2mG_HgG"
   },
   "source": [
    "## 6. Feature Engineering\n",
    "\n",
    "> _**TIP #10**: Take an iterative approach to feature engineering. Add some features, train a model, evaluate it, keep the features if they help, otherwise drop them, then repeat._\n",
    "\n",
    "- Extract parts of date\n",
    "- Remove outliers & invalid data\n",
    "- Add distance between pickup & drop\n",
    "- Add distance from landmarks\n"
   ]
  },
  {
   "cell_type": "markdown",
   "metadata": {
    "id": "WcUB8lxy_sg6"
   },
   "source": [
    "### Extract Parts of Date\n",
    "\n",
    "- Year\n",
    "- Month\n",
    "- Day\n",
    "- Weekday\n",
    "- Hour\n",
    "\n"
   ]
  },
  {
   "cell_type": "code",
   "execution_count": 74,
   "metadata": {
    "id": "t2CivTql_2Fu"
   },
   "outputs": [],
   "source": [
    "def add_dateparts(df, col):\n",
    "    \"\"\"\n",
    "    This function splits the datetime column into separate column such year, month, day, weekday, and hour\n",
    "    :param df: dataframe where to add the columns\n",
    "    :param col: the column with datetime values\n",
    "    :return: None\n",
    "    \"\"\"\n",
    "    df[col + '_year'] = df[col].dt.year\n",
    "    df[col + '_month'] = df[col].dt.month\n",
    "    df[col + '_day'] = df[col].dt.day\n",
    "    df[col + '_weekday'] = df[col].dt.weekday\n",
    "    df[col + '_hour'] = df[col].dt.hour"
   ]
  },
  {
   "cell_type": "code",
   "execution_count": 75,
   "metadata": {
    "id": "jOx5_kxOjZB5"
   },
   "outputs": [],
   "source": [
    "add_dateparts(train_df, 'pickup_datetime')"
   ]
  },
  {
   "cell_type": "code",
   "execution_count": 76,
   "metadata": {
    "id": "hDXVCaADjZT-"
   },
   "outputs": [],
   "source": [
    "add_dateparts(val_df, 'pickup_datetime')"
   ]
  },
  {
   "cell_type": "code",
   "execution_count": 77,
   "metadata": {
    "id": "ykp-Xdy-jY7A"
   },
   "outputs": [],
   "source": [
    "add_dateparts(df_test, 'pickup_datetime')"
   ]
  },
  {
   "cell_type": "code",
   "execution_count": 78,
   "outputs": [
    {
     "data": {
      "text/plain": "        fare_amount           pickup_datetime  pickup_longitude  \\\n353352          6.0 2015-04-12 03:40:38+00:00        -73.993652   \n360070          3.7 2011-01-26 19:21:00+00:00        -73.993805   \n372609         10.0 2012-10-03 10:40:17+00:00        -73.959160   \n550895          8.9 2012-03-14 13:44:27+00:00        -73.952187   \n444151          7.3 2012-02-05 15:33:00+00:00        -73.977112   \n...             ...                       ...               ...   \n110268          9.3 2009-09-06 16:12:00+00:00        -73.987152   \n259178         18.5 2009-04-12 09:58:56+00:00        -73.972656   \n365838         10.1 2012-07-12 19:30:00+00:00        -73.991982   \n131932         10.9 2011-02-17 18:33:00+00:00        -73.969055   \n121958          9.5 2015-01-14 17:35:03+00:00        -73.983040   \n\n        pickup_latitude  dropoff_longitude  dropoff_latitude  passenger_count  \\\n353352        40.741543         -73.977974         40.742352                4   \n360070        40.724579         -73.993805         40.724579                1   \n372609        40.780750         -73.969116         40.761230                1   \n550895        40.783951         -73.978645         40.772602                1   \n444151        40.746834         -73.991104         40.750404                2   \n...                 ...                ...               ...              ...   \n110268        40.750633         -73.979073         40.763168                1   \n259178        40.764042         -74.013176         40.707840                2   \n365838        40.749767         -73.989845         40.720551                3   \n131932        40.761398         -73.990814         40.751328                1   \n121958        40.742142         -74.002510         40.727650                1   \n\n        pickup_datetime_year  pickup_datetime_month  pickup_datetime_day  \\\n353352                  2015                      4                   12   \n360070                  2011                      1                   26   \n372609                  2012                     10                    3   \n550895                  2012                      3                   14   \n444151                  2012                      2                    5   \n...                      ...                    ...                  ...   \n110268                  2009                      9                    6   \n259178                  2009                      4                   12   \n365838                  2012                      7                   12   \n131932                  2011                      2                   17   \n121958                  2015                      1                   14   \n\n        pickup_datetime_weekday  pickup_datetime_hour  \n353352                        6                     3  \n360070                        2                    19  \n372609                        2                    10  \n550895                        2                    13  \n444151                        6                    15  \n...                         ...                   ...  \n110268                        6                    16  \n259178                        6                     9  \n365838                        3                    19  \n131932                        3                    18  \n121958                        2                    17  \n\n[441960 rows x 12 columns]",
      "text/html": "<div>\n<style scoped>\n    .dataframe tbody tr th:only-of-type {\n        vertical-align: middle;\n    }\n\n    .dataframe tbody tr th {\n        vertical-align: top;\n    }\n\n    .dataframe thead th {\n        text-align: right;\n    }\n</style>\n<table border=\"1\" class=\"dataframe\">\n  <thead>\n    <tr style=\"text-align: right;\">\n      <th></th>\n      <th>fare_amount</th>\n      <th>pickup_datetime</th>\n      <th>pickup_longitude</th>\n      <th>pickup_latitude</th>\n      <th>dropoff_longitude</th>\n      <th>dropoff_latitude</th>\n      <th>passenger_count</th>\n      <th>pickup_datetime_year</th>\n      <th>pickup_datetime_month</th>\n      <th>pickup_datetime_day</th>\n      <th>pickup_datetime_weekday</th>\n      <th>pickup_datetime_hour</th>\n    </tr>\n  </thead>\n  <tbody>\n    <tr>\n      <th>353352</th>\n      <td>6.0</td>\n      <td>2015-04-12 03:40:38+00:00</td>\n      <td>-73.993652</td>\n      <td>40.741543</td>\n      <td>-73.977974</td>\n      <td>40.742352</td>\n      <td>4</td>\n      <td>2015</td>\n      <td>4</td>\n      <td>12</td>\n      <td>6</td>\n      <td>3</td>\n    </tr>\n    <tr>\n      <th>360070</th>\n      <td>3.7</td>\n      <td>2011-01-26 19:21:00+00:00</td>\n      <td>-73.993805</td>\n      <td>40.724579</td>\n      <td>-73.993805</td>\n      <td>40.724579</td>\n      <td>1</td>\n      <td>2011</td>\n      <td>1</td>\n      <td>26</td>\n      <td>2</td>\n      <td>19</td>\n    </tr>\n    <tr>\n      <th>372609</th>\n      <td>10.0</td>\n      <td>2012-10-03 10:40:17+00:00</td>\n      <td>-73.959160</td>\n      <td>40.780750</td>\n      <td>-73.969116</td>\n      <td>40.761230</td>\n      <td>1</td>\n      <td>2012</td>\n      <td>10</td>\n      <td>3</td>\n      <td>2</td>\n      <td>10</td>\n    </tr>\n    <tr>\n      <th>550895</th>\n      <td>8.9</td>\n      <td>2012-03-14 13:44:27+00:00</td>\n      <td>-73.952187</td>\n      <td>40.783951</td>\n      <td>-73.978645</td>\n      <td>40.772602</td>\n      <td>1</td>\n      <td>2012</td>\n      <td>3</td>\n      <td>14</td>\n      <td>2</td>\n      <td>13</td>\n    </tr>\n    <tr>\n      <th>444151</th>\n      <td>7.3</td>\n      <td>2012-02-05 15:33:00+00:00</td>\n      <td>-73.977112</td>\n      <td>40.746834</td>\n      <td>-73.991104</td>\n      <td>40.750404</td>\n      <td>2</td>\n      <td>2012</td>\n      <td>2</td>\n      <td>5</td>\n      <td>6</td>\n      <td>15</td>\n    </tr>\n    <tr>\n      <th>...</th>\n      <td>...</td>\n      <td>...</td>\n      <td>...</td>\n      <td>...</td>\n      <td>...</td>\n      <td>...</td>\n      <td>...</td>\n      <td>...</td>\n      <td>...</td>\n      <td>...</td>\n      <td>...</td>\n      <td>...</td>\n    </tr>\n    <tr>\n      <th>110268</th>\n      <td>9.3</td>\n      <td>2009-09-06 16:12:00+00:00</td>\n      <td>-73.987152</td>\n      <td>40.750633</td>\n      <td>-73.979073</td>\n      <td>40.763168</td>\n      <td>1</td>\n      <td>2009</td>\n      <td>9</td>\n      <td>6</td>\n      <td>6</td>\n      <td>16</td>\n    </tr>\n    <tr>\n      <th>259178</th>\n      <td>18.5</td>\n      <td>2009-04-12 09:58:56+00:00</td>\n      <td>-73.972656</td>\n      <td>40.764042</td>\n      <td>-74.013176</td>\n      <td>40.707840</td>\n      <td>2</td>\n      <td>2009</td>\n      <td>4</td>\n      <td>12</td>\n      <td>6</td>\n      <td>9</td>\n    </tr>\n    <tr>\n      <th>365838</th>\n      <td>10.1</td>\n      <td>2012-07-12 19:30:00+00:00</td>\n      <td>-73.991982</td>\n      <td>40.749767</td>\n      <td>-73.989845</td>\n      <td>40.720551</td>\n      <td>3</td>\n      <td>2012</td>\n      <td>7</td>\n      <td>12</td>\n      <td>3</td>\n      <td>19</td>\n    </tr>\n    <tr>\n      <th>131932</th>\n      <td>10.9</td>\n      <td>2011-02-17 18:33:00+00:00</td>\n      <td>-73.969055</td>\n      <td>40.761398</td>\n      <td>-73.990814</td>\n      <td>40.751328</td>\n      <td>1</td>\n      <td>2011</td>\n      <td>2</td>\n      <td>17</td>\n      <td>3</td>\n      <td>18</td>\n    </tr>\n    <tr>\n      <th>121958</th>\n      <td>9.5</td>\n      <td>2015-01-14 17:35:03+00:00</td>\n      <td>-73.983040</td>\n      <td>40.742142</td>\n      <td>-74.002510</td>\n      <td>40.727650</td>\n      <td>1</td>\n      <td>2015</td>\n      <td>1</td>\n      <td>14</td>\n      <td>2</td>\n      <td>17</td>\n    </tr>\n  </tbody>\n</table>\n<p>441960 rows × 12 columns</p>\n</div>"
     },
     "execution_count": 78,
     "metadata": {},
     "output_type": "execute_result"
    }
   ],
   "source": [
    "train_df"
   ],
   "metadata": {
    "collapsed": false,
    "pycharm": {
     "name": "#%%\n"
    }
   }
  },
  {
   "cell_type": "code",
   "execution_count": 79,
   "outputs": [
    {
     "data": {
      "text/plain": "        fare_amount           pickup_datetime  pickup_longitude  \\\n15971     14.000000 2015-05-19 09:27:24+00:00        -73.995834   \n149839     6.500000 2010-04-10 15:07:51+00:00        -73.977386   \n515867    49.570000 2009-07-25 14:11:00+00:00        -73.983910   \n90307     49.700001 2011-11-11 19:09:21+00:00        -73.790794   \n287032     8.500000 2015-03-09 18:06:44+00:00        -73.976593   \n...             ...                       ...               ...   \n467556     6.100000 2010-04-03 20:16:00+00:00        -73.968567   \n19482      7.300000 2010-04-26 00:32:00+00:00        -73.986725   \n186063     4.500000 2009-05-21 08:13:16+00:00          0.000000   \n382260    32.900002 2011-07-07 16:10:59+00:00        -73.980057   \n18838     11.500000 2015-02-27 12:10:08+00:00        -73.955406   \n\n        pickup_latitude  dropoff_longitude  dropoff_latitude  passenger_count  \\\n15971         40.759190         -73.973679         40.739086                1   \n149839        40.738335         -73.976143         40.751205                1   \n515867        40.749470         -73.787170         40.646645                1   \n90307         40.643463         -73.972252         40.690182                1   \n287032        40.761944         -73.991463         40.750309                2   \n...                 ...                ...               ...              ...   \n467556        40.761238         -73.983406         40.750019                3   \n19482         40.755920         -73.985855         40.731171                1   \n186063         0.000000           0.000000          0.000000                1   \n382260        40.760334         -73.872589         40.774300                1   \n18838         40.782417         -73.960434         40.767666                1   \n\n        pickup_datetime_year  pickup_datetime_month  pickup_datetime_day  \\\n15971                   2015                      5                   19   \n149839                  2010                      4                   10   \n515867                  2009                      7                   25   \n90307                   2011                     11                   11   \n287032                  2015                      3                    9   \n...                      ...                    ...                  ...   \n467556                  2010                      4                    3   \n19482                   2010                      4                   26   \n186063                  2009                      5                   21   \n382260                  2011                      7                    7   \n18838                   2015                      2                   27   \n\n        pickup_datetime_weekday  pickup_datetime_hour  \n15971                         1                     9  \n149839                        5                    15  \n515867                        5                    14  \n90307                         4                    19  \n287032                        0                    18  \n...                         ...                   ...  \n467556                        5                    20  \n19482                         0                     0  \n186063                        3                     8  \n382260                        3                    16  \n18838                         4                    12  \n\n[110490 rows x 12 columns]",
      "text/html": "<div>\n<style scoped>\n    .dataframe tbody tr th:only-of-type {\n        vertical-align: middle;\n    }\n\n    .dataframe tbody tr th {\n        vertical-align: top;\n    }\n\n    .dataframe thead th {\n        text-align: right;\n    }\n</style>\n<table border=\"1\" class=\"dataframe\">\n  <thead>\n    <tr style=\"text-align: right;\">\n      <th></th>\n      <th>fare_amount</th>\n      <th>pickup_datetime</th>\n      <th>pickup_longitude</th>\n      <th>pickup_latitude</th>\n      <th>dropoff_longitude</th>\n      <th>dropoff_latitude</th>\n      <th>passenger_count</th>\n      <th>pickup_datetime_year</th>\n      <th>pickup_datetime_month</th>\n      <th>pickup_datetime_day</th>\n      <th>pickup_datetime_weekday</th>\n      <th>pickup_datetime_hour</th>\n    </tr>\n  </thead>\n  <tbody>\n    <tr>\n      <th>15971</th>\n      <td>14.000000</td>\n      <td>2015-05-19 09:27:24+00:00</td>\n      <td>-73.995834</td>\n      <td>40.759190</td>\n      <td>-73.973679</td>\n      <td>40.739086</td>\n      <td>1</td>\n      <td>2015</td>\n      <td>5</td>\n      <td>19</td>\n      <td>1</td>\n      <td>9</td>\n    </tr>\n    <tr>\n      <th>149839</th>\n      <td>6.500000</td>\n      <td>2010-04-10 15:07:51+00:00</td>\n      <td>-73.977386</td>\n      <td>40.738335</td>\n      <td>-73.976143</td>\n      <td>40.751205</td>\n      <td>1</td>\n      <td>2010</td>\n      <td>4</td>\n      <td>10</td>\n      <td>5</td>\n      <td>15</td>\n    </tr>\n    <tr>\n      <th>515867</th>\n      <td>49.570000</td>\n      <td>2009-07-25 14:11:00+00:00</td>\n      <td>-73.983910</td>\n      <td>40.749470</td>\n      <td>-73.787170</td>\n      <td>40.646645</td>\n      <td>1</td>\n      <td>2009</td>\n      <td>7</td>\n      <td>25</td>\n      <td>5</td>\n      <td>14</td>\n    </tr>\n    <tr>\n      <th>90307</th>\n      <td>49.700001</td>\n      <td>2011-11-11 19:09:21+00:00</td>\n      <td>-73.790794</td>\n      <td>40.643463</td>\n      <td>-73.972252</td>\n      <td>40.690182</td>\n      <td>1</td>\n      <td>2011</td>\n      <td>11</td>\n      <td>11</td>\n      <td>4</td>\n      <td>19</td>\n    </tr>\n    <tr>\n      <th>287032</th>\n      <td>8.500000</td>\n      <td>2015-03-09 18:06:44+00:00</td>\n      <td>-73.976593</td>\n      <td>40.761944</td>\n      <td>-73.991463</td>\n      <td>40.750309</td>\n      <td>2</td>\n      <td>2015</td>\n      <td>3</td>\n      <td>9</td>\n      <td>0</td>\n      <td>18</td>\n    </tr>\n    <tr>\n      <th>...</th>\n      <td>...</td>\n      <td>...</td>\n      <td>...</td>\n      <td>...</td>\n      <td>...</td>\n      <td>...</td>\n      <td>...</td>\n      <td>...</td>\n      <td>...</td>\n      <td>...</td>\n      <td>...</td>\n      <td>...</td>\n    </tr>\n    <tr>\n      <th>467556</th>\n      <td>6.100000</td>\n      <td>2010-04-03 20:16:00+00:00</td>\n      <td>-73.968567</td>\n      <td>40.761238</td>\n      <td>-73.983406</td>\n      <td>40.750019</td>\n      <td>3</td>\n      <td>2010</td>\n      <td>4</td>\n      <td>3</td>\n      <td>5</td>\n      <td>20</td>\n    </tr>\n    <tr>\n      <th>19482</th>\n      <td>7.300000</td>\n      <td>2010-04-26 00:32:00+00:00</td>\n      <td>-73.986725</td>\n      <td>40.755920</td>\n      <td>-73.985855</td>\n      <td>40.731171</td>\n      <td>1</td>\n      <td>2010</td>\n      <td>4</td>\n      <td>26</td>\n      <td>0</td>\n      <td>0</td>\n    </tr>\n    <tr>\n      <th>186063</th>\n      <td>4.500000</td>\n      <td>2009-05-21 08:13:16+00:00</td>\n      <td>0.000000</td>\n      <td>0.000000</td>\n      <td>0.000000</td>\n      <td>0.000000</td>\n      <td>1</td>\n      <td>2009</td>\n      <td>5</td>\n      <td>21</td>\n      <td>3</td>\n      <td>8</td>\n    </tr>\n    <tr>\n      <th>382260</th>\n      <td>32.900002</td>\n      <td>2011-07-07 16:10:59+00:00</td>\n      <td>-73.980057</td>\n      <td>40.760334</td>\n      <td>-73.872589</td>\n      <td>40.774300</td>\n      <td>1</td>\n      <td>2011</td>\n      <td>7</td>\n      <td>7</td>\n      <td>3</td>\n      <td>16</td>\n    </tr>\n    <tr>\n      <th>18838</th>\n      <td>11.500000</td>\n      <td>2015-02-27 12:10:08+00:00</td>\n      <td>-73.955406</td>\n      <td>40.782417</td>\n      <td>-73.960434</td>\n      <td>40.767666</td>\n      <td>1</td>\n      <td>2015</td>\n      <td>2</td>\n      <td>27</td>\n      <td>4</td>\n      <td>12</td>\n    </tr>\n  </tbody>\n</table>\n<p>110490 rows × 12 columns</p>\n</div>"
     },
     "execution_count": 79,
     "metadata": {},
     "output_type": "execute_result"
    }
   ],
   "source": [
    "val_df"
   ],
   "metadata": {
    "collapsed": false,
    "pycharm": {
     "name": "#%%\n"
    }
   }
  },
  {
   "cell_type": "code",
   "execution_count": 80,
   "metadata": {
    "id": "DzvyUWROkhfG"
   },
   "outputs": [
    {
     "data": {
      "text/plain": "                              key           pickup_datetime  pickup_longitude  \\\n0     2015-01-27 13:08:24.0000002 2015-01-27 13:08:24+00:00        -73.973320   \n1     2015-01-27 13:08:24.0000003 2015-01-27 13:08:24+00:00        -73.986862   \n2     2011-10-08 11:53:44.0000002 2011-10-08 11:53:44+00:00        -73.982521   \n3     2012-12-01 21:12:12.0000002 2012-12-01 21:12:12+00:00        -73.981163   \n4     2012-12-01 21:12:12.0000003 2012-12-01 21:12:12+00:00        -73.966049   \n...                           ...                       ...               ...   \n9909  2015-05-10 12:37:51.0000002 2015-05-10 12:37:51+00:00        -73.968124   \n9910  2015-01-12 17:05:51.0000001 2015-01-12 17:05:51+00:00        -73.945511   \n9911  2015-04-19 20:44:15.0000001 2015-04-19 20:44:15+00:00        -73.991600   \n9912  2015-01-31 01:05:19.0000005 2015-01-31 01:05:19+00:00        -73.985573   \n9913  2015-01-18 14:06:23.0000006 2015-01-18 14:06:23+00:00        -73.988022   \n\n      pickup_latitude  dropoff_longitude  dropoff_latitude  passenger_count  \\\n0           40.763805         -73.981430         40.743835                1   \n1           40.719383         -73.998886         40.739201                1   \n2           40.751259         -73.979652         40.746140                1   \n3           40.767807         -73.990448         40.751637                1   \n4           40.789776         -73.988564         40.744427                1   \n...               ...                ...               ...              ...   \n9909        40.796997         -73.955643         40.780388                6   \n9910        40.803600         -73.960213         40.776371                6   \n9911        40.726608         -73.789742         40.647011                6   \n9912        40.735432         -73.939178         40.801731                6   \n9913        40.754070         -74.000282         40.759220                6   \n\n      pickup_datetime_year  pickup_datetime_month  pickup_datetime_day  \\\n0                     2015                      1                   27   \n1                     2015                      1                   27   \n2                     2011                     10                    8   \n3                     2012                     12                    1   \n4                     2012                     12                    1   \n...                    ...                    ...                  ...   \n9909                  2015                      5                   10   \n9910                  2015                      1                   12   \n9911                  2015                      4                   19   \n9912                  2015                      1                   31   \n9913                  2015                      1                   18   \n\n      pickup_datetime_weekday  pickup_datetime_hour  \n0                           1                    13  \n1                           1                    13  \n2                           5                    11  \n3                           5                    21  \n4                           5                    21  \n...                       ...                   ...  \n9909                        6                    12  \n9910                        0                    17  \n9911                        6                    20  \n9912                        5                     1  \n9913                        6                    14  \n\n[9914 rows x 12 columns]",
      "text/html": "<div>\n<style scoped>\n    .dataframe tbody tr th:only-of-type {\n        vertical-align: middle;\n    }\n\n    .dataframe tbody tr th {\n        vertical-align: top;\n    }\n\n    .dataframe thead th {\n        text-align: right;\n    }\n</style>\n<table border=\"1\" class=\"dataframe\">\n  <thead>\n    <tr style=\"text-align: right;\">\n      <th></th>\n      <th>key</th>\n      <th>pickup_datetime</th>\n      <th>pickup_longitude</th>\n      <th>pickup_latitude</th>\n      <th>dropoff_longitude</th>\n      <th>dropoff_latitude</th>\n      <th>passenger_count</th>\n      <th>pickup_datetime_year</th>\n      <th>pickup_datetime_month</th>\n      <th>pickup_datetime_day</th>\n      <th>pickup_datetime_weekday</th>\n      <th>pickup_datetime_hour</th>\n    </tr>\n  </thead>\n  <tbody>\n    <tr>\n      <th>0</th>\n      <td>2015-01-27 13:08:24.0000002</td>\n      <td>2015-01-27 13:08:24+00:00</td>\n      <td>-73.973320</td>\n      <td>40.763805</td>\n      <td>-73.981430</td>\n      <td>40.743835</td>\n      <td>1</td>\n      <td>2015</td>\n      <td>1</td>\n      <td>27</td>\n      <td>1</td>\n      <td>13</td>\n    </tr>\n    <tr>\n      <th>1</th>\n      <td>2015-01-27 13:08:24.0000003</td>\n      <td>2015-01-27 13:08:24+00:00</td>\n      <td>-73.986862</td>\n      <td>40.719383</td>\n      <td>-73.998886</td>\n      <td>40.739201</td>\n      <td>1</td>\n      <td>2015</td>\n      <td>1</td>\n      <td>27</td>\n      <td>1</td>\n      <td>13</td>\n    </tr>\n    <tr>\n      <th>2</th>\n      <td>2011-10-08 11:53:44.0000002</td>\n      <td>2011-10-08 11:53:44+00:00</td>\n      <td>-73.982521</td>\n      <td>40.751259</td>\n      <td>-73.979652</td>\n      <td>40.746140</td>\n      <td>1</td>\n      <td>2011</td>\n      <td>10</td>\n      <td>8</td>\n      <td>5</td>\n      <td>11</td>\n    </tr>\n    <tr>\n      <th>3</th>\n      <td>2012-12-01 21:12:12.0000002</td>\n      <td>2012-12-01 21:12:12+00:00</td>\n      <td>-73.981163</td>\n      <td>40.767807</td>\n      <td>-73.990448</td>\n      <td>40.751637</td>\n      <td>1</td>\n      <td>2012</td>\n      <td>12</td>\n      <td>1</td>\n      <td>5</td>\n      <td>21</td>\n    </tr>\n    <tr>\n      <th>4</th>\n      <td>2012-12-01 21:12:12.0000003</td>\n      <td>2012-12-01 21:12:12+00:00</td>\n      <td>-73.966049</td>\n      <td>40.789776</td>\n      <td>-73.988564</td>\n      <td>40.744427</td>\n      <td>1</td>\n      <td>2012</td>\n      <td>12</td>\n      <td>1</td>\n      <td>5</td>\n      <td>21</td>\n    </tr>\n    <tr>\n      <th>...</th>\n      <td>...</td>\n      <td>...</td>\n      <td>...</td>\n      <td>...</td>\n      <td>...</td>\n      <td>...</td>\n      <td>...</td>\n      <td>...</td>\n      <td>...</td>\n      <td>...</td>\n      <td>...</td>\n      <td>...</td>\n    </tr>\n    <tr>\n      <th>9909</th>\n      <td>2015-05-10 12:37:51.0000002</td>\n      <td>2015-05-10 12:37:51+00:00</td>\n      <td>-73.968124</td>\n      <td>40.796997</td>\n      <td>-73.955643</td>\n      <td>40.780388</td>\n      <td>6</td>\n      <td>2015</td>\n      <td>5</td>\n      <td>10</td>\n      <td>6</td>\n      <td>12</td>\n    </tr>\n    <tr>\n      <th>9910</th>\n      <td>2015-01-12 17:05:51.0000001</td>\n      <td>2015-01-12 17:05:51+00:00</td>\n      <td>-73.945511</td>\n      <td>40.803600</td>\n      <td>-73.960213</td>\n      <td>40.776371</td>\n      <td>6</td>\n      <td>2015</td>\n      <td>1</td>\n      <td>12</td>\n      <td>0</td>\n      <td>17</td>\n    </tr>\n    <tr>\n      <th>9911</th>\n      <td>2015-04-19 20:44:15.0000001</td>\n      <td>2015-04-19 20:44:15+00:00</td>\n      <td>-73.991600</td>\n      <td>40.726608</td>\n      <td>-73.789742</td>\n      <td>40.647011</td>\n      <td>6</td>\n      <td>2015</td>\n      <td>4</td>\n      <td>19</td>\n      <td>6</td>\n      <td>20</td>\n    </tr>\n    <tr>\n      <th>9912</th>\n      <td>2015-01-31 01:05:19.0000005</td>\n      <td>2015-01-31 01:05:19+00:00</td>\n      <td>-73.985573</td>\n      <td>40.735432</td>\n      <td>-73.939178</td>\n      <td>40.801731</td>\n      <td>6</td>\n      <td>2015</td>\n      <td>1</td>\n      <td>31</td>\n      <td>5</td>\n      <td>1</td>\n    </tr>\n    <tr>\n      <th>9913</th>\n      <td>2015-01-18 14:06:23.0000006</td>\n      <td>2015-01-18 14:06:23+00:00</td>\n      <td>-73.988022</td>\n      <td>40.754070</td>\n      <td>-74.000282</td>\n      <td>40.759220</td>\n      <td>6</td>\n      <td>2015</td>\n      <td>1</td>\n      <td>18</td>\n      <td>6</td>\n      <td>14</td>\n    </tr>\n  </tbody>\n</table>\n<p>9914 rows × 12 columns</p>\n</div>"
     },
     "execution_count": 80,
     "metadata": {},
     "output_type": "execute_result"
    }
   ],
   "source": [
    "df_test"
   ]
  },
  {
   "cell_type": "markdown",
   "source": [
    "As we can see the pickup_datetime has split in separate columns."
   ],
   "metadata": {
    "collapsed": false
   }
  },
  {
   "cell_type": "markdown",
   "metadata": {
    "id": "CqmAKOdfASXX"
   },
   "source": [
    "### Add Distance Between Pickup and Drop\n",
    "\n",
    "We can use the haversine distance: \n",
    "- [https://en.wikipedia.org/wiki/Haversine_formula](https://en.wikipedia.org/wiki/Haversine_formula)\n",
    "- [https://stackoverflow.com/questions/29545704/fast-haversine-approximation-python-pandas](https://stackoverflow.com/questions/29545704/fast-haversine-approximation-python-pandas)"
   ]
  },
  {
   "cell_type": "code",
   "execution_count": 81,
   "metadata": {
    "id": "zmFyo4MRCB67"
   },
   "outputs": [],
   "source": [
    "def haversine_np(lon1, lat1, lon2, lat2):\n",
    "    \"\"\"\n",
    "    Calculate the great circle distance between two points\n",
    "    on the earth (specified in decimal degrees)\n",
    "\n",
    "    All args must be of equal length.    \n",
    "\n",
    "    \"\"\"\n",
    "    lon1, lat1, lon2, lat2 = map(np.radians, [lon1, lat1, lon2, lat2])\n",
    "\n",
    "    dlon = lon2 - lon1\n",
    "    dlat = lat2 - lat1\n",
    "\n",
    "    a = np.sin(dlat/2.0)**2 + np.cos(lat1) * np.cos(lat2) * np.sin(dlon/2.0)**2\n",
    "\n",
    "    c = 2 * np.arcsin(np.sqrt(a))\n",
    "    km = 6367 * c\n",
    "    return km\n"
   ]
  },
  {
   "cell_type": "code",
   "execution_count": 82,
   "metadata": {
    "id": "ahz4-U7GzoEM"
   },
   "outputs": [],
   "source": [
    "def add_trip_distance(df):\n",
    "    df['trip_distance'] = haversine_np(df['pickup_longitude'],\n",
    "                                       df['pickup_latitude'],\n",
    "                                       df['dropoff_longitude'],\n",
    "                                       df['dropoff_latitude'])"
   ]
  },
  {
   "cell_type": "code",
   "execution_count": 83,
   "metadata": {
    "id": "cvqOy7V409FF"
   },
   "outputs": [
    {
     "data": {
      "text/plain": "        fare_amount           pickup_datetime  pickup_longitude  \\\n353352          6.0 2015-04-12 03:40:38+00:00        -73.993652   \n360070          3.7 2011-01-26 19:21:00+00:00        -73.993805   \n372609         10.0 2012-10-03 10:40:17+00:00        -73.959160   \n550895          8.9 2012-03-14 13:44:27+00:00        -73.952187   \n444151          7.3 2012-02-05 15:33:00+00:00        -73.977112   \n...             ...                       ...               ...   \n110268          9.3 2009-09-06 16:12:00+00:00        -73.987152   \n259178         18.5 2009-04-12 09:58:56+00:00        -73.972656   \n365838         10.1 2012-07-12 19:30:00+00:00        -73.991982   \n131932         10.9 2011-02-17 18:33:00+00:00        -73.969055   \n121958          9.5 2015-01-14 17:35:03+00:00        -73.983040   \n\n        pickup_latitude  dropoff_longitude  dropoff_latitude  passenger_count  \\\n353352        40.741543         -73.977974         40.742352                4   \n360070        40.724579         -73.993805         40.724579                1   \n372609        40.780750         -73.969116         40.761230                1   \n550895        40.783951         -73.978645         40.772602                1   \n444151        40.746834         -73.991104         40.750404                2   \n...                 ...                ...               ...              ...   \n110268        40.750633         -73.979073         40.763168                1   \n259178        40.764042         -74.013176         40.707840                2   \n365838        40.749767         -73.989845         40.720551                3   \n131932        40.761398         -73.990814         40.751328                1   \n121958        40.742142         -74.002510         40.727650                1   \n\n        pickup_datetime_year  pickup_datetime_month  pickup_datetime_day  \\\n353352                  2015                      4                   12   \n360070                  2011                      1                   26   \n372609                  2012                     10                    3   \n550895                  2012                      3                   14   \n444151                  2012                      2                    5   \n...                      ...                    ...                  ...   \n110268                  2009                      9                    6   \n259178                  2009                      4                   12   \n365838                  2012                      7                   12   \n131932                  2011                      2                   17   \n121958                  2015                      1                   14   \n\n        pickup_datetime_weekday  pickup_datetime_hour  trip_distance  \n353352                        6                     3       1.323411  \n360070                        2                    19       0.000000  \n372609                        2                    10       2.325504  \n550895                        2                    13       2.558912  \n444151                        6                    15       1.243267  \n...                         ...                   ...            ...  \n110268                        6                    16       1.549976  \n259178                        6                     9       7.116529  \n365838                        3                    19       3.251601  \n131932                        3                    18       2.146101  \n121958                        2                    17       2.298132  \n\n[441960 rows x 13 columns]",
      "text/html": "<div>\n<style scoped>\n    .dataframe tbody tr th:only-of-type {\n        vertical-align: middle;\n    }\n\n    .dataframe tbody tr th {\n        vertical-align: top;\n    }\n\n    .dataframe thead th {\n        text-align: right;\n    }\n</style>\n<table border=\"1\" class=\"dataframe\">\n  <thead>\n    <tr style=\"text-align: right;\">\n      <th></th>\n      <th>fare_amount</th>\n      <th>pickup_datetime</th>\n      <th>pickup_longitude</th>\n      <th>pickup_latitude</th>\n      <th>dropoff_longitude</th>\n      <th>dropoff_latitude</th>\n      <th>passenger_count</th>\n      <th>pickup_datetime_year</th>\n      <th>pickup_datetime_month</th>\n      <th>pickup_datetime_day</th>\n      <th>pickup_datetime_weekday</th>\n      <th>pickup_datetime_hour</th>\n      <th>trip_distance</th>\n    </tr>\n  </thead>\n  <tbody>\n    <tr>\n      <th>353352</th>\n      <td>6.0</td>\n      <td>2015-04-12 03:40:38+00:00</td>\n      <td>-73.993652</td>\n      <td>40.741543</td>\n      <td>-73.977974</td>\n      <td>40.742352</td>\n      <td>4</td>\n      <td>2015</td>\n      <td>4</td>\n      <td>12</td>\n      <td>6</td>\n      <td>3</td>\n      <td>1.323411</td>\n    </tr>\n    <tr>\n      <th>360070</th>\n      <td>3.7</td>\n      <td>2011-01-26 19:21:00+00:00</td>\n      <td>-73.993805</td>\n      <td>40.724579</td>\n      <td>-73.993805</td>\n      <td>40.724579</td>\n      <td>1</td>\n      <td>2011</td>\n      <td>1</td>\n      <td>26</td>\n      <td>2</td>\n      <td>19</td>\n      <td>0.000000</td>\n    </tr>\n    <tr>\n      <th>372609</th>\n      <td>10.0</td>\n      <td>2012-10-03 10:40:17+00:00</td>\n      <td>-73.959160</td>\n      <td>40.780750</td>\n      <td>-73.969116</td>\n      <td>40.761230</td>\n      <td>1</td>\n      <td>2012</td>\n      <td>10</td>\n      <td>3</td>\n      <td>2</td>\n      <td>10</td>\n      <td>2.325504</td>\n    </tr>\n    <tr>\n      <th>550895</th>\n      <td>8.9</td>\n      <td>2012-03-14 13:44:27+00:00</td>\n      <td>-73.952187</td>\n      <td>40.783951</td>\n      <td>-73.978645</td>\n      <td>40.772602</td>\n      <td>1</td>\n      <td>2012</td>\n      <td>3</td>\n      <td>14</td>\n      <td>2</td>\n      <td>13</td>\n      <td>2.558912</td>\n    </tr>\n    <tr>\n      <th>444151</th>\n      <td>7.3</td>\n      <td>2012-02-05 15:33:00+00:00</td>\n      <td>-73.977112</td>\n      <td>40.746834</td>\n      <td>-73.991104</td>\n      <td>40.750404</td>\n      <td>2</td>\n      <td>2012</td>\n      <td>2</td>\n      <td>5</td>\n      <td>6</td>\n      <td>15</td>\n      <td>1.243267</td>\n    </tr>\n    <tr>\n      <th>...</th>\n      <td>...</td>\n      <td>...</td>\n      <td>...</td>\n      <td>...</td>\n      <td>...</td>\n      <td>...</td>\n      <td>...</td>\n      <td>...</td>\n      <td>...</td>\n      <td>...</td>\n      <td>...</td>\n      <td>...</td>\n      <td>...</td>\n    </tr>\n    <tr>\n      <th>110268</th>\n      <td>9.3</td>\n      <td>2009-09-06 16:12:00+00:00</td>\n      <td>-73.987152</td>\n      <td>40.750633</td>\n      <td>-73.979073</td>\n      <td>40.763168</td>\n      <td>1</td>\n      <td>2009</td>\n      <td>9</td>\n      <td>6</td>\n      <td>6</td>\n      <td>16</td>\n      <td>1.549976</td>\n    </tr>\n    <tr>\n      <th>259178</th>\n      <td>18.5</td>\n      <td>2009-04-12 09:58:56+00:00</td>\n      <td>-73.972656</td>\n      <td>40.764042</td>\n      <td>-74.013176</td>\n      <td>40.707840</td>\n      <td>2</td>\n      <td>2009</td>\n      <td>4</td>\n      <td>12</td>\n      <td>6</td>\n      <td>9</td>\n      <td>7.116529</td>\n    </tr>\n    <tr>\n      <th>365838</th>\n      <td>10.1</td>\n      <td>2012-07-12 19:30:00+00:00</td>\n      <td>-73.991982</td>\n      <td>40.749767</td>\n      <td>-73.989845</td>\n      <td>40.720551</td>\n      <td>3</td>\n      <td>2012</td>\n      <td>7</td>\n      <td>12</td>\n      <td>3</td>\n      <td>19</td>\n      <td>3.251601</td>\n    </tr>\n    <tr>\n      <th>131932</th>\n      <td>10.9</td>\n      <td>2011-02-17 18:33:00+00:00</td>\n      <td>-73.969055</td>\n      <td>40.761398</td>\n      <td>-73.990814</td>\n      <td>40.751328</td>\n      <td>1</td>\n      <td>2011</td>\n      <td>2</td>\n      <td>17</td>\n      <td>3</td>\n      <td>18</td>\n      <td>2.146101</td>\n    </tr>\n    <tr>\n      <th>121958</th>\n      <td>9.5</td>\n      <td>2015-01-14 17:35:03+00:00</td>\n      <td>-73.983040</td>\n      <td>40.742142</td>\n      <td>-74.002510</td>\n      <td>40.727650</td>\n      <td>1</td>\n      <td>2015</td>\n      <td>1</td>\n      <td>14</td>\n      <td>2</td>\n      <td>17</td>\n      <td>2.298132</td>\n    </tr>\n  </tbody>\n</table>\n<p>441960 rows × 13 columns</p>\n</div>"
     },
     "execution_count": 83,
     "metadata": {},
     "output_type": "execute_result"
    }
   ],
   "source": [
    "add_trip_distance(train_df)\n",
    "train_df"
   ]
  },
  {
   "cell_type": "code",
   "execution_count": 84,
   "metadata": {
    "id": "ojOOKh7i5rhC"
   },
   "outputs": [
    {
     "data": {
      "text/plain": "        fare_amount           pickup_datetime  pickup_longitude  \\\n15971     14.000000 2015-05-19 09:27:24+00:00        -73.995834   \n149839     6.500000 2010-04-10 15:07:51+00:00        -73.977386   \n515867    49.570000 2009-07-25 14:11:00+00:00        -73.983910   \n90307     49.700001 2011-11-11 19:09:21+00:00        -73.790794   \n287032     8.500000 2015-03-09 18:06:44+00:00        -73.976593   \n...             ...                       ...               ...   \n467556     6.100000 2010-04-03 20:16:00+00:00        -73.968567   \n19482      7.300000 2010-04-26 00:32:00+00:00        -73.986725   \n186063     4.500000 2009-05-21 08:13:16+00:00          0.000000   \n382260    32.900002 2011-07-07 16:10:59+00:00        -73.980057   \n18838     11.500000 2015-02-27 12:10:08+00:00        -73.955406   \n\n        pickup_latitude  dropoff_longitude  dropoff_latitude  passenger_count  \\\n15971         40.759190         -73.973679         40.739086                1   \n149839        40.738335         -73.976143         40.751205                1   \n515867        40.749470         -73.787170         40.646645                1   \n90307         40.643463         -73.972252         40.690182                1   \n287032        40.761944         -73.991463         40.750309                2   \n...                 ...                ...               ...              ...   \n467556        40.761238         -73.983406         40.750019                3   \n19482         40.755920         -73.985855         40.731171                1   \n186063         0.000000           0.000000          0.000000                1   \n382260        40.760334         -73.872589         40.774300                1   \n18838         40.782417         -73.960434         40.767666                1   \n\n        pickup_datetime_year  pickup_datetime_month  pickup_datetime_day  \\\n15971                   2015                      5                   19   \n149839                  2010                      4                   10   \n515867                  2009                      7                   25   \n90307                   2011                     11                   11   \n287032                  2015                      3                    9   \n...                      ...                    ...                  ...   \n467556                  2010                      4                    3   \n19482                   2010                      4                   26   \n186063                  2009                      5                   21   \n382260                  2011                      7                    7   \n18838                   2015                      2                   27   \n\n        pickup_datetime_weekday  pickup_datetime_hour  trip_distance  \n15971                         1                     9       2.909793  \n149839                        5                    15       1.433791  \n515867                        5                    14      20.132486  \n90307                         4                    19      16.152088  \n287032                        0                    18       1.799553  \n...                         ...                   ...            ...  \n467556                        5                    20       1.764959  \n19482                         0                     0       2.751241  \n186063                        3                     8       0.000000  \n382260                        3                    16       9.176849  \n18838                         4                    12       1.693152  \n\n[110490 rows x 13 columns]",
      "text/html": "<div>\n<style scoped>\n    .dataframe tbody tr th:only-of-type {\n        vertical-align: middle;\n    }\n\n    .dataframe tbody tr th {\n        vertical-align: top;\n    }\n\n    .dataframe thead th {\n        text-align: right;\n    }\n</style>\n<table border=\"1\" class=\"dataframe\">\n  <thead>\n    <tr style=\"text-align: right;\">\n      <th></th>\n      <th>fare_amount</th>\n      <th>pickup_datetime</th>\n      <th>pickup_longitude</th>\n      <th>pickup_latitude</th>\n      <th>dropoff_longitude</th>\n      <th>dropoff_latitude</th>\n      <th>passenger_count</th>\n      <th>pickup_datetime_year</th>\n      <th>pickup_datetime_month</th>\n      <th>pickup_datetime_day</th>\n      <th>pickup_datetime_weekday</th>\n      <th>pickup_datetime_hour</th>\n      <th>trip_distance</th>\n    </tr>\n  </thead>\n  <tbody>\n    <tr>\n      <th>15971</th>\n      <td>14.000000</td>\n      <td>2015-05-19 09:27:24+00:00</td>\n      <td>-73.995834</td>\n      <td>40.759190</td>\n      <td>-73.973679</td>\n      <td>40.739086</td>\n      <td>1</td>\n      <td>2015</td>\n      <td>5</td>\n      <td>19</td>\n      <td>1</td>\n      <td>9</td>\n      <td>2.909793</td>\n    </tr>\n    <tr>\n      <th>149839</th>\n      <td>6.500000</td>\n      <td>2010-04-10 15:07:51+00:00</td>\n      <td>-73.977386</td>\n      <td>40.738335</td>\n      <td>-73.976143</td>\n      <td>40.751205</td>\n      <td>1</td>\n      <td>2010</td>\n      <td>4</td>\n      <td>10</td>\n      <td>5</td>\n      <td>15</td>\n      <td>1.433791</td>\n    </tr>\n    <tr>\n      <th>515867</th>\n      <td>49.570000</td>\n      <td>2009-07-25 14:11:00+00:00</td>\n      <td>-73.983910</td>\n      <td>40.749470</td>\n      <td>-73.787170</td>\n      <td>40.646645</td>\n      <td>1</td>\n      <td>2009</td>\n      <td>7</td>\n      <td>25</td>\n      <td>5</td>\n      <td>14</td>\n      <td>20.132486</td>\n    </tr>\n    <tr>\n      <th>90307</th>\n      <td>49.700001</td>\n      <td>2011-11-11 19:09:21+00:00</td>\n      <td>-73.790794</td>\n      <td>40.643463</td>\n      <td>-73.972252</td>\n      <td>40.690182</td>\n      <td>1</td>\n      <td>2011</td>\n      <td>11</td>\n      <td>11</td>\n      <td>4</td>\n      <td>19</td>\n      <td>16.152088</td>\n    </tr>\n    <tr>\n      <th>287032</th>\n      <td>8.500000</td>\n      <td>2015-03-09 18:06:44+00:00</td>\n      <td>-73.976593</td>\n      <td>40.761944</td>\n      <td>-73.991463</td>\n      <td>40.750309</td>\n      <td>2</td>\n      <td>2015</td>\n      <td>3</td>\n      <td>9</td>\n      <td>0</td>\n      <td>18</td>\n      <td>1.799553</td>\n    </tr>\n    <tr>\n      <th>...</th>\n      <td>...</td>\n      <td>...</td>\n      <td>...</td>\n      <td>...</td>\n      <td>...</td>\n      <td>...</td>\n      <td>...</td>\n      <td>...</td>\n      <td>...</td>\n      <td>...</td>\n      <td>...</td>\n      <td>...</td>\n      <td>...</td>\n    </tr>\n    <tr>\n      <th>467556</th>\n      <td>6.100000</td>\n      <td>2010-04-03 20:16:00+00:00</td>\n      <td>-73.968567</td>\n      <td>40.761238</td>\n      <td>-73.983406</td>\n      <td>40.750019</td>\n      <td>3</td>\n      <td>2010</td>\n      <td>4</td>\n      <td>3</td>\n      <td>5</td>\n      <td>20</td>\n      <td>1.764959</td>\n    </tr>\n    <tr>\n      <th>19482</th>\n      <td>7.300000</td>\n      <td>2010-04-26 00:32:00+00:00</td>\n      <td>-73.986725</td>\n      <td>40.755920</td>\n      <td>-73.985855</td>\n      <td>40.731171</td>\n      <td>1</td>\n      <td>2010</td>\n      <td>4</td>\n      <td>26</td>\n      <td>0</td>\n      <td>0</td>\n      <td>2.751241</td>\n    </tr>\n    <tr>\n      <th>186063</th>\n      <td>4.500000</td>\n      <td>2009-05-21 08:13:16+00:00</td>\n      <td>0.000000</td>\n      <td>0.000000</td>\n      <td>0.000000</td>\n      <td>0.000000</td>\n      <td>1</td>\n      <td>2009</td>\n      <td>5</td>\n      <td>21</td>\n      <td>3</td>\n      <td>8</td>\n      <td>0.000000</td>\n    </tr>\n    <tr>\n      <th>382260</th>\n      <td>32.900002</td>\n      <td>2011-07-07 16:10:59+00:00</td>\n      <td>-73.980057</td>\n      <td>40.760334</td>\n      <td>-73.872589</td>\n      <td>40.774300</td>\n      <td>1</td>\n      <td>2011</td>\n      <td>7</td>\n      <td>7</td>\n      <td>3</td>\n      <td>16</td>\n      <td>9.176849</td>\n    </tr>\n    <tr>\n      <th>18838</th>\n      <td>11.500000</td>\n      <td>2015-02-27 12:10:08+00:00</td>\n      <td>-73.955406</td>\n      <td>40.782417</td>\n      <td>-73.960434</td>\n      <td>40.767666</td>\n      <td>1</td>\n      <td>2015</td>\n      <td>2</td>\n      <td>27</td>\n      <td>4</td>\n      <td>12</td>\n      <td>1.693152</td>\n    </tr>\n  </tbody>\n</table>\n<p>110490 rows × 13 columns</p>\n</div>"
     },
     "execution_count": 84,
     "metadata": {},
     "output_type": "execute_result"
    }
   ],
   "source": [
    "add_trip_distance(val_df)\n",
    "val_df"
   ]
  },
  {
   "cell_type": "code",
   "execution_count": 85,
   "metadata": {
    "id": "Gqd69jAX5tXY"
   },
   "outputs": [
    {
     "data": {
      "text/plain": "                              key           pickup_datetime  pickup_longitude  \\\n0     2015-01-27 13:08:24.0000002 2015-01-27 13:08:24+00:00        -73.973320   \n1     2015-01-27 13:08:24.0000003 2015-01-27 13:08:24+00:00        -73.986862   \n2     2011-10-08 11:53:44.0000002 2011-10-08 11:53:44+00:00        -73.982521   \n3     2012-12-01 21:12:12.0000002 2012-12-01 21:12:12+00:00        -73.981163   \n4     2012-12-01 21:12:12.0000003 2012-12-01 21:12:12+00:00        -73.966049   \n...                           ...                       ...               ...   \n9909  2015-05-10 12:37:51.0000002 2015-05-10 12:37:51+00:00        -73.968124   \n9910  2015-01-12 17:05:51.0000001 2015-01-12 17:05:51+00:00        -73.945511   \n9911  2015-04-19 20:44:15.0000001 2015-04-19 20:44:15+00:00        -73.991600   \n9912  2015-01-31 01:05:19.0000005 2015-01-31 01:05:19+00:00        -73.985573   \n9913  2015-01-18 14:06:23.0000006 2015-01-18 14:06:23+00:00        -73.988022   \n\n      pickup_latitude  dropoff_longitude  dropoff_latitude  passenger_count  \\\n0           40.763805         -73.981430         40.743835                1   \n1           40.719383         -73.998886         40.739201                1   \n2           40.751259         -73.979652         40.746140                1   \n3           40.767807         -73.990448         40.751637                1   \n4           40.789776         -73.988564         40.744427                1   \n...               ...                ...               ...              ...   \n9909        40.796997         -73.955643         40.780388                6   \n9910        40.803600         -73.960213         40.776371                6   \n9911        40.726608         -73.789742         40.647011                6   \n9912        40.735432         -73.939178         40.801731                6   \n9913        40.754070         -74.000282         40.759220                6   \n\n      pickup_datetime_year  pickup_datetime_month  pickup_datetime_day  \\\n0                     2015                      1                   27   \n1                     2015                      1                   27   \n2                     2011                     10                    8   \n3                     2012                     12                    1   \n4                     2012                     12                    1   \n...                    ...                    ...                  ...   \n9909                  2015                      5                   10   \n9910                  2015                      1                   12   \n9911                  2015                      4                   19   \n9912                  2015                      1                   31   \n9913                  2015                      1                   18   \n\n      pickup_datetime_weekday  pickup_datetime_hour  trip_distance  \n0                           1                    13       2.321899  \n1                           1                    13       2.423777  \n2                           5                    11       0.618015  \n3                           5                    21       1.959681  \n4                           5                    21       5.383829  \n...                       ...                   ...            ...  \n9909                        6                    12       2.123265  \n9910                        0                    17       3.269084  \n9911                        6                    20      19.171534  \n9912                        5                     1       8.338154  \n9913                        6                    14       1.180072  \n\n[9914 rows x 13 columns]",
      "text/html": "<div>\n<style scoped>\n    .dataframe tbody tr th:only-of-type {\n        vertical-align: middle;\n    }\n\n    .dataframe tbody tr th {\n        vertical-align: top;\n    }\n\n    .dataframe thead th {\n        text-align: right;\n    }\n</style>\n<table border=\"1\" class=\"dataframe\">\n  <thead>\n    <tr style=\"text-align: right;\">\n      <th></th>\n      <th>key</th>\n      <th>pickup_datetime</th>\n      <th>pickup_longitude</th>\n      <th>pickup_latitude</th>\n      <th>dropoff_longitude</th>\n      <th>dropoff_latitude</th>\n      <th>passenger_count</th>\n      <th>pickup_datetime_year</th>\n      <th>pickup_datetime_month</th>\n      <th>pickup_datetime_day</th>\n      <th>pickup_datetime_weekday</th>\n      <th>pickup_datetime_hour</th>\n      <th>trip_distance</th>\n    </tr>\n  </thead>\n  <tbody>\n    <tr>\n      <th>0</th>\n      <td>2015-01-27 13:08:24.0000002</td>\n      <td>2015-01-27 13:08:24+00:00</td>\n      <td>-73.973320</td>\n      <td>40.763805</td>\n      <td>-73.981430</td>\n      <td>40.743835</td>\n      <td>1</td>\n      <td>2015</td>\n      <td>1</td>\n      <td>27</td>\n      <td>1</td>\n      <td>13</td>\n      <td>2.321899</td>\n    </tr>\n    <tr>\n      <th>1</th>\n      <td>2015-01-27 13:08:24.0000003</td>\n      <td>2015-01-27 13:08:24+00:00</td>\n      <td>-73.986862</td>\n      <td>40.719383</td>\n      <td>-73.998886</td>\n      <td>40.739201</td>\n      <td>1</td>\n      <td>2015</td>\n      <td>1</td>\n      <td>27</td>\n      <td>1</td>\n      <td>13</td>\n      <td>2.423777</td>\n    </tr>\n    <tr>\n      <th>2</th>\n      <td>2011-10-08 11:53:44.0000002</td>\n      <td>2011-10-08 11:53:44+00:00</td>\n      <td>-73.982521</td>\n      <td>40.751259</td>\n      <td>-73.979652</td>\n      <td>40.746140</td>\n      <td>1</td>\n      <td>2011</td>\n      <td>10</td>\n      <td>8</td>\n      <td>5</td>\n      <td>11</td>\n      <td>0.618015</td>\n    </tr>\n    <tr>\n      <th>3</th>\n      <td>2012-12-01 21:12:12.0000002</td>\n      <td>2012-12-01 21:12:12+00:00</td>\n      <td>-73.981163</td>\n      <td>40.767807</td>\n      <td>-73.990448</td>\n      <td>40.751637</td>\n      <td>1</td>\n      <td>2012</td>\n      <td>12</td>\n      <td>1</td>\n      <td>5</td>\n      <td>21</td>\n      <td>1.959681</td>\n    </tr>\n    <tr>\n      <th>4</th>\n      <td>2012-12-01 21:12:12.0000003</td>\n      <td>2012-12-01 21:12:12+00:00</td>\n      <td>-73.966049</td>\n      <td>40.789776</td>\n      <td>-73.988564</td>\n      <td>40.744427</td>\n      <td>1</td>\n      <td>2012</td>\n      <td>12</td>\n      <td>1</td>\n      <td>5</td>\n      <td>21</td>\n      <td>5.383829</td>\n    </tr>\n    <tr>\n      <th>...</th>\n      <td>...</td>\n      <td>...</td>\n      <td>...</td>\n      <td>...</td>\n      <td>...</td>\n      <td>...</td>\n      <td>...</td>\n      <td>...</td>\n      <td>...</td>\n      <td>...</td>\n      <td>...</td>\n      <td>...</td>\n      <td>...</td>\n    </tr>\n    <tr>\n      <th>9909</th>\n      <td>2015-05-10 12:37:51.0000002</td>\n      <td>2015-05-10 12:37:51+00:00</td>\n      <td>-73.968124</td>\n      <td>40.796997</td>\n      <td>-73.955643</td>\n      <td>40.780388</td>\n      <td>6</td>\n      <td>2015</td>\n      <td>5</td>\n      <td>10</td>\n      <td>6</td>\n      <td>12</td>\n      <td>2.123265</td>\n    </tr>\n    <tr>\n      <th>9910</th>\n      <td>2015-01-12 17:05:51.0000001</td>\n      <td>2015-01-12 17:05:51+00:00</td>\n      <td>-73.945511</td>\n      <td>40.803600</td>\n      <td>-73.960213</td>\n      <td>40.776371</td>\n      <td>6</td>\n      <td>2015</td>\n      <td>1</td>\n      <td>12</td>\n      <td>0</td>\n      <td>17</td>\n      <td>3.269084</td>\n    </tr>\n    <tr>\n      <th>9911</th>\n      <td>2015-04-19 20:44:15.0000001</td>\n      <td>2015-04-19 20:44:15+00:00</td>\n      <td>-73.991600</td>\n      <td>40.726608</td>\n      <td>-73.789742</td>\n      <td>40.647011</td>\n      <td>6</td>\n      <td>2015</td>\n      <td>4</td>\n      <td>19</td>\n      <td>6</td>\n      <td>20</td>\n      <td>19.171534</td>\n    </tr>\n    <tr>\n      <th>9912</th>\n      <td>2015-01-31 01:05:19.0000005</td>\n      <td>2015-01-31 01:05:19+00:00</td>\n      <td>-73.985573</td>\n      <td>40.735432</td>\n      <td>-73.939178</td>\n      <td>40.801731</td>\n      <td>6</td>\n      <td>2015</td>\n      <td>1</td>\n      <td>31</td>\n      <td>5</td>\n      <td>1</td>\n      <td>8.338154</td>\n    </tr>\n    <tr>\n      <th>9913</th>\n      <td>2015-01-18 14:06:23.0000006</td>\n      <td>2015-01-18 14:06:23+00:00</td>\n      <td>-73.988022</td>\n      <td>40.754070</td>\n      <td>-74.000282</td>\n      <td>40.759220</td>\n      <td>6</td>\n      <td>2015</td>\n      <td>1</td>\n      <td>18</td>\n      <td>6</td>\n      <td>14</td>\n      <td>1.180072</td>\n    </tr>\n  </tbody>\n</table>\n<p>9914 rows × 13 columns</p>\n</div>"
     },
     "execution_count": 85,
     "metadata": {},
     "output_type": "execute_result"
    }
   ],
   "source": [
    "add_trip_distance(df_test)\n",
    "df_test"
   ]
  },
  {
   "cell_type": "markdown",
   "metadata": {
    "id": "pFpeLO4MCP4J"
   },
   "source": [
    "### Add Distance From Popular Landmarks\n",
    "\n",
    "> _**TIP #11**: Creative feature engineering (generally involving human insight or external data) is a lot more effective than excessive hyperparameter tuning. Just one or two good feature improve the model's performance drastically._\n",
    "\n",
    "- JFK Airport\n",
    "- LGA Airport\n",
    "- EWR Airport\n",
    "- Times Square\n",
    "- Met Meuseum\n",
    "- World Trade Center\n",
    "- And can have many more\n",
    "\n",
    "We'll add the distance from drop location. "
   ]
  },
  {
   "cell_type": "code",
   "execution_count": 86,
   "metadata": {
    "id": "y_hrTiYRAO5D"
   },
   "outputs": [],
   "source": [
    "jfk_lonlat = -73.7781, 40.6413\n",
    "lga_lonlat = -73.8740, 40.7769\n",
    "ewr_lonlat = -74.1745, 40.6895\n",
    "met_lonlat = -73.9632, 40.7794\n",
    "wtc_lonlat = -74.0099, 40.7126"
   ]
  },
  {
   "cell_type": "code",
   "execution_count": 87,
   "metadata": {
    "id": "FLTcCYNKCS04"
   },
   "outputs": [],
   "source": [
    "def add_landmark_dropoff_distance(df, landmark_name, landmark_lonlat):\n",
    "    lon, lat = landmark_lonlat\n",
    "    df[landmark_name + '_drop_distance'] = haversine_np(lon, lat, df['dropoff_longitude'], df['dropoff_latitude'])\n"
   ]
  },
  {
   "cell_type": "code",
   "execution_count": 88,
   "metadata": {
    "id": "AuKlVwkzBNRl"
   },
   "outputs": [],
   "source": [
    "def add_landmarks(a_df):\n",
    "  landmarks = [('jfk', jfk_lonlat), ('lga', lga_lonlat), ('ewr', ewr_lonlat), ('met', met_lonlat), ('wtc', wtc_lonlat)]\n",
    "  for name, lonlat in landmarks:\n",
    "    add_landmark_dropoff_distance(a_df, name, lonlat)"
   ]
  },
  {
   "cell_type": "code",
   "execution_count": 89,
   "metadata": {
    "id": "Vspm4UZlBx0S"
   },
   "outputs": [
    {
     "data": {
      "text/plain": "        fare_amount           pickup_datetime  pickup_longitude  \\\n353352          6.0 2015-04-12 03:40:38+00:00        -73.993652   \n360070          3.7 2011-01-26 19:21:00+00:00        -73.993805   \n372609         10.0 2012-10-03 10:40:17+00:00        -73.959160   \n550895          8.9 2012-03-14 13:44:27+00:00        -73.952187   \n444151          7.3 2012-02-05 15:33:00+00:00        -73.977112   \n...             ...                       ...               ...   \n110268          9.3 2009-09-06 16:12:00+00:00        -73.987152   \n259178         18.5 2009-04-12 09:58:56+00:00        -73.972656   \n365838         10.1 2012-07-12 19:30:00+00:00        -73.991982   \n131932         10.9 2011-02-17 18:33:00+00:00        -73.969055   \n121958          9.5 2015-01-14 17:35:03+00:00        -73.983040   \n\n        pickup_latitude  dropoff_longitude  dropoff_latitude  passenger_count  \\\n353352        40.741543         -73.977974         40.742352                4   \n360070        40.724579         -73.993805         40.724579                1   \n372609        40.780750         -73.969116         40.761230                1   \n550895        40.783951         -73.978645         40.772602                1   \n444151        40.746834         -73.991104         40.750404                2   \n...                 ...                ...               ...              ...   \n110268        40.750633         -73.979073         40.763168                1   \n259178        40.764042         -74.013176         40.707840                2   \n365838        40.749767         -73.989845         40.720551                3   \n131932        40.761398         -73.990814         40.751328                1   \n121958        40.742142         -74.002510         40.727650                1   \n\n        pickup_datetime_year  pickup_datetime_month  pickup_datetime_day  \\\n353352                  2015                      4                   12   \n360070                  2011                      1                   26   \n372609                  2012                     10                    3   \n550895                  2012                      3                   14   \n444151                  2012                      2                    5   \n...                      ...                    ...                  ...   \n110268                  2009                      9                    6   \n259178                  2009                      4                   12   \n365838                  2012                      7                   12   \n131932                  2011                      2                   17   \n121958                  2015                      1                   14   \n\n        pickup_datetime_weekday  pickup_datetime_hour  trip_distance  \\\n353352                        6                     3       1.323411   \n360070                        2                    19       0.000000   \n372609                        2                    10       2.325504   \n550895                        2                    13       2.558912   \n444151                        6                    15       1.243267   \n...                         ...                   ...            ...   \n110268                        6                    16       1.549976   \n259178                        6                     9       7.116529   \n365838                        3                    19       3.251601   \n131932                        3                    18       2.146101   \n121958                        2                    17       2.298132   \n\n        jfk_drop_distance  lga_drop_distance  ewr_drop_distance  \\\n353352          20.241400           9.556355          17.564440   \n360070          20.397520          11.641132          15.713149   \n372609          20.894815           8.192266          19.044893   \n550895          22.322773           8.819165          18.902145   \n444151          21.658104          10.286617          16.863903   \n...                   ...                ...                ...   \n110268          21.680714           8.973204          18.381712   \n259178          21.146925          14.006921          13.743814   \n365838          19.899387          11.589870          15.933608   \n131932          21.695084          10.233944          16.927792   \n121958          21.205923          12.123721          15.095511   \n\n        met_drop_distance  wtc_drop_distance  \n353352           4.300385           4.261684  \n360070           6.614004           1.900218  \n372609           2.079418           6.402866  \n550895           1.503061           7.168338  \n444151           3.986955           4.489382  \n...                   ...                ...  \n110268           2.244238           6.189971  \n259178           8.996409           0.596505  \n365838           6.913579           1.906144  \n131932           3.889789           4.594002  \n121958           6.634640           1.784535  \n\n[441960 rows x 18 columns]",
      "text/html": "<div>\n<style scoped>\n    .dataframe tbody tr th:only-of-type {\n        vertical-align: middle;\n    }\n\n    .dataframe tbody tr th {\n        vertical-align: top;\n    }\n\n    .dataframe thead th {\n        text-align: right;\n    }\n</style>\n<table border=\"1\" class=\"dataframe\">\n  <thead>\n    <tr style=\"text-align: right;\">\n      <th></th>\n      <th>fare_amount</th>\n      <th>pickup_datetime</th>\n      <th>pickup_longitude</th>\n      <th>pickup_latitude</th>\n      <th>dropoff_longitude</th>\n      <th>dropoff_latitude</th>\n      <th>passenger_count</th>\n      <th>pickup_datetime_year</th>\n      <th>pickup_datetime_month</th>\n      <th>pickup_datetime_day</th>\n      <th>pickup_datetime_weekday</th>\n      <th>pickup_datetime_hour</th>\n      <th>trip_distance</th>\n      <th>jfk_drop_distance</th>\n      <th>lga_drop_distance</th>\n      <th>ewr_drop_distance</th>\n      <th>met_drop_distance</th>\n      <th>wtc_drop_distance</th>\n    </tr>\n  </thead>\n  <tbody>\n    <tr>\n      <th>353352</th>\n      <td>6.0</td>\n      <td>2015-04-12 03:40:38+00:00</td>\n      <td>-73.993652</td>\n      <td>40.741543</td>\n      <td>-73.977974</td>\n      <td>40.742352</td>\n      <td>4</td>\n      <td>2015</td>\n      <td>4</td>\n      <td>12</td>\n      <td>6</td>\n      <td>3</td>\n      <td>1.323411</td>\n      <td>20.241400</td>\n      <td>9.556355</td>\n      <td>17.564440</td>\n      <td>4.300385</td>\n      <td>4.261684</td>\n    </tr>\n    <tr>\n      <th>360070</th>\n      <td>3.7</td>\n      <td>2011-01-26 19:21:00+00:00</td>\n      <td>-73.993805</td>\n      <td>40.724579</td>\n      <td>-73.993805</td>\n      <td>40.724579</td>\n      <td>1</td>\n      <td>2011</td>\n      <td>1</td>\n      <td>26</td>\n      <td>2</td>\n      <td>19</td>\n      <td>0.000000</td>\n      <td>20.397520</td>\n      <td>11.641132</td>\n      <td>15.713149</td>\n      <td>6.614004</td>\n      <td>1.900218</td>\n    </tr>\n    <tr>\n      <th>372609</th>\n      <td>10.0</td>\n      <td>2012-10-03 10:40:17+00:00</td>\n      <td>-73.959160</td>\n      <td>40.780750</td>\n      <td>-73.969116</td>\n      <td>40.761230</td>\n      <td>1</td>\n      <td>2012</td>\n      <td>10</td>\n      <td>3</td>\n      <td>2</td>\n      <td>10</td>\n      <td>2.325504</td>\n      <td>20.894815</td>\n      <td>8.192266</td>\n      <td>19.044893</td>\n      <td>2.079418</td>\n      <td>6.402866</td>\n    </tr>\n    <tr>\n      <th>550895</th>\n      <td>8.9</td>\n      <td>2012-03-14 13:44:27+00:00</td>\n      <td>-73.952187</td>\n      <td>40.783951</td>\n      <td>-73.978645</td>\n      <td>40.772602</td>\n      <td>1</td>\n      <td>2012</td>\n      <td>3</td>\n      <td>14</td>\n      <td>2</td>\n      <td>13</td>\n      <td>2.558912</td>\n      <td>22.322773</td>\n      <td>8.819165</td>\n      <td>18.902145</td>\n      <td>1.503061</td>\n      <td>7.168338</td>\n    </tr>\n    <tr>\n      <th>444151</th>\n      <td>7.3</td>\n      <td>2012-02-05 15:33:00+00:00</td>\n      <td>-73.977112</td>\n      <td>40.746834</td>\n      <td>-73.991104</td>\n      <td>40.750404</td>\n      <td>2</td>\n      <td>2012</td>\n      <td>2</td>\n      <td>5</td>\n      <td>6</td>\n      <td>15</td>\n      <td>1.243267</td>\n      <td>21.658104</td>\n      <td>10.286617</td>\n      <td>16.863903</td>\n      <td>3.986955</td>\n      <td>4.489382</td>\n    </tr>\n    <tr>\n      <th>...</th>\n      <td>...</td>\n      <td>...</td>\n      <td>...</td>\n      <td>...</td>\n      <td>...</td>\n      <td>...</td>\n      <td>...</td>\n      <td>...</td>\n      <td>...</td>\n      <td>...</td>\n      <td>...</td>\n      <td>...</td>\n      <td>...</td>\n      <td>...</td>\n      <td>...</td>\n      <td>...</td>\n      <td>...</td>\n      <td>...</td>\n    </tr>\n    <tr>\n      <th>110268</th>\n      <td>9.3</td>\n      <td>2009-09-06 16:12:00+00:00</td>\n      <td>-73.987152</td>\n      <td>40.750633</td>\n      <td>-73.979073</td>\n      <td>40.763168</td>\n      <td>1</td>\n      <td>2009</td>\n      <td>9</td>\n      <td>6</td>\n      <td>6</td>\n      <td>16</td>\n      <td>1.549976</td>\n      <td>21.680714</td>\n      <td>8.973204</td>\n      <td>18.381712</td>\n      <td>2.244238</td>\n      <td>6.189971</td>\n    </tr>\n    <tr>\n      <th>259178</th>\n      <td>18.5</td>\n      <td>2009-04-12 09:58:56+00:00</td>\n      <td>-73.972656</td>\n      <td>40.764042</td>\n      <td>-74.013176</td>\n      <td>40.707840</td>\n      <td>2</td>\n      <td>2009</td>\n      <td>4</td>\n      <td>12</td>\n      <td>6</td>\n      <td>9</td>\n      <td>7.116529</td>\n      <td>21.146925</td>\n      <td>14.006921</td>\n      <td>13.743814</td>\n      <td>8.996409</td>\n      <td>0.596505</td>\n    </tr>\n    <tr>\n      <th>365838</th>\n      <td>10.1</td>\n      <td>2012-07-12 19:30:00+00:00</td>\n      <td>-73.991982</td>\n      <td>40.749767</td>\n      <td>-73.989845</td>\n      <td>40.720551</td>\n      <td>3</td>\n      <td>2012</td>\n      <td>7</td>\n      <td>12</td>\n      <td>3</td>\n      <td>19</td>\n      <td>3.251601</td>\n      <td>19.899387</td>\n      <td>11.589870</td>\n      <td>15.933608</td>\n      <td>6.913579</td>\n      <td>1.906144</td>\n    </tr>\n    <tr>\n      <th>131932</th>\n      <td>10.9</td>\n      <td>2011-02-17 18:33:00+00:00</td>\n      <td>-73.969055</td>\n      <td>40.761398</td>\n      <td>-73.990814</td>\n      <td>40.751328</td>\n      <td>1</td>\n      <td>2011</td>\n      <td>2</td>\n      <td>17</td>\n      <td>3</td>\n      <td>18</td>\n      <td>2.146101</td>\n      <td>21.695084</td>\n      <td>10.233944</td>\n      <td>16.927792</td>\n      <td>3.889789</td>\n      <td>4.594002</td>\n    </tr>\n    <tr>\n      <th>121958</th>\n      <td>9.5</td>\n      <td>2015-01-14 17:35:03+00:00</td>\n      <td>-73.983040</td>\n      <td>40.742142</td>\n      <td>-74.002510</td>\n      <td>40.727650</td>\n      <td>1</td>\n      <td>2015</td>\n      <td>1</td>\n      <td>14</td>\n      <td>2</td>\n      <td>17</td>\n      <td>2.298132</td>\n      <td>21.205923</td>\n      <td>12.123721</td>\n      <td>15.095511</td>\n      <td>6.634640</td>\n      <td>1.784535</td>\n    </tr>\n  </tbody>\n</table>\n<p>441960 rows × 18 columns</p>\n</div>"
     },
     "execution_count": 89,
     "metadata": {},
     "output_type": "execute_result"
    }
   ],
   "source": [
    "add_landmarks(train_df)\n",
    "train_df"
   ]
  },
  {
   "cell_type": "code",
   "execution_count": 90,
   "metadata": {
    "id": "wh54p18fcbAU"
   },
   "outputs": [
    {
     "data": {
      "text/plain": "        fare_amount           pickup_datetime  pickup_longitude  \\\n15971     14.000000 2015-05-19 09:27:24+00:00        -73.995834   \n149839     6.500000 2010-04-10 15:07:51+00:00        -73.977386   \n515867    49.570000 2009-07-25 14:11:00+00:00        -73.983910   \n90307     49.700001 2011-11-11 19:09:21+00:00        -73.790794   \n287032     8.500000 2015-03-09 18:06:44+00:00        -73.976593   \n...             ...                       ...               ...   \n467556     6.100000 2010-04-03 20:16:00+00:00        -73.968567   \n19482      7.300000 2010-04-26 00:32:00+00:00        -73.986725   \n186063     4.500000 2009-05-21 08:13:16+00:00          0.000000   \n382260    32.900002 2011-07-07 16:10:59+00:00        -73.980057   \n18838     11.500000 2015-02-27 12:10:08+00:00        -73.955406   \n\n        pickup_latitude  dropoff_longitude  dropoff_latitude  passenger_count  \\\n15971         40.759190         -73.973679         40.739086                1   \n149839        40.738335         -73.976143         40.751205                1   \n515867        40.749470         -73.787170         40.646645                1   \n90307         40.643463         -73.972252         40.690182                1   \n287032        40.761944         -73.991463         40.750309                2   \n...                 ...                ...               ...              ...   \n467556        40.761238         -73.983406         40.750019                3   \n19482         40.755920         -73.985855         40.731171                1   \n186063         0.000000           0.000000          0.000000                1   \n382260        40.760334         -73.872589         40.774300                1   \n18838         40.782417         -73.960434         40.767666                1   \n\n        pickup_datetime_year  pickup_datetime_month  pickup_datetime_day  \\\n15971                   2015                      5                   19   \n149839                  2010                      4                   10   \n515867                  2009                      7                   25   \n90307                   2011                     11                   11   \n287032                  2015                      3                    9   \n...                      ...                    ...                  ...   \n467556                  2010                      4                    3   \n19482                   2010                      4                   26   \n186063                  2009                      5                   21   \n382260                  2011                      7                    7   \n18838                   2015                      2                   27   \n\n        pickup_datetime_weekday  pickup_datetime_hour  trip_distance  \\\n15971                         1                     9       2.909793   \n149839                        5                    15       1.433791   \n515867                        5                    14      20.132486   \n90307                         4                    19      16.152088   \n287032                        0                    18       1.799553   \n...                         ...                   ...            ...   \n467556                        5                    20       1.764959   \n19482                         0                     0       2.751241   \n186063                        3                     8       0.000000   \n382260                        3                    16       9.176849   \n18838                         4                    12       1.693152   \n\n        jfk_drop_distance  lga_drop_distance  ewr_drop_distance  \\\n15971           19.740025           9.383803          17.790024   \n149839          20.677670           9.058475          18.058867   \n515867           0.968338          16.217609          32.993080   \n90307           17.243528          12.700686          17.041767   \n287032          21.676977          10.318309          16.832249   \n...                   ...                ...                ...   \n467556          21.099281           9.680783          17.443117   \n19482           20.154758          10.699293          16.551817   \n186063        8641.281250        8652.019531        8675.110352   \n382260          16.786745           0.312350          27.113701   \n18838           20.811481           7.345592          20.010794   \n\n        met_drop_distance  wtc_drop_distance  \n15971            4.565639           4.238884  \n149839           3.316964           5.146432  \n515867          20.916292          20.150650  \n90307            9.943375           4.032990  \n287032           4.013190           4.468960  \n...                   ...                ...  \n467556           3.681154           4.718924  \n19482            5.688355           2.891594  \n186063        8659.449219        8661.944336  \n382260           7.646412          13.441156  \n18838            1.324689           7.402247  \n\n[110490 rows x 18 columns]",
      "text/html": "<div>\n<style scoped>\n    .dataframe tbody tr th:only-of-type {\n        vertical-align: middle;\n    }\n\n    .dataframe tbody tr th {\n        vertical-align: top;\n    }\n\n    .dataframe thead th {\n        text-align: right;\n    }\n</style>\n<table border=\"1\" class=\"dataframe\">\n  <thead>\n    <tr style=\"text-align: right;\">\n      <th></th>\n      <th>fare_amount</th>\n      <th>pickup_datetime</th>\n      <th>pickup_longitude</th>\n      <th>pickup_latitude</th>\n      <th>dropoff_longitude</th>\n      <th>dropoff_latitude</th>\n      <th>passenger_count</th>\n      <th>pickup_datetime_year</th>\n      <th>pickup_datetime_month</th>\n      <th>pickup_datetime_day</th>\n      <th>pickup_datetime_weekday</th>\n      <th>pickup_datetime_hour</th>\n      <th>trip_distance</th>\n      <th>jfk_drop_distance</th>\n      <th>lga_drop_distance</th>\n      <th>ewr_drop_distance</th>\n      <th>met_drop_distance</th>\n      <th>wtc_drop_distance</th>\n    </tr>\n  </thead>\n  <tbody>\n    <tr>\n      <th>15971</th>\n      <td>14.000000</td>\n      <td>2015-05-19 09:27:24+00:00</td>\n      <td>-73.995834</td>\n      <td>40.759190</td>\n      <td>-73.973679</td>\n      <td>40.739086</td>\n      <td>1</td>\n      <td>2015</td>\n      <td>5</td>\n      <td>19</td>\n      <td>1</td>\n      <td>9</td>\n      <td>2.909793</td>\n      <td>19.740025</td>\n      <td>9.383803</td>\n      <td>17.790024</td>\n      <td>4.565639</td>\n      <td>4.238884</td>\n    </tr>\n    <tr>\n      <th>149839</th>\n      <td>6.500000</td>\n      <td>2010-04-10 15:07:51+00:00</td>\n      <td>-73.977386</td>\n      <td>40.738335</td>\n      <td>-73.976143</td>\n      <td>40.751205</td>\n      <td>1</td>\n      <td>2010</td>\n      <td>4</td>\n      <td>10</td>\n      <td>5</td>\n      <td>15</td>\n      <td>1.433791</td>\n      <td>20.677670</td>\n      <td>9.058475</td>\n      <td>18.058867</td>\n      <td>3.316964</td>\n      <td>5.146432</td>\n    </tr>\n    <tr>\n      <th>515867</th>\n      <td>49.570000</td>\n      <td>2009-07-25 14:11:00+00:00</td>\n      <td>-73.983910</td>\n      <td>40.749470</td>\n      <td>-73.787170</td>\n      <td>40.646645</td>\n      <td>1</td>\n      <td>2009</td>\n      <td>7</td>\n      <td>25</td>\n      <td>5</td>\n      <td>14</td>\n      <td>20.132486</td>\n      <td>0.968338</td>\n      <td>16.217609</td>\n      <td>32.993080</td>\n      <td>20.916292</td>\n      <td>20.150650</td>\n    </tr>\n    <tr>\n      <th>90307</th>\n      <td>49.700001</td>\n      <td>2011-11-11 19:09:21+00:00</td>\n      <td>-73.790794</td>\n      <td>40.643463</td>\n      <td>-73.972252</td>\n      <td>40.690182</td>\n      <td>1</td>\n      <td>2011</td>\n      <td>11</td>\n      <td>11</td>\n      <td>4</td>\n      <td>19</td>\n      <td>16.152088</td>\n      <td>17.243528</td>\n      <td>12.700686</td>\n      <td>17.041767</td>\n      <td>9.943375</td>\n      <td>4.032990</td>\n    </tr>\n    <tr>\n      <th>287032</th>\n      <td>8.500000</td>\n      <td>2015-03-09 18:06:44+00:00</td>\n      <td>-73.976593</td>\n      <td>40.761944</td>\n      <td>-73.991463</td>\n      <td>40.750309</td>\n      <td>2</td>\n      <td>2015</td>\n      <td>3</td>\n      <td>9</td>\n      <td>0</td>\n      <td>18</td>\n      <td>1.799553</td>\n      <td>21.676977</td>\n      <td>10.318309</td>\n      <td>16.832249</td>\n      <td>4.013190</td>\n      <td>4.468960</td>\n    </tr>\n    <tr>\n      <th>...</th>\n      <td>...</td>\n      <td>...</td>\n      <td>...</td>\n      <td>...</td>\n      <td>...</td>\n      <td>...</td>\n      <td>...</td>\n      <td>...</td>\n      <td>...</td>\n      <td>...</td>\n      <td>...</td>\n      <td>...</td>\n      <td>...</td>\n      <td>...</td>\n      <td>...</td>\n      <td>...</td>\n      <td>...</td>\n      <td>...</td>\n    </tr>\n    <tr>\n      <th>467556</th>\n      <td>6.100000</td>\n      <td>2010-04-03 20:16:00+00:00</td>\n      <td>-73.968567</td>\n      <td>40.761238</td>\n      <td>-73.983406</td>\n      <td>40.750019</td>\n      <td>3</td>\n      <td>2010</td>\n      <td>4</td>\n      <td>3</td>\n      <td>5</td>\n      <td>20</td>\n      <td>1.764959</td>\n      <td>21.099281</td>\n      <td>9.680783</td>\n      <td>17.443117</td>\n      <td>3.681154</td>\n      <td>4.718924</td>\n    </tr>\n    <tr>\n      <th>19482</th>\n      <td>7.300000</td>\n      <td>2010-04-26 00:32:00+00:00</td>\n      <td>-73.986725</td>\n      <td>40.755920</td>\n      <td>-73.985855</td>\n      <td>40.731171</td>\n      <td>1</td>\n      <td>2010</td>\n      <td>4</td>\n      <td>26</td>\n      <td>0</td>\n      <td>0</td>\n      <td>2.751241</td>\n      <td>20.154758</td>\n      <td>10.699293</td>\n      <td>16.551817</td>\n      <td>5.688355</td>\n      <td>2.891594</td>\n    </tr>\n    <tr>\n      <th>186063</th>\n      <td>4.500000</td>\n      <td>2009-05-21 08:13:16+00:00</td>\n      <td>0.000000</td>\n      <td>0.000000</td>\n      <td>0.000000</td>\n      <td>0.000000</td>\n      <td>1</td>\n      <td>2009</td>\n      <td>5</td>\n      <td>21</td>\n      <td>3</td>\n      <td>8</td>\n      <td>0.000000</td>\n      <td>8641.281250</td>\n      <td>8652.019531</td>\n      <td>8675.110352</td>\n      <td>8659.449219</td>\n      <td>8661.944336</td>\n    </tr>\n    <tr>\n      <th>382260</th>\n      <td>32.900002</td>\n      <td>2011-07-07 16:10:59+00:00</td>\n      <td>-73.980057</td>\n      <td>40.760334</td>\n      <td>-73.872589</td>\n      <td>40.774300</td>\n      <td>1</td>\n      <td>2011</td>\n      <td>7</td>\n      <td>7</td>\n      <td>3</td>\n      <td>16</td>\n      <td>9.176849</td>\n      <td>16.786745</td>\n      <td>0.312350</td>\n      <td>27.113701</td>\n      <td>7.646412</td>\n      <td>13.441156</td>\n    </tr>\n    <tr>\n      <th>18838</th>\n      <td>11.500000</td>\n      <td>2015-02-27 12:10:08+00:00</td>\n      <td>-73.955406</td>\n      <td>40.782417</td>\n      <td>-73.960434</td>\n      <td>40.767666</td>\n      <td>1</td>\n      <td>2015</td>\n      <td>2</td>\n      <td>27</td>\n      <td>4</td>\n      <td>12</td>\n      <td>1.693152</td>\n      <td>20.811481</td>\n      <td>7.345592</td>\n      <td>20.010794</td>\n      <td>1.324689</td>\n      <td>7.402247</td>\n    </tr>\n  </tbody>\n</table>\n<p>110490 rows × 18 columns</p>\n</div>"
     },
     "execution_count": 90,
     "metadata": {},
     "output_type": "execute_result"
    }
   ],
   "source": [
    "add_landmarks(val_df)\n",
    "val_df"
   ]
  },
  {
   "cell_type": "code",
   "execution_count": 91,
   "metadata": {
    "id": "USE10_QUcbY3"
   },
   "outputs": [
    {
     "data": {
      "text/plain": "                              key           pickup_datetime  pickup_longitude  \\\n0     2015-01-27 13:08:24.0000002 2015-01-27 13:08:24+00:00        -73.973320   \n1     2015-01-27 13:08:24.0000003 2015-01-27 13:08:24+00:00        -73.986862   \n2     2011-10-08 11:53:44.0000002 2011-10-08 11:53:44+00:00        -73.982521   \n3     2012-12-01 21:12:12.0000002 2012-12-01 21:12:12+00:00        -73.981163   \n4     2012-12-01 21:12:12.0000003 2012-12-01 21:12:12+00:00        -73.966049   \n...                           ...                       ...               ...   \n9909  2015-05-10 12:37:51.0000002 2015-05-10 12:37:51+00:00        -73.968124   \n9910  2015-01-12 17:05:51.0000001 2015-01-12 17:05:51+00:00        -73.945511   \n9911  2015-04-19 20:44:15.0000001 2015-04-19 20:44:15+00:00        -73.991600   \n9912  2015-01-31 01:05:19.0000005 2015-01-31 01:05:19+00:00        -73.985573   \n9913  2015-01-18 14:06:23.0000006 2015-01-18 14:06:23+00:00        -73.988022   \n\n      pickup_latitude  dropoff_longitude  dropoff_latitude  passenger_count  \\\n0           40.763805         -73.981430         40.743835                1   \n1           40.719383         -73.998886         40.739201                1   \n2           40.751259         -73.979652         40.746140                1   \n3           40.767807         -73.990448         40.751637                1   \n4           40.789776         -73.988564         40.744427                1   \n...               ...                ...               ...              ...   \n9909        40.796997         -73.955643         40.780388                6   \n9910        40.803600         -73.960213         40.776371                6   \n9911        40.726608         -73.789742         40.647011                6   \n9912        40.735432         -73.939178         40.801731                6   \n9913        40.754070         -74.000282         40.759220                6   \n\n      pickup_datetime_year  pickup_datetime_month  pickup_datetime_day  \\\n0                     2015                      1                   27   \n1                     2015                      1                   27   \n2                     2011                     10                    8   \n3                     2012                     12                    1   \n4                     2012                     12                    1   \n...                    ...                    ...                  ...   \n9909                  2015                      5                   10   \n9910                  2015                      1                   12   \n9911                  2015                      4                   19   \n9912                  2015                      1                   31   \n9913                  2015                      1                   18   \n\n      pickup_datetime_weekday  pickup_datetime_hour  trip_distance  \\\n0                           1                    13       2.321899   \n1                           1                    13       2.423777   \n2                           5                    11       0.618015   \n3                           5                    21       1.959681   \n4                           5                    21       5.383829   \n...                       ...                   ...            ...   \n9909                        6                    12       2.123265   \n9910                        0                    17       3.269084   \n9911                        6                    20      19.171534   \n9912                        5                     1       8.338154   \n9913                        6                    14       1.180072   \n\n      jfk_drop_distance  lga_drop_distance  ewr_drop_distance  \\\n0             20.574911           9.760167          17.346842   \n1             21.550976          11.315990          15.789623   \n2             20.594069           9.526829          17.576965   \n3             21.689365          10.195091          16.969650   \n4             21.113993          10.295857          16.808367   \n...                 ...                ...                ...   \n9909          21.507181           6.880905          21.015013   \n9910          21.462183           7.254931          20.464457   \n9911           1.169105          16.084494          32.772369   \n9912          22.402418           6.138518          23.410772   \n9913          22.849430          10.808279          16.591991   \n\n      met_drop_distance  wtc_drop_distance  \n0              4.239343           4.218709  \n1              5.382879           3.098136  \n2              3.946721           4.514503  \n3              3.843892           4.637048  \n4              4.433764           3.967223  \n...                 ...                ...  \n9909           0.645683           8.809922  \n9910           0.420341           8.229158  \n9911          20.734238          19.933737  \n9912           3.200790          11.556184  \n9913           3.842887           5.243497  \n\n[9914 rows x 18 columns]",
      "text/html": "<div>\n<style scoped>\n    .dataframe tbody tr th:only-of-type {\n        vertical-align: middle;\n    }\n\n    .dataframe tbody tr th {\n        vertical-align: top;\n    }\n\n    .dataframe thead th {\n        text-align: right;\n    }\n</style>\n<table border=\"1\" class=\"dataframe\">\n  <thead>\n    <tr style=\"text-align: right;\">\n      <th></th>\n      <th>key</th>\n      <th>pickup_datetime</th>\n      <th>pickup_longitude</th>\n      <th>pickup_latitude</th>\n      <th>dropoff_longitude</th>\n      <th>dropoff_latitude</th>\n      <th>passenger_count</th>\n      <th>pickup_datetime_year</th>\n      <th>pickup_datetime_month</th>\n      <th>pickup_datetime_day</th>\n      <th>pickup_datetime_weekday</th>\n      <th>pickup_datetime_hour</th>\n      <th>trip_distance</th>\n      <th>jfk_drop_distance</th>\n      <th>lga_drop_distance</th>\n      <th>ewr_drop_distance</th>\n      <th>met_drop_distance</th>\n      <th>wtc_drop_distance</th>\n    </tr>\n  </thead>\n  <tbody>\n    <tr>\n      <th>0</th>\n      <td>2015-01-27 13:08:24.0000002</td>\n      <td>2015-01-27 13:08:24+00:00</td>\n      <td>-73.973320</td>\n      <td>40.763805</td>\n      <td>-73.981430</td>\n      <td>40.743835</td>\n      <td>1</td>\n      <td>2015</td>\n      <td>1</td>\n      <td>27</td>\n      <td>1</td>\n      <td>13</td>\n      <td>2.321899</td>\n      <td>20.574911</td>\n      <td>9.760167</td>\n      <td>17.346842</td>\n      <td>4.239343</td>\n      <td>4.218709</td>\n    </tr>\n    <tr>\n      <th>1</th>\n      <td>2015-01-27 13:08:24.0000003</td>\n      <td>2015-01-27 13:08:24+00:00</td>\n      <td>-73.986862</td>\n      <td>40.719383</td>\n      <td>-73.998886</td>\n      <td>40.739201</td>\n      <td>1</td>\n      <td>2015</td>\n      <td>1</td>\n      <td>27</td>\n      <td>1</td>\n      <td>13</td>\n      <td>2.423777</td>\n      <td>21.550976</td>\n      <td>11.315990</td>\n      <td>15.789623</td>\n      <td>5.382879</td>\n      <td>3.098136</td>\n    </tr>\n    <tr>\n      <th>2</th>\n      <td>2011-10-08 11:53:44.0000002</td>\n      <td>2011-10-08 11:53:44+00:00</td>\n      <td>-73.982521</td>\n      <td>40.751259</td>\n      <td>-73.979652</td>\n      <td>40.746140</td>\n      <td>1</td>\n      <td>2011</td>\n      <td>10</td>\n      <td>8</td>\n      <td>5</td>\n      <td>11</td>\n      <td>0.618015</td>\n      <td>20.594069</td>\n      <td>9.526829</td>\n      <td>17.576965</td>\n      <td>3.946721</td>\n      <td>4.514503</td>\n    </tr>\n    <tr>\n      <th>3</th>\n      <td>2012-12-01 21:12:12.0000002</td>\n      <td>2012-12-01 21:12:12+00:00</td>\n      <td>-73.981163</td>\n      <td>40.767807</td>\n      <td>-73.990448</td>\n      <td>40.751637</td>\n      <td>1</td>\n      <td>2012</td>\n      <td>12</td>\n      <td>1</td>\n      <td>5</td>\n      <td>21</td>\n      <td>1.959681</td>\n      <td>21.689365</td>\n      <td>10.195091</td>\n      <td>16.969650</td>\n      <td>3.843892</td>\n      <td>4.637048</td>\n    </tr>\n    <tr>\n      <th>4</th>\n      <td>2012-12-01 21:12:12.0000003</td>\n      <td>2012-12-01 21:12:12+00:00</td>\n      <td>-73.966049</td>\n      <td>40.789776</td>\n      <td>-73.988564</td>\n      <td>40.744427</td>\n      <td>1</td>\n      <td>2012</td>\n      <td>12</td>\n      <td>1</td>\n      <td>5</td>\n      <td>21</td>\n      <td>5.383829</td>\n      <td>21.113993</td>\n      <td>10.295857</td>\n      <td>16.808367</td>\n      <td>4.433764</td>\n      <td>3.967223</td>\n    </tr>\n    <tr>\n      <th>...</th>\n      <td>...</td>\n      <td>...</td>\n      <td>...</td>\n      <td>...</td>\n      <td>...</td>\n      <td>...</td>\n      <td>...</td>\n      <td>...</td>\n      <td>...</td>\n      <td>...</td>\n      <td>...</td>\n      <td>...</td>\n      <td>...</td>\n      <td>...</td>\n      <td>...</td>\n      <td>...</td>\n      <td>...</td>\n      <td>...</td>\n    </tr>\n    <tr>\n      <th>9909</th>\n      <td>2015-05-10 12:37:51.0000002</td>\n      <td>2015-05-10 12:37:51+00:00</td>\n      <td>-73.968124</td>\n      <td>40.796997</td>\n      <td>-73.955643</td>\n      <td>40.780388</td>\n      <td>6</td>\n      <td>2015</td>\n      <td>5</td>\n      <td>10</td>\n      <td>6</td>\n      <td>12</td>\n      <td>2.123265</td>\n      <td>21.507181</td>\n      <td>6.880905</td>\n      <td>21.015013</td>\n      <td>0.645683</td>\n      <td>8.809922</td>\n    </tr>\n    <tr>\n      <th>9910</th>\n      <td>2015-01-12 17:05:51.0000001</td>\n      <td>2015-01-12 17:05:51+00:00</td>\n      <td>-73.945511</td>\n      <td>40.803600</td>\n      <td>-73.960213</td>\n      <td>40.776371</td>\n      <td>6</td>\n      <td>2015</td>\n      <td>1</td>\n      <td>12</td>\n      <td>0</td>\n      <td>17</td>\n      <td>3.269084</td>\n      <td>21.462183</td>\n      <td>7.254931</td>\n      <td>20.464457</td>\n      <td>0.420341</td>\n      <td>8.229158</td>\n    </tr>\n    <tr>\n      <th>9911</th>\n      <td>2015-04-19 20:44:15.0000001</td>\n      <td>2015-04-19 20:44:15+00:00</td>\n      <td>-73.991600</td>\n      <td>40.726608</td>\n      <td>-73.789742</td>\n      <td>40.647011</td>\n      <td>6</td>\n      <td>2015</td>\n      <td>4</td>\n      <td>19</td>\n      <td>6</td>\n      <td>20</td>\n      <td>19.171534</td>\n      <td>1.169105</td>\n      <td>16.084494</td>\n      <td>32.772369</td>\n      <td>20.734238</td>\n      <td>19.933737</td>\n    </tr>\n    <tr>\n      <th>9912</th>\n      <td>2015-01-31 01:05:19.0000005</td>\n      <td>2015-01-31 01:05:19+00:00</td>\n      <td>-73.985573</td>\n      <td>40.735432</td>\n      <td>-73.939178</td>\n      <td>40.801731</td>\n      <td>6</td>\n      <td>2015</td>\n      <td>1</td>\n      <td>31</td>\n      <td>5</td>\n      <td>1</td>\n      <td>8.338154</td>\n      <td>22.402418</td>\n      <td>6.138518</td>\n      <td>23.410772</td>\n      <td>3.200790</td>\n      <td>11.556184</td>\n    </tr>\n    <tr>\n      <th>9913</th>\n      <td>2015-01-18 14:06:23.0000006</td>\n      <td>2015-01-18 14:06:23+00:00</td>\n      <td>-73.988022</td>\n      <td>40.754070</td>\n      <td>-74.000282</td>\n      <td>40.759220</td>\n      <td>6</td>\n      <td>2015</td>\n      <td>1</td>\n      <td>18</td>\n      <td>6</td>\n      <td>14</td>\n      <td>1.180072</td>\n      <td>22.849430</td>\n      <td>10.808279</td>\n      <td>16.591991</td>\n      <td>3.842887</td>\n      <td>5.243497</td>\n    </tr>\n  </tbody>\n</table>\n<p>9914 rows × 18 columns</p>\n</div>"
     },
     "execution_count": 91,
     "metadata": {},
     "output_type": "execute_result"
    }
   ],
   "source": [
    "add_landmarks(df_test)\n",
    "df_test"
   ]
  },
  {
   "cell_type": "markdown",
   "metadata": {
    "id": "gm99KRT__3GS"
   },
   "source": [
    "### Remove Outliers and Invalid Data\n",
    "\n",
    "There seems to be some invalid data in each of the following columns:\n",
    "\n",
    "- Fare amount\n",
    "- Passenger count\n",
    "- Pickup latitude & longitude\n",
    "- Drop latitude & longitude"
   ]
  },
  {
   "cell_type": "code",
   "execution_count": 92,
   "metadata": {
    "id": "lu1iN719AQX9"
   },
   "outputs": [
    {
     "data": {
      "text/plain": "         fare_amount  pickup_longitude  pickup_latitude  dropoff_longitude  \\\ncount  441960.000000     441960.000000    441960.000000      441960.000000   \nmean       11.354591        -72.521378        39.993584         -72.531738   \nstd         9.788187         11.826187         8.449581          12.422503   \nmin       -52.000000      -1183.362793     -3084.490234       -3356.729736   \n25%         6.000000        -73.992027        40.734859         -73.991409   \n50%         8.500000        -73.981819        40.752613         -73.980171   \n75%        12.500000        -73.967186        40.767006         -73.963715   \nmax       400.000000       2420.209473       404.899994        2467.752686   \n\n       dropoff_latitude  passenger_count  pickup_datetime_year  \\\ncount     441960.000000    441960.000000         441960.000000   \nmean          40.021133         1.684444           2011.740038   \nstd            9.833958         1.344170              1.857024   \nmin        -2073.150635         0.000000           2009.000000   \n25%           40.733967         1.000000           2010.000000   \n50%           40.753078         1.000000           2012.000000   \n75%           40.768044         2.000000           2013.000000   \nmax         3351.403076       208.000000           2015.000000   \n\n       pickup_datetime_month  pickup_datetime_day  pickup_datetime_weekday  \\\ncount          441960.000000        441960.000000            441960.000000   \nmean                6.263920            15.732492                 3.035813   \nstd                 3.434881             8.697374                 1.950033   \nmin                 1.000000             1.000000                 0.000000   \n25%                 3.000000             8.000000                 1.000000   \n50%                 6.000000            16.000000                 3.000000   \n75%                 9.000000            23.000000                 5.000000   \nmax                12.000000            31.000000                 6.000000   \n\n       pickup_datetime_hour  trip_distance  jfk_drop_distance  \\\ncount         441960.000000  441960.000000      441960.000000   \nmean              13.506568      19.751778         193.336624   \nstd                6.517710     370.978485        1222.565186   \nmin                0.000000       0.000000           0.305583   \n25%                9.000000       1.212447          20.535247   \n50%               14.000000       2.116254          21.202131   \n75%               19.000000       3.879624          21.948318   \nmax               23.000000   16913.427734       15057.673828   \n\n       lga_drop_distance  ewr_drop_distance  met_drop_distance  \\\ncount      441960.000000      441960.000000      441960.000000   \nmean          182.252625         191.307755         177.326828   \nstd          1225.509888        1227.219604        1227.147827   \nmin             0.116402           0.129245           0.031195   \n25%             8.350981          16.502820           2.169769   \n50%             9.575539          18.016346           3.817937   \n75%            11.122054          19.953297           6.071617   \nmax         15074.642578       15074.713867       15077.615234   \n\n       wtc_drop_distance  \ncount      441960.000000  \nmean          178.884659  \nstd          1227.168091  \nmin             0.009281  \n25%             3.642480  \n50%             5.559632  \n75%             7.814558  \nmax         15072.110352  ",
      "text/html": "<div>\n<style scoped>\n    .dataframe tbody tr th:only-of-type {\n        vertical-align: middle;\n    }\n\n    .dataframe tbody tr th {\n        vertical-align: top;\n    }\n\n    .dataframe thead th {\n        text-align: right;\n    }\n</style>\n<table border=\"1\" class=\"dataframe\">\n  <thead>\n    <tr style=\"text-align: right;\">\n      <th></th>\n      <th>fare_amount</th>\n      <th>pickup_longitude</th>\n      <th>pickup_latitude</th>\n      <th>dropoff_longitude</th>\n      <th>dropoff_latitude</th>\n      <th>passenger_count</th>\n      <th>pickup_datetime_year</th>\n      <th>pickup_datetime_month</th>\n      <th>pickup_datetime_day</th>\n      <th>pickup_datetime_weekday</th>\n      <th>pickup_datetime_hour</th>\n      <th>trip_distance</th>\n      <th>jfk_drop_distance</th>\n      <th>lga_drop_distance</th>\n      <th>ewr_drop_distance</th>\n      <th>met_drop_distance</th>\n      <th>wtc_drop_distance</th>\n    </tr>\n  </thead>\n  <tbody>\n    <tr>\n      <th>count</th>\n      <td>441960.000000</td>\n      <td>441960.000000</td>\n      <td>441960.000000</td>\n      <td>441960.000000</td>\n      <td>441960.000000</td>\n      <td>441960.000000</td>\n      <td>441960.000000</td>\n      <td>441960.000000</td>\n      <td>441960.000000</td>\n      <td>441960.000000</td>\n      <td>441960.000000</td>\n      <td>441960.000000</td>\n      <td>441960.000000</td>\n      <td>441960.000000</td>\n      <td>441960.000000</td>\n      <td>441960.000000</td>\n      <td>441960.000000</td>\n    </tr>\n    <tr>\n      <th>mean</th>\n      <td>11.354591</td>\n      <td>-72.521378</td>\n      <td>39.993584</td>\n      <td>-72.531738</td>\n      <td>40.021133</td>\n      <td>1.684444</td>\n      <td>2011.740038</td>\n      <td>6.263920</td>\n      <td>15.732492</td>\n      <td>3.035813</td>\n      <td>13.506568</td>\n      <td>19.751778</td>\n      <td>193.336624</td>\n      <td>182.252625</td>\n      <td>191.307755</td>\n      <td>177.326828</td>\n      <td>178.884659</td>\n    </tr>\n    <tr>\n      <th>std</th>\n      <td>9.788187</td>\n      <td>11.826187</td>\n      <td>8.449581</td>\n      <td>12.422503</td>\n      <td>9.833958</td>\n      <td>1.344170</td>\n      <td>1.857024</td>\n      <td>3.434881</td>\n      <td>8.697374</td>\n      <td>1.950033</td>\n      <td>6.517710</td>\n      <td>370.978485</td>\n      <td>1222.565186</td>\n      <td>1225.509888</td>\n      <td>1227.219604</td>\n      <td>1227.147827</td>\n      <td>1227.168091</td>\n    </tr>\n    <tr>\n      <th>min</th>\n      <td>-52.000000</td>\n      <td>-1183.362793</td>\n      <td>-3084.490234</td>\n      <td>-3356.729736</td>\n      <td>-2073.150635</td>\n      <td>0.000000</td>\n      <td>2009.000000</td>\n      <td>1.000000</td>\n      <td>1.000000</td>\n      <td>0.000000</td>\n      <td>0.000000</td>\n      <td>0.000000</td>\n      <td>0.305583</td>\n      <td>0.116402</td>\n      <td>0.129245</td>\n      <td>0.031195</td>\n      <td>0.009281</td>\n    </tr>\n    <tr>\n      <th>25%</th>\n      <td>6.000000</td>\n      <td>-73.992027</td>\n      <td>40.734859</td>\n      <td>-73.991409</td>\n      <td>40.733967</td>\n      <td>1.000000</td>\n      <td>2010.000000</td>\n      <td>3.000000</td>\n      <td>8.000000</td>\n      <td>1.000000</td>\n      <td>9.000000</td>\n      <td>1.212447</td>\n      <td>20.535247</td>\n      <td>8.350981</td>\n      <td>16.502820</td>\n      <td>2.169769</td>\n      <td>3.642480</td>\n    </tr>\n    <tr>\n      <th>50%</th>\n      <td>8.500000</td>\n      <td>-73.981819</td>\n      <td>40.752613</td>\n      <td>-73.980171</td>\n      <td>40.753078</td>\n      <td>1.000000</td>\n      <td>2012.000000</td>\n      <td>6.000000</td>\n      <td>16.000000</td>\n      <td>3.000000</td>\n      <td>14.000000</td>\n      <td>2.116254</td>\n      <td>21.202131</td>\n      <td>9.575539</td>\n      <td>18.016346</td>\n      <td>3.817937</td>\n      <td>5.559632</td>\n    </tr>\n    <tr>\n      <th>75%</th>\n      <td>12.500000</td>\n      <td>-73.967186</td>\n      <td>40.767006</td>\n      <td>-73.963715</td>\n      <td>40.768044</td>\n      <td>2.000000</td>\n      <td>2013.000000</td>\n      <td>9.000000</td>\n      <td>23.000000</td>\n      <td>5.000000</td>\n      <td>19.000000</td>\n      <td>3.879624</td>\n      <td>21.948318</td>\n      <td>11.122054</td>\n      <td>19.953297</td>\n      <td>6.071617</td>\n      <td>7.814558</td>\n    </tr>\n    <tr>\n      <th>max</th>\n      <td>400.000000</td>\n      <td>2420.209473</td>\n      <td>404.899994</td>\n      <td>2467.752686</td>\n      <td>3351.403076</td>\n      <td>208.000000</td>\n      <td>2015.000000</td>\n      <td>12.000000</td>\n      <td>31.000000</td>\n      <td>6.000000</td>\n      <td>23.000000</td>\n      <td>16913.427734</td>\n      <td>15057.673828</td>\n      <td>15074.642578</td>\n      <td>15074.713867</td>\n      <td>15077.615234</td>\n      <td>15072.110352</td>\n    </tr>\n  </tbody>\n</table>\n</div>"
     },
     "execution_count": 92,
     "metadata": {},
     "output_type": "execute_result"
    }
   ],
   "source": [
    "train_df.describe()"
   ]
  },
  {
   "cell_type": "code",
   "execution_count": 93,
   "metadata": {
    "id": "uCw4gevKcedV"
   },
   "outputs": [
    {
     "data": {
      "text/plain": "       pickup_longitude  pickup_latitude  dropoff_longitude  dropoff_latitude  \\\ncount       9914.000000      9914.000000        9914.000000       9914.000000   \nmean         -73.976181        40.750954         -73.974945         40.751553   \nstd            0.042799         0.033542           0.039093          0.035436   \nmin          -74.252190        40.573143         -74.263245         40.568974   \n25%          -73.992500        40.736125         -73.991249         40.735253   \n50%          -73.982327        40.753052         -73.980015         40.754065   \n75%          -73.968012        40.767113         -73.964062         40.768757   \nmax          -72.986534        41.709557         -72.990967         41.696682   \n\n       passenger_count  pickup_datetime_year  pickup_datetime_month  \\\ncount      9914.000000           9914.000000            9914.000000   \nmean          1.671273           2011.815816               6.857979   \nstd           1.278747              1.803347               3.353272   \nmin           1.000000           2009.000000               1.000000   \n25%           1.000000           2010.000000               4.000000   \n50%           1.000000           2012.000000               7.000000   \n75%           2.000000           2014.000000              10.000000   \nmax           6.000000           2015.000000              12.000000   \n\n       pickup_datetime_day  pickup_datetime_weekday  pickup_datetime_hour  \\\ncount          9914.000000              9914.000000           9914.000000   \nmean             16.194170                 2.852834             13.467420   \nstd               8.838482                 1.994451              6.868584   \nmin               1.000000                 0.000000              0.000000   \n25%               9.000000                 1.000000              8.000000   \n50%              16.000000                 3.000000             15.000000   \n75%              25.000000                 5.000000             19.000000   \nmax              31.000000                 6.000000             23.000000   \n\n       trip_distance  jfk_drop_distance  lga_drop_distance  ewr_drop_distance  \\\ncount    9914.000000        9914.000000        9914.000000        9914.000000   \nmean        3.433212          20.916758           9.675153          18.546644   \nstd         3.969877           3.303940           3.295646           4.035816   \nmin         0.000000           0.401900           0.285629           0.284680   \n25%         1.297261          20.513337           8.311565          16.520517   \n50%         2.215648          21.181472           9.477797          18.024350   \n75%         4.043051          21.909794          10.965272          19.880536   \nmax        99.933281         134.497726         126.062576         149.400787   \n\n       met_drop_distance  wtc_drop_distance  \ncount        9914.000000        9914.000000  \nmean            4.512908           6.037651  \nstd             4.018421           4.252535  \nmin             0.085747           0.040269  \n25%             2.126287           3.670107  \n50%             3.698123           5.541466  \n75%             5.922544           7.757612  \nmax           130.347153         138.619492  ",
      "text/html": "<div>\n<style scoped>\n    .dataframe tbody tr th:only-of-type {\n        vertical-align: middle;\n    }\n\n    .dataframe tbody tr th {\n        vertical-align: top;\n    }\n\n    .dataframe thead th {\n        text-align: right;\n    }\n</style>\n<table border=\"1\" class=\"dataframe\">\n  <thead>\n    <tr style=\"text-align: right;\">\n      <th></th>\n      <th>pickup_longitude</th>\n      <th>pickup_latitude</th>\n      <th>dropoff_longitude</th>\n      <th>dropoff_latitude</th>\n      <th>passenger_count</th>\n      <th>pickup_datetime_year</th>\n      <th>pickup_datetime_month</th>\n      <th>pickup_datetime_day</th>\n      <th>pickup_datetime_weekday</th>\n      <th>pickup_datetime_hour</th>\n      <th>trip_distance</th>\n      <th>jfk_drop_distance</th>\n      <th>lga_drop_distance</th>\n      <th>ewr_drop_distance</th>\n      <th>met_drop_distance</th>\n      <th>wtc_drop_distance</th>\n    </tr>\n  </thead>\n  <tbody>\n    <tr>\n      <th>count</th>\n      <td>9914.000000</td>\n      <td>9914.000000</td>\n      <td>9914.000000</td>\n      <td>9914.000000</td>\n      <td>9914.000000</td>\n      <td>9914.000000</td>\n      <td>9914.000000</td>\n      <td>9914.000000</td>\n      <td>9914.000000</td>\n      <td>9914.000000</td>\n      <td>9914.000000</td>\n      <td>9914.000000</td>\n      <td>9914.000000</td>\n      <td>9914.000000</td>\n      <td>9914.000000</td>\n      <td>9914.000000</td>\n    </tr>\n    <tr>\n      <th>mean</th>\n      <td>-73.976181</td>\n      <td>40.750954</td>\n      <td>-73.974945</td>\n      <td>40.751553</td>\n      <td>1.671273</td>\n      <td>2011.815816</td>\n      <td>6.857979</td>\n      <td>16.194170</td>\n      <td>2.852834</td>\n      <td>13.467420</td>\n      <td>3.433212</td>\n      <td>20.916758</td>\n      <td>9.675153</td>\n      <td>18.546644</td>\n      <td>4.512908</td>\n      <td>6.037651</td>\n    </tr>\n    <tr>\n      <th>std</th>\n      <td>0.042799</td>\n      <td>0.033542</td>\n      <td>0.039093</td>\n      <td>0.035436</td>\n      <td>1.278747</td>\n      <td>1.803347</td>\n      <td>3.353272</td>\n      <td>8.838482</td>\n      <td>1.994451</td>\n      <td>6.868584</td>\n      <td>3.969877</td>\n      <td>3.303940</td>\n      <td>3.295646</td>\n      <td>4.035816</td>\n      <td>4.018421</td>\n      <td>4.252535</td>\n    </tr>\n    <tr>\n      <th>min</th>\n      <td>-74.252190</td>\n      <td>40.573143</td>\n      <td>-74.263245</td>\n      <td>40.568974</td>\n      <td>1.000000</td>\n      <td>2009.000000</td>\n      <td>1.000000</td>\n      <td>1.000000</td>\n      <td>0.000000</td>\n      <td>0.000000</td>\n      <td>0.000000</td>\n      <td>0.401900</td>\n      <td>0.285629</td>\n      <td>0.284680</td>\n      <td>0.085747</td>\n      <td>0.040269</td>\n    </tr>\n    <tr>\n      <th>25%</th>\n      <td>-73.992500</td>\n      <td>40.736125</td>\n      <td>-73.991249</td>\n      <td>40.735253</td>\n      <td>1.000000</td>\n      <td>2010.000000</td>\n      <td>4.000000</td>\n      <td>9.000000</td>\n      <td>1.000000</td>\n      <td>8.000000</td>\n      <td>1.297261</td>\n      <td>20.513337</td>\n      <td>8.311565</td>\n      <td>16.520517</td>\n      <td>2.126287</td>\n      <td>3.670107</td>\n    </tr>\n    <tr>\n      <th>50%</th>\n      <td>-73.982327</td>\n      <td>40.753052</td>\n      <td>-73.980015</td>\n      <td>40.754065</td>\n      <td>1.000000</td>\n      <td>2012.000000</td>\n      <td>7.000000</td>\n      <td>16.000000</td>\n      <td>3.000000</td>\n      <td>15.000000</td>\n      <td>2.215648</td>\n      <td>21.181472</td>\n      <td>9.477797</td>\n      <td>18.024350</td>\n      <td>3.698123</td>\n      <td>5.541466</td>\n    </tr>\n    <tr>\n      <th>75%</th>\n      <td>-73.968012</td>\n      <td>40.767113</td>\n      <td>-73.964062</td>\n      <td>40.768757</td>\n      <td>2.000000</td>\n      <td>2014.000000</td>\n      <td>10.000000</td>\n      <td>25.000000</td>\n      <td>5.000000</td>\n      <td>19.000000</td>\n      <td>4.043051</td>\n      <td>21.909794</td>\n      <td>10.965272</td>\n      <td>19.880536</td>\n      <td>5.922544</td>\n      <td>7.757612</td>\n    </tr>\n    <tr>\n      <th>max</th>\n      <td>-72.986534</td>\n      <td>41.709557</td>\n      <td>-72.990967</td>\n      <td>41.696682</td>\n      <td>6.000000</td>\n      <td>2015.000000</td>\n      <td>12.000000</td>\n      <td>31.000000</td>\n      <td>6.000000</td>\n      <td>23.000000</td>\n      <td>99.933281</td>\n      <td>134.497726</td>\n      <td>126.062576</td>\n      <td>149.400787</td>\n      <td>130.347153</td>\n      <td>138.619492</td>\n    </tr>\n  </tbody>\n</table>\n</div>"
     },
     "execution_count": 93,
     "metadata": {},
     "output_type": "execute_result"
    }
   ],
   "source": [
    "df_test.describe()"
   ]
  },
  {
   "cell_type": "markdown",
   "source": [
    "As we can see on training data there si some weird value such pickup_longitude min at -1183 or passenger_count max at 208"
   ],
   "metadata": {
    "collapsed": false
   }
  },
  {
   "cell_type": "markdown",
   "metadata": {
    "id": "v0Z33hGclw04"
   },
   "source": [
    "We'll use the following ranges:\n",
    "\n",
    "- `fare_amount`: 1 to 500 dollars\n",
    "- `longitudes`: -75 to -72\n",
    "- `latitudes`: 40 to 42\n",
    "- `passenger_count`: 1 to 6\n"
   ]
  },
  {
   "cell_type": "code",
   "execution_count": 94,
   "metadata": {
    "id": "-HXy4CHsk_sI"
   },
   "outputs": [],
   "source": [
    "def remove_outliers(df):\n",
    "    return df[(df['fare_amount'] >= 1.) & \n",
    "              (df['fare_amount'] <= 500.) &\n",
    "              (df['pickup_longitude'] >= -75) & \n",
    "              (df['pickup_longitude'] <= -72) & \n",
    "              (df['dropoff_longitude'] >= -75) & \n",
    "              (df['dropoff_longitude'] <= -72) & \n",
    "              (df['pickup_latitude'] >= 40) & \n",
    "              (df['pickup_latitude'] <= 42) & \n",
    "              (df['dropoff_latitude'] >=40) & \n",
    "              (df['dropoff_latitude'] <= 42) & \n",
    "              (df['passenger_count'] >= 1) & \n",
    "              (df['passenger_count'] <= 6)]"
   ]
  },
  {
   "cell_type": "code",
   "execution_count": 95,
   "metadata": {
    "id": "dQPGJQmik_pR"
   },
   "outputs": [],
   "source": [
    "train_df = remove_outliers(train_df)"
   ]
  },
  {
   "cell_type": "code",
   "execution_count": 96,
   "metadata": {
    "id": "KqndbWx-k_jG"
   },
   "outputs": [],
   "source": [
    "val_df = remove_outliers(val_df)"
   ]
  },
  {
   "cell_type": "markdown",
   "metadata": {
    "id": "1SxgQec8E8iF"
   },
   "source": [
    "## 7. Train & Evaluate Different Models\n",
    "\n",
    "We'll train each of the following & submit predictions to Kaggle:\n",
    "\n",
    "- Ridge Regression\n",
    "- Random Forests\n",
    "- Gradient Boosting\n"
   ]
  },
  {
   "cell_type": "markdown",
   "metadata": {
    "id": "bP_jiS_ZFDL2"
   },
   "source": [
    "### Split Inputs & Targets"
   ]
  },
  {
   "cell_type": "code",
   "execution_count": 97,
   "metadata": {
    "id": "B-nmx270E-7z"
   },
   "outputs": [
    {
     "data": {
      "text/plain": "Index(['fare_amount', 'pickup_datetime', 'pickup_longitude', 'pickup_latitude',\n       'dropoff_longitude', 'dropoff_latitude', 'passenger_count',\n       'pickup_datetime_year', 'pickup_datetime_month', 'pickup_datetime_day',\n       'pickup_datetime_weekday', 'pickup_datetime_hour', 'trip_distance',\n       'jfk_drop_distance', 'lga_drop_distance', 'ewr_drop_distance',\n       'met_drop_distance', 'wtc_drop_distance'],\n      dtype='object')"
     },
     "execution_count": 97,
     "metadata": {},
     "output_type": "execute_result"
    }
   ],
   "source": [
    "train_df.columns"
   ]
  },
  {
   "cell_type": "code",
   "execution_count": 98,
   "metadata": {
    "id": "Vy778UxeE-eG"
   },
   "outputs": [],
   "source": [
    "input_cols = ['pickup_longitude', 'pickup_latitude', 'dropoff_longitude', 'dropoff_latitude', 'passenger_count',\n",
    "              'pickup_datetime_year', 'pickup_datetime_month', 'pickup_datetime_day', 'pickup_datetime_weekday',\n",
    "              'pickup_datetime_hour', 'trip_distance', 'jfk_drop_distance', 'lga_drop_distance', 'ewr_drop_distance',\n",
    "              'met_drop_distance', 'wtc_drop_distance']"
   ]
  },
  {
   "cell_type": "code",
   "execution_count": 99,
   "metadata": {
    "id": "zgeRhiSdE-Rr"
   },
   "outputs": [],
   "source": [
    "target_cols = 'fare_amount'"
   ]
  },
  {
   "cell_type": "code",
   "execution_count": 100,
   "outputs": [],
   "source": [
    "train_inputs = train_df[input_cols]\n",
    "train_targets = train_df[target_cols]"
   ],
   "metadata": {
    "collapsed": false,
    "pycharm": {
     "name": "#%%\n"
    }
   }
  },
  {
   "cell_type": "code",
   "execution_count": 101,
   "metadata": {
    "id": "c8Js99j5F450"
   },
   "outputs": [],
   "source": [
    "val_inputs = val_df[input_cols]\n",
    "val_targets = val_df[target_cols]"
   ]
  },
  {
   "cell_type": "code",
   "execution_count": 102,
   "metadata": {
    "id": "BIMlsS7pF4qd"
   },
   "outputs": [],
   "source": [
    "test_inputs = df_test[input_cols]"
   ]
  },
  {
   "cell_type": "markdown",
   "metadata": {
    "id": "J-gkmg0BFG4b"
   },
   "source": [
    "Let's define a helper function to evaluate models."
   ]
  },
  {
   "cell_type": "code",
   "execution_count": 103,
   "metadata": {
    "id": "LSnSkTrXExU1"
   },
   "outputs": [],
   "source": [
    "def evaluate(model):\n",
    "    train_preds = model.predict(train_inputs)\n",
    "    train_rmse = mean_squared_error(train_targets, train_preds, squared=False)\n",
    "    val_preds = model.predict(val_inputs)\n",
    "    val_rmse = mean_squared_error(val_targets, val_preds, squared=False)\n",
    "    return train_rmse, val_rmse, train_preds, val_preds"
   ]
  },
  {
   "cell_type": "markdown",
   "metadata": {
    "id": "xOtwHcOzFRn4"
   },
   "source": [
    "### Ridge Regression\n",
    "\n",
    "See [https://scikit-learn.org/stable/modules/generated/sklearn.linear_model.Ridge.html](https://scikit-learn.org/stable/modules/generated/sklearn.linear_model.Ridge.html)"
   ]
  },
  {
   "cell_type": "code",
   "execution_count": 105,
   "metadata": {
    "id": "1nf2a_i3FTV7"
   },
   "outputs": [],
   "source": [
    "model_1 =Ridge(random_state=42, alpha=0.9)"
   ]
  },
  {
   "cell_type": "code",
   "execution_count": 106,
   "metadata": {
    "id": "q_Gk8A4qGtea"
   },
   "outputs": [
    {
     "data": {
      "text/plain": "Ridge(alpha=0.9, random_state=42)"
     },
     "execution_count": 106,
     "metadata": {},
     "output_type": "execute_result"
    }
   ],
   "source": [
    "model_1.fit(train_inputs, train_targets)"
   ]
  },
  {
   "cell_type": "code",
   "execution_count": 107,
   "metadata": {
    "id": "4nHsAUg5GtT0"
   },
   "outputs": [
    {
     "data": {
      "text/plain": "(5.049314043481133,\n 5.217845619686277,\n array([ 8.12923648,  4.11617244,  8.75016007, ..., 10.4720914 ,\n         8.23071471, 10.58695531]),\n array([10.91913868,  6.20507268, 46.21884786, ...,  8.04612767,\n        25.56777485,  8.4528365 ]))"
     },
     "execution_count": 107,
     "metadata": {},
     "output_type": "execute_result"
    }
   ],
   "source": [
    "evaluate(model_1)"
   ]
  },
  {
   "cell_type": "markdown",
   "metadata": {
    "id": "LrTd7DSuG4og"
   },
   "source": [
    "Our model was able to get to an RMSE of $5.2, much better than our baseline model."
   ]
  },
  {
   "cell_type": "code",
   "execution_count": 108,
   "metadata": {
    "id": "leUTkRhVG4T2"
   },
   "outputs": [
    {
     "data": {
      "text/plain": "                              key  fare_amount\n0     2015-01-27 13:08:24.0000002    10.081975\n1     2015-01-27 13:08:24.0000003    11.400098\n2     2011-10-08 11:53:44.0000002     5.356945\n3     2012-12-01 21:12:12.0000002     8.763522\n4     2012-12-01 21:12:12.0000003    14.609347\n...                           ...          ...\n9909  2015-05-10 12:37:51.0000002     9.024146\n9910  2015-01-12 17:05:51.0000001    11.217690\n9911  2015-04-19 20:44:15.0000001    47.927670\n9912  2015-01-31 01:05:19.0000005    22.600264\n9913  2015-01-18 14:06:23.0000006     8.981938\n\n[9914 rows x 2 columns]",
      "text/html": "<div>\n<style scoped>\n    .dataframe tbody tr th:only-of-type {\n        vertical-align: middle;\n    }\n\n    .dataframe tbody tr th {\n        vertical-align: top;\n    }\n\n    .dataframe thead th {\n        text-align: right;\n    }\n</style>\n<table border=\"1\" class=\"dataframe\">\n  <thead>\n    <tr style=\"text-align: right;\">\n      <th></th>\n      <th>key</th>\n      <th>fare_amount</th>\n    </tr>\n  </thead>\n  <tbody>\n    <tr>\n      <th>0</th>\n      <td>2015-01-27 13:08:24.0000002</td>\n      <td>10.081975</td>\n    </tr>\n    <tr>\n      <th>1</th>\n      <td>2015-01-27 13:08:24.0000003</td>\n      <td>11.400098</td>\n    </tr>\n    <tr>\n      <th>2</th>\n      <td>2011-10-08 11:53:44.0000002</td>\n      <td>5.356945</td>\n    </tr>\n    <tr>\n      <th>3</th>\n      <td>2012-12-01 21:12:12.0000002</td>\n      <td>8.763522</td>\n    </tr>\n    <tr>\n      <th>4</th>\n      <td>2012-12-01 21:12:12.0000003</td>\n      <td>14.609347</td>\n    </tr>\n    <tr>\n      <th>...</th>\n      <td>...</td>\n      <td>...</td>\n    </tr>\n    <tr>\n      <th>9909</th>\n      <td>2015-05-10 12:37:51.0000002</td>\n      <td>9.024146</td>\n    </tr>\n    <tr>\n      <th>9910</th>\n      <td>2015-01-12 17:05:51.0000001</td>\n      <td>11.217690</td>\n    </tr>\n    <tr>\n      <th>9911</th>\n      <td>2015-04-19 20:44:15.0000001</td>\n      <td>47.927670</td>\n    </tr>\n    <tr>\n      <th>9912</th>\n      <td>2015-01-31 01:05:19.0000005</td>\n      <td>22.600264</td>\n    </tr>\n    <tr>\n      <th>9913</th>\n      <td>2015-01-18 14:06:23.0000006</td>\n      <td>8.981938</td>\n    </tr>\n  </tbody>\n</table>\n<p>9914 rows × 2 columns</p>\n</div>"
     },
     "execution_count": 108,
     "metadata": {},
     "output_type": "execute_result"
    }
   ],
   "source": [
    "predict_and_submit(model_1, test_inputs, 'ridge_submission.csv')"
   ]
  },
  {
   "cell_type": "markdown",
   "metadata": {
    "id": "asLsXKZxHceo"
   },
   "source": [
    "This submission gave us a score of 7.72 with outliers and 5.15 without outliers which is better than the last one at 9.7. Tghis values are with 1% of the data!"
   ]
  },
  {
   "cell_type": "markdown",
   "source": [
    "![](Overfitting.png)"
   ],
   "metadata": {
    "collapsed": false
   }
  },
  {
   "cell_type": "code",
   "metadata": {
    "id": "QYWVBE0bHuOg",
    "pycharm": {
     "name": "#%%\n"
    }
   },
   "source": [
    "# n_jobs trees can be train in parallel\n",
    "# max_depth usually are unbounded but for huge ds can lead to long training time and overfitting (default unbounded)\n",
    "# n_estimators number of trees get trained (default 10)\n",
    "\n",
    "model_2 = RandomForestRegressor(random_state=42, n_jobs=-1, max_depth= 10, n_estimators= 100)"
   ],
   "execution_count": 110,
   "outputs": []
  },
  {
   "cell_type": "code",
   "execution_count": 111,
   "metadata": {
    "id": "QEC8Ll3LHuLN"
   },
   "outputs": [
    {
     "name": "stdout",
     "output_type": "stream",
     "text": [
      "Wall time: 1min 42s\n"
     ]
    },
    {
     "data": {
      "text/plain": "RandomForestRegressor(max_depth=10, n_jobs=-1, random_state=42)"
     },
     "execution_count": 111,
     "metadata": {},
     "output_type": "execute_result"
    }
   ],
   "source": [
    "%%time\n",
    "model_2.fit(train_inputs, train_targets)"
   ]
  },
  {
   "cell_type": "code",
   "execution_count": 112,
   "metadata": {
    "id": "PUnb5t8dFe7c"
   },
   "outputs": [
    {
     "data": {
      "text/plain": "(3.5955101870256083,\n 4.161216469551689,\n array([ 6.99399909,  9.10190057,  9.09379987, ..., 10.43082024,\n         7.782156  , 10.400694  ]),\n array([12.65433613,  6.14604627, 47.31069124, ...,  8.36589143,\n        29.27069612,  8.24300662]))"
     },
     "execution_count": 112,
     "metadata": {},
     "output_type": "execute_result"
    }
   ],
   "source": [
    "evaluate(model_2)"
   ]
  },
  {
   "cell_type": "code",
   "execution_count": 113,
   "metadata": {
    "id": "OTXYvMefIaPM"
   },
   "outputs": [
    {
     "data": {
      "text/plain": "                              key  fare_amount\n0     2015-01-27 13:08:24.0000002    10.479748\n1     2015-01-27 13:08:24.0000003    10.468653\n2     2011-10-08 11:53:44.0000002     5.046148\n3     2012-12-01 21:12:12.0000002     8.481902\n4     2012-12-01 21:12:12.0000003    14.300374\n...                           ...          ...\n9909  2015-05-10 12:37:51.0000002     8.694722\n9910  2015-01-12 17:05:51.0000001    12.535128\n9911  2015-04-19 20:44:15.0000001    55.355344\n9912  2015-01-31 01:05:19.0000005    21.467722\n9913  2015-01-18 14:06:23.0000006     6.822782\n\n[9914 rows x 2 columns]",
      "text/html": "<div>\n<style scoped>\n    .dataframe tbody tr th:only-of-type {\n        vertical-align: middle;\n    }\n\n    .dataframe tbody tr th {\n        vertical-align: top;\n    }\n\n    .dataframe thead th {\n        text-align: right;\n    }\n</style>\n<table border=\"1\" class=\"dataframe\">\n  <thead>\n    <tr style=\"text-align: right;\">\n      <th></th>\n      <th>key</th>\n      <th>fare_amount</th>\n    </tr>\n  </thead>\n  <tbody>\n    <tr>\n      <th>0</th>\n      <td>2015-01-27 13:08:24.0000002</td>\n      <td>10.479748</td>\n    </tr>\n    <tr>\n      <th>1</th>\n      <td>2015-01-27 13:08:24.0000003</td>\n      <td>10.468653</td>\n    </tr>\n    <tr>\n      <th>2</th>\n      <td>2011-10-08 11:53:44.0000002</td>\n      <td>5.046148</td>\n    </tr>\n    <tr>\n      <th>3</th>\n      <td>2012-12-01 21:12:12.0000002</td>\n      <td>8.481902</td>\n    </tr>\n    <tr>\n      <th>4</th>\n      <td>2012-12-01 21:12:12.0000003</td>\n      <td>14.300374</td>\n    </tr>\n    <tr>\n      <th>...</th>\n      <td>...</td>\n      <td>...</td>\n    </tr>\n    <tr>\n      <th>9909</th>\n      <td>2015-05-10 12:37:51.0000002</td>\n      <td>8.694722</td>\n    </tr>\n    <tr>\n      <th>9910</th>\n      <td>2015-01-12 17:05:51.0000001</td>\n      <td>12.535128</td>\n    </tr>\n    <tr>\n      <th>9911</th>\n      <td>2015-04-19 20:44:15.0000001</td>\n      <td>55.355344</td>\n    </tr>\n    <tr>\n      <th>9912</th>\n      <td>2015-01-31 01:05:19.0000005</td>\n      <td>21.467722</td>\n    </tr>\n    <tr>\n      <th>9913</th>\n      <td>2015-01-18 14:06:23.0000006</td>\n      <td>6.822782</td>\n    </tr>\n  </tbody>\n</table>\n<p>9914 rows × 2 columns</p>\n</div>"
     },
     "execution_count": 113,
     "metadata": {},
     "output_type": "execute_result"
    }
   ],
   "source": [
    "predict_and_submit(model_2, test_inputs, 'rf_submission.csv')"
   ]
  },
  {
   "cell_type": "markdown",
   "metadata": {
    "id": "7nvcXsLnIozx"
   },
   "source": [
    "\n",
    "This model is already a really good score of 3.35.\n",
    "\n",
    "Remember that we're only using 1% of the data, and we haven't done much hyperparameter tuning yet."
   ]
  },
  {
   "cell_type": "markdown",
   "metadata": {
    "id": "tK7hXI8IFgZ5"
   },
   "source": [
    "### Gradient Boosting\n",
    "\n",
    "See [https://xgboost.readthedocs.io/en/latest/python/python_api.html#module-xgboost.sklearn](https://xgboost.readthedocs.io/en/latest/python/python_api.html#module-xgboost.sklearn)\n",
    "\n",
    "Similar to a random forest exept that each new tree try to correct the error of the previes tree."
   ]
  },
  {
   "cell_type": "code",
   "metadata": {
    "id": "fWka7h5_ycx2",
    "pycharm": {
     "name": "#%%\n"
    }
   },
   "source": [
    "model_3 = XGBRegressor(max_depth= 5, objective = 'reg:squarederror', n_estimators=200, random_state=42, n_jobs=-1)"
   ],
   "execution_count": 118,
   "outputs": []
  },
  {
   "cell_type": "code",
   "execution_count": 119,
   "metadata": {
    "id": "htjm_0kpIn1u"
   },
   "outputs": [
    {
     "name": "stdout",
     "output_type": "stream",
     "text": [
      "Wall time: 1min 6s\n"
     ]
    },
    {
     "data": {
      "text/plain": "XGBRegressor(base_score=0.5, booster='gbtree', colsample_bylevel=1,\n             colsample_bynode=1, colsample_bytree=1, enable_categorical=False,\n             gamma=0, gpu_id=-1, importance_type=None,\n             interaction_constraints='', learning_rate=0.300000012,\n             max_delta_step=0, max_depth=5, min_child_weight=1, missing=nan,\n             monotone_constraints='()', n_estimators=200, n_jobs=-1,\n             num_parallel_tree=1, predictor='auto', random_state=42,\n             reg_alpha=0, reg_lambda=1, scale_pos_weight=1, subsample=1,\n             tree_method='exact', validate_parameters=1, verbosity=None)"
     },
     "execution_count": 119,
     "metadata": {},
     "output_type": "execute_result"
    }
   ],
   "source": [
    "%%time\n",
    "model_3.fit(train_inputs, train_targets)"
   ]
  },
  {
   "cell_type": "code",
   "execution_count": 120,
   "metadata": {
    "id": "SmDlr-AbLIFk"
   },
   "outputs": [
    {
     "data": {
      "text/plain": "(3.0546,\n 3.940489,\n array([ 6.680765,  6.961979,  9.753767, ..., 11.301361,  9.223042,\n        10.525935], dtype=float32),\n array([14.198903 ,  6.2655773, 48.74343  , ...,  7.8903847, 30.208426 ,\n         8.469915 ], dtype=float32))"
     },
     "execution_count": 120,
     "metadata": {},
     "output_type": "execute_result"
    }
   ],
   "source": [
    "evaluate(model_3)"
   ]
  },
  {
   "cell_type": "code",
   "execution_count": 121,
   "outputs": [
    {
     "data": {
      "text/plain": "                              key  fare_amount\n0     2015-01-27 13:08:24.0000002    11.374905\n1     2015-01-27 13:08:24.0000003    10.966737\n2     2011-10-08 11:53:44.0000002     4.813453\n3     2012-12-01 21:12:12.0000002     8.499205\n4     2012-12-01 21:12:12.0000003    16.425694\n...                           ...          ...\n9909  2015-05-10 12:37:51.0000002     8.555050\n9910  2015-01-12 17:05:51.0000001    11.273957\n9911  2015-04-19 20:44:15.0000001    52.688992\n9912  2015-01-31 01:05:19.0000005    19.483288\n9913  2015-01-18 14:06:23.0000006     7.093673\n\n[9914 rows x 2 columns]",
      "text/html": "<div>\n<style scoped>\n    .dataframe tbody tr th:only-of-type {\n        vertical-align: middle;\n    }\n\n    .dataframe tbody tr th {\n        vertical-align: top;\n    }\n\n    .dataframe thead th {\n        text-align: right;\n    }\n</style>\n<table border=\"1\" class=\"dataframe\">\n  <thead>\n    <tr style=\"text-align: right;\">\n      <th></th>\n      <th>key</th>\n      <th>fare_amount</th>\n    </tr>\n  </thead>\n  <tbody>\n    <tr>\n      <th>0</th>\n      <td>2015-01-27 13:08:24.0000002</td>\n      <td>11.374905</td>\n    </tr>\n    <tr>\n      <th>1</th>\n      <td>2015-01-27 13:08:24.0000003</td>\n      <td>10.966737</td>\n    </tr>\n    <tr>\n      <th>2</th>\n      <td>2011-10-08 11:53:44.0000002</td>\n      <td>4.813453</td>\n    </tr>\n    <tr>\n      <th>3</th>\n      <td>2012-12-01 21:12:12.0000002</td>\n      <td>8.499205</td>\n    </tr>\n    <tr>\n      <th>4</th>\n      <td>2012-12-01 21:12:12.0000003</td>\n      <td>16.425694</td>\n    </tr>\n    <tr>\n      <th>...</th>\n      <td>...</td>\n      <td>...</td>\n    </tr>\n    <tr>\n      <th>9909</th>\n      <td>2015-05-10 12:37:51.0000002</td>\n      <td>8.555050</td>\n    </tr>\n    <tr>\n      <th>9910</th>\n      <td>2015-01-12 17:05:51.0000001</td>\n      <td>11.273957</td>\n    </tr>\n    <tr>\n      <th>9911</th>\n      <td>2015-04-19 20:44:15.0000001</td>\n      <td>52.688992</td>\n    </tr>\n    <tr>\n      <th>9912</th>\n      <td>2015-01-31 01:05:19.0000005</td>\n      <td>19.483288</td>\n    </tr>\n    <tr>\n      <th>9913</th>\n      <td>2015-01-18 14:06:23.0000006</td>\n      <td>7.093673</td>\n    </tr>\n  </tbody>\n</table>\n<p>9914 rows × 2 columns</p>\n</div>"
     },
     "execution_count": 121,
     "metadata": {},
     "output_type": "execute_result"
    }
   ],
   "source": [
    "predict_and_submit(model_3, test_inputs, 'XGB_submission.csv')"
   ],
   "metadata": {
    "collapsed": false,
    "pycharm": {
     "name": "#%%\n"
    }
   }
  },
  {
   "cell_type": "markdown",
   "metadata": {
    "id": "_LqXWIBCLxUR"
   },
   "source": [
    "\n",
    "\n",
    "This submission isn't as good as the random forest giving us a score of 3.20, but there's scope for improvement with Hyperparameter tuning."
   ]
  },
  {
   "cell_type": "markdown",
   "metadata": {
    "id": "zlXJfN46FvnD"
   },
   "source": [
    "## 8. Tune Hyperparmeters\n",
    "\n",
    "[https://towardsdatascience.com/mastering-xgboost-2eb6bce6bc76](https://towardsdatascience.com/mastering-xgboost-2eb6bce6bc76)\n",
    "\n",
    "\n",
    "We'll train parameters for the XGBoost model. Here’s a strategy for tuning hyperparameters:\n",
    "\n",
    "- Tune the most important/impactful hyperparameter first e.g. XGB Model ==> n_estimators\n",
    "\n",
    "- With the best value of the first hyperparameter, tune the next most impactful hyperparameter\n",
    "\n",
    "- And so on, keep training the next most impactful parameters with the best values for previous parameters...\n",
    "\n",
    "- Then, go back to the top and further tune each parameter again for further marginal gains\n",
    "\n",
    "- Hyperparameter tuning is more art than science, unfortunately. Try to get a feel for how the parameters interact with each other based on your understanding of the parameter…\n",
    "\n",
    "Let's define a helper function for trying different hyperparameters."
   ]
  },
  {
   "cell_type": "code",
   "execution_count": 124,
   "metadata": {
    "id": "QdOzypc7MN-x"
   },
   "outputs": [],
   "source": [
    "import matplotlib.pyplot as plt\n",
    "\n",
    "def test_params(ModelClass, **params):\n",
    "    \"\"\"Trains a model with the given parameters and returns training & validation RMSE\"\"\"\n",
    "    model = ModelClass(**params).fit(train_inputs, train_targets)\n",
    "    train_rmse = mean_squared_error(model.predict(train_inputs), train_targets, squared=False)\n",
    "    val_rmse = mean_squared_error(model.predict(val_inputs), val_targets, squared=False)\n",
    "    return train_rmse, val_rmse\n",
    "\n",
    "def test_param_and_plot(ModelClass, param_name, param_values, **other_params):\n",
    "    \"\"\"Trains multiple models by varying the value of param_name according to param_values\"\"\"\n",
    "    train_errors, val_errors = [], [] \n",
    "    for value in param_values:\n",
    "        params = dict(other_params)\n",
    "        params[param_name] = value\n",
    "        train_rmse, val_rmse = test_params(ModelClass, **params)\n",
    "        train_errors.append(train_rmse)\n",
    "        val_errors.append(val_rmse)\n",
    "    \n",
    "    plt.figure(figsize=(10,6))\n",
    "    plt.title('Overfitting curve: ' + param_name)\n",
    "    plt.plot(param_values, train_errors, 'b-o')\n",
    "    plt.plot(param_values, val_errors, 'r-o')\n",
    "    plt.xlabel(param_name)\n",
    "    plt.ylabel('RMSE')\n",
    "    plt.legend(['Training', 'Validation'])"
   ]
  },
  {
   "cell_type": "code",
   "execution_count": 125,
   "metadata": {
    "id": "hGX0-Lm4OGhx"
   },
   "outputs": [],
   "source": [
    "best_params = {\n",
    "    'random_state': 42,\n",
    "    'n_jobs': -1,\n",
    "    'objective': 'reg:squarederror',\n",
    "    'learning_rate': 0.05\n",
    "}"
   ]
  },
  {
   "cell_type": "markdown",
   "metadata": {
    "id": "QhEXG369HLLA"
   },
   "source": [
    "### No. of Trees"
   ]
  },
  {
   "cell_type": "code",
   "execution_count": 126,
   "metadata": {
    "id": "iz2QgfIqHOvx"
   },
   "outputs": [
    {
     "name": "stdout",
     "output_type": "stream",
     "text": [
      "[03:18:27] WARNING: C:/Users/Administrator/workspace/xgboost-win64_release_1.5.0/src/learner.cc:576: \n",
      "Parameters: { \"num_estimators\" } might not be used.\n",
      "\n",
      "  This could be a false alarm, with some parameters getting used by language bindings but\n",
      "  then being mistakenly passed down to XGBoost core, or some parameter actually being used\n",
      "  but getting flagged wrongly here. Please open an issue if you find any such cases.\n",
      "\n",
      "\n",
      "[03:19:09] WARNING: C:/Users/Administrator/workspace/xgboost-win64_release_1.5.0/src/learner.cc:576: \n",
      "Parameters: { \"num_estimators\" } might not be used.\n",
      "\n",
      "  This could be a false alarm, with some parameters getting used by language bindings but\n",
      "  then being mistakenly passed down to XGBoost core, or some parameter actually being used\n",
      "  but getting flagged wrongly here. Please open an issue if you find any such cases.\n",
      "\n",
      "\n",
      "[03:19:51] WARNING: C:/Users/Administrator/workspace/xgboost-win64_release_1.5.0/src/learner.cc:576: \n",
      "Parameters: { \"num_estimators\" } might not be used.\n",
      "\n",
      "  This could be a false alarm, with some parameters getting used by language bindings but\n",
      "  then being mistakenly passed down to XGBoost core, or some parameter actually being used\n",
      "  but getting flagged wrongly here. Please open an issue if you find any such cases.\n",
      "\n",
      "\n",
      "Wall time: 2min 3s\n"
     ]
    },
    {
     "data": {
      "text/plain": "<Figure size 720x432 with 1 Axes>",
      "image/png": "[encoded data removed]"
     },
     "metadata": {
      "needs_background": "light"
     },
     "output_type": "display_data"
    }
   ],
   "source": [
    "%%time\n",
    "test_param_and_plot(XGBRegressor, 'num_estimators', [100, 200, 400], **best_params)"
   ]
  },
  {
   "cell_type": "markdown",
   "metadata": {
    "id": "k_Qj968PPSMZ"
   },
   "source": [
    "Seems like 500 estimators has the lowest validation loss. However, it also takes a long time. Let's stick with 250 for now."
   ]
  },
  {
   "cell_type": "code",
   "execution_count": null,
   "metadata": {
    "id": "iWDujeerPSo5"
   },
   "outputs": [],
   "source": [
    "best_params['num_estimators'] = 250"
   ]
  },
  {
   "cell_type": "markdown",
   "metadata": {
    "id": "OV3jbIapHIpp"
   },
   "source": [
    "### Max Depth"
   ]
  },
  {
   "cell_type": "code",
   "execution_count": 127,
   "metadata": {
    "id": "aeF82yZTHKuq"
   },
   "outputs": [
    {
     "data": {
      "text/plain": "<Figure size 720x432 with 1 Axes>",
      "image/png": "[encoded data removed]"
     },
     "metadata": {
      "needs_background": "light"
     },
     "output_type": "display_data"
    }
   ],
   "source": [
    "test_param_and_plot(XGBRegressor, 'max_depth', [3, 5, 7, 9], **best_params )"
   ]
  },
  {
   "cell_type": "markdown",
   "metadata": {
    "id": "xG3dBJkYQjfv"
   },
   "source": [
    "Looks like a max depth of 9 is ideal."
   ]
  },
  {
   "cell_type": "code",
   "execution_count": 128,
   "metadata": {
    "id": "OwF0TM08QkIY"
   },
   "outputs": [],
   "source": [
    "best_params['max_depth'] = 9"
   ]
  },
  {
   "cell_type": "markdown",
   "metadata": {
    "id": "wVEN-IY4HGgJ"
   },
   "source": [
    "### Learning Rate"
   ]
  },
  {
   "cell_type": "code",
   "execution_count": 129,
   "metadata": {
    "id": "ok26BhAlFyK_"
   },
   "outputs": [
    {
     "name": "stdout",
     "output_type": "stream",
     "text": [
      "[03:23:31] WARNING: C:/Users/Administrator/workspace/xgboost-win64_release_1.5.0/src/learner.cc:576: \n",
      "Parameters: { \"learnign_rate\" } might not be used.\n",
      "\n",
      "  This could be a false alarm, with some parameters getting used by language bindings but\n",
      "  then being mistakenly passed down to XGBoost core, or some parameter actually being used\n",
      "  but getting flagged wrongly here. Please open an issue if you find any such cases.\n",
      "\n",
      "\n",
      "[03:24:44] WARNING: C:/Users/Administrator/workspace/xgboost-win64_release_1.5.0/src/learner.cc:576: \n",
      "Parameters: { \"learnign_rate\" } might not be used.\n",
      "\n",
      "  This could be a false alarm, with some parameters getting used by language bindings but\n",
      "  then being mistakenly passed down to XGBoost core, or some parameter actually being used\n",
      "  but getting flagged wrongly here. Please open an issue if you find any such cases.\n",
      "\n",
      "\n",
      "[03:25:53] WARNING: C:/Users/Administrator/workspace/xgboost-win64_release_1.5.0/src/learner.cc:576: \n",
      "Parameters: { \"learnign_rate\" } might not be used.\n",
      "\n",
      "  This could be a false alarm, with some parameters getting used by language bindings but\n",
      "  then being mistakenly passed down to XGBoost core, or some parameter actually being used\n",
      "  but getting flagged wrongly here. Please open an issue if you find any such cases.\n",
      "\n",
      "\n",
      "[03:26:59] WARNING: C:/Users/Administrator/workspace/xgboost-win64_release_1.5.0/src/learner.cc:576: \n",
      "Parameters: { \"learnign_rate\" } might not be used.\n",
      "\n",
      "  This could be a false alarm, with some parameters getting used by language bindings but\n",
      "  then being mistakenly passed down to XGBoost core, or some parameter actually being used\n",
      "  but getting flagged wrongly here. Please open an issue if you find any such cases.\n",
      "\n",
      "\n"
     ]
    },
    {
     "data": {
      "text/plain": "<Figure size 720x432 with 1 Axes>",
      "image/png": "[encoded data removed]"
     },
     "metadata": {
      "needs_background": "light"
     },
     "output_type": "display_data"
    }
   ],
   "source": [
    "test_param_and_plot(XGBRegressor, 'learnign_rate', [0.05, 0.1, 0.2, 2.5], **best_params )"
   ]
  },
  {
   "cell_type": "markdown",
   "metadata": {
    "id": "9y414md7SYMo"
   },
   "source": [
    "Seems like the best learning rate is 0.25."
   ]
  },
  {
   "cell_type": "code",
   "execution_count": 130,
   "metadata": {
    "id": "IvJDejVNSYet"
   },
   "outputs": [],
   "source": [
    "best_params['learning_rate'] = 0.25"
   ]
  },
  {
   "cell_type": "markdown",
   "metadata": {
    "id": "izR7k6LXHdCQ"
   },
   "source": [
    "### Other Parameters"
   ]
  },
  {
   "cell_type": "markdown",
   "metadata": {
    "id": "CxVopdbbOEcq"
   },
   "source": [
    "Similarly we can experiment with other parameters. \n",
    "\n",
    "Here's a set of parameters that works well:"
   ]
  },
  {
   "cell_type": "code",
   "execution_count": 131,
   "metadata": {
    "id": "q5cxbbzqNwfk"
   },
   "outputs": [],
   "source": [
    "xgb_model_final = XGBRegressor(objective='reg:squarederror', \n",
    "                               n_jobs=-1, \n",
    "                               random_state=42,\n",
    "                               n_estimators=500, \n",
    "                               max_depth=5, \n",
    "                               learning_rate=0.1, \n",
    "                               subsample=0.8, \n",
    "                               colsample_bytree=0.8)"
   ]
  },
  {
   "cell_type": "code",
   "execution_count": 132,
   "metadata": {
    "id": "I0CNujFUSTpz"
   },
   "outputs": [
    {
     "data": {
      "text/plain": "XGBRegressor(base_score=0.5, booster='gbtree', colsample_bylevel=1,\n             colsample_bynode=1, colsample_bytree=0.8, enable_categorical=False,\n             gamma=0, gpu_id=-1, importance_type=None,\n             interaction_constraints='', learning_rate=0.1, max_delta_step=0,\n             max_depth=5, min_child_weight=1, missing=nan,\n             monotone_constraints='()', n_estimators=500, n_jobs=-1,\n             num_parallel_tree=1, predictor='auto', random_state=42,\n             reg_alpha=0, reg_lambda=1, scale_pos_weight=1, subsample=0.8,\n             tree_method='exact', validate_parameters=1, verbosity=None)"
     },
     "execution_count": 132,
     "metadata": {},
     "output_type": "execute_result"
    }
   ],
   "source": [
    "xgb_model_final.fit(train_inputs, train_targets)"
   ]
  },
  {
   "cell_type": "code",
   "execution_count": 133,
   "metadata": {
    "id": "OMskj9MiHmBT"
   },
   "outputs": [
    {
     "data": {
      "text/plain": "(3.1464188,\n 3.9278827,\n array([ 6.6533394,  7.3945174, 10.012831 , ..., 11.136846 ,  8.9299135,\n        10.3821   ], dtype=float32),\n array([14.118108,  6.055488, 47.819668, ...,  7.626363, 30.587128,\n         8.817393], dtype=float32))"
     },
     "execution_count": 133,
     "metadata": {},
     "output_type": "execute_result"
    }
   ],
   "source": [
    "evaluate(xgb_model_final)"
   ]
  },
  {
   "cell_type": "code",
   "execution_count": 134,
   "metadata": {
    "id": "HTMSYvczTOMx"
   },
   "outputs": [
    {
     "data": {
      "text/plain": "                              key  fare_amount\n0     2015-01-27 13:08:24.0000002    10.890396\n1     2015-01-27 13:08:24.0000003    10.992445\n2     2011-10-08 11:53:44.0000002     4.816990\n3     2012-12-01 21:12:12.0000002     8.581617\n4     2012-12-01 21:12:12.0000003    15.847491\n...                           ...          ...\n9909  2015-05-10 12:37:51.0000002     8.678011\n9910  2015-01-12 17:05:51.0000001    12.041315\n9911  2015-04-19 20:44:15.0000001    52.370098\n9912  2015-01-31 01:05:19.0000005    19.890665\n9913  2015-01-18 14:06:23.0000006     6.778644\n\n[9914 rows x 2 columns]",
      "text/html": "<div>\n<style scoped>\n    .dataframe tbody tr th:only-of-type {\n        vertical-align: middle;\n    }\n\n    .dataframe tbody tr th {\n        vertical-align: top;\n    }\n\n    .dataframe thead th {\n        text-align: right;\n    }\n</style>\n<table border=\"1\" class=\"dataframe\">\n  <thead>\n    <tr style=\"text-align: right;\">\n      <th></th>\n      <th>key</th>\n      <th>fare_amount</th>\n    </tr>\n  </thead>\n  <tbody>\n    <tr>\n      <th>0</th>\n      <td>2015-01-27 13:08:24.0000002</td>\n      <td>10.890396</td>\n    </tr>\n    <tr>\n      <th>1</th>\n      <td>2015-01-27 13:08:24.0000003</td>\n      <td>10.992445</td>\n    </tr>\n    <tr>\n      <th>2</th>\n      <td>2011-10-08 11:53:44.0000002</td>\n      <td>4.816990</td>\n    </tr>\n    <tr>\n      <th>3</th>\n      <td>2012-12-01 21:12:12.0000002</td>\n      <td>8.581617</td>\n    </tr>\n    <tr>\n      <th>4</th>\n      <td>2012-12-01 21:12:12.0000003</td>\n      <td>15.847491</td>\n    </tr>\n    <tr>\n      <th>...</th>\n      <td>...</td>\n      <td>...</td>\n    </tr>\n    <tr>\n      <th>9909</th>\n      <td>2015-05-10 12:37:51.0000002</td>\n      <td>8.678011</td>\n    </tr>\n    <tr>\n      <th>9910</th>\n      <td>2015-01-12 17:05:51.0000001</td>\n      <td>12.041315</td>\n    </tr>\n    <tr>\n      <th>9911</th>\n      <td>2015-04-19 20:44:15.0000001</td>\n      <td>52.370098</td>\n    </tr>\n    <tr>\n      <th>9912</th>\n      <td>2015-01-31 01:05:19.0000005</td>\n      <td>19.890665</td>\n    </tr>\n    <tr>\n      <th>9913</th>\n      <td>2015-01-18 14:06:23.0000006</td>\n      <td>6.778644</td>\n    </tr>\n  </tbody>\n</table>\n<p>9914 rows × 2 columns</p>\n</div>"
     },
     "execution_count": 134,
     "metadata": {},
     "output_type": "execute_result"
    }
   ],
   "source": [
    "predict_and_submit(xgb_model_final, test_inputs, 'xgb_tuned_submission.csv')"
   ]
  },
  {
   "cell_type": "markdown",
   "metadata": {
    "id": "_KSk5Hr9Thsj"
   },
   "source": [
    "\n",
    "\n",
    "This model give us an error of 3.14. This is pretty amazing considering:\n",
    "\n",
    "- We are using just 1% of the training data\n",
    "- We are only using a single model (most top submissions use ensembles)\n",
    "- Our best model takes just 10 minutes to train (as opposed to hours/days)\n",
    "- We haven't fully optimized the hyperparameters yet\n",
    "\n",
    "Let's save the weights of this model. Follow this guide: https://scikit-learn.org/stable/modules/model_persistence.html"
   ]
  },
  {
   "cell_type": "markdown",
   "metadata": {
    "id": "q2Y3EUAIJSai"
   },
   "source": [
    "## 10. Document & Publish Your Work\n",
    "\n",
    "> _**TIP #13**: Always document & publish your projects online. They help improve your understanding, showcase your skills & often lead to inbound job opportunities._\n",
    "\n",
    "- Add explanations using Markdown\n",
    "- Clean up the code & create functions\n",
    "- Publish notebook to Jovian\n",
    "- Write a blog post and embed\n",
    "\n",
    "Follow this guide: [https://www.youtube.com/watch?v=NK6UYg3-Bxs ](https://www.youtube.com/watch?v=NK6UYg3-Bxs )"
   ]
  },
  {
   "cell_type": "markdown",
   "metadata": {
    "id": "4AA1qCyqVLew",
    "pycharm": {
     "name": "#%% md\n"
    }
   },
   "source": [
    "## References\n",
    "\n",
    "* Dataset: https://www.kaggle.com/c/new-york-city-taxi-fare-prediction/overview\n",
    "* Missing semester (Shell scripting): https://missing.csail.mit.edu/\n",
    "* Opendatsets library: https://github.com/JovianML/opendatasets \n",
    "* EDA project from scratch: https://www.youtube.com/watch?v=kLDTbavcmd0\n",
    "* GeoPy: https://geopy.readthedocs.io/en/stable/#module-geopy.distance \n",
    "* Blog post by Allen Kong: https://towardsdatascience.com/nyc-taxi-fare-prediction-605159aa9c24 \n",
    "* Machine Learning with Python: Zero to GBMs - https://zerotogbms.com \n",
    "* Experiment tracking spreadsheet: https://bit.ly/mltrackingsheet \n",
    "* Pandas datetime components: https://pandas.pydata.org/pandas-docs/stable/user_guide/timeseries.html#time-date-components \n",
    "* Haversine distance: https://en.wikipedia.org/wiki/Haversine_formula \n",
    "* Haversine distance with Numpy: https://stackoverflow.com/questions/29545704/fast-haversine-approximation-python-pandas \n",
    "* RAPIDS (parent project for cudf and cuml): https://rapids.ai/\n",
    "* Data Science blog post from scratch: https://www.youtube.com/watch?v=NK6UYg3-Bxs \n",
    "* Examples of Machine Learning Projects:\n",
    "    * Walmart Store Sales: https://jovian.ai/anushree-k/final-walmart-simple-rf-gbm\n",
    "    * Used Car Price Prediction: https://jovian.ai/kara-mounir/used-cars-prices \n",
    "    * Lithology Prediction: https://jovian.ai/ramysaleem/ml-project-machine-predicting-lithologies\n",
    "    * Ad Demand Prediction: https://jovian.ai/deepa-sarojam/online-ad-demand-prediction-ml-prj \n",
    "    * Financial distress prediction: https://jovian.ai/sm-wilson/ml-project-financial-distress-prediction\n",
    "    * Credit scoring: https://jovian.ai/shenghongzhong/credit-scores-algorithms-ml-2\n",
    "\n"
   ]
  }
 ],
 "metadata": {
  "accelerator": "GPU",
  "colab": {
   "collapsed_sections": [],
   "machine_shape": "hm",
   "name": "nyc_taxi_fare_prediction.ipynb",
   "provenance": [],
   "toc_visible": true
  },
  "kernelspec": {
   "display_name": "Python 3",
   "language": "python",
   "name": "python3"
  },
  "language_info": {
   "codemirror_mode": {
    "name": "ipython",
    "version": 3
   },
   "file_extension": ".py",
   "mimetype": "text/x-python",
   "name": "python",
   "nbconvert_exporter": "python",
   "pygments_lexer": "ipython3",
   "version": "3.7.6"
  }
 },
 "nbformat": 4,
 "nbformat_minor": 0
}