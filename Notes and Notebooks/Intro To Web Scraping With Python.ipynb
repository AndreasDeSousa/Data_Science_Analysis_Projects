{
 "cells": [
  {
   "cell_type": "markdown",
   "source": [
    "<h1 style=\"color:Orange;font-size:170%;\"> Intro To Web Scraping With Python </h1>"
   ],
   "metadata": {
    "collapsed": false
   }
  },
  {
   "cell_type": "markdown",
   "source": [
    "Install Beautifullsoup and import used libraries"
   ],
   "metadata": {
    "collapsed": false
   }
  },
  {
   "cell_type": "code",
   "execution_count": 1,
   "outputs": [
    {
     "name": "stdout",
     "output_type": "stream",
     "text": [
      "Requirement already satisfied: bs4 in c:\\users\\desou\\anaconda3\\lib\\site-packages (0.0.1)\n",
      "Requirement already satisfied: beautifulsoup4 in c:\\users\\desou\\anaconda3\\lib\\site-packages (from bs4) (4.9.3)\n",
      "Requirement already satisfied: soupsieve>1.2 in c:\\users\\desou\\anaconda3\\lib\\site-packages (from beautifulsoup4->bs4) (2.2.1)\n"
     ]
    }
   ],
   "source": [
    "!pip install bs4"
   ],
   "metadata": {
    "collapsed": false,
    "pycharm": {
     "name": "#%%\n"
    }
   }
  },
  {
   "cell_type": "code",
   "execution_count": 2,
   "outputs": [],
   "source": [
    "from bs4 import BeautifulSoup"
   ],
   "metadata": {
    "collapsed": false,
    "pycharm": {
     "name": "#%%\n"
    }
   }
  },
  {
   "cell_type": "markdown",
   "source": [
    "Let we define a very simple webpage in HTML, with:\n",
    " * Head\n",
    " * Body tags\n",
    "    * section 1\n",
    "        * h3 title\n",
    "        * image\n",
    "        * paragraph\n",
    "    * section 2\n",
    "        * table"
   ],
   "metadata": {
    "collapsed": false
   }
  },
  {
   "cell_type": "code",
   "execution_count": 3,
   "outputs": [],
   "source": [
    "html_doc = \"\"\"\n",
    "<!DOCTYPE html>\n",
    "<html lang=\"en\">\n",
    "    <head>\n",
    "        <meta charset=\"UTF-8\" />\n",
    "        <meta name=\"viewport\" content=\"width=device-width, initial-scale=1.0\" />\n",
    "        <meta http-equiv=\"X-UA-Compatible\" content=\"ie=edge\" />\n",
    "        <title>My Webpage</title>\n",
    "    </head>\n",
    "    <body>\n",
    "        <div id=\"section-1\">\n",
    "            <h3 data-hello=\"hi\">Hello</h3>\n",
    "            <img src=\"https://source.unsplash.com/200x200/?nature,water\" />\n",
    "            <p>\n",
    "                Lorem ipsum dolor sit amet consectetur adipisicing elit. Iusto\n",
    "                culpa cumque velit aperiam officia molestias maiores qui\n",
    "                officiis incidunt. Omnis vitae eveniet reprehenderit excepturi\n",
    "                officiis quod, eum natus voluptatem nihil fugit necessitatibus\n",
    "                dolorum quae accusamus aliquid enim fuga dicta beatae!\n",
    "            </p>\n",
    "        </div>\n",
    "        <div id=\"section-2\">\n",
    "            <ul class=\"items\">\n",
    "                <li class=\"item\"><a href=\"#\">Item 1</a></li>\n",
    "                <li class=\"item\"><a href=\"#\">Item 2</a></li>\n",
    "                <li class=\"item\"><a href=\"#\">Item 3</a></li>\n",
    "                <li class=\"item\"><a href=\"#\">Item 4</a></li>\n",
    "                <li class=\"item\"><a href=\"#\">Item 5</a></li>\n",
    "            </ul>\n",
    "        </div>\n",
    "    </body>\n",
    "</html>\n",
    "\"\"\""
   ],
   "metadata": {
    "collapsed": false,
    "pycharm": {
     "name": "#%%\n"
    }
   }
  },
  {
   "cell_type": "markdown",
   "source": [
    "Let initialize and create a variable bs. For this case we will use the variable HTML created before. If we want to scrap a Webpage we can use request to get the html of the page and use that one as first parmeter istead."
   ],
   "metadata": {
    "collapsed": false
   }
  },
  {
   "cell_type": "code",
   "execution_count": 4,
   "outputs": [],
   "source": [
    "#soup = BeautifulSoup(What to scrape,type of file (HTML5 html.parser))\n",
    "soup = BeautifulSoup(html_doc, 'html.parser')"
   ],
   "metadata": {
    "collapsed": false,
    "pycharm": {
     "name": "#%%\n"
    }
   }
  },
  {
   "cell_type": "markdown",
   "source": [
    "### Direct Approach"
   ],
   "metadata": {
    "collapsed": false
   }
  },
  {
   "cell_type": "code",
   "execution_count": 5,
   "outputs": [
    {
     "name": "stdout",
     "output_type": "stream",
     "text": [
      "<body>\n",
      "<div id=\"section-1\">\n",
      "<h3 data-hello=\"hi\">Hello</h3>\n",
      "<img src=\"https://source.unsplash.com/200x200/?nature,water\"/>\n",
      "<p>\n",
      "                Lorem ipsum dolor sit amet consectetur adipisicing elit. Iusto\n",
      "                culpa cumque velit aperiam officia molestias maiores qui\n",
      "                officiis incidunt. Omnis vitae eveniet reprehenderit excepturi\n",
      "                officiis quod, eum natus voluptatem nihil fugit necessitatibus\n",
      "                dolorum quae accusamus aliquid enim fuga dicta beatae!\n",
      "            </p>\n",
      "</div>\n",
      "<div id=\"section-2\">\n",
      "<ul class=\"items\">\n",
      "<li class=\"item\"><a href=\"#\">Item 1</a></li>\n",
      "<li class=\"item\"><a href=\"#\">Item 2</a></li>\n",
      "<li class=\"item\"><a href=\"#\">Item 3</a></li>\n",
      "<li class=\"item\"><a href=\"#\">Item 4</a></li>\n",
      "<li class=\"item\"><a href=\"#\">Item 5</a></li>\n",
      "</ul>\n",
      "</div>\n",
      "</body>\n"
     ]
    }
   ],
   "source": [
    "# direct print\n",
    "print(soup.body)"
   ],
   "metadata": {
    "collapsed": false,
    "pycharm": {
     "name": "#%%\n"
    }
   }
  },
  {
   "cell_type": "code",
   "execution_count": 6,
   "outputs": [
    {
     "name": "stdout",
     "output_type": "stream",
     "text": [
      "<head>\n",
      "<meta charset=\"utf-8\"/>\n",
      "<meta content=\"width=device-width, initial-scale=1.0\" name=\"viewport\"/>\n",
      "<meta content=\"ie=edge\" http-equiv=\"X-UA-Compatible\"/>\n",
      "<title>My Webpage</title>\n",
      "</head>\n"
     ]
    }
   ],
   "source": [
    "print(soup.head)"
   ],
   "metadata": {
    "collapsed": false,
    "pycharm": {
     "name": "#%%\n"
    }
   }
  },
  {
   "cell_type": "code",
   "execution_count": 7,
   "outputs": [
    {
     "name": "stdout",
     "output_type": "stream",
     "text": [
      "<title>My Webpage</title>\n"
     ]
    }
   ],
   "source": [
    "print(soup.head.title)"
   ],
   "metadata": {
    "collapsed": false,
    "pycharm": {
     "name": "#%%\n"
    }
   }
  },
  {
   "cell_type": "markdown",
   "source": [
    "### Find Approach\n",
    "Usually we dont use this kind of search but we use find istead"
   ],
   "metadata": {
    "collapsed": false
   }
  },
  {
   "cell_type": "code",
   "execution_count": 8,
   "outputs": [
    {
     "data": {
      "text/plain": "<div id=\"section-1\">\n<h3 data-hello=\"hi\">Hello</h3>\n<img src=\"https://source.unsplash.com/200x200/?nature,water\"/>\n<p>\n                Lorem ipsum dolor sit amet consectetur adipisicing elit. Iusto\n                culpa cumque velit aperiam officia molestias maiores qui\n                officiis incidunt. Omnis vitae eveniet reprehenderit excepturi\n                officiis quod, eum natus voluptatem nihil fugit necessitatibus\n                dolorum quae accusamus aliquid enim fuga dicta beatae!\n            </p>\n</div>"
     },
     "execution_count": 8,
     "metadata": {},
     "output_type": "execute_result"
    }
   ],
   "source": [
    "soup.find('div')"
   ],
   "metadata": {
    "collapsed": false,
    "pycharm": {
     "name": "#%%\n"
    }
   }
  },
  {
   "cell_type": "markdown",
   "source": [
    "This method return only the first argument find on the html code. For return all the argiment we can use find_all() or findAll() method which return a list object"
   ],
   "metadata": {
    "collapsed": false
   }
  },
  {
   "cell_type": "code",
   "execution_count": 9,
   "outputs": [
    {
     "data": {
      "text/plain": "<div id=\"section-2\">\n<ul class=\"items\">\n<li class=\"item\"><a href=\"#\">Item 1</a></li>\n<li class=\"item\"><a href=\"#\">Item 2</a></li>\n<li class=\"item\"><a href=\"#\">Item 3</a></li>\n<li class=\"item\"><a href=\"#\">Item 4</a></li>\n<li class=\"item\"><a href=\"#\">Item 5</a></li>\n</ul>\n</div>"
     },
     "execution_count": 9,
     "metadata": {},
     "output_type": "execute_result"
    }
   ],
   "source": [
    "soup.findAll('div')\n",
    "# to get the second element of the list we can access as follow:\n",
    "soup.findAll('div')[1]"
   ],
   "metadata": {
    "collapsed": false,
    "pycharm": {
     "name": "#%%\n"
    }
   }
  },
  {
   "cell_type": "code",
   "execution_count": 10,
   "outputs": [
    {
     "data": {
      "text/plain": "<div id=\"section-1\">\n<h3 data-hello=\"hi\">Hello</h3>\n<img src=\"https://source.unsplash.com/200x200/?nature,water\"/>\n<p>\n                Lorem ipsum dolor sit amet consectetur adipisicing elit. Iusto\n                culpa cumque velit aperiam officia molestias maiores qui\n                officiis incidunt. Omnis vitae eveniet reprehenderit excepturi\n                officiis quod, eum natus voluptatem nihil fugit necessitatibus\n                dolorum quae accusamus aliquid enim fuga dicta beatae!\n            </p>\n</div>"
     },
     "execution_count": 10,
     "metadata": {},
     "output_type": "execute_result"
    }
   ],
   "source": [
    "# FInd specific sections\n",
    "soup.find(id='section-1')"
   ],
   "metadata": {
    "collapsed": false,
    "pycharm": {
     "name": "#%%\n"
    }
   }
  },
  {
   "cell_type": "code",
   "execution_count": 11,
   "outputs": [
    {
     "data": {
      "text/plain": "<ul class=\"items\">\n<li class=\"item\"><a href=\"#\">Item 1</a></li>\n<li class=\"item\"><a href=\"#\">Item 2</a></li>\n<li class=\"item\"><a href=\"#\">Item 3</a></li>\n<li class=\"item\"><a href=\"#\">Item 4</a></li>\n<li class=\"item\"><a href=\"#\">Item 5</a></li>\n</ul>"
     },
     "execution_count": 11,
     "metadata": {},
     "output_type": "execute_result"
    }
   ],
   "source": [
    "# Find specific class\n",
    "soup.find(class_='items')"
   ],
   "metadata": {
    "collapsed": false,
    "pycharm": {
     "name": "#%%\n"
    }
   }
  },
  {
   "cell_type": "markdown",
   "source": [
    "We get an error because class is a reserved word. we can solve this problem adding an underscore _"
   ],
   "metadata": {
    "collapsed": false
   }
  },
  {
   "cell_type": "code",
   "execution_count": 12,
   "outputs": [
    {
     "data": {
      "text/plain": "<ul class=\"items\">\n<li class=\"item\"><a href=\"#\">Item 1</a></li>\n<li class=\"item\"><a href=\"#\">Item 2</a></li>\n<li class=\"item\"><a href=\"#\">Item 3</a></li>\n<li class=\"item\"><a href=\"#\">Item 4</a></li>\n<li class=\"item\"><a href=\"#\">Item 5</a></li>\n</ul>"
     },
     "execution_count": 12,
     "metadata": {},
     "output_type": "execute_result"
    }
   ],
   "source": [
    "soup.find(class_='items')"
   ],
   "metadata": {
    "collapsed": false,
    "pycharm": {
     "name": "#%%\n"
    }
   }
  },
  {
   "cell_type": "code",
   "execution_count": 13,
   "outputs": [
    {
     "data": {
      "text/plain": "<h3 data-hello=\"hi\">Hello</h3>"
     },
     "execution_count": 13,
     "metadata": {},
     "output_type": "execute_result"
    }
   ],
   "source": [
    "# serching by attributes:\n",
    "soup.find(attrs={\"data-hello\":\"hi\"})"
   ],
   "metadata": {
    "collapsed": false,
    "pycharm": {
     "name": "#%%\n"
    }
   }
  },
  {
   "cell_type": "markdown",
   "source": [
    "### Select Approach\n",
    "Allows to select by css selections"
   ],
   "metadata": {
    "collapsed": false
   }
  },
  {
   "cell_type": "code",
   "execution_count": 14,
   "outputs": [
    {
     "data": {
      "text/plain": "[<div id=\"section-1\">\n <h3 data-hello=\"hi\">Hello</h3>\n <img src=\"https://source.unsplash.com/200x200/?nature,water\"/>\n <p>\n                 Lorem ipsum dolor sit amet consectetur adipisicing elit. Iusto\n                 culpa cumque velit aperiam officia molestias maiores qui\n                 officiis incidunt. Omnis vitae eveniet reprehenderit excepturi\n                 officiis quod, eum natus voluptatem nihil fugit necessitatibus\n                 dolorum quae accusamus aliquid enim fuga dicta beatae!\n             </p>\n </div>]"
     },
     "execution_count": 14,
     "metadata": {},
     "output_type": "execute_result"
    }
   ],
   "source": [
    "soup.select('#section-1')"
   ],
   "metadata": {
    "collapsed": false,
    "pycharm": {
     "name": "#%%\n"
    }
   }
  },
  {
   "cell_type": "code",
   "execution_count": 15,
   "outputs": [
    {
     "data": {
      "text/plain": "<div id=\"section-1\">\n<h3 data-hello=\"hi\">Hello</h3>\n<img src=\"https://source.unsplash.com/200x200/?nature,water\"/>\n<p>\n                Lorem ipsum dolor sit amet consectetur adipisicing elit. Iusto\n                culpa cumque velit aperiam officia molestias maiores qui\n                officiis incidunt. Omnis vitae eveniet reprehenderit excepturi\n                officiis quod, eum natus voluptatem nihil fugit necessitatibus\n                dolorum quae accusamus aliquid enim fuga dicta beatae!\n            </p>\n</div>"
     },
     "execution_count": 15,
     "metadata": {},
     "output_type": "execute_result"
    }
   ],
   "source": [
    "soup.select('#section-1')[0]"
   ],
   "metadata": {
    "collapsed": false,
    "pycharm": {
     "name": "#%%\n"
    }
   }
  },
  {
   "cell_type": "code",
   "execution_count": 16,
   "outputs": [
    {
     "data": {
      "text/plain": "<li class=\"item\"><a href=\"#\">Item 1</a></li>"
     },
     "execution_count": 16,
     "metadata": {},
     "output_type": "execute_result"
    }
   ],
   "source": [
    "soup.select('.item')[0]"
   ],
   "metadata": {
    "collapsed": false,
    "pycharm": {
     "name": "#%%\n"
    }
   }
  },
  {
   "cell_type": "markdown",
   "source": [
    "### Get text"
   ],
   "metadata": {
    "collapsed": false
   }
  },
  {
   "cell_type": "code",
   "execution_count": 17,
   "outputs": [
    {
     "data": {
      "text/plain": "'Item 1'"
     },
     "execution_count": 17,
     "metadata": {},
     "output_type": "execute_result"
    }
   ],
   "source": [
    "soup.find(class_='item').get_text()"
   ],
   "metadata": {
    "collapsed": false,
    "pycharm": {
     "name": "#%%\n"
    }
   }
  },
  {
   "cell_type": "code",
   "execution_count": 18,
   "outputs": [
    {
     "name": "stdout",
     "output_type": "stream",
     "text": [
      "Item 1\n",
      "Item 2\n",
      "Item 3\n",
      "Item 4\n",
      "Item 5\n"
     ]
    }
   ],
   "source": [
    "for item in soup.select('.item'):\n",
    "    print(item.get_text())"
   ],
   "metadata": {
    "collapsed": false,
    "pycharm": {
     "name": "#%%\n"
    }
   }
  },
  {
   "cell_type": "markdown",
   "source": [
    "### Navigation\n",
    "with contents method we can get the content of what we are looking:"
   ],
   "metadata": {
    "collapsed": false
   }
  },
  {
   "cell_type": "code",
   "execution_count": 19,
   "outputs": [
    {
     "data": {
      "text/plain": "['\\n',\n <div id=\"section-1\">\n <h3 data-hello=\"hi\">Hello</h3>\n <img src=\"https://source.unsplash.com/200x200/?nature,water\"/>\n <p>\n                 Lorem ipsum dolor sit amet consectetur adipisicing elit. Iusto\n                 culpa cumque velit aperiam officia molestias maiores qui\n                 officiis incidunt. Omnis vitae eveniet reprehenderit excepturi\n                 officiis quod, eum natus voluptatem nihil fugit necessitatibus\n                 dolorum quae accusamus aliquid enim fuga dicta beatae!\n             </p>\n </div>,\n '\\n',\n <div id=\"section-2\">\n <ul class=\"items\">\n <li class=\"item\"><a href=\"#\">Item 1</a></li>\n <li class=\"item\"><a href=\"#\">Item 2</a></li>\n <li class=\"item\"><a href=\"#\">Item 3</a></li>\n <li class=\"item\"><a href=\"#\">Item 4</a></li>\n <li class=\"item\"><a href=\"#\">Item 5</a></li>\n </ul>\n </div>,\n '\\n']"
     },
     "execution_count": 19,
     "metadata": {},
     "output_type": "execute_result"
    }
   ],
   "source": [
    "soup.body.contents"
   ],
   "metadata": {
    "collapsed": false,
    "pycharm": {
     "name": "#%%\n"
    }
   }
  },
  {
   "cell_type": "markdown",
   "source": [
    "the method content search by breakline (\\n). so if we want the first content we access it as follows:"
   ],
   "metadata": {
    "collapsed": false
   }
  },
  {
   "cell_type": "code",
   "execution_count": 20,
   "outputs": [
    {
     "data": {
      "text/plain": "<div id=\"section-1\">\n<h3 data-hello=\"hi\">Hello</h3>\n<img src=\"https://source.unsplash.com/200x200/?nature,water\"/>\n<p>\n                Lorem ipsum dolor sit amet consectetur adipisicing elit. Iusto\n                culpa cumque velit aperiam officia molestias maiores qui\n                officiis incidunt. Omnis vitae eveniet reprehenderit excepturi\n                officiis quod, eum natus voluptatem nihil fugit necessitatibus\n                dolorum quae accusamus aliquid enim fuga dicta beatae!\n            </p>\n</div>"
     },
     "execution_count": 20,
     "metadata": {},
     "output_type": "execute_result"
    }
   ],
   "source": [
    "soup.body.contents[1]"
   ],
   "metadata": {
    "collapsed": false,
    "pycharm": {
     "name": "#%%\n"
    }
   }
  },
  {
   "cell_type": "markdown",
   "source": [
    "If we want to get ***Hello*** we can access as follows:"
   ],
   "metadata": {
    "collapsed": false
   }
  },
  {
   "cell_type": "code",
   "execution_count": 21,
   "outputs": [
    {
     "data": {
      "text/plain": "<h3 data-hello=\"hi\">Hello</h3>"
     },
     "execution_count": 21,
     "metadata": {},
     "output_type": "execute_result"
    }
   ],
   "source": [
    "soup.body.contents[1].contents[1]"
   ],
   "metadata": {
    "collapsed": false,
    "pycharm": {
     "name": "#%%\n"
    }
   }
  },
  {
   "cell_type": "markdown",
   "source": [
    "Be aware that contents detect also the breaklines (\\n)"
   ],
   "metadata": {
    "collapsed": false
   }
  },
  {
   "cell_type": "code",
   "execution_count": 22,
   "outputs": [
    {
     "data": {
      "text/plain": "'\\n'"
     },
     "execution_count": 22,
     "metadata": {},
     "output_type": "execute_result"
    }
   ],
   "source": [
    "soup.body.contents[1].contents[2]"
   ],
   "metadata": {
    "collapsed": false,
    "pycharm": {
     "name": "#%%\n"
    }
   }
  },
  {
   "cell_type": "code",
   "execution_count": 23,
   "outputs": [
    {
     "data": {
      "text/plain": "<img src=\"https://source.unsplash.com/200x200/?nature,water\"/>"
     },
     "execution_count": 23,
     "metadata": {},
     "output_type": "execute_result"
    }
   ],
   "source": [
    "soup.body.contents[1].contents[3]"
   ],
   "metadata": {
    "collapsed": false,
    "pycharm": {
     "name": "#%%\n"
    }
   }
  },
  {
   "cell_type": "markdown",
   "source": [
    "If we want to find the next sibling we can do it as follow:\n",
    "![title](img/html_tree.png)"
   ],
   "metadata": {
    "collapsed": false
   }
  },
  {
   "cell_type": "code",
   "execution_count": 24,
   "outputs": [
    {
     "data": {
      "text/plain": "<img src=\"https://source.unsplash.com/200x200/?nature,water\"/>"
     },
     "execution_count": 24,
     "metadata": {},
     "output_type": "execute_result"
    }
   ],
   "source": [
    "soup.body.contents[1].contents[1].find_next_sibling()"
   ],
   "metadata": {
    "collapsed": false,
    "pycharm": {
     "name": "#%%\n"
    }
   }
  },
  {
   "cell_type": "code",
   "execution_count": 25,
   "outputs": [
    {
     "data": {
      "text/plain": "<div id=\"section-1\">\n<h3 data-hello=\"hi\">Hello</h3>\n<img src=\"https://source.unsplash.com/200x200/?nature,water\"/>\n<p>\n                Lorem ipsum dolor sit amet consectetur adipisicing elit. Iusto\n                culpa cumque velit aperiam officia molestias maiores qui\n                officiis incidunt. Omnis vitae eveniet reprehenderit excepturi\n                officiis quod, eum natus voluptatem nihil fugit necessitatibus\n                dolorum quae accusamus aliquid enim fuga dicta beatae!\n            </p>\n</div>"
     },
     "execution_count": 25,
     "metadata": {},
     "output_type": "execute_result"
    }
   ],
   "source": [
    "soup.find(id='section-2').find_previous_sibling()"
   ],
   "metadata": {
    "collapsed": false,
    "pycharm": {
     "name": "#%%\n"
    }
   }
  },
  {
   "cell_type": "code",
   "execution_count": 26,
   "outputs": [
    {
     "data": {
      "text/plain": "<ul class=\"items\">\n<li class=\"item\"><a href=\"#\">Item 1</a></li>\n<li class=\"item\"><a href=\"#\">Item 2</a></li>\n<li class=\"item\"><a href=\"#\">Item 3</a></li>\n<li class=\"item\"><a href=\"#\">Item 4</a></li>\n<li class=\"item\"><a href=\"#\">Item 5</a></li>\n</ul>"
     },
     "execution_count": 26,
     "metadata": {},
     "output_type": "execute_result"
    }
   ],
   "source": [
    "soup.find(class_='item').find_parent()"
   ],
   "metadata": {
    "collapsed": false,
    "pycharm": {
     "name": "#%%\n"
    }
   }
  },
  {
   "cell_type": "code",
   "execution_count": 27,
   "outputs": [
    {
     "data": {
      "text/plain": "<p>\n                Lorem ipsum dolor sit amet consectetur adipisicing elit. Iusto\n                culpa cumque velit aperiam officia molestias maiores qui\n                officiis incidunt. Omnis vitae eveniet reprehenderit excepturi\n                officiis quod, eum natus voluptatem nihil fugit necessitatibus\n                dolorum quae accusamus aliquid enim fuga dicta beatae!\n            </p>"
     },
     "execution_count": 27,
     "metadata": {},
     "output_type": "execute_result"
    }
   ],
   "source": [
    "soup.find('h3').find_next_sibling('p')"
   ],
   "metadata": {
    "collapsed": false,
    "pycharm": {
     "name": "#%%\n"
    }
   }
  },
  {
   "cell_type": "markdown",
   "source": [
    "## Small script for save the scraped webpage to a CSV file"
   ],
   "metadata": {
    "collapsed": false
   }
  },
  {
   "cell_type": "code",
   "execution_count": null,
   "outputs": [],
   "source": [
    "import requests\n",
    "from bs4 import BeautifulSoup\n",
    "from csv import writer\n",
    "\n",
    "url = 'some URL'\n",
    "response = requests.get(url)\n",
    "\n",
    "soup = BeautifulSoup(response.text, 'html.parser')\n",
    "posts = soup.find_all(class_='post-preview')\n",
    "\n",
    "with open('posts.csv', 'w') as csv_file:\n",
    "    csv_writer = writer(csv_file)\n",
    "    headers = ['Title', 'Link', 'Date']\n",
    "    csv_writer.writerow(headers)\n",
    "\n",
    "    for post in posts:\n",
    "        title = post.find(class_='post-title').get_text().replace('\\n', '')\n",
    "        link = post.find('a')['href']\n",
    "        date = post.select('.post-date')[0].get_text()\n",
    "        csv_writer.writerow([title, link, date])"
   ],
   "metadata": {
    "collapsed": false,
    "pycharm": {
     "name": "#%%\n"
    }
   }
  }
 ],
 "metadata": {
  "kernelspec": {
   "display_name": "Python 3",
   "language": "python",
   "name": "python3"
  },
  "language_info": {
   "codemirror_mode": {
    "name": "ipython",
    "version": 2
   },
   "file_extension": ".py",
   "mimetype": "text/x-python",
   "name": "python",
   "nbconvert_exporter": "python",
   "pygments_lexer": "ipython2",
   "version": "2.7.6"
  }
 },
 "nbformat": 4,
 "nbformat_minor": 0
}