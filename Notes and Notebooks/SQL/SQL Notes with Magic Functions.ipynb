{
 "cells": [
  {
   "cell_type": "markdown",
   "source": [
    "<h1 style=\"color:Orange;font-size:170%;\"> SQL Notes with Magic Function setup </h1>"
   ],
   "metadata": {
    "collapsed": false
   }
  },
  {
   "cell_type": "markdown",
   "source": [
    "# Using IPython SQL Magic extension"
   ],
   "metadata": {
    "collapsed": false
   }
  },
  {
   "cell_type": "markdown",
   "source": [
    "Magic commands are a set of convenient functions in Jupyter Notebooks that are designed to solve some of the common problems in standard data analysis. You can see all of the available magics with the help of %lsmagic.\n",
    "\n",
    "IPython SQL magic extension makes it possible to write SQL queries directly into code cells as well as read the results straight into pandas DataFrames (Source). This works for both the traditional notebooks as well as the modern Jupyter Labs."
   ],
   "metadata": {
    "collapsed": false
   }
  },
  {
   "cell_type": "markdown",
   "source": [
    "# Installing SQL module in the notebook"
   ],
   "metadata": {
    "collapsed": false
   }
  },
  {
   "cell_type": "code",
   "execution_count": 2,
   "metadata": {
    "collapsed": true
   },
   "outputs": [
    {
     "name": "stdout",
     "output_type": "stream",
     "text": [
      "Collecting package metadata (current_repodata.json): ...working... done\n",
      "Solving environment: ...working... done\n",
      "\n",
      "# All requested packages already installed.\n",
      "\n",
      "\n",
      "Note: you may need to restart the kernel to use updated packages.\n"
     ]
    }
   ],
   "source": [
    "conda install -c conda-forge jupyterlab"
   ]
  },
  {
   "cell_type": "code",
   "execution_count": 2,
   "outputs": [
    {
     "name": "stdout",
     "output_type": "stream",
     "text": [
      "Requirement already satisfied: ipython-sql in c:\\users\\desou\\anaconda3\\lib\\site-packages (0.4.0)\n",
      "Requirement already satisfied: six in c:\\users\\desou\\anaconda3\\lib\\site-packages (from ipython-sql) (1.15.0)\n",
      "Requirement already satisfied: sqlalchemy>=0.6.7 in c:\\users\\desou\\anaconda3\\lib\\site-packages (from ipython-sql) (1.4.22)\n",
      "Requirement already satisfied: ipython-genutils>=0.1.0 in c:\\users\\desou\\anaconda3\\lib\\site-packages (from ipython-sql) (0.2.0)\n",
      "Requirement already satisfied: ipython>=1.0 in c:\\users\\desou\\anaconda3\\lib\\site-packages (from ipython-sql) (7.22.0)\n",
      "Requirement already satisfied: prettytable<1 in c:\\users\\desou\\anaconda3\\lib\\site-packages (from ipython-sql) (0.7.2)\n",
      "Requirement already satisfied: sqlparse in c:\\users\\desou\\anaconda3\\lib\\site-packages (from ipython-sql) (0.4.2)\n",
      "Requirement already satisfied: decorator in c:\\users\\desou\\anaconda3\\lib\\site-packages (from ipython>=1.0->ipython-sql) (5.0.6)\n",
      "Requirement already satisfied: setuptools>=18.5 in c:\\users\\desou\\anaconda3\\lib\\site-packages (from ipython>=1.0->ipython-sql) (52.0.0.post20210125)\n",
      "Requirement already satisfied: backcall in c:\\users\\desou\\anaconda3\\lib\\site-packages (from ipython>=1.0->ipython-sql) (0.2.0)\n",
      "Requirement already satisfied: jedi>=0.16 in c:\\users\\desou\\anaconda3\\lib\\site-packages (from ipython>=1.0->ipython-sql) (0.17.2)\n",
      "Requirement already satisfied: pygments in c:\\users\\desou\\anaconda3\\lib\\site-packages (from ipython>=1.0->ipython-sql) (2.8.1)\n",
      "Requirement already satisfied: colorama in c:\\users\\desou\\anaconda3\\lib\\site-packages (from ipython>=1.0->ipython-sql) (0.4.4)\n",
      "Requirement already satisfied: pickleshare in c:\\users\\desou\\anaconda3\\lib\\site-packages (from ipython>=1.0->ipython-sql) (0.7.5)\n",
      "Requirement already satisfied: prompt-toolkit!=3.0.0,!=3.0.1,<3.1.0,>=2.0.0 in c:\\users\\desou\\anaconda3\\lib\\site-packages (from ipython>=1.0->ipython-sql) (3.0.17)\n",
      "Requirement already satisfied: traitlets>=4.2 in c:\\users\\desou\\anaconda3\\lib\\site-packages (from ipython>=1.0->ipython-sql) (5.0.5)\n",
      "Requirement already satisfied: parso<0.8.0,>=0.7.0 in c:\\users\\desou\\anaconda3\\lib\\site-packages (from jedi>=0.16->ipython>=1.0->ipython-sql) (0.7.0)\n",
      "Requirement already satisfied: wcwidth in c:\\users\\desou\\anaconda3\\lib\\site-packages (from prompt-toolkit!=3.0.0,!=3.0.1,<3.1.0,>=2.0.0->ipython>=1.0->ipython-sql) (0.2.5)\n",
      "Requirement already satisfied: greenlet!=0.4.17 in c:\\users\\desou\\anaconda3\\lib\\site-packages (from sqlalchemy>=0.6.7->ipython-sql) (1.0.0)\n"
     ]
    }
   ],
   "source": [
    "!pip install ipython-sql"
   ],
   "metadata": {
    "collapsed": false,
    "pycharm": {
     "name": "#%%\n"
    }
   }
  },
  {
   "cell_type": "markdown",
   "source": [
    "# Loading the SQL module"
   ],
   "metadata": {
    "collapsed": false
   }
  },
  {
   "cell_type": "code",
   "execution_count": 3,
   "outputs": [],
   "source": [
    " %load_ext sql"
   ],
   "metadata": {
    "collapsed": false,
    "pycharm": {
     "name": "#%%\n"
    }
   }
  },
  {
   "cell_type": "markdown",
   "source": [
    "The above magic command loads the ipython-sql extension. We can connect to any database which is supported by SQLAlchemy. Here we will connect to a SQLite database. Enter the following command in the code cell:"
   ],
   "metadata": {
    "collapsed": false
   }
  },
  {
   "cell_type": "code",
   "execution_count": 6,
   "outputs": [],
   "source": [
    "%sql sqlite://"
   ],
   "metadata": {
    "collapsed": false,
    "pycharm": {
     "name": "#%%\n"
    }
   }
  },
  {
   "cell_type": "markdown",
   "source": [
    "If you get the output as ‘Connected: @None', this means the connection has been established.\n",
    "### Creating a Database\n",
    "Finally, we create a demo table called EMPLOYEES to showcase the function."
   ],
   "metadata": {
    "collapsed": false
   }
  },
  {
   "cell_type": "code",
   "execution_count": 7,
   "outputs": [
    {
     "name": "stdout",
     "output_type": "stream",
     "text": [
      " * sqlite://\n",
      "Done.\n",
      "1 rows affected.\n",
      "1 rows affected.\n"
     ]
    },
    {
     "data": {
      "text/plain": "[]"
     },
     "execution_count": 7,
     "metadata": {},
     "output_type": "execute_result"
    }
   ],
   "source": [
    "%%sql\n",
    "CREATE TABLE EMPLOYEE(firstname varchar(50),lastname varchar(50));\n",
    "INSERT INTO EMPLOYEE VALUES('Tom','Mitchell');\n",
    "INSERT INTO EMPLOYEE VALUES('Jack','Ryan');"
   ],
   "metadata": {
    "collapsed": false,
    "pycharm": {
     "name": "#%%\n"
    }
   }
  },
  {
   "cell_type": "markdown",
   "source": [
    "We can now execute queries on our database."
   ],
   "metadata": {
    "collapsed": false
   }
  },
  {
   "cell_type": "code",
   "execution_count": 8,
   "outputs": [
    {
     "name": "stdout",
     "output_type": "stream",
     "text": [
      " * sqlite://\n",
      "Done.\n"
     ]
    },
    {
     "data": {
      "text/plain": "[('Tom', 'Mitchell'), ('Jack', 'Ryan')]",
      "text/html": "<table>\n    <tr>\n        <th>firstname</th>\n        <th>lastname</th>\n    </tr>\n    <tr>\n        <td>Tom</td>\n        <td>Mitchell</td>\n    </tr>\n    <tr>\n        <td>Jack</td>\n        <td>Ryan</td>\n    </tr>\n</table>"
     },
     "execution_count": 8,
     "metadata": {},
     "output_type": "execute_result"
    }
   ],
   "source": [
    " %sql SELECT * from EMPLOYEE;"
   ],
   "metadata": {
    "collapsed": false,
    "pycharm": {
     "name": "#%%\n"
    }
   }
  },
  {
   "cell_type": "markdown",
   "source": [
    "### Working with an existing database"
   ],
   "metadata": {
    "collapsed": false
   }
  },
  {
   "cell_type": "markdown",
   "source": [
    "We can also connect to an existing database using the magic function. For this tutorial, we will be making use of the SQL_SAFI database(Studying African Farmer-led Irrigation (SAFI) database). \"The [SAFI Project](http://www.safi-research.org/) is a research project looking at farming and irrigation methods used by farmers in Tanzania and Mozambique. This dataset is composed of survey data relating to households and agriculture\" ([Source](http://brunalab.org/las6292/2019/01/28/session-3-data-structure/)). You can download it from [here](https://github.com/parulnith/SQL-Interface-within-JupyterLab/blob/master/SQL_SAFI.sqlite)."
   ],
   "metadata": {
    "collapsed": false
   }
  },
  {
   "cell_type": "code",
   "execution_count": 9,
   "outputs": [],
   "source": [
    "%sql sqlite:///Databases/cars.db"
   ],
   "metadata": {
    "collapsed": false,
    "pycharm": {
     "name": "#%%\n"
    }
   }
  },
  {
   "cell_type": "code",
   "execution_count": 10,
   "outputs": [
    {
     "name": "stdout",
     "output_type": "stream",
     "text": [
      "   sqlite://\n",
      " * sqlite:///cars.db\n",
      "Done.\n"
     ]
    },
    {
     "data": {
      "text/plain": "[]"
     },
     "execution_count": 10,
     "metadata": {},
     "output_type": "execute_result"
    }
   ],
   "source": [
    "%sql CREATE TABLE CARS(name varchar(20), price int)"
   ],
   "metadata": {
    "collapsed": false,
    "pycharm": {
     "name": "#%%\n"
    }
   }
  },
  {
   "cell_type": "code",
   "execution_count": 11,
   "outputs": [
    {
     "name": "stdout",
     "output_type": "stream",
     "text": [
      "   sqlite://\n",
      " * sqlite:///cars.db\n",
      "1 rows affected.\n",
      "1 rows affected.\n",
      "1 rows affected.\n"
     ]
    },
    {
     "data": {
      "text/plain": "[]"
     },
     "execution_count": 11,
     "metadata": {},
     "output_type": "execute_result"
    }
   ],
   "source": [
    "%%sql\n",
    "INSERT INTO CARS values(\"Supra\", 45000);\n",
    "INSERT INTO CARS values(\"350Z\", 50000);\n",
    "INSERT INTO CARS values(\"Pajero\", 38000)"
   ],
   "metadata": {
    "collapsed": false,
    "pycharm": {
     "name": "#%%\n"
    }
   }
  },
  {
   "cell_type": "code",
   "execution_count": 12,
   "outputs": [
    {
     "name": "stdout",
     "output_type": "stream",
     "text": [
      "   sqlite://\n",
      " * sqlite:///cars.db\n",
      "Done.\n"
     ]
    },
    {
     "data": {
      "text/plain": "[('Supra', 45000), ('350Z', 50000), ('Pajero', 38000)]",
      "text/html": "<table>\n    <tr>\n        <th>name</th>\n        <th>price</th>\n    </tr>\n    <tr>\n        <td>Supra</td>\n        <td>45000</td>\n    </tr>\n    <tr>\n        <td>350Z</td>\n        <td>50000</td>\n    </tr>\n    <tr>\n        <td>Pajero</td>\n        <td>38000</td>\n    </tr>\n</table>"
     },
     "execution_count": 12,
     "metadata": {},
     "output_type": "execute_result"
    }
   ],
   "source": [
    "%sql SELECT * FROM CARS"
   ],
   "metadata": {
    "collapsed": false,
    "pycharm": {
     "name": "#%%\n"
    }
   }
  },
  {
   "cell_type": "code",
   "execution_count": 18,
   "outputs": [],
   "source": [
    "#Chenge server used\n",
    "%sql sqlite:///Databases/SQL_SAFI.sqlite"
   ],
   "metadata": {
    "collapsed": false,
    "pycharm": {
     "name": "#%%capture\n"
    }
   }
  },
  {
   "cell_type": "markdown",
   "source": [
    "The above statement opened the database named SQL_SAFI.sqlite that resides in the same folder. Let's select the Crops table and display its contents."
   ],
   "metadata": {
    "collapsed": false
   }
  },
  {
   "cell_type": "code",
   "execution_count": 19,
   "outputs": [
    {
     "name": "stdout",
     "output_type": "stream",
     "text": [
      "   sqlite://\n",
      " * sqlite:///SQL_SAFI.sqlite\n",
      "   sqlite:///cars.db\n",
      "Done.\n"
     ]
    },
    {
     "data": {
      "text/plain": "[(1, 1, 1, 1, 'maize', 1),\n (1, 2, 1, 1, 'maize', 1),\n (2, 1, 1, 1, 'maize', 1),\n (2, 2, 1, 1, 'tomatoes', 1),\n (2, 3, 1, 1, 'vegetable', 1),\n (3, 1, 1, 1, 'maize', 1),\n (4, 1, 1, 1, 'maize', 1),\n (4, 2, 1, 1, 'maize', 1),\n (4, 3, 1, 1, 'sorghum', 1),\n (5, 1, 1, 1, 'maize', 1)]",
      "text/html": "<table>\n    <tr>\n        <th>Id</th>\n        <th>plot_Id</th>\n        <th>crop_Id</th>\n        <th>D05_times</th>\n        <th>D_curr_crop</th>\n        <th>D_repeat_times_count</th>\n    </tr>\n    <tr>\n        <td>1</td>\n        <td>1</td>\n        <td>1</td>\n        <td>1</td>\n        <td>maize</td>\n        <td>1</td>\n    </tr>\n    <tr>\n        <td>1</td>\n        <td>2</td>\n        <td>1</td>\n        <td>1</td>\n        <td>maize</td>\n        <td>1</td>\n    </tr>\n    <tr>\n        <td>2</td>\n        <td>1</td>\n        <td>1</td>\n        <td>1</td>\n        <td>maize</td>\n        <td>1</td>\n    </tr>\n    <tr>\n        <td>2</td>\n        <td>2</td>\n        <td>1</td>\n        <td>1</td>\n        <td>tomatoes</td>\n        <td>1</td>\n    </tr>\n    <tr>\n        <td>2</td>\n        <td>3</td>\n        <td>1</td>\n        <td>1</td>\n        <td>vegetable</td>\n        <td>1</td>\n    </tr>\n    <tr>\n        <td>3</td>\n        <td>1</td>\n        <td>1</td>\n        <td>1</td>\n        <td>maize</td>\n        <td>1</td>\n    </tr>\n    <tr>\n        <td>4</td>\n        <td>1</td>\n        <td>1</td>\n        <td>1</td>\n        <td>maize</td>\n        <td>1</td>\n    </tr>\n    <tr>\n        <td>4</td>\n        <td>2</td>\n        <td>1</td>\n        <td>1</td>\n        <td>maize</td>\n        <td>1</td>\n    </tr>\n    <tr>\n        <td>4</td>\n        <td>3</td>\n        <td>1</td>\n        <td>1</td>\n        <td>sorghum</td>\n        <td>1</td>\n    </tr>\n    <tr>\n        <td>5</td>\n        <td>1</td>\n        <td>1</td>\n        <td>1</td>\n        <td>maize</td>\n        <td>1</td>\n    </tr>\n</table>"
     },
     "execution_count": 19,
     "metadata": {},
     "output_type": "execute_result"
    }
   ],
   "source": [
    "%sql select * from Crops limit 10"
   ],
   "metadata": {
    "collapsed": false,
    "pycharm": {
     "name": "#%%\n"
    }
   }
  },
  {
   "cell_type": "markdown",
   "source": [
    "Displaying first few rows of the Crops Table"
   ],
   "metadata": {
    "collapsed": false
   }
  },
  {
   "cell_type": "code",
   "execution_count": 20,
   "outputs": [
    {
     "name": "stdout",
     "output_type": "stream",
     "text": [
      "   sqlite://\n",
      " * sqlite:///SQL_SAFI.sqlite\n",
      "   sqlite:///cars.db\n",
      "Done.\n"
     ]
    },
    {
     "data": {
      "text/plain": "[(1, 1, 1, 1, 'maize', 1),\n (1, 2, 1, 1, 'maize', 1),\n (2, 1, 1, 1, 'maize', 1),\n (3, 1, 1, 1, 'maize', 1)]",
      "text/html": "<table>\n    <tr>\n        <th>Id</th>\n        <th>plot_Id</th>\n        <th>crop_Id</th>\n        <th>D05_times</th>\n        <th>D_curr_crop</th>\n        <th>D_repeat_times_count</th>\n    </tr>\n    <tr>\n        <td>1</td>\n        <td>1</td>\n        <td>1</td>\n        <td>1</td>\n        <td>maize</td>\n        <td>1</td>\n    </tr>\n    <tr>\n        <td>1</td>\n        <td>2</td>\n        <td>1</td>\n        <td>1</td>\n        <td>maize</td>\n        <td>1</td>\n    </tr>\n    <tr>\n        <td>2</td>\n        <td>1</td>\n        <td>1</td>\n        <td>1</td>\n        <td>maize</td>\n        <td>1</td>\n    </tr>\n    <tr>\n        <td>3</td>\n        <td>1</td>\n        <td>1</td>\n        <td>1</td>\n        <td>maize</td>\n        <td>1</td>\n    </tr>\n</table>"
     },
     "execution_count": 20,
     "metadata": {},
     "output_type": "execute_result"
    }
   ],
   "source": [
    " %%sql\n",
    "SELECT *\n",
    "FROM Crops\n",
    "WHERE D_curr_crop=\"maize\" AND ID <= 3;"
   ],
   "metadata": {
    "collapsed": false,
    "pycharm": {
     "name": "#%%\n"
    }
   }
  },
  {
   "cell_type": "markdown",
   "source": [
    "The result can also be converted to a pandas dataframe, as follows:"
   ],
   "metadata": {
    "collapsed": false
   }
  },
  {
   "cell_type": "code",
   "execution_count": 32,
   "outputs": [
    {
     "name": "stdout",
     "output_type": "stream",
     "text": [
      "   sqlite://\n",
      " * sqlite:///SQL_SAFI.sqlite\n",
      "   sqlite:///cars.db\n",
      "Done.\n"
     ]
    },
    {
     "data": {
      "text/plain": "[(1, 1, 1, 1, 'maize', 1),\n (1, 2, 1, 1, 'maize', 1),\n (2, 1, 1, 1, 'maize', 1),\n (2, 2, 1, 1, 'tomatoes', 1),\n (2, 3, 1, 1, 'vegetable', 1),\n (3, 1, 1, 1, 'maize', 1),\n (4, 1, 1, 1, 'maize', 1),\n (4, 2, 1, 1, 'maize', 1),\n (4, 3, 1, 1, 'sorghum', 1),\n (5, 1, 1, 1, 'maize', 1)]",
      "text/html": "<table>\n    <tr>\n        <th>Id</th>\n        <th>plot_Id</th>\n        <th>crop_Id</th>\n        <th>D05_times</th>\n        <th>D_curr_crop</th>\n        <th>D_repeat_times_count</th>\n    </tr>\n    <tr>\n        <td>1</td>\n        <td>1</td>\n        <td>1</td>\n        <td>1</td>\n        <td>maize</td>\n        <td>1</td>\n    </tr>\n    <tr>\n        <td>1</td>\n        <td>2</td>\n        <td>1</td>\n        <td>1</td>\n        <td>maize</td>\n        <td>1</td>\n    </tr>\n    <tr>\n        <td>2</td>\n        <td>1</td>\n        <td>1</td>\n        <td>1</td>\n        <td>maize</td>\n        <td>1</td>\n    </tr>\n    <tr>\n        <td>2</td>\n        <td>2</td>\n        <td>1</td>\n        <td>1</td>\n        <td>tomatoes</td>\n        <td>1</td>\n    </tr>\n    <tr>\n        <td>2</td>\n        <td>3</td>\n        <td>1</td>\n        <td>1</td>\n        <td>vegetable</td>\n        <td>1</td>\n    </tr>\n    <tr>\n        <td>3</td>\n        <td>1</td>\n        <td>1</td>\n        <td>1</td>\n        <td>maize</td>\n        <td>1</td>\n    </tr>\n    <tr>\n        <td>4</td>\n        <td>1</td>\n        <td>1</td>\n        <td>1</td>\n        <td>maize</td>\n        <td>1</td>\n    </tr>\n    <tr>\n        <td>4</td>\n        <td>2</td>\n        <td>1</td>\n        <td>1</td>\n        <td>maize</td>\n        <td>1</td>\n    </tr>\n    <tr>\n        <td>4</td>\n        <td>3</td>\n        <td>1</td>\n        <td>1</td>\n        <td>sorghum</td>\n        <td>1</td>\n    </tr>\n    <tr>\n        <td>5</td>\n        <td>1</td>\n        <td>1</td>\n        <td>1</td>\n        <td>maize</td>\n        <td>1</td>\n    </tr>\n</table>"
     },
     "execution_count": 32,
     "metadata": {},
     "output_type": "execute_result"
    }
   ],
   "source": [
    "%sql select * from Crops LIMIT 10;"
   ],
   "metadata": {
    "collapsed": false,
    "pycharm": {
     "name": "#%%\n"
    }
   }
  },
  {
   "cell_type": "code",
   "execution_count": 30,
   "outputs": [
    {
     "name": "stdout",
     "output_type": "stream",
     "text": [
      "   sqlite://\n",
      " * sqlite:///SQL_SAFI.sqlite\n",
      "   sqlite:///cars.db\n",
      "Done.\n"
     ]
    }
   ],
   "source": [
    "result = %sql select * from Crops;\n",
    "dataframe = result.DataFrame()"
   ],
   "metadata": {
    "collapsed": false,
    "pycharm": {
     "name": "#%%\n"
    }
   }
  },
  {
   "cell_type": "code",
   "execution_count": 31,
   "outputs": [
    {
     "name": "stdout",
     "output_type": "stream",
     "text": [
      "<class 'pandas.core.frame.DataFrame'>\n",
      "RangeIndex: 1044 entries, 0 to 1043\n",
      "Data columns (total 6 columns):\n",
      " #   Column                Non-Null Count  Dtype \n",
      "---  ------                --------------  ----- \n",
      " 0   Id                    1044 non-null   int64 \n",
      " 1   plot_Id               1044 non-null   int64 \n",
      " 2   crop_Id               1044 non-null   int64 \n",
      " 3   D05_times             1044 non-null   int64 \n",
      " 4   D_curr_crop           1039 non-null   object\n",
      " 5   D_repeat_times_count  1044 non-null   int64 \n",
      "dtypes: int64(5), object(1)\n",
      "memory usage: 49.1+ KB\n"
     ]
    }
   ],
   "source": [
    "dataframe.info()"
   ],
   "metadata": {
    "collapsed": false,
    "pycharm": {
     "name": "#%%\n"
    }
   }
  },
  {
   "cell_type": "code",
   "execution_count": null,
   "outputs": [],
   "source": [],
   "metadata": {
    "collapsed": false,
    "pycharm": {
     "name": "#%%\n"
    }
   }
  }
 ],
 "metadata": {
  "kernelspec": {
   "display_name": "Python 3",
   "language": "python",
   "name": "python3"
  },
  "language_info": {
   "codemirror_mode": {
    "name": "ipython",
    "version": 2
   },
   "file_extension": ".py",
   "mimetype": "text/x-python",
   "name": "python",
   "nbconvert_exporter": "python",
   "pygments_lexer": "ipython2",
   "version": "2.7.6"
  }
 },
 "nbformat": 4,
 "nbformat_minor": 0
}