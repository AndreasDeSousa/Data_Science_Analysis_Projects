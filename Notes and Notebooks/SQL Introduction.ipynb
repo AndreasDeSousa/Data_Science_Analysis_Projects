{
 "cells": [
  {
   "cell_type": "markdown",
   "source": [
    "<h1 style=\"color:Orange;font-size:170%;\"> SQL First Project </h1>\n",
    "\n",
    "# Installing SQL module in the notebook"
   ],
   "metadata": {
    "collapsed": false
   }
  },
  {
   "cell_type": "code",
   "execution_count": 1,
   "outputs": [
    {
     "name": "stdout",
     "output_type": "stream",
     "text": [
      "Collecting package metadata (current_repodata.json): ...working... done\n",
      "Solving environment: ...working... done\n",
      "\n",
      "# All requested packages already installed.\n",
      "\n",
      "\n",
      "Note: you may need to restart the kernel to use updated packages.\n"
     ]
    }
   ],
   "source": [
    "#conda install -c conda-forge jupyterlab"
   ],
   "metadata": {
    "collapsed": false,
    "pycharm": {
     "name": "#%%\n"
    }
   }
  },
  {
   "cell_type": "code",
   "execution_count": 2,
   "outputs": [
    {
     "name": "stdout",
     "output_type": "stream",
     "text": [
      "Requirement already satisfied: ipython-sql in c:\\users\\desou\\anaconda3\\lib\\site-packages (0.4.0)\n",
      "Requirement already satisfied: prettytable<1 in c:\\users\\desou\\anaconda3\\lib\\site-packages (from ipython-sql) (0.7.2)\n",
      "Requirement already satisfied: six in c:\\users\\desou\\anaconda3\\lib\\site-packages (from ipython-sql) (1.15.0)\n",
      "Requirement already satisfied: sqlparse in c:\\users\\desou\\anaconda3\\lib\\site-packages (from ipython-sql) (0.4.2)\n",
      "Requirement already satisfied: sqlalchemy>=0.6.7 in c:\\users\\desou\\anaconda3\\lib\\site-packages (from ipython-sql) (1.4.22)\n",
      "Requirement already satisfied: ipython-genutils>=0.1.0 in c:\\users\\desou\\anaconda3\\lib\\site-packages (from ipython-sql) (0.2.0)\n",
      "Requirement already satisfied: ipython>=1.0 in c:\\users\\desou\\anaconda3\\lib\\site-packages (from ipython-sql) (7.22.0)\n",
      "Requirement already satisfied: pickleshare in c:\\users\\desou\\anaconda3\\lib\\site-packages (from ipython>=1.0->ipython-sql) (0.7.5)\n",
      "Requirement already satisfied: backcall in c:\\users\\desou\\anaconda3\\lib\\site-packages (from ipython>=1.0->ipython-sql) (0.2.0)\n",
      "Requirement already satisfied: decorator in c:\\users\\desou\\anaconda3\\lib\\site-packages (from ipython>=1.0->ipython-sql) (5.0.6)\n",
      "Requirement already satisfied: pygments in c:\\users\\desou\\anaconda3\\lib\\site-packages (from ipython>=1.0->ipython-sql) (2.8.1)\n",
      "Requirement already satisfied: prompt-toolkit!=3.0.0,!=3.0.1,<3.1.0,>=2.0.0 in c:\\users\\desou\\anaconda3\\lib\\site-packages (from ipython>=1.0->ipython-sql) (3.0.17)\n",
      "Requirement already satisfied: traitlets>=4.2 in c:\\users\\desou\\anaconda3\\lib\\site-packages (from ipython>=1.0->ipython-sql) (5.0.5)\n",
      "Requirement already satisfied: jedi>=0.16 in c:\\users\\desou\\anaconda3\\lib\\site-packages (from ipython>=1.0->ipython-sql) (0.17.2)\n",
      "Requirement already satisfied: setuptools>=18.5 in c:\\users\\desou\\anaconda3\\lib\\site-packages (from ipython>=1.0->ipython-sql) (52.0.0.post20210125)\n",
      "Requirement already satisfied: colorama in c:\\users\\desou\\anaconda3\\lib\\site-packages (from ipython>=1.0->ipython-sql) (0.4.4)\n",
      "Requirement already satisfied: parso<0.8.0,>=0.7.0 in c:\\users\\desou\\anaconda3\\lib\\site-packages (from jedi>=0.16->ipython>=1.0->ipython-sql) (0.7.0)\n",
      "Requirement already satisfied: wcwidth in c:\\users\\desou\\anaconda3\\lib\\site-packages (from prompt-toolkit!=3.0.0,!=3.0.1,<3.1.0,>=2.0.0->ipython>=1.0->ipython-sql) (0.2.5)\n",
      "Requirement already satisfied: greenlet!=0.4.17 in c:\\users\\desou\\anaconda3\\lib\\site-packages (from sqlalchemy>=0.6.7->ipython-sql) (1.0.0)\n"
     ]
    }
   ],
   "source": [
    "#!pip install ipython-sql"
   ],
   "metadata": {
    "collapsed": false,
    "pycharm": {
     "name": "#%%\n"
    }
   }
  },
  {
   "cell_type": "markdown",
   "source": [
    "# Loading the SQL module"
   ],
   "metadata": {
    "collapsed": false
   }
  },
  {
   "cell_type": "code",
   "execution_count": 3,
   "metadata": {
    "collapsed": true
   },
   "outputs": [
    {
     "data": {
      "application/javascript": "IPython.notebook.set_autosave_interval(60000)"
     },
     "metadata": {},
     "output_type": "display_data"
    },
    {
     "name": "stdout",
     "output_type": "stream",
     "text": [
      "Autosaving every 60 seconds\n"
     ]
    }
   ],
   "source": [
    " # autosave every minute\n",
    " %autosave 60\n",
    " # Load SQL Magic Module\n",
    " %load_ext sql"
   ]
  },
  {
   "cell_type": "markdown",
   "source": [
    "# Create a new Database"
   ],
   "metadata": {
    "collapsed": false
   }
  },
  {
   "cell_type": "code",
   "execution_count": 4,
   "outputs": [],
   "source": [
    "%sql sqlite:///Databases/First_db.sqlite"
   ],
   "metadata": {
    "collapsed": false,
    "pycharm": {
     "name": "#%%\n"
    }
   }
  },
  {
   "cell_type": "markdown",
   "source": [
    "## Populate the database"
   ],
   "metadata": {
    "collapsed": false
   }
  },
  {
   "cell_type": "code",
   "execution_count": 5,
   "outputs": [
    {
     "name": "stdout",
     "output_type": "stream",
     "text": [
      " * sqlite:///Databases/First_db.sqlite\n",
      "Done.\n"
     ]
    },
    {
     "data": {
      "text/plain": "[]"
     },
     "execution_count": 5,
     "metadata": {},
     "output_type": "execute_result"
    }
   ],
   "source": [
    "%%sql\n",
    "CREATE TABLE EmployeeDemographics\n",
    "(EmployeeID int,\n",
    "FirstName varchar(50),\n",
    "LastName varchar(50),\n",
    "Age int,\n",
    "Gender varchar(50))"
   ],
   "metadata": {
    "collapsed": false,
    "pycharm": {
     "name": "#%%\n"
    }
   }
  },
  {
   "cell_type": "code",
   "execution_count": 6,
   "outputs": [
    {
     "name": "stdout",
     "output_type": "stream",
     "text": [
      " * sqlite:///Databases/First_db.sqlite\n",
      "Done.\n"
     ]
    },
    {
     "data": {
      "text/plain": "[]"
     },
     "execution_count": 6,
     "metadata": {},
     "output_type": "execute_result"
    }
   ],
   "source": [
    "%%sql\n",
    "CREATE TABLE EmployeeSalary\n",
    "(EmployeeID int,\n",
    "JobTitle varchar(50),\n",
    "Salary int)"
   ],
   "metadata": {
    "collapsed": false,
    "pycharm": {
     "name": "#%%\n"
    }
   }
  },
  {
   "cell_type": "code",
   "execution_count": 6,
   "outputs": [],
   "source": [],
   "metadata": {
    "collapsed": false,
    "pycharm": {
     "name": "#%%\n"
    }
   }
  }
 ],
 "metadata": {
  "kernelspec": {
   "display_name": "Python 3",
   "language": "python",
   "name": "python3"
  },
  "language_info": {
   "codemirror_mode": {
    "name": "ipython",
    "version": 2
   },
   "file_extension": ".py",
   "mimetype": "text/x-python",
   "name": "python",
   "nbconvert_exporter": "python",
   "pygments_lexer": "ipython2",
   "version": "2.7.6"
  }
 },
 "nbformat": 4,
 "nbformat_minor": 0
}