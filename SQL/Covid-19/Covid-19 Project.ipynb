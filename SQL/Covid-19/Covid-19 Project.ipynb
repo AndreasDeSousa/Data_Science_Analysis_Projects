{
 "cells": [
  {
   "cell_type": "markdown",
   "source": [
    "<h1 style=\"color:Orange;font-size:170%;\"> SQL Coronavirus (COVID-19) Deaths Project </h1>\n",
    "\n",
    "# Installing SQL module in the notebook"
   ],
   "metadata": {
    "collapsed": false
   }
  },
  {
   "cell_type": "code",
   "execution_count": 1,
   "metadata": {
    "collapsed": true
   },
   "outputs": [],
   "source": [
    "#conda install -c conda-forge jupyterlab"
   ]
  },
  {
   "cell_type": "code",
   "execution_count": 2,
   "outputs": [],
   "source": [
    "#!pip install ipython-sql"
   ],
   "metadata": {
    "collapsed": false,
    "pycharm": {
     "name": "#%%\n"
    }
   }
  },
  {
   "cell_type": "markdown",
   "source": [
    "# Loading the SQL module"
   ],
   "metadata": {
    "collapsed": false
   }
  },
  {
   "cell_type": "code",
   "execution_count": 3,
   "outputs": [],
   "source": [
    " %load_ext sql"
   ],
   "metadata": {
    "collapsed": false,
    "pycharm": {
     "name": "#%%\n"
    }
   }
  },
  {
   "cell_type": "markdown",
   "source": [
    "# Create a new Database"
   ],
   "metadata": {
    "collapsed": false
   }
  },
  {
   "cell_type": "code",
   "execution_count": 4,
   "outputs": [],
   "source": [
    "%sql sqlite:///Database/COVID_19_db.sqlite"
   ],
   "metadata": {
    "collapsed": false,
    "pycharm": {
     "name": "#%%\n"
    }
   }
  },
  {
   "cell_type": "code",
   "execution_count": 6,
   "outputs": [
    {
     "name": "stdout",
     "output_type": "stream",
     "text": [
      " * sqlite:///Database/COVID_19_db.sqlite\n",
      "Done.\n"
     ]
    },
    {
     "data": {
      "text/plain": "[]"
     },
     "execution_count": 6,
     "metadata": {},
     "output_type": "execute_result"
    }
   ],
   "source": [
    "%%sql\n",
    "CREATE TABLE COVID_DEATH(\n",
    "iso_code varchar(50),\n",
    "continent varchar(50),\n",
    "location varchar(50),\n",
    "date DATE,\n",
    "population real,\n",
    "total_cases real,\n",
    "new_cases real,\n",
    "new_cases_smoothed real,\n",
    "total_deaths real,\n",
    "new_deaths real,\n",
    "new_deaths_smoothed real,\n",
    "total_cases_per_million real,\n",
    "new_cases_per_million real,\n",
    "new_cases_smoothed_per_million real,\n",
    "total_deaths_per_million real,\n",
    "new_deaths_per_million real,\n",
    "new_deaths_smoothed_per_million real,\n",
    "reproduction_rate real,\n",
    "icu_patients real,\n",
    "icu_patients_per_million real,\n",
    "hosp_patients real,\n",
    "hosp_patients_per_million real,\n",
    "weekly_icu_admissions real,\n",
    "weekly_icu_admissions_per_million real,\n",
    "weekly_hosp_admissions real,\n",
    "weekly_hosp_admissions_per_million real\n",
    ")"
   ],
   "metadata": {
    "collapsed": false,
    "pycharm": {
     "name": "#%%\n"
    }
   }
  },
  {
   "cell_type": "code",
   "execution_count": 9,
   "outputs": [
    {
     "name": "stdout",
     "output_type": "stream",
     "text": [
      " * sqlite:///Database/COVID_19_db.sqlite\n",
      "(sqlite3.OperationalError) near \"BULK\": syntax error\n",
      "[SQL: BULK INSERT COVID_DEATH FROM 'Datasets\\covid_data_death.csv'\n",
      "WITH(\n",
      "FIRSTROW = 2, -- as 1st one is header\n",
      "FIELDTERMINATOR = ',',  --CSV field delimiter\n",
      "ROWTERMINATOR = '\\n',   --Use to shift the control to next row\n",
      "TABLOCK\n",
      ")]\n",
      "(Background on this error at: https://sqlalche.me/e/14/e3q8)\n"
     ]
    }
   ],
   "source": [
    "%%sql\n",
    "BULK INSERT COVID_DEATH\n",
    "FROM 'Datasets\\covid_data_death.csv'\n",
    "WITH(\n",
    "FIRSTROW = 2, -- as 1st one is header\n",
    "FIELDTERMINATOR = ',',  --CSV field delimiter\n",
    "ROWTERMINATOR = '\\n',   --Use to shift the control to next row\n",
    "TABLOCK\n",
    ")"
   ],
   "metadata": {
    "collapsed": false,
    "pycharm": {
     "name": "#%%\n"
    }
   }
  },
  {
   "cell_type": "code",
   "execution_count": null,
   "outputs": [],
   "source": [],
   "metadata": {
    "collapsed": false,
    "pycharm": {
     "name": "#%%\n"
    }
   }
  }
 ],
 "metadata": {
  "kernelspec": {
   "display_name": "Python 3",
   "language": "python",
   "name": "python3"
  },
  "language_info": {
   "codemirror_mode": {
    "name": "ipython",
    "version": 2
   },
   "file_extension": ".py",
   "mimetype": "text/x-python",
   "name": "python",
   "nbconvert_exporter": "python",
   "pygments_lexer": "ipython2",
   "version": "2.7.6"
  }
 },
 "nbformat": 4,
 "nbformat_minor": 0
}