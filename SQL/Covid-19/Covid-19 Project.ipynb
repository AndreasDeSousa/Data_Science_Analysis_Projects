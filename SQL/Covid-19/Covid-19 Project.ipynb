{
 "cells": [
  {
   "cell_type": "markdown",
   "source": [
    "<h1 style=\"color:Orange;font-size:170%;\"> SQL Coronavirus (COVID-19) Deaths Project </h1>\n",
    "\n",
    "# Installing SQL module in the notebook"
   ],
   "metadata": {
    "collapsed": false
   }
  },
  {
   "cell_type": "code",
   "execution_count": 1,
   "metadata": {
    "collapsed": true
   },
   "outputs": [],
   "source": [
    "#conda install -c conda-forge jupyterlab"
   ]
  },
  {
   "cell_type": "code",
   "execution_count": 2,
   "outputs": [],
   "source": [
    "#!pip install ipython-sql"
   ],
   "metadata": {
    "collapsed": false,
    "pycharm": {
     "name": "#%%\n"
    }
   }
  },
  {
   "cell_type": "markdown",
   "source": [
    "# Loading the SQL module"
   ],
   "metadata": {
    "collapsed": false
   }
  },
  {
   "cell_type": "code",
   "execution_count": 1,
   "outputs": [],
   "source": [
    "import pandas as pd\n",
    "import sqlite3"
   ],
   "metadata": {
    "collapsed": false,
    "pycharm": {
     "name": "#%%\n"
    }
   }
  },
  {
   "cell_type": "code",
   "execution_count": 2,
   "outputs": [
    {
     "data": {
      "application/javascript": "IPython.notebook.set_autosave_interval(60000)"
     },
     "metadata": {},
     "output_type": "display_data"
    },
    {
     "name": "stdout",
     "output_type": "stream",
     "text": [
      "Autosaving every 60 seconds\n"
     ]
    }
   ],
   "source": [
    " # autosave every minute\n",
    "%autosave 60\n",
    "# Load SQL Magic Module\n",
    "%load_ext sql"
   ],
   "metadata": {
    "collapsed": false,
    "pycharm": {
     "name": "#%%\n"
    }
   }
  },
  {
   "cell_type": "markdown",
   "source": [
    "# Create a new Database"
   ],
   "metadata": {
    "collapsed": false
   }
  },
  {
   "cell_type": "code",
   "execution_count": 3,
   "outputs": [],
   "source": [
    "#connect to a database\n",
    "conn = sqlite3.connect(r\"Database/COVID_19_db.sqlite\")\n",
    "#if the db does not exist, this creates a Any_Database_Name.db file in the current directory"
   ],
   "metadata": {
    "collapsed": false,
    "pycharm": {
     "name": "#%%\n"
    }
   }
  },
  {
   "cell_type": "markdown",
   "source": [
    "## Populate the database from file"
   ],
   "metadata": {
    "collapsed": false
   }
  },
  {
   "cell_type": "code",
   "execution_count": 31,
   "outputs": [
    {
     "name": "stdout",
     "output_type": "stream",
     "text": [
      "<class 'pandas.core.frame.DataFrame'>\n",
      "RangeIndex: 130600 entries, 0 to 130599\n",
      "Data columns (total 26 columns):\n",
      " #   Column                              Non-Null Count   Dtype  \n",
      "---  ------                              --------------   -----  \n",
      " 0   iso_code                            130600 non-null  object \n",
      " 1   continent                           122243 non-null  object \n",
      " 2   location                            130600 non-null  object \n",
      " 3   date                                130600 non-null  object \n",
      " 4   population                          129676 non-null  float64\n",
      " 5   total_cases                         123547 non-null  float64\n",
      " 6   new_cases                           123545 non-null  float64\n",
      " 7   new_cases_smoothed                  122502 non-null  float64\n",
      " 8   total_deaths                        112502 non-null  float64\n",
      " 9   new_deaths                          112698 non-null  float64\n",
      " 10  new_deaths_smoothed                 122502 non-null  float64\n",
      " 11  total_cases_per_million             122912 non-null  float64\n",
      " 12  new_cases_per_million               122910 non-null  float64\n",
      " 13  new_cases_smoothed_per_million      121872 non-null  float64\n",
      " 14  total_deaths_per_million            111880 non-null  float64\n",
      " 15  new_deaths_per_million              112076 non-null  float64\n",
      " 16  new_deaths_smoothed_per_million     121872 non-null  float64\n",
      " 17  reproduction_rate                   102576 non-null  float64\n",
      " 18  icu_patients                        15619 non-null   float64\n",
      " 19  icu_patients_per_million            15619 non-null   float64\n",
      " 20  hosp_patients                       18310 non-null   float64\n",
      " 21  hosp_patients_per_million           18310 non-null   float64\n",
      " 22  weekly_icu_admissions               1262 non-null    float64\n",
      " 23  weekly_icu_admissions_per_million   1262 non-null    float64\n",
      " 24  weekly_hosp_admissions              2186 non-null    float64\n",
      " 25  weekly_hosp_admissions_per_million  2186 non-null    float64\n",
      "dtypes: float64(22), object(4)\n",
      "memory usage: 25.9+ MB\n"
     ]
    }
   ],
   "source": [
    "#read the CSV\n",
    "df_Death = pd.read_csv('DataSet/covid_data_death.csv')\n",
    "df_Vaccin = pd.read_csv('DataSet/covid_data_vaccin.csv')\n",
    "df_Death.info()"
   ],
   "metadata": {
    "collapsed": false,
    "pycharm": {
     "name": "#%%\n"
    }
   }
  },
  {
   "cell_type": "code",
   "execution_count": 32,
   "outputs": [
    {
     "data": {
      "text/plain": "  iso_code continent     location        date  population  total_cases  \\\n0      AFG      Asia  Afghanistan  24/02/2020  39835428.0          5.0   \n1      AFG      Asia  Afghanistan  25/02/2020  39835428.0          5.0   \n2      AFG      Asia  Afghanistan  26/02/2020  39835428.0          5.0   \n3      AFG      Asia  Afghanistan  27/02/2020  39835428.0          5.0   \n4      AFG      Asia  Afghanistan  28/02/2020  39835428.0          5.0   \n\n   new_cases  new_cases_smoothed  total_deaths  new_deaths  ...  \\\n0        5.0                 NaN           NaN         NaN  ...   \n1        0.0                 NaN           NaN         NaN  ...   \n2        0.0                 NaN           NaN         NaN  ...   \n3        0.0                 NaN           NaN         NaN  ...   \n4        0.0                 NaN           NaN         NaN  ...   \n\n   new_deaths_smoothed_per_million  reproduction_rate  icu_patients  \\\n0                              NaN                NaN           NaN   \n1                              NaN                NaN           NaN   \n2                              NaN                NaN           NaN   \n3                              NaN                NaN           NaN   \n4                              NaN                NaN           NaN   \n\n   icu_patients_per_million  hosp_patients  hosp_patients_per_million  \\\n0                       NaN            NaN                        NaN   \n1                       NaN            NaN                        NaN   \n2                       NaN            NaN                        NaN   \n3                       NaN            NaN                        NaN   \n4                       NaN            NaN                        NaN   \n\n   weekly_icu_admissions  weekly_icu_admissions_per_million  \\\n0                    NaN                                NaN   \n1                    NaN                                NaN   \n2                    NaN                                NaN   \n3                    NaN                                NaN   \n4                    NaN                                NaN   \n\n   weekly_hosp_admissions  weekly_hosp_admissions_per_million  \n0                     NaN                                 NaN  \n1                     NaN                                 NaN  \n2                     NaN                                 NaN  \n3                     NaN                                 NaN  \n4                     NaN                                 NaN  \n\n[5 rows x 26 columns]",
      "text/html": "<div>\n<style scoped>\n    .dataframe tbody tr th:only-of-type {\n        vertical-align: middle;\n    }\n\n    .dataframe tbody tr th {\n        vertical-align: top;\n    }\n\n    .dataframe thead th {\n        text-align: right;\n    }\n</style>\n<table border=\"1\" class=\"dataframe\">\n  <thead>\n    <tr style=\"text-align: right;\">\n      <th></th>\n      <th>iso_code</th>\n      <th>continent</th>\n      <th>location</th>\n      <th>date</th>\n      <th>population</th>\n      <th>total_cases</th>\n      <th>new_cases</th>\n      <th>new_cases_smoothed</th>\n      <th>total_deaths</th>\n      <th>new_deaths</th>\n      <th>...</th>\n      <th>new_deaths_smoothed_per_million</th>\n      <th>reproduction_rate</th>\n      <th>icu_patients</th>\n      <th>icu_patients_per_million</th>\n      <th>hosp_patients</th>\n      <th>hosp_patients_per_million</th>\n      <th>weekly_icu_admissions</th>\n      <th>weekly_icu_admissions_per_million</th>\n      <th>weekly_hosp_admissions</th>\n      <th>weekly_hosp_admissions_per_million</th>\n    </tr>\n  </thead>\n  <tbody>\n    <tr>\n      <th>0</th>\n      <td>AFG</td>\n      <td>Asia</td>\n      <td>Afghanistan</td>\n      <td>24/02/2020</td>\n      <td>39835428.0</td>\n      <td>5.0</td>\n      <td>5.0</td>\n      <td>NaN</td>\n      <td>NaN</td>\n      <td>NaN</td>\n      <td>...</td>\n      <td>NaN</td>\n      <td>NaN</td>\n      <td>NaN</td>\n      <td>NaN</td>\n      <td>NaN</td>\n      <td>NaN</td>\n      <td>NaN</td>\n      <td>NaN</td>\n      <td>NaN</td>\n      <td>NaN</td>\n    </tr>\n    <tr>\n      <th>1</th>\n      <td>AFG</td>\n      <td>Asia</td>\n      <td>Afghanistan</td>\n      <td>25/02/2020</td>\n      <td>39835428.0</td>\n      <td>5.0</td>\n      <td>0.0</td>\n      <td>NaN</td>\n      <td>NaN</td>\n      <td>NaN</td>\n      <td>...</td>\n      <td>NaN</td>\n      <td>NaN</td>\n      <td>NaN</td>\n      <td>NaN</td>\n      <td>NaN</td>\n      <td>NaN</td>\n      <td>NaN</td>\n      <td>NaN</td>\n      <td>NaN</td>\n      <td>NaN</td>\n    </tr>\n    <tr>\n      <th>2</th>\n      <td>AFG</td>\n      <td>Asia</td>\n      <td>Afghanistan</td>\n      <td>26/02/2020</td>\n      <td>39835428.0</td>\n      <td>5.0</td>\n      <td>0.0</td>\n      <td>NaN</td>\n      <td>NaN</td>\n      <td>NaN</td>\n      <td>...</td>\n      <td>NaN</td>\n      <td>NaN</td>\n      <td>NaN</td>\n      <td>NaN</td>\n      <td>NaN</td>\n      <td>NaN</td>\n      <td>NaN</td>\n      <td>NaN</td>\n      <td>NaN</td>\n      <td>NaN</td>\n    </tr>\n    <tr>\n      <th>3</th>\n      <td>AFG</td>\n      <td>Asia</td>\n      <td>Afghanistan</td>\n      <td>27/02/2020</td>\n      <td>39835428.0</td>\n      <td>5.0</td>\n      <td>0.0</td>\n      <td>NaN</td>\n      <td>NaN</td>\n      <td>NaN</td>\n      <td>...</td>\n      <td>NaN</td>\n      <td>NaN</td>\n      <td>NaN</td>\n      <td>NaN</td>\n      <td>NaN</td>\n      <td>NaN</td>\n      <td>NaN</td>\n      <td>NaN</td>\n      <td>NaN</td>\n      <td>NaN</td>\n    </tr>\n    <tr>\n      <th>4</th>\n      <td>AFG</td>\n      <td>Asia</td>\n      <td>Afghanistan</td>\n      <td>28/02/2020</td>\n      <td>39835428.0</td>\n      <td>5.0</td>\n      <td>0.0</td>\n      <td>NaN</td>\n      <td>NaN</td>\n      <td>NaN</td>\n      <td>...</td>\n      <td>NaN</td>\n      <td>NaN</td>\n      <td>NaN</td>\n      <td>NaN</td>\n      <td>NaN</td>\n      <td>NaN</td>\n      <td>NaN</td>\n      <td>NaN</td>\n      <td>NaN</td>\n      <td>NaN</td>\n    </tr>\n  </tbody>\n</table>\n<p>5 rows × 26 columns</p>\n</div>"
     },
     "execution_count": 32,
     "metadata": {},
     "output_type": "execute_result"
    }
   ],
   "source": [
    "df_Death.head()"
   ],
   "metadata": {
    "collapsed": false,
    "pycharm": {
     "name": "#%%\n"
    }
   }
  },
  {
   "cell_type": "code",
   "execution_count": 33,
   "outputs": [
    {
     "name": "stdout",
     "output_type": "stream",
     "text": [
      "<class 'pandas.core.frame.DataFrame'>\n",
      "RangeIndex: 130600 entries, 0 to 130599\n",
      "Data columns (total 43 columns):\n",
      " #   Column                                   Non-Null Count   Dtype  \n",
      "---  ------                                   --------------   -----  \n",
      " 0   iso_code                                 130600 non-null  object \n",
      " 1   continent                                122243 non-null  object \n",
      " 2   location                                 130600 non-null  object \n",
      " 3   date                                     130600 non-null  object \n",
      " 4   new_tests                                54508 non-null   float64\n",
      " 5   total_tests                              54699 non-null   float64\n",
      " 6   total_tests_per_thousand                 54699 non-null   float64\n",
      " 7   new_tests_per_thousand                   54508 non-null   float64\n",
      " 8   new_tests_smoothed                       65945 non-null   float64\n",
      " 9   new_tests_smoothed_per_thousand          65945 non-null   float64\n",
      " 10  positive_rate                            61972 non-null   float64\n",
      " 11  tests_per_case                           61316 non-null   float64\n",
      " 12  tests_units                              67934 non-null   object \n",
      " 13  total_vaccinations                       32339 non-null   float64\n",
      " 14  people_vaccinated                        30847 non-null   float64\n",
      " 15  people_fully_vaccinated                  27820 non-null   float64\n",
      " 16  total_boosters                           5353 non-null    float64\n",
      " 17  new_vaccinations                         26969 non-null   float64\n",
      " 18  new_vaccinations_smoothed                57375 non-null   float64\n",
      " 19  total_vaccinations_per_hundred           32339 non-null   float64\n",
      " 20  people_vaccinated_per_hundred            30847 non-null   float64\n",
      " 21  people_fully_vaccinated_per_hundred      27820 non-null   float64\n",
      " 22  total_boosters_per_hundred               5353 non-null    float64\n",
      " 23  new_vaccinations_smoothed_per_million    57375 non-null   float64\n",
      " 24  stringency_index                         106737 non-null  float64\n",
      " 25  population_density                       118248 non-null  float64\n",
      " 26  median_age                               112730 non-null  float64\n",
      " 27  aged_65_older                            111482 non-null  float64\n",
      " 28  aged_70_older                            112114 non-null  float64\n",
      " 29  gdp_per_capita                           113459 non-null  float64\n",
      " 30  extreme_poverty                          75896 non-null   float64\n",
      " 31  cardiovasc_death_rate                    112985 non-null  float64\n",
      " 32  diabetes_prevalence                      116659 non-null  float64\n",
      " 33  female_smokers                           88023 non-null   float64\n",
      " 34  male_smokers                             86749 non-null   float64\n",
      " 35  handwashing_facilities                   56858 non-null   float64\n",
      " 36  hospital_beds_per_thousand               102686 non-null  float64\n",
      " 37  life_expectancy                          121411 non-null  float64\n",
      " 38  human_development_index                  113078 non-null  float64\n",
      " 39  excess_mortality_cumulative_absolute     4580 non-null    float64\n",
      " 40  excess_mortality_cumulative              4580 non-null    float64\n",
      " 41  excess_mortality                         4580 non-null    float64\n",
      " 42  excess_mortality_cumulative_per_million  4580 non-null    float64\n",
      "dtypes: float64(38), object(5)\n",
      "memory usage: 42.8+ MB\n"
     ]
    }
   ],
   "source": [
    "df_Vaccin.info()"
   ],
   "metadata": {
    "collapsed": false,
    "pycharm": {
     "name": "#%%\n"
    }
   }
  },
  {
   "cell_type": "code",
   "execution_count": 34,
   "outputs": [
    {
     "data": {
      "text/plain": "  iso_code continent     location        date  new_tests  total_tests  \\\n0      AFG      Asia  Afghanistan  24/02/2020        NaN          NaN   \n1      AFG      Asia  Afghanistan  25/02/2020        NaN          NaN   \n2      AFG      Asia  Afghanistan  26/02/2020        NaN          NaN   \n3      AFG      Asia  Afghanistan  27/02/2020        NaN          NaN   \n4      AFG      Asia  Afghanistan  28/02/2020        NaN          NaN   \n\n   total_tests_per_thousand  new_tests_per_thousand  new_tests_smoothed  \\\n0                       NaN                     NaN                 NaN   \n1                       NaN                     NaN                 NaN   \n2                       NaN                     NaN                 NaN   \n3                       NaN                     NaN                 NaN   \n4                       NaN                     NaN                 NaN   \n\n   new_tests_smoothed_per_thousand  ...  female_smokers  male_smokers  \\\n0                              NaN  ...             NaN           NaN   \n1                              NaN  ...             NaN           NaN   \n2                              NaN  ...             NaN           NaN   \n3                              NaN  ...             NaN           NaN   \n4                              NaN  ...             NaN           NaN   \n\n  handwashing_facilities  hospital_beds_per_thousand  life_expectancy  \\\n0                 37.746                         0.5            64.83   \n1                 37.746                         0.5            64.83   \n2                 37.746                         0.5            64.83   \n3                 37.746                         0.5            64.83   \n4                 37.746                         0.5            64.83   \n\n   human_development_index  excess_mortality_cumulative_absolute  \\\n0                    0.511                                   NaN   \n1                    0.511                                   NaN   \n2                    0.511                                   NaN   \n3                    0.511                                   NaN   \n4                    0.511                                   NaN   \n\n   excess_mortality_cumulative  excess_mortality  \\\n0                          NaN               NaN   \n1                          NaN               NaN   \n2                          NaN               NaN   \n3                          NaN               NaN   \n4                          NaN               NaN   \n\n   excess_mortality_cumulative_per_million  \n0                                      NaN  \n1                                      NaN  \n2                                      NaN  \n3                                      NaN  \n4                                      NaN  \n\n[5 rows x 43 columns]",
      "text/html": "<div>\n<style scoped>\n    .dataframe tbody tr th:only-of-type {\n        vertical-align: middle;\n    }\n\n    .dataframe tbody tr th {\n        vertical-align: top;\n    }\n\n    .dataframe thead th {\n        text-align: right;\n    }\n</style>\n<table border=\"1\" class=\"dataframe\">\n  <thead>\n    <tr style=\"text-align: right;\">\n      <th></th>\n      <th>iso_code</th>\n      <th>continent</th>\n      <th>location</th>\n      <th>date</th>\n      <th>new_tests</th>\n      <th>total_tests</th>\n      <th>total_tests_per_thousand</th>\n      <th>new_tests_per_thousand</th>\n      <th>new_tests_smoothed</th>\n      <th>new_tests_smoothed_per_thousand</th>\n      <th>...</th>\n      <th>female_smokers</th>\n      <th>male_smokers</th>\n      <th>handwashing_facilities</th>\n      <th>hospital_beds_per_thousand</th>\n      <th>life_expectancy</th>\n      <th>human_development_index</th>\n      <th>excess_mortality_cumulative_absolute</th>\n      <th>excess_mortality_cumulative</th>\n      <th>excess_mortality</th>\n      <th>excess_mortality_cumulative_per_million</th>\n    </tr>\n  </thead>\n  <tbody>\n    <tr>\n      <th>0</th>\n      <td>AFG</td>\n      <td>Asia</td>\n      <td>Afghanistan</td>\n      <td>24/02/2020</td>\n      <td>NaN</td>\n      <td>NaN</td>\n      <td>NaN</td>\n      <td>NaN</td>\n      <td>NaN</td>\n      <td>NaN</td>\n      <td>...</td>\n      <td>NaN</td>\n      <td>NaN</td>\n      <td>37.746</td>\n      <td>0.5</td>\n      <td>64.83</td>\n      <td>0.511</td>\n      <td>NaN</td>\n      <td>NaN</td>\n      <td>NaN</td>\n      <td>NaN</td>\n    </tr>\n    <tr>\n      <th>1</th>\n      <td>AFG</td>\n      <td>Asia</td>\n      <td>Afghanistan</td>\n      <td>25/02/2020</td>\n      <td>NaN</td>\n      <td>NaN</td>\n      <td>NaN</td>\n      <td>NaN</td>\n      <td>NaN</td>\n      <td>NaN</td>\n      <td>...</td>\n      <td>NaN</td>\n      <td>NaN</td>\n      <td>37.746</td>\n      <td>0.5</td>\n      <td>64.83</td>\n      <td>0.511</td>\n      <td>NaN</td>\n      <td>NaN</td>\n      <td>NaN</td>\n      <td>NaN</td>\n    </tr>\n    <tr>\n      <th>2</th>\n      <td>AFG</td>\n      <td>Asia</td>\n      <td>Afghanistan</td>\n      <td>26/02/2020</td>\n      <td>NaN</td>\n      <td>NaN</td>\n      <td>NaN</td>\n      <td>NaN</td>\n      <td>NaN</td>\n      <td>NaN</td>\n      <td>...</td>\n      <td>NaN</td>\n      <td>NaN</td>\n      <td>37.746</td>\n      <td>0.5</td>\n      <td>64.83</td>\n      <td>0.511</td>\n      <td>NaN</td>\n      <td>NaN</td>\n      <td>NaN</td>\n      <td>NaN</td>\n    </tr>\n    <tr>\n      <th>3</th>\n      <td>AFG</td>\n      <td>Asia</td>\n      <td>Afghanistan</td>\n      <td>27/02/2020</td>\n      <td>NaN</td>\n      <td>NaN</td>\n      <td>NaN</td>\n      <td>NaN</td>\n      <td>NaN</td>\n      <td>NaN</td>\n      <td>...</td>\n      <td>NaN</td>\n      <td>NaN</td>\n      <td>37.746</td>\n      <td>0.5</td>\n      <td>64.83</td>\n      <td>0.511</td>\n      <td>NaN</td>\n      <td>NaN</td>\n      <td>NaN</td>\n      <td>NaN</td>\n    </tr>\n    <tr>\n      <th>4</th>\n      <td>AFG</td>\n      <td>Asia</td>\n      <td>Afghanistan</td>\n      <td>28/02/2020</td>\n      <td>NaN</td>\n      <td>NaN</td>\n      <td>NaN</td>\n      <td>NaN</td>\n      <td>NaN</td>\n      <td>NaN</td>\n      <td>...</td>\n      <td>NaN</td>\n      <td>NaN</td>\n      <td>37.746</td>\n      <td>0.5</td>\n      <td>64.83</td>\n      <td>0.511</td>\n      <td>NaN</td>\n      <td>NaN</td>\n      <td>NaN</td>\n      <td>NaN</td>\n    </tr>\n  </tbody>\n</table>\n<p>5 rows × 43 columns</p>\n</div>"
     },
     "execution_count": 34,
     "metadata": {},
     "output_type": "execute_result"
    }
   ],
   "source": [
    "df_Vaccin.head()"
   ],
   "metadata": {
    "collapsed": false,
    "pycharm": {
     "name": "#%%\n"
    }
   }
  },
  {
   "cell_type": "code",
   "execution_count": 38,
   "outputs": [],
   "source": [
    "#store your table in the database:\n",
    "df_Death.to_sql('CovidDeaths', conn,index=False)\n",
    "df_Vaccin.to_sql('CovidVaccinations', conn,index=False)\n",
    "# We set index to false for not have a double index on the SQL tables"
   ],
   "metadata": {
    "collapsed": false,
    "pycharm": {
     "name": "#%%\n"
    }
   }
  },
  {
   "cell_type": "code",
   "execution_count": 39,
   "outputs": [
    {
     "name": "stdout",
     "output_type": "stream",
     "text": [
      "<class 'pandas.core.frame.DataFrame'>\n",
      "RangeIndex: 20 entries, 0 to 19\n",
      "Data columns (total 26 columns):\n",
      " #   Column                              Non-Null Count  Dtype  \n",
      "---  ------                              --------------  -----  \n",
      " 0   iso_code                            20 non-null     object \n",
      " 1   continent                           20 non-null     object \n",
      " 2   location                            20 non-null     object \n",
      " 3   date                                20 non-null     object \n",
      " 4   population                          20 non-null     float64\n",
      " 5   total_cases                         20 non-null     float64\n",
      " 6   new_cases                           20 non-null     float64\n",
      " 7   new_cases_smoothed                  15 non-null     float64\n",
      " 8   total_deaths                        0 non-null      object \n",
      " 9   new_deaths                          0 non-null      object \n",
      " 10  new_deaths_smoothed                 15 non-null     float64\n",
      " 11  total_cases_per_million             20 non-null     float64\n",
      " 12  new_cases_per_million               20 non-null     float64\n",
      " 13  new_cases_smoothed_per_million      15 non-null     float64\n",
      " 14  total_deaths_per_million            0 non-null      object \n",
      " 15  new_deaths_per_million              0 non-null      object \n",
      " 16  new_deaths_smoothed_per_million     15 non-null     float64\n",
      " 17  reproduction_rate                   0 non-null      object \n",
      " 18  icu_patients                        0 non-null      object \n",
      " 19  icu_patients_per_million            0 non-null      object \n",
      " 20  hosp_patients                       0 non-null      object \n",
      " 21  hosp_patients_per_million           0 non-null      object \n",
      " 22  weekly_icu_admissions               0 non-null      object \n",
      " 23  weekly_icu_admissions_per_million   0 non-null      object \n",
      " 24  weekly_hosp_admissions              0 non-null      object \n",
      " 25  weekly_hosp_admissions_per_million  0 non-null      object \n",
      "dtypes: float64(9), object(17)\n",
      "memory usage: 4.2+ KB\n"
     ]
    }
   ],
   "source": [
    "#read a SQL Query out of your database and into a pandas dataframe\n",
    "sql_string = 'SELECT * FROM CovidDeaths LIMIT 20'\n",
    "df = pd.read_sql(sql_string, conn)\n",
    "df.info()\n"
   ],
   "metadata": {
    "collapsed": false,
    "pycharm": {
     "name": "#%%\n"
    }
   }
  },
  {
   "cell_type": "code",
   "execution_count": 40,
   "outputs": [
    {
     "data": {
      "text/plain": "  iso_code continent     location        date  population  total_cases  \\\n0      AFG      Asia  Afghanistan  24/02/2020  39835428.0          5.0   \n1      AFG      Asia  Afghanistan  25/02/2020  39835428.0          5.0   \n2      AFG      Asia  Afghanistan  26/02/2020  39835428.0          5.0   \n3      AFG      Asia  Afghanistan  27/02/2020  39835428.0          5.0   \n4      AFG      Asia  Afghanistan  28/02/2020  39835428.0          5.0   \n\n   new_cases  new_cases_smoothed total_deaths new_deaths  ...  \\\n0        5.0                 NaN         None       None  ...   \n1        0.0                 NaN         None       None  ...   \n2        0.0                 NaN         None       None  ...   \n3        0.0                 NaN         None       None  ...   \n4        0.0                 NaN         None       None  ...   \n\n   new_deaths_smoothed_per_million  reproduction_rate  icu_patients  \\\n0                              NaN               None          None   \n1                              NaN               None          None   \n2                              NaN               None          None   \n3                              NaN               None          None   \n4                              NaN               None          None   \n\n   icu_patients_per_million hosp_patients hosp_patients_per_million  \\\n0                      None          None                      None   \n1                      None          None                      None   \n2                      None          None                      None   \n3                      None          None                      None   \n4                      None          None                      None   \n\n   weekly_icu_admissions weekly_icu_admissions_per_million  \\\n0                   None                              None   \n1                   None                              None   \n2                   None                              None   \n3                   None                              None   \n4                   None                              None   \n\n  weekly_hosp_admissions weekly_hosp_admissions_per_million  \n0                   None                               None  \n1                   None                               None  \n2                   None                               None  \n3                   None                               None  \n4                   None                               None  \n\n[5 rows x 26 columns]",
      "text/html": "<div>\n<style scoped>\n    .dataframe tbody tr th:only-of-type {\n        vertical-align: middle;\n    }\n\n    .dataframe tbody tr th {\n        vertical-align: top;\n    }\n\n    .dataframe thead th {\n        text-align: right;\n    }\n</style>\n<table border=\"1\" class=\"dataframe\">\n  <thead>\n    <tr style=\"text-align: right;\">\n      <th></th>\n      <th>iso_code</th>\n      <th>continent</th>\n      <th>location</th>\n      <th>date</th>\n      <th>population</th>\n      <th>total_cases</th>\n      <th>new_cases</th>\n      <th>new_cases_smoothed</th>\n      <th>total_deaths</th>\n      <th>new_deaths</th>\n      <th>...</th>\n      <th>new_deaths_smoothed_per_million</th>\n      <th>reproduction_rate</th>\n      <th>icu_patients</th>\n      <th>icu_patients_per_million</th>\n      <th>hosp_patients</th>\n      <th>hosp_patients_per_million</th>\n      <th>weekly_icu_admissions</th>\n      <th>weekly_icu_admissions_per_million</th>\n      <th>weekly_hosp_admissions</th>\n      <th>weekly_hosp_admissions_per_million</th>\n    </tr>\n  </thead>\n  <tbody>\n    <tr>\n      <th>0</th>\n      <td>AFG</td>\n      <td>Asia</td>\n      <td>Afghanistan</td>\n      <td>24/02/2020</td>\n      <td>39835428.0</td>\n      <td>5.0</td>\n      <td>5.0</td>\n      <td>NaN</td>\n      <td>None</td>\n      <td>None</td>\n      <td>...</td>\n      <td>NaN</td>\n      <td>None</td>\n      <td>None</td>\n      <td>None</td>\n      <td>None</td>\n      <td>None</td>\n      <td>None</td>\n      <td>None</td>\n      <td>None</td>\n      <td>None</td>\n    </tr>\n    <tr>\n      <th>1</th>\n      <td>AFG</td>\n      <td>Asia</td>\n      <td>Afghanistan</td>\n      <td>25/02/2020</td>\n      <td>39835428.0</td>\n      <td>5.0</td>\n      <td>0.0</td>\n      <td>NaN</td>\n      <td>None</td>\n      <td>None</td>\n      <td>...</td>\n      <td>NaN</td>\n      <td>None</td>\n      <td>None</td>\n      <td>None</td>\n      <td>None</td>\n      <td>None</td>\n      <td>None</td>\n      <td>None</td>\n      <td>None</td>\n      <td>None</td>\n    </tr>\n    <tr>\n      <th>2</th>\n      <td>AFG</td>\n      <td>Asia</td>\n      <td>Afghanistan</td>\n      <td>26/02/2020</td>\n      <td>39835428.0</td>\n      <td>5.0</td>\n      <td>0.0</td>\n      <td>NaN</td>\n      <td>None</td>\n      <td>None</td>\n      <td>...</td>\n      <td>NaN</td>\n      <td>None</td>\n      <td>None</td>\n      <td>None</td>\n      <td>None</td>\n      <td>None</td>\n      <td>None</td>\n      <td>None</td>\n      <td>None</td>\n      <td>None</td>\n    </tr>\n    <tr>\n      <th>3</th>\n      <td>AFG</td>\n      <td>Asia</td>\n      <td>Afghanistan</td>\n      <td>27/02/2020</td>\n      <td>39835428.0</td>\n      <td>5.0</td>\n      <td>0.0</td>\n      <td>NaN</td>\n      <td>None</td>\n      <td>None</td>\n      <td>...</td>\n      <td>NaN</td>\n      <td>None</td>\n      <td>None</td>\n      <td>None</td>\n      <td>None</td>\n      <td>None</td>\n      <td>None</td>\n      <td>None</td>\n      <td>None</td>\n      <td>None</td>\n    </tr>\n    <tr>\n      <th>4</th>\n      <td>AFG</td>\n      <td>Asia</td>\n      <td>Afghanistan</td>\n      <td>28/02/2020</td>\n      <td>39835428.0</td>\n      <td>5.0</td>\n      <td>0.0</td>\n      <td>NaN</td>\n      <td>None</td>\n      <td>None</td>\n      <td>...</td>\n      <td>NaN</td>\n      <td>None</td>\n      <td>None</td>\n      <td>None</td>\n      <td>None</td>\n      <td>None</td>\n      <td>None</td>\n      <td>None</td>\n      <td>None</td>\n      <td>None</td>\n    </tr>\n  </tbody>\n</table>\n<p>5 rows × 26 columns</p>\n</div>"
     },
     "execution_count": 40,
     "metadata": {},
     "output_type": "execute_result"
    }
   ],
   "source": [
    "df.head()"
   ],
   "metadata": {
    "collapsed": false,
    "pycharm": {
     "name": "#%%\n"
    }
   }
  },
  {
   "cell_type": "code",
   "execution_count": null,
   "outputs": [],
   "source": [],
   "metadata": {
    "collapsed": false,
    "pycharm": {
     "name": "#%%\n"
    }
   }
  }
 ],
 "metadata": {
  "kernelspec": {
   "display_name": "Python 3",
   "language": "python",
   "name": "python3"
  },
  "language_info": {
   "codemirror_mode": {
    "name": "ipython",
    "version": 2
   },
   "file_extension": ".py",
   "mimetype": "text/x-python",
   "name": "python",
   "nbconvert_exporter": "python",
   "pygments_lexer": "ipython2",
   "version": "2.7.6"
  }
 },
 "nbformat": 4,
 "nbformat_minor": 0
}