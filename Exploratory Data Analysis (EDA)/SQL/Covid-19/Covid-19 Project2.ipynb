<<<<<<< HEAD:Exploratory Data Analysis/SQL/Covid-19/Covid-19 Project.ipynb
{
 "cells": [
  {
   "cell_type": "markdown",
   "source": [
    "<h1 style=\"color:Orange;font-size:170%;\"> SQL Coronavirus (COVID-19) Deaths Project </h1>\n",
    "\n",
    "# Installing SQL module in the notebook"
   ],
   "metadata": {
    "collapsed": false
   }
  },
  {
   "cell_type": "code",
   "execution_count": 72,
   "metadata": {
    "collapsed": true
   },
   "outputs": [],
   "source": [
    "#conda install -c conda-forge jupyterlab"
   ]
  },
  {
   "cell_type": "code",
   "execution_count": 73,
   "outputs": [],
   "source": [
    "#!pip install ipython-sql"
   ],
   "metadata": {
    "collapsed": false,
    "pycharm": {
     "name": "#%%\n"
    }
   }
  },
  {
   "cell_type": "markdown",
   "source": [
    "# Loading the SQL module"
   ],
   "metadata": {
    "collapsed": false
   }
  },
  {
   "cell_type": "code",
   "execution_count": 74,
   "outputs": [
    {
     "data": {
      "application/javascript": "IPython.notebook.set_autosave_interval(60000)"
     },
     "metadata": {},
     "output_type": "display_data"
    },
    {
     "name": "stdout",
     "output_type": "stream",
     "text": [
      "Autosaving every 60 seconds\n",
      "The sql extension is already loaded. To reload it, use:\n",
      "  %reload_ext sql\n"
     ]
    }
   ],
   "source": [
    "import pandas as pd\n",
    "import sqlite3\n",
    "\n",
    "# autosave every minute\n",
    "%autosave 60\n",
    "\n",
    "# Load SQL Magic Module\n",
    "%load_ext sql"
   ],
   "metadata": {
    "collapsed": false,
    "pycharm": {
     "name": "#%%\n"
    }
   }
  },
  {
   "cell_type": "markdown",
   "source": [
    "# Create a new Database"
   ],
   "metadata": {
    "collapsed": false
   }
  },
  {
   "cell_type": "code",
   "execution_count": 101,
   "outputs": [],
   "source": [
    "#connect to a database\n",
    "conn = sqlite3.connect(r\"Database/COVID_19_db.sqlite\")\n",
    "#if the db does not exist, this creates a Any_Database_Name.db file in the current directory"
   ],
   "metadata": {
    "collapsed": false,
    "pycharm": {
     "name": "#%%\n"
    }
   }
  },
  {
   "cell_type": "markdown",
   "source": [
    "## Populate the database from file"
   ],
   "metadata": {
    "collapsed": false
   }
  },
  {
   "cell_type": "code",
   "execution_count": 104,
   "outputs": [
    {
     "name": "stdout",
     "output_type": "stream",
     "text": [
      "<class 'pandas.core.frame.DataFrame'>\n",
      "RangeIndex: 130600 entries, 0 to 130599\n",
      "Data columns (total 26 columns):\n",
      " #   Column                              Non-Null Count   Dtype  \n",
      "---  ------                              --------------   -----  \n",
      " 0   iso_code                            130600 non-null  object \n",
      " 1   continent                           122243 non-null  object \n",
      " 2   location                            130600 non-null  object \n",
      " 3   date                                130600 non-null  object \n",
      " 4   population                          129676 non-null  float64\n",
      " 5   total_cases                         123547 non-null  float64\n",
      " 6   new_cases                           123545 non-null  float64\n",
      " 7   new_cases_smoothed                  122502 non-null  float64\n",
      " 8   total_deaths                        112502 non-null  float64\n",
      " 9   new_deaths                          112698 non-null  float64\n",
      " 10  new_deaths_smoothed                 122502 non-null  float64\n",
      " 11  total_cases_per_million             122912 non-null  float64\n",
      " 12  new_cases_per_million               122910 non-null  float64\n",
      " 13  new_cases_smoothed_per_million      121872 non-null  float64\n",
      " 14  total_deaths_per_million            111880 non-null  float64\n",
      " 15  new_deaths_per_million              112076 non-null  float64\n",
      " 16  new_deaths_smoothed_per_million     121872 non-null  float64\n",
      " 17  reproduction_rate                   102576 non-null  float64\n",
      " 18  icu_patients                        15619 non-null   float64\n",
      " 19  icu_patients_per_million            15619 non-null   float64\n",
      " 20  hosp_patients                       18310 non-null   float64\n",
      " 21  hosp_patients_per_million           18310 non-null   float64\n",
      " 22  weekly_icu_admissions               1262 non-null    float64\n",
      " 23  weekly_icu_admissions_per_million   1262 non-null    float64\n",
      " 24  weekly_hosp_admissions              2186 non-null    float64\n",
      " 25  weekly_hosp_admissions_per_million  2186 non-null    float64\n",
      "dtypes: float64(22), object(4)\n",
      "memory usage: 25.9+ MB\n"
     ]
    }
   ],
   "source": [
    "#read the CSV\n",
    "#df_Death = pd.read_csv('DataSet/covid_data_death.csv')\n",
    "#df_Vaccin = pd.read_csv('DataSet/covid_data_vaccin.csv')\n",
    "\n",
    "df_Death = pd.read_csv('DataSet/covid_deaths.csv')\n",
    "df_Vaccin = pd.read_csv('DataSet/covid_vaccine.csv')\n",
    "df_Death.info()"
   ],
   "metadata": {
    "collapsed": false,
    "pycharm": {
     "name": "#%%\n"
    }
   }
  },
  {
   "cell_type": "code",
   "execution_count": 99,
   "outputs": [
    {
     "data": {
      "text/plain": "  iso_code continent     location        date  population  total_cases  \\\n0      AFG      Asia  Afghanistan  24/02/2020  39835428.0          5.0   \n1      AFG      Asia  Afghanistan  25/02/2020  39835428.0          5.0   \n2      AFG      Asia  Afghanistan  26/02/2020  39835428.0          5.0   \n3      AFG      Asia  Afghanistan  27/02/2020  39835428.0          5.0   \n4      AFG      Asia  Afghanistan  28/02/2020  39835428.0          5.0   \n\n   new_cases  new_cases_smoothed  total_deaths  new_deaths  ...  \\\n0        5.0                 NaN           NaN         NaN  ...   \n1        0.0                 NaN           NaN         NaN  ...   \n2        0.0                 NaN           NaN         NaN  ...   \n3        0.0                 NaN           NaN         NaN  ...   \n4        0.0                 NaN           NaN         NaN  ...   \n\n   new_deaths_smoothed_per_million  reproduction_rate  icu_patients  \\\n0                              NaN                NaN           NaN   \n1                              NaN                NaN           NaN   \n2                              NaN                NaN           NaN   \n3                              NaN                NaN           NaN   \n4                              NaN                NaN           NaN   \n\n   icu_patients_per_million  hosp_patients  hosp_patients_per_million  \\\n0                       NaN            NaN                        NaN   \n1                       NaN            NaN                        NaN   \n2                       NaN            NaN                        NaN   \n3                       NaN            NaN                        NaN   \n4                       NaN            NaN                        NaN   \n\n   weekly_icu_admissions  weekly_icu_admissions_per_million  \\\n0                    NaN                                NaN   \n1                    NaN                                NaN   \n2                    NaN                                NaN   \n3                    NaN                                NaN   \n4                    NaN                                NaN   \n\n   weekly_hosp_admissions  weekly_hosp_admissions_per_million  \n0                     NaN                                 NaN  \n1                     NaN                                 NaN  \n2                     NaN                                 NaN  \n3                     NaN                                 NaN  \n4                     NaN                                 NaN  \n\n[5 rows x 26 columns]",
      "text/html": "<div>\n<style scoped>\n    .dataframe tbody tr th:only-of-type {\n        vertical-align: middle;\n    }\n\n    .dataframe tbody tr th {\n        vertical-align: top;\n    }\n\n    .dataframe thead th {\n        text-align: right;\n    }\n</style>\n<table border=\"1\" class=\"dataframe\">\n  <thead>\n    <tr style=\"text-align: right;\">\n      <th></th>\n      <th>iso_code</th>\n      <th>continent</th>\n      <th>location</th>\n      <th>date</th>\n      <th>population</th>\n      <th>total_cases</th>\n      <th>new_cases</th>\n      <th>new_cases_smoothed</th>\n      <th>total_deaths</th>\n      <th>new_deaths</th>\n      <th>...</th>\n      <th>new_deaths_smoothed_per_million</th>\n      <th>reproduction_rate</th>\n      <th>icu_patients</th>\n      <th>icu_patients_per_million</th>\n      <th>hosp_patients</th>\n      <th>hosp_patients_per_million</th>\n      <th>weekly_icu_admissions</th>\n      <th>weekly_icu_admissions_per_million</th>\n      <th>weekly_hosp_admissions</th>\n      <th>weekly_hosp_admissions_per_million</th>\n    </tr>\n  </thead>\n  <tbody>\n    <tr>\n      <th>0</th>\n      <td>AFG</td>\n      <td>Asia</td>\n      <td>Afghanistan</td>\n      <td>24/02/2020</td>\n      <td>39835428.0</td>\n      <td>5.0</td>\n      <td>5.0</td>\n      <td>NaN</td>\n      <td>NaN</td>\n      <td>NaN</td>\n      <td>...</td>\n      <td>NaN</td>\n      <td>NaN</td>\n      <td>NaN</td>\n      <td>NaN</td>\n      <td>NaN</td>\n      <td>NaN</td>\n      <td>NaN</td>\n      <td>NaN</td>\n      <td>NaN</td>\n      <td>NaN</td>\n    </tr>\n    <tr>\n      <th>1</th>\n      <td>AFG</td>\n      <td>Asia</td>\n      <td>Afghanistan</td>\n      <td>25/02/2020</td>\n      <td>39835428.0</td>\n      <td>5.0</td>\n      <td>0.0</td>\n      <td>NaN</td>\n      <td>NaN</td>\n      <td>NaN</td>\n      <td>...</td>\n      <td>NaN</td>\n      <td>NaN</td>\n      <td>NaN</td>\n      <td>NaN</td>\n      <td>NaN</td>\n      <td>NaN</td>\n      <td>NaN</td>\n      <td>NaN</td>\n      <td>NaN</td>\n      <td>NaN</td>\n    </tr>\n    <tr>\n      <th>2</th>\n      <td>AFG</td>\n      <td>Asia</td>\n      <td>Afghanistan</td>\n      <td>26/02/2020</td>\n      <td>39835428.0</td>\n      <td>5.0</td>\n      <td>0.0</td>\n      <td>NaN</td>\n      <td>NaN</td>\n      <td>NaN</td>\n      <td>...</td>\n      <td>NaN</td>\n      <td>NaN</td>\n      <td>NaN</td>\n      <td>NaN</td>\n      <td>NaN</td>\n      <td>NaN</td>\n      <td>NaN</td>\n      <td>NaN</td>\n      <td>NaN</td>\n      <td>NaN</td>\n    </tr>\n    <tr>\n      <th>3</th>\n      <td>AFG</td>\n      <td>Asia</td>\n      <td>Afghanistan</td>\n      <td>27/02/2020</td>\n      <td>39835428.0</td>\n      <td>5.0</td>\n      <td>0.0</td>\n      <td>NaN</td>\n      <td>NaN</td>\n      <td>NaN</td>\n      <td>...</td>\n      <td>NaN</td>\n      <td>NaN</td>\n      <td>NaN</td>\n      <td>NaN</td>\n      <td>NaN</td>\n      <td>NaN</td>\n      <td>NaN</td>\n      <td>NaN</td>\n      <td>NaN</td>\n      <td>NaN</td>\n    </tr>\n    <tr>\n      <th>4</th>\n      <td>AFG</td>\n      <td>Asia</td>\n      <td>Afghanistan</td>\n      <td>28/02/2020</td>\n      <td>39835428.0</td>\n      <td>5.0</td>\n      <td>0.0</td>\n      <td>NaN</td>\n      <td>NaN</td>\n      <td>NaN</td>\n      <td>...</td>\n      <td>NaN</td>\n      <td>NaN</td>\n      <td>NaN</td>\n      <td>NaN</td>\n      <td>NaN</td>\n      <td>NaN</td>\n      <td>NaN</td>\n      <td>NaN</td>\n      <td>NaN</td>\n      <td>NaN</td>\n    </tr>\n  </tbody>\n</table>\n<p>5 rows × 26 columns</p>\n</div>"
     },
     "execution_count": 99,
     "metadata": {},
     "output_type": "execute_result"
    }
   ],
   "source": [
    "df_Death.head()"
   ],
   "metadata": {
    "collapsed": false,
    "pycharm": {
     "name": "#%%\n"
    }
   }
  },
  {
   "cell_type": "code",
   "execution_count": 78,
   "outputs": [
    {
     "name": "stdout",
     "output_type": "stream",
     "text": [
      "<class 'pandas.core.frame.DataFrame'>\n",
      "RangeIndex: 130600 entries, 0 to 130599\n",
      "Data columns (total 43 columns):\n",
      " #   Column                                   Non-Null Count   Dtype  \n",
      "---  ------                                   --------------   -----  \n",
      " 0   iso_code                                 122243 non-null  object \n",
      " 1   continent                                122243 non-null  object \n",
      " 2   location                                 122243 non-null  object \n",
      " 3   date                                     122243 non-null  object \n",
      " 4   new_tests                                54508 non-null   float64\n",
      " 5   total_tests                              54699 non-null   float64\n",
      " 6   total_tests_per_thousand                 54699 non-null   float64\n",
      " 7   new_tests_per_thousand                   54508 non-null   float64\n",
      " 8   new_tests_smoothed                       65945 non-null   float64\n",
      " 9   new_tests_smoothed_per_thousand          65945 non-null   float64\n",
      " 10  positive_rate                            61972 non-null   float64\n",
      " 11  tests_per_case                           61316 non-null   float64\n",
      " 12  tests_units                              67934 non-null   object \n",
      " 13  total_vaccinations                       32339 non-null   float64\n",
      " 14  people_vaccinated                        30847 non-null   float64\n",
      " 15  people_fully_vaccinated                  27820 non-null   float64\n",
      " 16  total_boosters                           5353 non-null    float64\n",
      " 17  new_vaccinations                         26969 non-null   float64\n",
      " 18  new_vaccinations_smoothed                57375 non-null   float64\n",
      " 19  total_vaccinations_per_hundred           32339 non-null   float64\n",
      " 20  people_vaccinated_per_hundred            30847 non-null   float64\n",
      " 21  people_fully_vaccinated_per_hundred      27820 non-null   float64\n",
      " 22  total_boosters_per_hundred               5353 non-null    float64\n",
      " 23  new_vaccinations_smoothed_per_million    57375 non-null   float64\n",
      " 24  stringency_index                         106737 non-null  float64\n",
      " 25  population_density                       118248 non-null  float64\n",
      " 26  median_age                               112730 non-null  float64\n",
      " 27  aged_65_older                            111482 non-null  float64\n",
      " 28  aged_70_older                            112114 non-null  float64\n",
      " 29  gdp_per_capita                           113459 non-null  float64\n",
      " 30  extreme_poverty                          75896 non-null   float64\n",
      " 31  cardiovasc_death_rate                    112985 non-null  float64\n",
      " 32  diabetes_prevalence                      116659 non-null  float64\n",
      " 33  female_smokers                           88023 non-null   float64\n",
      " 34  male_smokers                             86749 non-null   float64\n",
      " 35  handwashing_facilities                   56858 non-null   float64\n",
      " 36  hospital_beds_per_thousand               102686 non-null  float64\n",
      " 37  life_expectancy                          121411 non-null  float64\n",
      " 38  human_development_index                  113078 non-null  float64\n",
      " 39  excess_mortality_cumulative_absolute     4580 non-null    float64\n",
      " 40  excess_mortality_cumulative              4580 non-null    float64\n",
      " 41  excess_mortality                         4580 non-null    float64\n",
      " 42  excess_mortality_cumulative_per_million  4580 non-null    float64\n",
      "dtypes: float64(38), object(5)\n",
      "memory usage: 42.8+ MB\n"
     ]
    }
   ],
   "source": [
    "df_Vaccin.info()"
   ],
   "metadata": {
    "collapsed": false,
    "pycharm": {
     "name": "#%%\n"
    }
   }
  },
  {
   "cell_type": "code",
   "execution_count": 79,
   "outputs": [
    {
     "data": {
      "text/plain": "  iso_code continent     location        date  new_tests  total_tests  \\\n0      AFG      Asia  Afghanistan  24/02/2020        NaN          NaN   \n1      AFG      Asia  Afghanistan  25/02/2020        NaN          NaN   \n2      AFG      Asia  Afghanistan  26/02/2020        NaN          NaN   \n3      AFG      Asia  Afghanistan  27/02/2020        NaN          NaN   \n4      AFG      Asia  Afghanistan  28/02/2020        NaN          NaN   \n\n   total_tests_per_thousand  new_tests_per_thousand  new_tests_smoothed  \\\n0                       NaN                     NaN                 NaN   \n1                       NaN                     NaN                 NaN   \n2                       NaN                     NaN                 NaN   \n3                       NaN                     NaN                 NaN   \n4                       NaN                     NaN                 NaN   \n\n   new_tests_smoothed_per_thousand  ...  female_smokers  male_smokers  \\\n0                              NaN  ...             NaN           NaN   \n1                              NaN  ...             NaN           NaN   \n2                              NaN  ...             NaN           NaN   \n3                              NaN  ...             NaN           NaN   \n4                              NaN  ...             NaN           NaN   \n\n  handwashing_facilities  hospital_beds_per_thousand  life_expectancy  \\\n0                 37.746                         0.5            64.83   \n1                 37.746                         0.5            64.83   \n2                 37.746                         0.5            64.83   \n3                 37.746                         0.5            64.83   \n4                 37.746                         0.5            64.83   \n\n   human_development_index  excess_mortality_cumulative_absolute  \\\n0                    0.511                                   NaN   \n1                    0.511                                   NaN   \n2                    0.511                                   NaN   \n3                    0.511                                   NaN   \n4                    0.511                                   NaN   \n\n   excess_mortality_cumulative  excess_mortality  \\\n0                          NaN               NaN   \n1                          NaN               NaN   \n2                          NaN               NaN   \n3                          NaN               NaN   \n4                          NaN               NaN   \n\n   excess_mortality_cumulative_per_million  \n0                                      NaN  \n1                                      NaN  \n2                                      NaN  \n3                                      NaN  \n4                                      NaN  \n\n[5 rows x 43 columns]",
      "text/html": "<div>\n<style scoped>\n    .dataframe tbody tr th:only-of-type {\n        vertical-align: middle;\n    }\n\n    .dataframe tbody tr th {\n        vertical-align: top;\n    }\n\n    .dataframe thead th {\n        text-align: right;\n    }\n</style>\n<table border=\"1\" class=\"dataframe\">\n  <thead>\n    <tr style=\"text-align: right;\">\n      <th></th>\n      <th>iso_code</th>\n      <th>continent</th>\n      <th>location</th>\n      <th>date</th>\n      <th>new_tests</th>\n      <th>total_tests</th>\n      <th>total_tests_per_thousand</th>\n      <th>new_tests_per_thousand</th>\n      <th>new_tests_smoothed</th>\n      <th>new_tests_smoothed_per_thousand</th>\n      <th>...</th>\n      <th>female_smokers</th>\n      <th>male_smokers</th>\n      <th>handwashing_facilities</th>\n      <th>hospital_beds_per_thousand</th>\n      <th>life_expectancy</th>\n      <th>human_development_index</th>\n      <th>excess_mortality_cumulative_absolute</th>\n      <th>excess_mortality_cumulative</th>\n      <th>excess_mortality</th>\n      <th>excess_mortality_cumulative_per_million</th>\n    </tr>\n  </thead>\n  <tbody>\n    <tr>\n      <th>0</th>\n      <td>AFG</td>\n      <td>Asia</td>\n      <td>Afghanistan</td>\n      <td>24/02/2020</td>\n      <td>NaN</td>\n      <td>NaN</td>\n      <td>NaN</td>\n      <td>NaN</td>\n      <td>NaN</td>\n      <td>NaN</td>\n      <td>...</td>\n      <td>NaN</td>\n      <td>NaN</td>\n      <td>37.746</td>\n      <td>0.5</td>\n      <td>64.83</td>\n      <td>0.511</td>\n      <td>NaN</td>\n      <td>NaN</td>\n      <td>NaN</td>\n      <td>NaN</td>\n    </tr>\n    <tr>\n      <th>1</th>\n      <td>AFG</td>\n      <td>Asia</td>\n      <td>Afghanistan</td>\n      <td>25/02/2020</td>\n      <td>NaN</td>\n      <td>NaN</td>\n      <td>NaN</td>\n      <td>NaN</td>\n      <td>NaN</td>\n      <td>NaN</td>\n      <td>...</td>\n      <td>NaN</td>\n      <td>NaN</td>\n      <td>37.746</td>\n      <td>0.5</td>\n      <td>64.83</td>\n      <td>0.511</td>\n      <td>NaN</td>\n      <td>NaN</td>\n      <td>NaN</td>\n      <td>NaN</td>\n    </tr>\n    <tr>\n      <th>2</th>\n      <td>AFG</td>\n      <td>Asia</td>\n      <td>Afghanistan</td>\n      <td>26/02/2020</td>\n      <td>NaN</td>\n      <td>NaN</td>\n      <td>NaN</td>\n      <td>NaN</td>\n      <td>NaN</td>\n      <td>NaN</td>\n      <td>...</td>\n      <td>NaN</td>\n      <td>NaN</td>\n      <td>37.746</td>\n      <td>0.5</td>\n      <td>64.83</td>\n      <td>0.511</td>\n      <td>NaN</td>\n      <td>NaN</td>\n      <td>NaN</td>\n      <td>NaN</td>\n    </tr>\n    <tr>\n      <th>3</th>\n      <td>AFG</td>\n      <td>Asia</td>\n      <td>Afghanistan</td>\n      <td>27/02/2020</td>\n      <td>NaN</td>\n      <td>NaN</td>\n      <td>NaN</td>\n      <td>NaN</td>\n      <td>NaN</td>\n      <td>NaN</td>\n      <td>...</td>\n      <td>NaN</td>\n      <td>NaN</td>\n      <td>37.746</td>\n      <td>0.5</td>\n      <td>64.83</td>\n      <td>0.511</td>\n      <td>NaN</td>\n      <td>NaN</td>\n      <td>NaN</td>\n      <td>NaN</td>\n    </tr>\n    <tr>\n      <th>4</th>\n      <td>AFG</td>\n      <td>Asia</td>\n      <td>Afghanistan</td>\n      <td>28/02/2020</td>\n      <td>NaN</td>\n      <td>NaN</td>\n      <td>NaN</td>\n      <td>NaN</td>\n      <td>NaN</td>\n      <td>NaN</td>\n      <td>...</td>\n      <td>NaN</td>\n      <td>NaN</td>\n      <td>37.746</td>\n      <td>0.5</td>\n      <td>64.83</td>\n      <td>0.511</td>\n      <td>NaN</td>\n      <td>NaN</td>\n      <td>NaN</td>\n      <td>NaN</td>\n    </tr>\n  </tbody>\n</table>\n<p>5 rows × 43 columns</p>\n</div>"
     },
     "execution_count": 79,
     "metadata": {},
     "output_type": "execute_result"
    }
   ],
   "source": [
    "df_Vaccin.head()"
   ],
   "metadata": {
    "collapsed": false,
    "pycharm": {
     "name": "#%%\n"
    }
   }
  },
  {
   "cell_type": "code",
   "execution_count": 105,
   "outputs": [],
   "source": [
    "\n",
    "#store your table in the database:\n",
    "df_Death.to_sql('CovidDeaths', conn, index=False)\n",
    "\n",
    "df_Vaccin.to_sql('CovidVaccinations', conn, index=False)\n",
    "# We set index to false for not have a double index on the SQL tables\n"
   ],
   "metadata": {
    "collapsed": false,
    "pycharm": {
     "name": "#%%\n"
    }
   }
  },
  {
   "cell_type": "code",
   "execution_count": 106,
   "outputs": [
    {
     "data": {
      "text/plain": "       iso_code continent     location        date  population  total_cases  \\\n0           AFG      Asia  Afghanistan  2020-02-24  39835428.0          5.0   \n1           AFG      Asia  Afghanistan  2020-02-25  39835428.0          5.0   \n2           AFG      Asia  Afghanistan  2020-02-26  39835428.0          5.0   \n3           AFG      Asia  Afghanistan  2020-02-27  39835428.0          5.0   \n4           AFG      Asia  Afghanistan  2020-02-28  39835428.0          5.0   \n...         ...       ...          ...         ...         ...          ...   \n130595      ZWE    Africa     Zimbabwe  2021-10-29  15092171.0     132926.0   \n130596      ZWE    Africa     Zimbabwe  2021-10-30  15092171.0     132926.0   \n130597      ZWE    Africa     Zimbabwe  2021-10-31  15092171.0     132977.0   \n130598      ZWE    Africa     Zimbabwe  2021-11-01  15092171.0     133007.0   \n130599      ZWE    Africa     Zimbabwe  2021-11-02  15092171.0     133047.0   \n\n        new_cases  new_cases_smoothed  total_deaths  new_deaths  ...  \\\n0             5.0                 NaN           NaN         NaN  ...   \n1             0.0                 NaN           NaN         NaN  ...   \n2             0.0                 NaN           NaN         NaN  ...   \n3             0.0                 NaN           NaN         NaN  ...   \n4             0.0                 NaN           NaN         NaN  ...   \n...           ...                 ...           ...         ...  ...   \n130595       46.0              48.286        4675.0         0.0  ...   \n130596        0.0              48.286        4675.0         0.0  ...   \n130597       51.0              46.571        4678.0         3.0  ...   \n130598       30.0              45.571        4679.0         1.0  ...   \n130599       40.0              46.143        4683.0         4.0  ...   \n\n        new_deaths_smoothed_per_million  reproduction_rate  icu_patients  \\\n0                                   NaN                NaN           NaN   \n1                                   NaN                NaN           NaN   \n2                                   NaN                NaN           NaN   \n3                                   NaN                NaN           NaN   \n4                                   NaN                NaN           NaN   \n...                                 ...                ...           ...   \n130595                            0.114                NaN           NaN   \n130596                            0.114                NaN           NaN   \n130597                            0.085                NaN           NaN   \n130598                            0.057                NaN           NaN   \n130599                            0.085                NaN           NaN   \n\n        icu_patients_per_million  hosp_patients  hosp_patients_per_million  \\\n0                            NaN            NaN                        NaN   \n1                            NaN            NaN                        NaN   \n2                            NaN            NaN                        NaN   \n3                            NaN            NaN                        NaN   \n4                            NaN            NaN                        NaN   \n...                          ...            ...                        ...   \n130595                       NaN            NaN                        NaN   \n130596                       NaN            NaN                        NaN   \n130597                       NaN            NaN                        NaN   \n130598                       NaN            NaN                        NaN   \n130599                       NaN            NaN                        NaN   \n\n        weekly_icu_admissions  weekly_icu_admissions_per_million  \\\n0                         NaN                                NaN   \n1                         NaN                                NaN   \n2                         NaN                                NaN   \n3                         NaN                                NaN   \n4                         NaN                                NaN   \n...                       ...                                ...   \n130595                    NaN                                NaN   \n130596                    NaN                                NaN   \n130597                    NaN                                NaN   \n130598                    NaN                                NaN   \n130599                    NaN                                NaN   \n\n        weekly_hosp_admissions  weekly_hosp_admissions_per_million  \n0                          NaN                                 NaN  \n1                          NaN                                 NaN  \n2                          NaN                                 NaN  \n3                          NaN                                 NaN  \n4                          NaN                                 NaN  \n...                        ...                                 ...  \n130595                     NaN                                 NaN  \n130596                     NaN                                 NaN  \n130597                     NaN                                 NaN  \n130598                     NaN                                 NaN  \n130599                     NaN                                 NaN  \n\n[130600 rows x 26 columns]",
      "text/html": "<div>\n<style scoped>\n    .dataframe tbody tr th:only-of-type {\n        vertical-align: middle;\n    }\n\n    .dataframe tbody tr th {\n        vertical-align: top;\n    }\n\n    .dataframe thead th {\n        text-align: right;\n    }\n</style>\n<table border=\"1\" class=\"dataframe\">\n  <thead>\n    <tr style=\"text-align: right;\">\n      <th></th>\n      <th>iso_code</th>\n      <th>continent</th>\n      <th>location</th>\n      <th>date</th>\n      <th>population</th>\n      <th>total_cases</th>\n      <th>new_cases</th>\n      <th>new_cases_smoothed</th>\n      <th>total_deaths</th>\n      <th>new_deaths</th>\n      <th>...</th>\n      <th>new_deaths_smoothed_per_million</th>\n      <th>reproduction_rate</th>\n      <th>icu_patients</th>\n      <th>icu_patients_per_million</th>\n      <th>hosp_patients</th>\n      <th>hosp_patients_per_million</th>\n      <th>weekly_icu_admissions</th>\n      <th>weekly_icu_admissions_per_million</th>\n      <th>weekly_hosp_admissions</th>\n      <th>weekly_hosp_admissions_per_million</th>\n    </tr>\n  </thead>\n  <tbody>\n    <tr>\n      <th>0</th>\n      <td>AFG</td>\n      <td>Asia</td>\n      <td>Afghanistan</td>\n      <td>2020-02-24</td>\n      <td>39835428.0</td>\n      <td>5.0</td>\n      <td>5.0</td>\n      <td>NaN</td>\n      <td>NaN</td>\n      <td>NaN</td>\n      <td>...</td>\n      <td>NaN</td>\n      <td>NaN</td>\n      <td>NaN</td>\n      <td>NaN</td>\n      <td>NaN</td>\n      <td>NaN</td>\n      <td>NaN</td>\n      <td>NaN</td>\n      <td>NaN</td>\n      <td>NaN</td>\n    </tr>\n    <tr>\n      <th>1</th>\n      <td>AFG</td>\n      <td>Asia</td>\n      <td>Afghanistan</td>\n      <td>2020-02-25</td>\n      <td>39835428.0</td>\n      <td>5.0</td>\n      <td>0.0</td>\n      <td>NaN</td>\n      <td>NaN</td>\n      <td>NaN</td>\n      <td>...</td>\n      <td>NaN</td>\n      <td>NaN</td>\n      <td>NaN</td>\n      <td>NaN</td>\n      <td>NaN</td>\n      <td>NaN</td>\n      <td>NaN</td>\n      <td>NaN</td>\n      <td>NaN</td>\n      <td>NaN</td>\n    </tr>\n    <tr>\n      <th>2</th>\n      <td>AFG</td>\n      <td>Asia</td>\n      <td>Afghanistan</td>\n      <td>2020-02-26</td>\n      <td>39835428.0</td>\n      <td>5.0</td>\n      <td>0.0</td>\n      <td>NaN</td>\n      <td>NaN</td>\n      <td>NaN</td>\n      <td>...</td>\n      <td>NaN</td>\n      <td>NaN</td>\n      <td>NaN</td>\n      <td>NaN</td>\n      <td>NaN</td>\n      <td>NaN</td>\n      <td>NaN</td>\n      <td>NaN</td>\n      <td>NaN</td>\n      <td>NaN</td>\n    </tr>\n    <tr>\n      <th>3</th>\n      <td>AFG</td>\n      <td>Asia</td>\n      <td>Afghanistan</td>\n      <td>2020-02-27</td>\n      <td>39835428.0</td>\n      <td>5.0</td>\n      <td>0.0</td>\n      <td>NaN</td>\n      <td>NaN</td>\n      <td>NaN</td>\n      <td>...</td>\n      <td>NaN</td>\n      <td>NaN</td>\n      <td>NaN</td>\n      <td>NaN</td>\n      <td>NaN</td>\n      <td>NaN</td>\n      <td>NaN</td>\n      <td>NaN</td>\n      <td>NaN</td>\n      <td>NaN</td>\n    </tr>\n    <tr>\n      <th>4</th>\n      <td>AFG</td>\n      <td>Asia</td>\n      <td>Afghanistan</td>\n      <td>2020-02-28</td>\n      <td>39835428.0</td>\n      <td>5.0</td>\n      <td>0.0</td>\n      <td>NaN</td>\n      <td>NaN</td>\n      <td>NaN</td>\n      <td>...</td>\n      <td>NaN</td>\n      <td>NaN</td>\n      <td>NaN</td>\n      <td>NaN</td>\n      <td>NaN</td>\n      <td>NaN</td>\n      <td>NaN</td>\n      <td>NaN</td>\n      <td>NaN</td>\n      <td>NaN</td>\n    </tr>\n    <tr>\n      <th>...</th>\n      <td>...</td>\n      <td>...</td>\n      <td>...</td>\n      <td>...</td>\n      <td>...</td>\n      <td>...</td>\n      <td>...</td>\n      <td>...</td>\n      <td>...</td>\n      <td>...</td>\n      <td>...</td>\n      <td>...</td>\n      <td>...</td>\n      <td>...</td>\n      <td>...</td>\n      <td>...</td>\n      <td>...</td>\n      <td>...</td>\n      <td>...</td>\n      <td>...</td>\n      <td>...</td>\n    </tr>\n    <tr>\n      <th>130595</th>\n      <td>ZWE</td>\n      <td>Africa</td>\n      <td>Zimbabwe</td>\n      <td>2021-10-29</td>\n      <td>15092171.0</td>\n      <td>132926.0</td>\n      <td>46.0</td>\n      <td>48.286</td>\n      <td>4675.0</td>\n      <td>0.0</td>\n      <td>...</td>\n      <td>0.114</td>\n      <td>NaN</td>\n      <td>NaN</td>\n      <td>NaN</td>\n      <td>NaN</td>\n      <td>NaN</td>\n      <td>NaN</td>\n      <td>NaN</td>\n      <td>NaN</td>\n      <td>NaN</td>\n    </tr>\n    <tr>\n      <th>130596</th>\n      <td>ZWE</td>\n      <td>Africa</td>\n      <td>Zimbabwe</td>\n      <td>2021-10-30</td>\n      <td>15092171.0</td>\n      <td>132926.0</td>\n      <td>0.0</td>\n      <td>48.286</td>\n      <td>4675.0</td>\n      <td>0.0</td>\n      <td>...</td>\n      <td>0.114</td>\n      <td>NaN</td>\n      <td>NaN</td>\n      <td>NaN</td>\n      <td>NaN</td>\n      <td>NaN</td>\n      <td>NaN</td>\n      <td>NaN</td>\n      <td>NaN</td>\n      <td>NaN</td>\n    </tr>\n    <tr>\n      <th>130597</th>\n      <td>ZWE</td>\n      <td>Africa</td>\n      <td>Zimbabwe</td>\n      <td>2021-10-31</td>\n      <td>15092171.0</td>\n      <td>132977.0</td>\n      <td>51.0</td>\n      <td>46.571</td>\n      <td>4678.0</td>\n      <td>3.0</td>\n      <td>...</td>\n      <td>0.085</td>\n      <td>NaN</td>\n      <td>NaN</td>\n      <td>NaN</td>\n      <td>NaN</td>\n      <td>NaN</td>\n      <td>NaN</td>\n      <td>NaN</td>\n      <td>NaN</td>\n      <td>NaN</td>\n    </tr>\n    <tr>\n      <th>130598</th>\n      <td>ZWE</td>\n      <td>Africa</td>\n      <td>Zimbabwe</td>\n      <td>2021-11-01</td>\n      <td>15092171.0</td>\n      <td>133007.0</td>\n      <td>30.0</td>\n      <td>45.571</td>\n      <td>4679.0</td>\n      <td>1.0</td>\n      <td>...</td>\n      <td>0.057</td>\n      <td>NaN</td>\n      <td>NaN</td>\n      <td>NaN</td>\n      <td>NaN</td>\n      <td>NaN</td>\n      <td>NaN</td>\n      <td>NaN</td>\n      <td>NaN</td>\n      <td>NaN</td>\n    </tr>\n    <tr>\n      <th>130599</th>\n      <td>ZWE</td>\n      <td>Africa</td>\n      <td>Zimbabwe</td>\n      <td>2021-11-02</td>\n      <td>15092171.0</td>\n      <td>133047.0</td>\n      <td>40.0</td>\n      <td>46.143</td>\n      <td>4683.0</td>\n      <td>4.0</td>\n      <td>...</td>\n      <td>0.085</td>\n      <td>NaN</td>\n      <td>NaN</td>\n      <td>NaN</td>\n      <td>NaN</td>\n      <td>NaN</td>\n      <td>NaN</td>\n      <td>NaN</td>\n      <td>NaN</td>\n      <td>NaN</td>\n    </tr>\n  </tbody>\n</table>\n<p>130600 rows × 26 columns</p>\n</div>"
     },
     "execution_count": 106,
     "metadata": {},
     "output_type": "execute_result"
    }
   ],
   "source": [
    "sql_string = 'SELECT * FROM CovidDeaths Order by 3,4'\n",
    "df_D = pd.read_sql(sql_string, conn)\n",
    "df_D"
   ],
   "metadata": {
    "collapsed": false,
    "pycharm": {
     "name": "#%%\n"
    }
   }
  },
  {
   "cell_type": "code",
   "execution_count": 107,
   "outputs": [
    {
     "data": {
      "text/plain": "       iso_code continent  location        date  new_tests  total_tests  \\\n0          None      None      None        None    71466.0   13368172.0   \n1          None      None      None        None    96994.0   13465166.0   \n2          None      None      None        None   116083.0   13581249.0   \n3          None      None      None        None   131633.0   13712882.0   \n4          None      None      None        None   137606.0   13850488.0   \n...         ...       ...       ...         ...        ...          ...   \n130595      ZWE    Africa  Zimbabwe  2021-10-29   104673.0   12766260.0   \n130596      ZWE    Africa  Zimbabwe  2021-10-30   130573.0   12896833.0   \n130597      ZWE    Africa  Zimbabwe  2021-10-31   143336.0   13040169.0   \n130598      ZWE    Africa  Zimbabwe  2021-11-01   143991.0   13184160.0   \n130599      ZWE    Africa  Zimbabwe  2021-11-02   112546.0   13296706.0   \n\n        total_tests_per_thousand  new_tests_per_thousand  new_tests_smoothed  \\\n0                       1338.010                   7.153            116770.0   \n1                       1347.718                   9.708            114797.0   \n2                       1359.337                  11.619            116427.0   \n3                       1372.512                  13.175            116578.0   \n4                       1386.285                  13.773            115760.0   \n...                          ...                     ...                 ...   \n130595                  1277.765                  10.477            111124.0   \n130596                  1290.834                  13.069            113423.0   \n130597                  1305.181                  14.346            116706.0   \n130598                  1319.593                  14.412            119504.0   \n130599                  1330.857                  11.265            118717.0   \n\n        new_tests_smoothed_per_thousand  ...  female_smokers  male_smokers  \\\n0                                11.687  ...             1.2          37.4   \n1                                11.490  ...             1.2          37.4   \n2                                11.653  ...             1.2          37.4   \n3                                11.668  ...             1.2          37.4   \n4                                11.586  ...             1.2          37.4   \n...                                 ...  ...             ...           ...   \n130595                           11.122  ...             1.2          37.4   \n130596                           11.352  ...             1.2          37.4   \n130597                           11.681  ...             1.2          37.4   \n130598                           11.961  ...             1.2          37.4   \n130599                           11.882  ...             1.2          37.4   \n\n       handwashing_facilities  hospital_beds_per_thousand  life_expectancy  \\\n0                         NaN                         1.2            77.97   \n1                         NaN                         1.2            77.97   \n2                         NaN                         1.2            77.97   \n3                         NaN                         1.2            77.97   \n4                         NaN                         1.2            77.97   \n...                       ...                         ...              ...   \n130595                    NaN                         1.2            77.97   \n130596                    NaN                         1.2            77.97   \n130597                    NaN                         1.2            77.97   \n130598                    NaN                         1.2            77.97   \n130599                    NaN                         1.2            77.97   \n\n        human_development_index  excess_mortality_cumulative_absolute  \\\n0                          0.89                                   NaN   \n1                          0.89                                   NaN   \n2                          0.89                                   NaN   \n3                          0.89                                   NaN   \n4                          0.89                                   NaN   \n...                         ...                                   ...   \n130595                     0.89                                   NaN   \n130596                     0.89                                   NaN   \n130597                     0.89                                   NaN   \n130598                     0.89                                   NaN   \n130599                     0.89                                   NaN   \n\n        excess_mortality_cumulative  excess_mortality  \\\n0                               NaN               NaN   \n1                               NaN               NaN   \n2                               NaN               NaN   \n3                               NaN               NaN   \n4                               NaN               NaN   \n...                             ...               ...   \n130595                          NaN               NaN   \n130596                          NaN               NaN   \n130597                          NaN               NaN   \n130598                          NaN               NaN   \n130599                          NaN               NaN   \n\n        excess_mortality_cumulative_per_million  \n0                                           NaN  \n1                                           NaN  \n2                                           NaN  \n3                                           NaN  \n4                                           NaN  \n...                                         ...  \n130595                                      NaN  \n130596                                      NaN  \n130597                                      NaN  \n130598                                      NaN  \n130599                                      NaN  \n\n[130600 rows x 43 columns]",
      "text/html": "<div>\n<style scoped>\n    .dataframe tbody tr th:only-of-type {\n        vertical-align: middle;\n    }\n\n    .dataframe tbody tr th {\n        vertical-align: top;\n    }\n\n    .dataframe thead th {\n        text-align: right;\n    }\n</style>\n<table border=\"1\" class=\"dataframe\">\n  <thead>\n    <tr style=\"text-align: right;\">\n      <th></th>\n      <th>iso_code</th>\n      <th>continent</th>\n      <th>location</th>\n      <th>date</th>\n      <th>new_tests</th>\n      <th>total_tests</th>\n      <th>total_tests_per_thousand</th>\n      <th>new_tests_per_thousand</th>\n      <th>new_tests_smoothed</th>\n      <th>new_tests_smoothed_per_thousand</th>\n      <th>...</th>\n      <th>female_smokers</th>\n      <th>male_smokers</th>\n      <th>handwashing_facilities</th>\n      <th>hospital_beds_per_thousand</th>\n      <th>life_expectancy</th>\n      <th>human_development_index</th>\n      <th>excess_mortality_cumulative_absolute</th>\n      <th>excess_mortality_cumulative</th>\n      <th>excess_mortality</th>\n      <th>excess_mortality_cumulative_per_million</th>\n    </tr>\n  </thead>\n  <tbody>\n    <tr>\n      <th>0</th>\n      <td>None</td>\n      <td>None</td>\n      <td>None</td>\n      <td>None</td>\n      <td>71466.0</td>\n      <td>13368172.0</td>\n      <td>1338.010</td>\n      <td>7.153</td>\n      <td>116770.0</td>\n      <td>11.687</td>\n      <td>...</td>\n      <td>1.2</td>\n      <td>37.4</td>\n      <td>NaN</td>\n      <td>1.2</td>\n      <td>77.97</td>\n      <td>0.89</td>\n      <td>NaN</td>\n      <td>NaN</td>\n      <td>NaN</td>\n      <td>NaN</td>\n    </tr>\n    <tr>\n      <th>1</th>\n      <td>None</td>\n      <td>None</td>\n      <td>None</td>\n      <td>None</td>\n      <td>96994.0</td>\n      <td>13465166.0</td>\n      <td>1347.718</td>\n      <td>9.708</td>\n      <td>114797.0</td>\n      <td>11.490</td>\n      <td>...</td>\n      <td>1.2</td>\n      <td>37.4</td>\n      <td>NaN</td>\n      <td>1.2</td>\n      <td>77.97</td>\n      <td>0.89</td>\n      <td>NaN</td>\n      <td>NaN</td>\n      <td>NaN</td>\n      <td>NaN</td>\n    </tr>\n    <tr>\n      <th>2</th>\n      <td>None</td>\n      <td>None</td>\n      <td>None</td>\n      <td>None</td>\n      <td>116083.0</td>\n      <td>13581249.0</td>\n      <td>1359.337</td>\n      <td>11.619</td>\n      <td>116427.0</td>\n      <td>11.653</td>\n      <td>...</td>\n      <td>1.2</td>\n      <td>37.4</td>\n      <td>NaN</td>\n      <td>1.2</td>\n      <td>77.97</td>\n      <td>0.89</td>\n      <td>NaN</td>\n      <td>NaN</td>\n      <td>NaN</td>\n      <td>NaN</td>\n    </tr>\n    <tr>\n      <th>3</th>\n      <td>None</td>\n      <td>None</td>\n      <td>None</td>\n      <td>None</td>\n      <td>131633.0</td>\n      <td>13712882.0</td>\n      <td>1372.512</td>\n      <td>13.175</td>\n      <td>116578.0</td>\n      <td>11.668</td>\n      <td>...</td>\n      <td>1.2</td>\n      <td>37.4</td>\n      <td>NaN</td>\n      <td>1.2</td>\n      <td>77.97</td>\n      <td>0.89</td>\n      <td>NaN</td>\n      <td>NaN</td>\n      <td>NaN</td>\n      <td>NaN</td>\n    </tr>\n    <tr>\n      <th>4</th>\n      <td>None</td>\n      <td>None</td>\n      <td>None</td>\n      <td>None</td>\n      <td>137606.0</td>\n      <td>13850488.0</td>\n      <td>1386.285</td>\n      <td>13.773</td>\n      <td>115760.0</td>\n      <td>11.586</td>\n      <td>...</td>\n      <td>1.2</td>\n      <td>37.4</td>\n      <td>NaN</td>\n      <td>1.2</td>\n      <td>77.97</td>\n      <td>0.89</td>\n      <td>NaN</td>\n      <td>NaN</td>\n      <td>NaN</td>\n      <td>NaN</td>\n    </tr>\n    <tr>\n      <th>...</th>\n      <td>...</td>\n      <td>...</td>\n      <td>...</td>\n      <td>...</td>\n      <td>...</td>\n      <td>...</td>\n      <td>...</td>\n      <td>...</td>\n      <td>...</td>\n      <td>...</td>\n      <td>...</td>\n      <td>...</td>\n      <td>...</td>\n      <td>...</td>\n      <td>...</td>\n      <td>...</td>\n      <td>...</td>\n      <td>...</td>\n      <td>...</td>\n      <td>...</td>\n      <td>...</td>\n    </tr>\n    <tr>\n      <th>130595</th>\n      <td>ZWE</td>\n      <td>Africa</td>\n      <td>Zimbabwe</td>\n      <td>2021-10-29</td>\n      <td>104673.0</td>\n      <td>12766260.0</td>\n      <td>1277.765</td>\n      <td>10.477</td>\n      <td>111124.0</td>\n      <td>11.122</td>\n      <td>...</td>\n      <td>1.2</td>\n      <td>37.4</td>\n      <td>NaN</td>\n      <td>1.2</td>\n      <td>77.97</td>\n      <td>0.89</td>\n      <td>NaN</td>\n      <td>NaN</td>\n      <td>NaN</td>\n      <td>NaN</td>\n    </tr>\n    <tr>\n      <th>130596</th>\n      <td>ZWE</td>\n      <td>Africa</td>\n      <td>Zimbabwe</td>\n      <td>2021-10-30</td>\n      <td>130573.0</td>\n      <td>12896833.0</td>\n      <td>1290.834</td>\n      <td>13.069</td>\n      <td>113423.0</td>\n      <td>11.352</td>\n      <td>...</td>\n      <td>1.2</td>\n      <td>37.4</td>\n      <td>NaN</td>\n      <td>1.2</td>\n      <td>77.97</td>\n      <td>0.89</td>\n      <td>NaN</td>\n      <td>NaN</td>\n      <td>NaN</td>\n      <td>NaN</td>\n    </tr>\n    <tr>\n      <th>130597</th>\n      <td>ZWE</td>\n      <td>Africa</td>\n      <td>Zimbabwe</td>\n      <td>2021-10-31</td>\n      <td>143336.0</td>\n      <td>13040169.0</td>\n      <td>1305.181</td>\n      <td>14.346</td>\n      <td>116706.0</td>\n      <td>11.681</td>\n      <td>...</td>\n      <td>1.2</td>\n      <td>37.4</td>\n      <td>NaN</td>\n      <td>1.2</td>\n      <td>77.97</td>\n      <td>0.89</td>\n      <td>NaN</td>\n      <td>NaN</td>\n      <td>NaN</td>\n      <td>NaN</td>\n    </tr>\n    <tr>\n      <th>130598</th>\n      <td>ZWE</td>\n      <td>Africa</td>\n      <td>Zimbabwe</td>\n      <td>2021-11-01</td>\n      <td>143991.0</td>\n      <td>13184160.0</td>\n      <td>1319.593</td>\n      <td>14.412</td>\n      <td>119504.0</td>\n      <td>11.961</td>\n      <td>...</td>\n      <td>1.2</td>\n      <td>37.4</td>\n      <td>NaN</td>\n      <td>1.2</td>\n      <td>77.97</td>\n      <td>0.89</td>\n      <td>NaN</td>\n      <td>NaN</td>\n      <td>NaN</td>\n      <td>NaN</td>\n    </tr>\n    <tr>\n      <th>130599</th>\n      <td>ZWE</td>\n      <td>Africa</td>\n      <td>Zimbabwe</td>\n      <td>2021-11-02</td>\n      <td>112546.0</td>\n      <td>13296706.0</td>\n      <td>1330.857</td>\n      <td>11.265</td>\n      <td>118717.0</td>\n      <td>11.882</td>\n      <td>...</td>\n      <td>1.2</td>\n      <td>37.4</td>\n      <td>NaN</td>\n      <td>1.2</td>\n      <td>77.97</td>\n      <td>0.89</td>\n      <td>NaN</td>\n      <td>NaN</td>\n      <td>NaN</td>\n      <td>NaN</td>\n    </tr>\n  </tbody>\n</table>\n<p>130600 rows × 43 columns</p>\n</div>"
     },
     "execution_count": 107,
     "metadata": {},
     "output_type": "execute_result"
    }
   ],
   "source": [
    "sql_string = 'SELECT * FROM CovidVaccinations Order by 3,4'\n",
    "df_V = pd.read_sql(sql_string, conn)\n",
    "df_V"
   ],
   "metadata": {
    "collapsed": false,
    "pycharm": {
     "name": "#%%\n"
    }
   }
  },
  {
   "cell_type": "markdown",
   "source": [
    "Select the data we will use"
   ],
   "metadata": {
    "collapsed": false
   }
  },
  {
   "cell_type": "code",
   "execution_count": 108,
   "outputs": [
    {
     "data": {
      "text/plain": "           location        date  total_cases  new_cases  total_deaths  \\\n0       Afghanistan  2020-02-24          5.0        5.0           NaN   \n1       Afghanistan  2020-02-25          5.0        0.0           NaN   \n2       Afghanistan  2020-02-26          5.0        0.0           NaN   \n3       Afghanistan  2020-02-27          5.0        0.0           NaN   \n4       Afghanistan  2020-02-28          5.0        0.0           NaN   \n...             ...         ...          ...        ...           ...   \n130595     Zimbabwe  2021-10-29     132926.0       46.0        4675.0   \n130596     Zimbabwe  2021-10-30     132926.0        0.0        4675.0   \n130597     Zimbabwe  2021-10-31     132977.0       51.0        4678.0   \n130598     Zimbabwe  2021-11-01     133007.0       30.0        4679.0   \n130599     Zimbabwe  2021-11-02     133047.0       40.0        4683.0   \n\n        population  \n0       39835428.0  \n1       39835428.0  \n2       39835428.0  \n3       39835428.0  \n4       39835428.0  \n...            ...  \n130595  15092171.0  \n130596  15092171.0  \n130597  15092171.0  \n130598  15092171.0  \n130599  15092171.0  \n\n[130600 rows x 6 columns]",
      "text/html": "<div>\n<style scoped>\n    .dataframe tbody tr th:only-of-type {\n        vertical-align: middle;\n    }\n\n    .dataframe tbody tr th {\n        vertical-align: top;\n    }\n\n    .dataframe thead th {\n        text-align: right;\n    }\n</style>\n<table border=\"1\" class=\"dataframe\">\n  <thead>\n    <tr style=\"text-align: right;\">\n      <th></th>\n      <th>location</th>\n      <th>date</th>\n      <th>total_cases</th>\n      <th>new_cases</th>\n      <th>total_deaths</th>\n      <th>population</th>\n    </tr>\n  </thead>\n  <tbody>\n    <tr>\n      <th>0</th>\n      <td>Afghanistan</td>\n      <td>2020-02-24</td>\n      <td>5.0</td>\n      <td>5.0</td>\n      <td>NaN</td>\n      <td>39835428.0</td>\n    </tr>\n    <tr>\n      <th>1</th>\n      <td>Afghanistan</td>\n      <td>2020-02-25</td>\n      <td>5.0</td>\n      <td>0.0</td>\n      <td>NaN</td>\n      <td>39835428.0</td>\n    </tr>\n    <tr>\n      <th>2</th>\n      <td>Afghanistan</td>\n      <td>2020-02-26</td>\n      <td>5.0</td>\n      <td>0.0</td>\n      <td>NaN</td>\n      <td>39835428.0</td>\n    </tr>\n    <tr>\n      <th>3</th>\n      <td>Afghanistan</td>\n      <td>2020-02-27</td>\n      <td>5.0</td>\n      <td>0.0</td>\n      <td>NaN</td>\n      <td>39835428.0</td>\n    </tr>\n    <tr>\n      <th>4</th>\n      <td>Afghanistan</td>\n      <td>2020-02-28</td>\n      <td>5.0</td>\n      <td>0.0</td>\n      <td>NaN</td>\n      <td>39835428.0</td>\n    </tr>\n    <tr>\n      <th>...</th>\n      <td>...</td>\n      <td>...</td>\n      <td>...</td>\n      <td>...</td>\n      <td>...</td>\n      <td>...</td>\n    </tr>\n    <tr>\n      <th>130595</th>\n      <td>Zimbabwe</td>\n      <td>2021-10-29</td>\n      <td>132926.0</td>\n      <td>46.0</td>\n      <td>4675.0</td>\n      <td>15092171.0</td>\n    </tr>\n    <tr>\n      <th>130596</th>\n      <td>Zimbabwe</td>\n      <td>2021-10-30</td>\n      <td>132926.0</td>\n      <td>0.0</td>\n      <td>4675.0</td>\n      <td>15092171.0</td>\n    </tr>\n    <tr>\n      <th>130597</th>\n      <td>Zimbabwe</td>\n      <td>2021-10-31</td>\n      <td>132977.0</td>\n      <td>51.0</td>\n      <td>4678.0</td>\n      <td>15092171.0</td>\n    </tr>\n    <tr>\n      <th>130598</th>\n      <td>Zimbabwe</td>\n      <td>2021-11-01</td>\n      <td>133007.0</td>\n      <td>30.0</td>\n      <td>4679.0</td>\n      <td>15092171.0</td>\n    </tr>\n    <tr>\n      <th>130599</th>\n      <td>Zimbabwe</td>\n      <td>2021-11-02</td>\n      <td>133047.0</td>\n      <td>40.0</td>\n      <td>4683.0</td>\n      <td>15092171.0</td>\n    </tr>\n  </tbody>\n</table>\n<p>130600 rows × 6 columns</p>\n</div>"
     },
     "execution_count": 108,
     "metadata": {},
     "output_type": "execute_result"
    }
   ],
   "source": [
    "sql_string = 'SELECT Location, date, total_cases, new_cases, total_deaths, population' \\\n",
    "             ' FROM CovidDeaths ORDER BY 1,2 '\n",
    "pd.read_sql(sql_string, conn)\n"
   ],
   "metadata": {
    "collapsed": false,
    "pycharm": {
     "name": "#%%\n"
    }
   }
  },
  {
   "cell_type": "markdown",
   "source": [
    "Looking at total cases vs total deaths."
   ],
   "metadata": {
    "collapsed": false
   }
  },
  {
   "cell_type": "code",
   "execution_count": 109,
   "outputs": [
    {
     "data": {
      "text/plain": "           location        date  total_cases  total_deaths  population  \\\n0       Afghanistan  2020-02-24          5.0           NaN  39835428.0   \n1       Afghanistan  2020-02-25          5.0           NaN  39835428.0   \n2       Afghanistan  2020-02-26          5.0           NaN  39835428.0   \n3       Afghanistan  2020-02-27          5.0           NaN  39835428.0   \n4       Afghanistan  2020-02-28          5.0           NaN  39835428.0   \n...             ...         ...          ...           ...         ...   \n130595     Zimbabwe  2021-10-29     132926.0        4675.0  15092171.0   \n130596     Zimbabwe  2021-10-30     132926.0        4675.0  15092171.0   \n130597     Zimbabwe  2021-10-31     132977.0        4678.0  15092171.0   \n130598     Zimbabwe  2021-11-01     133007.0        4679.0  15092171.0   \n130599     Zimbabwe  2021-11-02     133047.0        4683.0  15092171.0   \n\n        Death_Rate  \n0              NaN  \n1              NaN  \n2              NaN  \n3              NaN  \n4              NaN  \n...            ...  \n130595        3.52  \n130596        3.52  \n130597        3.52  \n130598        3.52  \n130599        3.52  \n\n[130600 rows x 6 columns]",
      "text/html": "<div>\n<style scoped>\n    .dataframe tbody tr th:only-of-type {\n        vertical-align: middle;\n    }\n\n    .dataframe tbody tr th {\n        vertical-align: top;\n    }\n\n    .dataframe thead th {\n        text-align: right;\n    }\n</style>\n<table border=\"1\" class=\"dataframe\">\n  <thead>\n    <tr style=\"text-align: right;\">\n      <th></th>\n      <th>location</th>\n      <th>date</th>\n      <th>total_cases</th>\n      <th>total_deaths</th>\n      <th>population</th>\n      <th>Death_Rate</th>\n    </tr>\n  </thead>\n  <tbody>\n    <tr>\n      <th>0</th>\n      <td>Afghanistan</td>\n      <td>2020-02-24</td>\n      <td>5.0</td>\n      <td>NaN</td>\n      <td>39835428.0</td>\n      <td>NaN</td>\n    </tr>\n    <tr>\n      <th>1</th>\n      <td>Afghanistan</td>\n      <td>2020-02-25</td>\n      <td>5.0</td>\n      <td>NaN</td>\n      <td>39835428.0</td>\n      <td>NaN</td>\n    </tr>\n    <tr>\n      <th>2</th>\n      <td>Afghanistan</td>\n      <td>2020-02-26</td>\n      <td>5.0</td>\n      <td>NaN</td>\n      <td>39835428.0</td>\n      <td>NaN</td>\n    </tr>\n    <tr>\n      <th>3</th>\n      <td>Afghanistan</td>\n      <td>2020-02-27</td>\n      <td>5.0</td>\n      <td>NaN</td>\n      <td>39835428.0</td>\n      <td>NaN</td>\n    </tr>\n    <tr>\n      <th>4</th>\n      <td>Afghanistan</td>\n      <td>2020-02-28</td>\n      <td>5.0</td>\n      <td>NaN</td>\n      <td>39835428.0</td>\n      <td>NaN</td>\n    </tr>\n    <tr>\n      <th>...</th>\n      <td>...</td>\n      <td>...</td>\n      <td>...</td>\n      <td>...</td>\n      <td>...</td>\n      <td>...</td>\n    </tr>\n    <tr>\n      <th>130595</th>\n      <td>Zimbabwe</td>\n      <td>2021-10-29</td>\n      <td>132926.0</td>\n      <td>4675.0</td>\n      <td>15092171.0</td>\n      <td>3.52</td>\n    </tr>\n    <tr>\n      <th>130596</th>\n      <td>Zimbabwe</td>\n      <td>2021-10-30</td>\n      <td>132926.0</td>\n      <td>4675.0</td>\n      <td>15092171.0</td>\n      <td>3.52</td>\n    </tr>\n    <tr>\n      <th>130597</th>\n      <td>Zimbabwe</td>\n      <td>2021-10-31</td>\n      <td>132977.0</td>\n      <td>4678.0</td>\n      <td>15092171.0</td>\n      <td>3.52</td>\n    </tr>\n    <tr>\n      <th>130598</th>\n      <td>Zimbabwe</td>\n      <td>2021-11-01</td>\n      <td>133007.0</td>\n      <td>4679.0</td>\n      <td>15092171.0</td>\n      <td>3.52</td>\n    </tr>\n    <tr>\n      <th>130599</th>\n      <td>Zimbabwe</td>\n      <td>2021-11-02</td>\n      <td>133047.0</td>\n      <td>4683.0</td>\n      <td>15092171.0</td>\n      <td>3.52</td>\n    </tr>\n  </tbody>\n</table>\n<p>130600 rows × 6 columns</p>\n</div>"
     },
     "execution_count": 109,
     "metadata": {},
     "output_type": "execute_result"
    }
   ],
   "source": [
    "sql_string = 'SELECT location, date, total_cases, total_deaths, population, ROUND((total_deaths/total_cases)*100,2) AS Death_Rate ' \\\n",
    "             'FROM CovidDeaths ORDER BY 1,2 '\n",
    "pd.read_sql(sql_string, conn)"
   ],
   "metadata": {
    "collapsed": false,
    "pycharm": {
     "name": "#%%\n"
    }
   }
  },
  {
   "cell_type": "markdown",
   "source": [
    "Looking at total cases vs total deaths. You can change to your country."
   ],
   "metadata": {
    "collapsed": false
   }
  },
  {
   "cell_type": "code",
   "execution_count": 110,
   "outputs": [
    {
     "data": {
      "text/plain": "        location        date  total_cases  total_deaths  population  \\\n0    Switzerland  2020-02-25          1.0           NaN   8715494.0   \n1    Switzerland  2020-02-26          1.0           NaN   8715494.0   \n2    Switzerland  2020-02-27          8.0           NaN   8715494.0   \n3    Switzerland  2020-02-28          8.0           NaN   8715494.0   \n4    Switzerland  2020-02-29         18.0           NaN   8715494.0   \n..           ...         ...          ...           ...         ...   \n612  Switzerland  2021-10-29     872558.0       11233.0   8715494.0   \n613  Switzerland  2021-10-30     872558.0       11233.0   8715494.0   \n614  Switzerland  2021-10-31     872558.0       11234.0   8715494.0   \n615  Switzerland  2021-11-01     877098.0       11242.0   8715494.0   \n616  Switzerland  2021-11-02     879051.0       11259.0   8715494.0   \n\n     Death_Rate  \n0           NaN  \n1           NaN  \n2           NaN  \n3           NaN  \n4           NaN  \n..          ...  \n612        1.29  \n613        1.29  \n614        1.29  \n615        1.28  \n616        1.28  \n\n[617 rows x 6 columns]",
      "text/html": "<div>\n<style scoped>\n    .dataframe tbody tr th:only-of-type {\n        vertical-align: middle;\n    }\n\n    .dataframe tbody tr th {\n        vertical-align: top;\n    }\n\n    .dataframe thead th {\n        text-align: right;\n    }\n</style>\n<table border=\"1\" class=\"dataframe\">\n  <thead>\n    <tr style=\"text-align: right;\">\n      <th></th>\n      <th>location</th>\n      <th>date</th>\n      <th>total_cases</th>\n      <th>total_deaths</th>\n      <th>population</th>\n      <th>Death_Rate</th>\n    </tr>\n  </thead>\n  <tbody>\n    <tr>\n      <th>0</th>\n      <td>Switzerland</td>\n      <td>2020-02-25</td>\n      <td>1.0</td>\n      <td>NaN</td>\n      <td>8715494.0</td>\n      <td>NaN</td>\n    </tr>\n    <tr>\n      <th>1</th>\n      <td>Switzerland</td>\n      <td>2020-02-26</td>\n      <td>1.0</td>\n      <td>NaN</td>\n      <td>8715494.0</td>\n      <td>NaN</td>\n    </tr>\n    <tr>\n      <th>2</th>\n      <td>Switzerland</td>\n      <td>2020-02-27</td>\n      <td>8.0</td>\n      <td>NaN</td>\n      <td>8715494.0</td>\n      <td>NaN</td>\n    </tr>\n    <tr>\n      <th>3</th>\n      <td>Switzerland</td>\n      <td>2020-02-28</td>\n      <td>8.0</td>\n      <td>NaN</td>\n      <td>8715494.0</td>\n      <td>NaN</td>\n    </tr>\n    <tr>\n      <th>4</th>\n      <td>Switzerland</td>\n      <td>2020-02-29</td>\n      <td>18.0</td>\n      <td>NaN</td>\n      <td>8715494.0</td>\n      <td>NaN</td>\n    </tr>\n    <tr>\n      <th>...</th>\n      <td>...</td>\n      <td>...</td>\n      <td>...</td>\n      <td>...</td>\n      <td>...</td>\n      <td>...</td>\n    </tr>\n    <tr>\n      <th>612</th>\n      <td>Switzerland</td>\n      <td>2021-10-29</td>\n      <td>872558.0</td>\n      <td>11233.0</td>\n      <td>8715494.0</td>\n      <td>1.29</td>\n    </tr>\n    <tr>\n      <th>613</th>\n      <td>Switzerland</td>\n      <td>2021-10-30</td>\n      <td>872558.0</td>\n      <td>11233.0</td>\n      <td>8715494.0</td>\n      <td>1.29</td>\n    </tr>\n    <tr>\n      <th>614</th>\n      <td>Switzerland</td>\n      <td>2021-10-31</td>\n      <td>872558.0</td>\n      <td>11234.0</td>\n      <td>8715494.0</td>\n      <td>1.29</td>\n    </tr>\n    <tr>\n      <th>615</th>\n      <td>Switzerland</td>\n      <td>2021-11-01</td>\n      <td>877098.0</td>\n      <td>11242.0</td>\n      <td>8715494.0</td>\n      <td>1.28</td>\n    </tr>\n    <tr>\n      <th>616</th>\n      <td>Switzerland</td>\n      <td>2021-11-02</td>\n      <td>879051.0</td>\n      <td>11259.0</td>\n      <td>8715494.0</td>\n      <td>1.28</td>\n    </tr>\n  </tbody>\n</table>\n<p>617 rows × 6 columns</p>\n</div>"
     },
     "execution_count": 110,
     "metadata": {},
     "output_type": "execute_result"
    }
   ],
   "source": [
    "sql_string = 'SELECT location, date, total_cases, total_deaths, population, ROUND((total_deaths/total_cases)*100,2) AS Death_Rate '\\\n",
    "             'FROM CovidDeaths '\\\n",
    "             'WHERE location = \"Switzerland\" ORDER BY 1,2 '\n",
    "pd.read_sql(sql_string, conn)"
   ],
   "metadata": {
    "collapsed": false,
    "pycharm": {
     "name": "#%%\n"
    }
   }
  },
  {
   "cell_type": "markdown",
   "source": [
    "Looking at total cases vs population. It shows what percentage of population got covid each day."
   ],
   "metadata": {
    "collapsed": false
   }
  },
  {
   "cell_type": "code",
   "execution_count": 111,
   "outputs": [
    {
     "data": {
      "text/plain": "        location        date  total_cases  population  Infection_percentage\n0    Switzerland  2020-02-25          1.0   8715494.0                  0.00\n1    Switzerland  2020-02-26          1.0   8715494.0                  0.00\n2    Switzerland  2020-02-27          8.0   8715494.0                  0.00\n3    Switzerland  2020-02-28          8.0   8715494.0                  0.00\n4    Switzerland  2020-02-29         18.0   8715494.0                  0.00\n..           ...         ...          ...         ...                   ...\n612  Switzerland  2021-10-29     872558.0   8715494.0                 10.01\n613  Switzerland  2021-10-30     872558.0   8715494.0                 10.01\n614  Switzerland  2021-10-31     872558.0   8715494.0                 10.01\n615  Switzerland  2021-11-01     877098.0   8715494.0                 10.06\n616  Switzerland  2021-11-02     879051.0   8715494.0                 10.09\n\n[617 rows x 5 columns]",
      "text/html": "<div>\n<style scoped>\n    .dataframe tbody tr th:only-of-type {\n        vertical-align: middle;\n    }\n\n    .dataframe tbody tr th {\n        vertical-align: top;\n    }\n\n    .dataframe thead th {\n        text-align: right;\n    }\n</style>\n<table border=\"1\" class=\"dataframe\">\n  <thead>\n    <tr style=\"text-align: right;\">\n      <th></th>\n      <th>location</th>\n      <th>date</th>\n      <th>total_cases</th>\n      <th>population</th>\n      <th>Infection_percentage</th>\n    </tr>\n  </thead>\n  <tbody>\n    <tr>\n      <th>0</th>\n      <td>Switzerland</td>\n      <td>2020-02-25</td>\n      <td>1.0</td>\n      <td>8715494.0</td>\n      <td>0.00</td>\n    </tr>\n    <tr>\n      <th>1</th>\n      <td>Switzerland</td>\n      <td>2020-02-26</td>\n      <td>1.0</td>\n      <td>8715494.0</td>\n      <td>0.00</td>\n    </tr>\n    <tr>\n      <th>2</th>\n      <td>Switzerland</td>\n      <td>2020-02-27</td>\n      <td>8.0</td>\n      <td>8715494.0</td>\n      <td>0.00</td>\n    </tr>\n    <tr>\n      <th>3</th>\n      <td>Switzerland</td>\n      <td>2020-02-28</td>\n      <td>8.0</td>\n      <td>8715494.0</td>\n      <td>0.00</td>\n    </tr>\n    <tr>\n      <th>4</th>\n      <td>Switzerland</td>\n      <td>2020-02-29</td>\n      <td>18.0</td>\n      <td>8715494.0</td>\n      <td>0.00</td>\n    </tr>\n    <tr>\n      <th>...</th>\n      <td>...</td>\n      <td>...</td>\n      <td>...</td>\n      <td>...</td>\n      <td>...</td>\n    </tr>\n    <tr>\n      <th>612</th>\n      <td>Switzerland</td>\n      <td>2021-10-29</td>\n      <td>872558.0</td>\n      <td>8715494.0</td>\n      <td>10.01</td>\n    </tr>\n    <tr>\n      <th>613</th>\n      <td>Switzerland</td>\n      <td>2021-10-30</td>\n      <td>872558.0</td>\n      <td>8715494.0</td>\n      <td>10.01</td>\n    </tr>\n    <tr>\n      <th>614</th>\n      <td>Switzerland</td>\n      <td>2021-10-31</td>\n      <td>872558.0</td>\n      <td>8715494.0</td>\n      <td>10.01</td>\n    </tr>\n    <tr>\n      <th>615</th>\n      <td>Switzerland</td>\n      <td>2021-11-01</td>\n      <td>877098.0</td>\n      <td>8715494.0</td>\n      <td>10.06</td>\n    </tr>\n    <tr>\n      <th>616</th>\n      <td>Switzerland</td>\n      <td>2021-11-02</td>\n      <td>879051.0</td>\n      <td>8715494.0</td>\n      <td>10.09</td>\n    </tr>\n  </tbody>\n</table>\n<p>617 rows × 5 columns</p>\n</div>"
     },
     "execution_count": 111,
     "metadata": {},
     "output_type": "execute_result"
    }
   ],
   "source": [
    "sql_string = 'SELECT location, date, total_cases, population, ROUND((total_cases/population)*100,2) AS Infection_percentage '\\\n",
    "             'FROM CovidDeaths '\\\n",
    "             'WHERE location = \"Switzerland\" ORDER BY 1,2 '\n",
    "pd.read_sql(sql_string, conn)"
   ],
   "metadata": {
    "collapsed": false,
    "pycharm": {
     "name": "#%%\n"
    }
   }
  },
  {
   "cell_type": "markdown",
   "source": [
    "# Which country have the highest infection rate compare the population"
   ],
   "metadata": {
    "collapsed": false
   }
  },
  {
   "cell_type": "code",
   "execution_count": 112,
   "outputs": [
    {
     "data": {
      "text/plain": "                     location  population  Highest_Infection_Count  \\\n0                  Montenegro    628051.0                 145314.0   \n1                  Seychelles     98910.0                  22280.0   \n2                     Andorra     77354.0                  15516.0   \n3                     Georgia   3979773.0                 726941.0   \n4                      Serbia   6908224.0                1155756.0   \n..                        ...         ...                      ...   \n232                   Tokelau      1368.0                      NaN   \n233              Turkmenistan   6117933.0                      NaN   \n234  Turks and Caicos Islands     39226.0                      NaN   \n235                    Tuvalu     11925.0                      NaN   \n236         Wallis and Futuna     11094.0                      NaN   \n\n     Infection_percentage  \n0               23.137293  \n1               22.525528  \n2               20.058433  \n3               18.265891  \n4               16.730147  \n..                    ...  \n232                   NaN  \n233                   NaN  \n234                   NaN  \n235                   NaN  \n236                   NaN  \n\n[237 rows x 4 columns]",
      "text/html": "<div>\n<style scoped>\n    .dataframe tbody tr th:only-of-type {\n        vertical-align: middle;\n    }\n\n    .dataframe tbody tr th {\n        vertical-align: top;\n    }\n\n    .dataframe thead th {\n        text-align: right;\n    }\n</style>\n<table border=\"1\" class=\"dataframe\">\n  <thead>\n    <tr style=\"text-align: right;\">\n      <th></th>\n      <th>location</th>\n      <th>population</th>\n      <th>Highest_Infection_Count</th>\n      <th>Infection_percentage</th>\n    </tr>\n  </thead>\n  <tbody>\n    <tr>\n      <th>0</th>\n      <td>Montenegro</td>\n      <td>628051.0</td>\n      <td>145314.0</td>\n      <td>23.137293</td>\n    </tr>\n    <tr>\n      <th>1</th>\n      <td>Seychelles</td>\n      <td>98910.0</td>\n      <td>22280.0</td>\n      <td>22.525528</td>\n    </tr>\n    <tr>\n      <th>2</th>\n      <td>Andorra</td>\n      <td>77354.0</td>\n      <td>15516.0</td>\n      <td>20.058433</td>\n    </tr>\n    <tr>\n      <th>3</th>\n      <td>Georgia</td>\n      <td>3979773.0</td>\n      <td>726941.0</td>\n      <td>18.265891</td>\n    </tr>\n    <tr>\n      <th>4</th>\n      <td>Serbia</td>\n      <td>6908224.0</td>\n      <td>1155756.0</td>\n      <td>16.730147</td>\n    </tr>\n    <tr>\n      <th>...</th>\n      <td>...</td>\n      <td>...</td>\n      <td>...</td>\n      <td>...</td>\n    </tr>\n    <tr>\n      <th>232</th>\n      <td>Tokelau</td>\n      <td>1368.0</td>\n      <td>NaN</td>\n      <td>NaN</td>\n    </tr>\n    <tr>\n      <th>233</th>\n      <td>Turkmenistan</td>\n      <td>6117933.0</td>\n      <td>NaN</td>\n      <td>NaN</td>\n    </tr>\n    <tr>\n      <th>234</th>\n      <td>Turks and Caicos Islands</td>\n      <td>39226.0</td>\n      <td>NaN</td>\n      <td>NaN</td>\n    </tr>\n    <tr>\n      <th>235</th>\n      <td>Tuvalu</td>\n      <td>11925.0</td>\n      <td>NaN</td>\n      <td>NaN</td>\n    </tr>\n    <tr>\n      <th>236</th>\n      <td>Wallis and Futuna</td>\n      <td>11094.0</td>\n      <td>NaN</td>\n      <td>NaN</td>\n    </tr>\n  </tbody>\n</table>\n<p>237 rows × 4 columns</p>\n</div>"
     },
     "execution_count": 112,
     "metadata": {},
     "output_type": "execute_result"
    }
   ],
   "source": [
    "sql_string = 'SELECT location, population, MAX(total_cases) AS Highest_Infection_Count, MAX((total_cases/population)*100) AS Infection_percentage '\\\n",
    "             'FROM CovidDeaths '\\\n",
    "             'GROUP by location, population '\\\n",
    "             'ORDER by Infection_percentage DESC '\n",
    "pd.read_sql(sql_string, conn)"
   ],
   "metadata": {
    "collapsed": false,
    "pycharm": {
     "name": "#%%\n"
    }
   }
  },
  {
   "cell_type": "code",
   "execution_count": 113,
   "outputs": [
    {
     "data": {
      "text/plain": "  location  population  Highest_Infection_Count  Infection_percentage\n0     Peru  33359415.0                2202189.0              6.601402",
      "text/html": "<div>\n<style scoped>\n    .dataframe tbody tr th:only-of-type {\n        vertical-align: middle;\n    }\n\n    .dataframe tbody tr th {\n        vertical-align: top;\n    }\n\n    .dataframe thead th {\n        text-align: right;\n    }\n</style>\n<table border=\"1\" class=\"dataframe\">\n  <thead>\n    <tr style=\"text-align: right;\">\n      <th></th>\n      <th>location</th>\n      <th>population</th>\n      <th>Highest_Infection_Count</th>\n      <th>Infection_percentage</th>\n    </tr>\n  </thead>\n  <tbody>\n    <tr>\n      <th>0</th>\n      <td>Peru</td>\n      <td>33359415.0</td>\n      <td>2202189.0</td>\n      <td>6.601402</td>\n    </tr>\n  </tbody>\n</table>\n</div>"
     },
     "execution_count": 113,
     "metadata": {},
     "output_type": "execute_result"
    }
   ],
   "source": [
    "sql_string = 'SELECT location, population, MAX(total_cases) AS Highest_Infection_Count, MAX((total_cases/population)*100) AS Infection_percentage '\\\n",
    "             'FROM CovidDeaths ' \\\n",
    "             'WHERE location = \"Peru\"'\n",
    "pd.read_sql(sql_string, conn)"
   ],
   "metadata": {
    "collapsed": false,
    "pycharm": {
     "name": "#%%\n"
    }
   }
  },
  {
   "cell_type": "markdown",
   "source": [
    "### Showing countries with Highest Death Count per population"
   ],
   "metadata": {
    "collapsed": false
   }
  },
  {
   "cell_type": "code",
   "execution_count": 114,
   "outputs": [
    {
     "data": {
      "text/plain": "                            location  Total_Deaths_Count\n0                              World           5013591.0\n1                Upper middle income           2109730.0\n2                        High income           1758049.0\n3                             Europe           1313814.0\n4                               Asia           1178919.0\n..                               ...                 ...\n232           British Virgin Islands                 NaN\n233  Bonaire Sint Eustatius and Saba                 NaN\n234                          Bermuda                 NaN\n235                            Aruba                 NaN\n236                         Anguilla                 NaN\n\n[237 rows x 2 columns]",
      "text/html": "<div>\n<style scoped>\n    .dataframe tbody tr th:only-of-type {\n        vertical-align: middle;\n    }\n\n    .dataframe tbody tr th {\n        vertical-align: top;\n    }\n\n    .dataframe thead th {\n        text-align: right;\n    }\n</style>\n<table border=\"1\" class=\"dataframe\">\n  <thead>\n    <tr style=\"text-align: right;\">\n      <th></th>\n      <th>location</th>\n      <th>Total_Deaths_Count</th>\n    </tr>\n  </thead>\n  <tbody>\n    <tr>\n      <th>0</th>\n      <td>World</td>\n      <td>5013591.0</td>\n    </tr>\n    <tr>\n      <th>1</th>\n      <td>Upper middle income</td>\n      <td>2109730.0</td>\n    </tr>\n    <tr>\n      <th>2</th>\n      <td>High income</td>\n      <td>1758049.0</td>\n    </tr>\n    <tr>\n      <th>3</th>\n      <td>Europe</td>\n      <td>1313814.0</td>\n    </tr>\n    <tr>\n      <th>4</th>\n      <td>Asia</td>\n      <td>1178919.0</td>\n    </tr>\n    <tr>\n      <th>...</th>\n      <td>...</td>\n      <td>...</td>\n    </tr>\n    <tr>\n      <th>232</th>\n      <td>British Virgin Islands</td>\n      <td>NaN</td>\n    </tr>\n    <tr>\n      <th>233</th>\n      <td>Bonaire Sint Eustatius and Saba</td>\n      <td>NaN</td>\n    </tr>\n    <tr>\n      <th>234</th>\n      <td>Bermuda</td>\n      <td>NaN</td>\n    </tr>\n    <tr>\n      <th>235</th>\n      <td>Aruba</td>\n      <td>NaN</td>\n    </tr>\n    <tr>\n      <th>236</th>\n      <td>Anguilla</td>\n      <td>NaN</td>\n    </tr>\n  </tbody>\n</table>\n<p>237 rows × 2 columns</p>\n</div>"
     },
     "execution_count": 114,
     "metadata": {},
     "output_type": "execute_result"
    }
   ],
   "source": [
    "sql_string = 'SELECT location, MAX(total_deaths) AS Total_Deaths_Count '\\\n",
    "             'FROM CovidDeaths '\\\n",
    "             'GROUP by location '\\\n",
    "             'ORDER by Total_Deaths_Count DESC '\n",
    "pd.read_sql(sql_string, conn)"
   ],
   "metadata": {
    "collapsed": false,
    "pycharm": {
     "name": "#%%\n"
    }
   }
  },
  {
   "cell_type": "markdown",
   "source": [
    "We need to add a condition to exclude the continent count from out data, we can do that through <a style=\"color:Green;\">WHERE continent IS NOT NULL </a>."
   ],
   "metadata": {
    "collapsed": false
   }
  },
  {
   "cell_type": "code",
   "execution_count": 115,
   "outputs": [
    {
     "data": {
      "text/plain": "                            location  Total_Deaths_Count\n0                      United States            748518.0\n1                             Brazil            608071.0\n2                              India            459191.0\n3                             Mexico            288464.0\n4                             Russia            236462.0\n..                               ...                 ...\n219           British Virgin Islands                 NaN\n220  Bonaire Sint Eustatius and Saba                 NaN\n221                          Bermuda                 NaN\n222                            Aruba                 NaN\n223                         Anguilla                 NaN\n\n[224 rows x 2 columns]",
      "text/html": "<div>\n<style scoped>\n    .dataframe tbody tr th:only-of-type {\n        vertical-align: middle;\n    }\n\n    .dataframe tbody tr th {\n        vertical-align: top;\n    }\n\n    .dataframe thead th {\n        text-align: right;\n    }\n</style>\n<table border=\"1\" class=\"dataframe\">\n  <thead>\n    <tr style=\"text-align: right;\">\n      <th></th>\n      <th>location</th>\n      <th>Total_Deaths_Count</th>\n    </tr>\n  </thead>\n  <tbody>\n    <tr>\n      <th>0</th>\n      <td>United States</td>\n      <td>748518.0</td>\n    </tr>\n    <tr>\n      <th>1</th>\n      <td>Brazil</td>\n      <td>608071.0</td>\n    </tr>\n    <tr>\n      <th>2</th>\n      <td>India</td>\n      <td>459191.0</td>\n    </tr>\n    <tr>\n      <th>3</th>\n      <td>Mexico</td>\n      <td>288464.0</td>\n    </tr>\n    <tr>\n      <th>4</th>\n      <td>Russia</td>\n      <td>236462.0</td>\n    </tr>\n    <tr>\n      <th>...</th>\n      <td>...</td>\n      <td>...</td>\n    </tr>\n    <tr>\n      <th>219</th>\n      <td>British Virgin Islands</td>\n      <td>NaN</td>\n    </tr>\n    <tr>\n      <th>220</th>\n      <td>Bonaire Sint Eustatius and Saba</td>\n      <td>NaN</td>\n    </tr>\n    <tr>\n      <th>221</th>\n      <td>Bermuda</td>\n      <td>NaN</td>\n    </tr>\n    <tr>\n      <th>222</th>\n      <td>Aruba</td>\n      <td>NaN</td>\n    </tr>\n    <tr>\n      <th>223</th>\n      <td>Anguilla</td>\n      <td>NaN</td>\n    </tr>\n  </tbody>\n</table>\n<p>224 rows × 2 columns</p>\n</div>"
     },
     "execution_count": 115,
     "metadata": {},
     "output_type": "execute_result"
    }
   ],
   "source": [
    "sql_string = 'SELECT location, MAX(total_deaths) AS Total_Deaths_Count '\\\n",
    "             'FROM CovidDeaths '\\\n",
    "             'WHERE continent NOT NULL '\\\n",
    "             'GROUP by location '\\\n",
    "             'ORDER by Total_Deaths_Count DESC '\n",
    "pd.read_sql(sql_string, conn)"
   ],
   "metadata": {
    "collapsed": false,
    "pycharm": {
     "name": "#%%\n"
    }
   }
  },
  {
   "cell_type": "markdown",
   "source": [
    "# Let's break down things by Continent"
   ],
   "metadata": {
    "collapsed": false
   }
  },
  {
   "cell_type": "markdown",
   "source": [
    "## Showing the continent with highest death count per population"
   ],
   "metadata": {
    "collapsed": false
   }
  },
  {
   "cell_type": "code",
   "execution_count": 116,
   "outputs": [
    {
     "data": {
      "text/plain": "               location  Total_Deaths_Count\n0                 World           5013591.0\n1   Upper middle income           2109730.0\n2           High income           1758049.0\n3                Europe           1313814.0\n4                  Asia           1178919.0\n5         South America           1170638.0\n6         North America           1128788.0\n7   Lower middle income           1109395.0\n8        European Union            800862.0\n9                Africa            218561.0\n10           Low income             36402.0\n11              Oceania              2856.0\n12        International                15.0",
      "text/html": "<div>\n<style scoped>\n    .dataframe tbody tr th:only-of-type {\n        vertical-align: middle;\n    }\n\n    .dataframe tbody tr th {\n        vertical-align: top;\n    }\n\n    .dataframe thead th {\n        text-align: right;\n    }\n</style>\n<table border=\"1\" class=\"dataframe\">\n  <thead>\n    <tr style=\"text-align: right;\">\n      <th></th>\n      <th>location</th>\n      <th>Total_Deaths_Count</th>\n    </tr>\n  </thead>\n  <tbody>\n    <tr>\n      <th>0</th>\n      <td>World</td>\n      <td>5013591.0</td>\n    </tr>\n    <tr>\n      <th>1</th>\n      <td>Upper middle income</td>\n      <td>2109730.0</td>\n    </tr>\n    <tr>\n      <th>2</th>\n      <td>High income</td>\n      <td>1758049.0</td>\n    </tr>\n    <tr>\n      <th>3</th>\n      <td>Europe</td>\n      <td>1313814.0</td>\n    </tr>\n    <tr>\n      <th>4</th>\n      <td>Asia</td>\n      <td>1178919.0</td>\n    </tr>\n    <tr>\n      <th>5</th>\n      <td>South America</td>\n      <td>1170638.0</td>\n    </tr>\n    <tr>\n      <th>6</th>\n      <td>North America</td>\n      <td>1128788.0</td>\n    </tr>\n    <tr>\n      <th>7</th>\n      <td>Lower middle income</td>\n      <td>1109395.0</td>\n    </tr>\n    <tr>\n      <th>8</th>\n      <td>European Union</td>\n      <td>800862.0</td>\n    </tr>\n    <tr>\n      <th>9</th>\n      <td>Africa</td>\n      <td>218561.0</td>\n    </tr>\n    <tr>\n      <th>10</th>\n      <td>Low income</td>\n      <td>36402.0</td>\n    </tr>\n    <tr>\n      <th>11</th>\n      <td>Oceania</td>\n      <td>2856.0</td>\n    </tr>\n    <tr>\n      <th>12</th>\n      <td>International</td>\n      <td>15.0</td>\n    </tr>\n  </tbody>\n</table>\n</div>"
     },
     "execution_count": 116,
     "metadata": {},
     "output_type": "execute_result"
    }
   ],
   "source": [
    "sql_string = 'SELECT location, MAX(total_deaths) AS Total_Deaths_Count '\\\n",
    "             'FROM CovidDeaths '\\\n",
    "             'WHERE continent IS NULL '\\\n",
    "             'GROUP by location '\\\n",
    "             'ORDER by Total_Deaths_Count DESC '\n",
    "pd.read_sql(sql_string, conn)"
   ],
   "metadata": {
    "collapsed": false,
    "pycharm": {
     "name": "#%%\n"
    }
   }
  },
  {
   "cell_type": "code",
   "execution_count": 117,
   "outputs": [
    {
     "data": {
      "text/plain": "         location  Total_Deaths_Count\n0           World           5013591.0\n1          Europe           1313814.0\n2            Asia           1178919.0\n3   South America           1170638.0\n4   North America           1128788.0\n5  European Union            800862.0\n6          Africa            218561.0\n7         Oceania              2856.0\n8   International                15.0",
      "text/html": "<div>\n<style scoped>\n    .dataframe tbody tr th:only-of-type {\n        vertical-align: middle;\n    }\n\n    .dataframe tbody tr th {\n        vertical-align: top;\n    }\n\n    .dataframe thead th {\n        text-align: right;\n    }\n</style>\n<table border=\"1\" class=\"dataframe\">\n  <thead>\n    <tr style=\"text-align: right;\">\n      <th></th>\n      <th>location</th>\n      <th>Total_Deaths_Count</th>\n    </tr>\n  </thead>\n  <tbody>\n    <tr>\n      <th>0</th>\n      <td>World</td>\n      <td>5013591.0</td>\n    </tr>\n    <tr>\n      <th>1</th>\n      <td>Europe</td>\n      <td>1313814.0</td>\n    </tr>\n    <tr>\n      <th>2</th>\n      <td>Asia</td>\n      <td>1178919.0</td>\n    </tr>\n    <tr>\n      <th>3</th>\n      <td>South America</td>\n      <td>1170638.0</td>\n    </tr>\n    <tr>\n      <th>4</th>\n      <td>North America</td>\n      <td>1128788.0</td>\n    </tr>\n    <tr>\n      <th>5</th>\n      <td>European Union</td>\n      <td>800862.0</td>\n    </tr>\n    <tr>\n      <th>6</th>\n      <td>Africa</td>\n      <td>218561.0</td>\n    </tr>\n    <tr>\n      <th>7</th>\n      <td>Oceania</td>\n      <td>2856.0</td>\n    </tr>\n    <tr>\n      <th>8</th>\n      <td>International</td>\n      <td>15.0</td>\n    </tr>\n  </tbody>\n</table>\n</div>"
     },
     "execution_count": 117,
     "metadata": {},
     "output_type": "execute_result"
    }
   ],
   "source": [
    "# Remove the income variable\n",
    "sql_string = 'SELECT location, MAX(total_deaths) AS Total_Deaths_Count '\\\n",
    "             'FROM CovidDeaths '\\\n",
    "             'WHERE continent IS NULL ' \\\n",
    "             'AND location NOT IN (\"Upper middle income\", \"High income\", \"Lower middle income\",\"Low income\" )'\\\n",
    "             'GROUP by location '\\\n",
    "             'ORDER by Total_Deaths_Count DESC '\n",
    "pd.read_sql(sql_string, conn)"
   ],
   "metadata": {
    "collapsed": false,
    "pycharm": {
     "name": "#%%\n"
    }
   }
  },
  {
   "cell_type": "markdown",
   "source": [
    "## Global numbers\n",
    "by day"
   ],
   "metadata": {
    "collapsed": false
   }
  },
  {
   "cell_type": "code",
   "execution_count": 118,
   "outputs": [
    {
     "data": {
      "text/plain": "           date  Global_New_Cases  Global_New_Deaths  Death_Percentage\n0    2020-01-01               NaN                NaN               NaN\n1    2020-01-02               NaN                NaN               NaN\n2    2020-01-03               NaN                NaN               NaN\n3    2020-01-04               NaN                NaN               NaN\n4    2020-01-05               NaN                NaN               NaN\n..          ...               ...                ...               ...\n667  2021-01-07          891829.0            15154.0              1.70\n668  2021-04-29          898160.0            15772.0              1.76\n669  2021-04-22          898632.0            13877.0              1.54\n670  2021-04-23          903509.0            15174.0              1.68\n671  2021-04-28          905975.0            16043.0              1.77\n\n[672 rows x 4 columns]",
      "text/html": "<div>\n<style scoped>\n    .dataframe tbody tr th:only-of-type {\n        vertical-align: middle;\n    }\n\n    .dataframe tbody tr th {\n        vertical-align: top;\n    }\n\n    .dataframe thead th {\n        text-align: right;\n    }\n</style>\n<table border=\"1\" class=\"dataframe\">\n  <thead>\n    <tr style=\"text-align: right;\">\n      <th></th>\n      <th>date</th>\n      <th>Global_New_Cases</th>\n      <th>Global_New_Deaths</th>\n      <th>Death_Percentage</th>\n    </tr>\n  </thead>\n  <tbody>\n    <tr>\n      <th>0</th>\n      <td>2020-01-01</td>\n      <td>NaN</td>\n      <td>NaN</td>\n      <td>NaN</td>\n    </tr>\n    <tr>\n      <th>1</th>\n      <td>2020-01-02</td>\n      <td>NaN</td>\n      <td>NaN</td>\n      <td>NaN</td>\n    </tr>\n    <tr>\n      <th>2</th>\n      <td>2020-01-03</td>\n      <td>NaN</td>\n      <td>NaN</td>\n      <td>NaN</td>\n    </tr>\n    <tr>\n      <th>3</th>\n      <td>2020-01-04</td>\n      <td>NaN</td>\n      <td>NaN</td>\n      <td>NaN</td>\n    </tr>\n    <tr>\n      <th>4</th>\n      <td>2020-01-05</td>\n      <td>NaN</td>\n      <td>NaN</td>\n      <td>NaN</td>\n    </tr>\n    <tr>\n      <th>...</th>\n      <td>...</td>\n      <td>...</td>\n      <td>...</td>\n      <td>...</td>\n    </tr>\n    <tr>\n      <th>667</th>\n      <td>2021-01-07</td>\n      <td>891829.0</td>\n      <td>15154.0</td>\n      <td>1.70</td>\n    </tr>\n    <tr>\n      <th>668</th>\n      <td>2021-04-29</td>\n      <td>898160.0</td>\n      <td>15772.0</td>\n      <td>1.76</td>\n    </tr>\n    <tr>\n      <th>669</th>\n      <td>2021-04-22</td>\n      <td>898632.0</td>\n      <td>13877.0</td>\n      <td>1.54</td>\n    </tr>\n    <tr>\n      <th>670</th>\n      <td>2021-04-23</td>\n      <td>903509.0</td>\n      <td>15174.0</td>\n      <td>1.68</td>\n    </tr>\n    <tr>\n      <th>671</th>\n      <td>2021-04-28</td>\n      <td>905975.0</td>\n      <td>16043.0</td>\n      <td>1.77</td>\n    </tr>\n  </tbody>\n</table>\n<p>672 rows × 4 columns</p>\n</div>"
     },
     "execution_count": 118,
     "metadata": {},
     "output_type": "execute_result"
    }
   ],
   "source": [
    "sql_string = 'SELECT date, SUM(new_cases) AS Global_New_Cases, SUM(new_deaths) AS Global_New_Deaths, ROUND(SUM(new_deaths)/SUM(new_cases)*100,2) AS Death_Percentage '\\\n",
    "             'FROM CovidDeaths  ' \\\n",
    "             'WHERE continent IS NOT NULL ' \\\n",
    "             'GROUP BY date ' \\\n",
    "             'ORDER BY 2'\n",
    "pd.read_sql(sql_string, conn)"
   ],
   "metadata": {
    "collapsed": false,
    "pycharm": {
     "name": "#%%\n"
    }
   }
  },
  {
   "cell_type": "markdown",
   "source": [
    "Overall Global Death rate"
   ],
   "metadata": {
    "collapsed": false
   }
  },
  {
   "cell_type": "code",
   "execution_count": 119,
   "outputs": [
    {
     "data": {
      "text/plain": "   Global_New_Cases  Global_New_Deaths  Death_Percentage\n0       246947708.0          4996649.0              2.02",
      "text/html": "<div>\n<style scoped>\n    .dataframe tbody tr th:only-of-type {\n        vertical-align: middle;\n    }\n\n    .dataframe tbody tr th {\n        vertical-align: top;\n    }\n\n    .dataframe thead th {\n        text-align: right;\n    }\n</style>\n<table border=\"1\" class=\"dataframe\">\n  <thead>\n    <tr style=\"text-align: right;\">\n      <th></th>\n      <th>Global_New_Cases</th>\n      <th>Global_New_Deaths</th>\n      <th>Death_Percentage</th>\n    </tr>\n  </thead>\n  <tbody>\n    <tr>\n      <th>0</th>\n      <td>246947708.0</td>\n      <td>4996649.0</td>\n      <td>2.02</td>\n    </tr>\n  </tbody>\n</table>\n</div>"
     },
     "execution_count": 119,
     "metadata": {},
     "output_type": "execute_result"
    }
   ],
   "source": [
    "sql_string = 'SELECT SUM(new_cases) AS Global_New_Cases, SUM(new_deaths) AS Global_New_Deaths, ROUND(SUM(new_deaths)/SUM(new_cases)*100,2) AS Death_Percentage '\\\n",
    "             'FROM CovidDeaths  '\\\n",
    "             'WHERE continent IS NOT NULL '\\\n",
    "             'ORDER BY 2'\n",
    "pd.read_sql(sql_string, conn)"
   ],
   "metadata": {
    "collapsed": false,
    "pycharm": {
     "name": "#%%\n"
    }
   }
  },
  {
   "cell_type": "code",
   "execution_count": 120,
   "outputs": [
    {
     "data": {
      "text/plain": "       iso_code continent     location        date  new_tests  total_tests  \\\n0           AFG      Asia  Afghanistan  2020-02-24        NaN          NaN   \n1           AFG      Asia  Afghanistan  2020-02-25        NaN          NaN   \n2           AFG      Asia  Afghanistan  2020-02-26        NaN          NaN   \n3           AFG      Asia  Afghanistan  2020-02-27        NaN          NaN   \n4           AFG      Asia  Afghanistan  2020-02-28        NaN          NaN   \n...         ...       ...          ...         ...        ...          ...   \n130595     None      None         None        None     2740.0    1368179.0   \n130596     None      None         None        None     3755.0    1371934.0   \n130597     None      None         None        None        NaN          NaN   \n130598     None      None         None        None        NaN          NaN   \n130599     None      None         None        None        NaN          NaN   \n\n        total_tests_per_thousand  new_tests_per_thousand  new_tests_smoothed  \\\n0                            NaN                     NaN                 NaN   \n1                            NaN                     NaN                 NaN   \n2                            NaN                     NaN                 NaN   \n3                            NaN                     NaN                 NaN   \n4                            NaN                     NaN                 NaN   \n...                          ...                     ...                 ...   \n130595                    90.655                   0.182              3018.0   \n130596                    90.904                   0.249              3100.0   \n130597                       NaN                     NaN                 NaN   \n130598                       NaN                     NaN                 NaN   \n130599                       NaN                     NaN                 NaN   \n\n        new_tests_smoothed_per_thousand  ...  female_smokers  male_smokers  \\\n0                                   NaN  ...             NaN           NaN   \n1                                   NaN  ...             NaN           NaN   \n2                                   NaN  ...             NaN           NaN   \n3                                   NaN  ...             NaN           NaN   \n4                                   NaN  ...             NaN           NaN   \n...                                 ...  ...             ...           ...   \n130595                            0.200  ...             1.6          30.7   \n130596                            0.205  ...             1.6          30.7   \n130597                              NaN  ...             1.6          30.7   \n130598                              NaN  ...             1.6          30.7   \n130599                              NaN  ...             1.6          30.7   \n\n       handwashing_facilities  hospital_beds_per_thousand  life_expectancy  \\\n0                      37.746                         0.5            64.83   \n1                      37.746                         0.5            64.83   \n2                      37.746                         0.5            64.83   \n3                      37.746                         0.5            64.83   \n4                      37.746                         0.5            64.83   \n...                       ...                         ...              ...   \n130595                 36.791                         1.7            61.49   \n130596                 36.791                         1.7            61.49   \n130597                 36.791                         1.7            61.49   \n130598                 36.791                         1.7            61.49   \n130599                 36.791                         1.7            61.49   \n\n        human_development_index  excess_mortality_cumulative_absolute  \\\n0                         0.511                                   NaN   \n1                         0.511                                   NaN   \n2                         0.511                                   NaN   \n3                         0.511                                   NaN   \n4                         0.511                                   NaN   \n...                         ...                                   ...   \n130595                    0.571                                   NaN   \n130596                    0.571                                   NaN   \n130597                    0.571                                   NaN   \n130598                    0.571                                   NaN   \n130599                    0.571                                   NaN   \n\n        excess_mortality_cumulative  excess_mortality  \\\n0                               NaN               NaN   \n1                               NaN               NaN   \n2                               NaN               NaN   \n3                               NaN               NaN   \n4                               NaN               NaN   \n...                             ...               ...   \n130595                          NaN               NaN   \n130596                          NaN               NaN   \n130597                          NaN               NaN   \n130598                          NaN               NaN   \n130599                          NaN               NaN   \n\n        excess_mortality_cumulative_per_million  \n0                                           NaN  \n1                                           NaN  \n2                                           NaN  \n3                                           NaN  \n4                                           NaN  \n...                                         ...  \n130595                                      NaN  \n130596                                      NaN  \n130597                                      NaN  \n130598                                      NaN  \n130599                                      NaN  \n\n[130600 rows x 43 columns]",
      "text/html": "<div>\n<style scoped>\n    .dataframe tbody tr th:only-of-type {\n        vertical-align: middle;\n    }\n\n    .dataframe tbody tr th {\n        vertical-align: top;\n    }\n\n    .dataframe thead th {\n        text-align: right;\n    }\n</style>\n<table border=\"1\" class=\"dataframe\">\n  <thead>\n    <tr style=\"text-align: right;\">\n      <th></th>\n      <th>iso_code</th>\n      <th>continent</th>\n      <th>location</th>\n      <th>date</th>\n      <th>new_tests</th>\n      <th>total_tests</th>\n      <th>total_tests_per_thousand</th>\n      <th>new_tests_per_thousand</th>\n      <th>new_tests_smoothed</th>\n      <th>new_tests_smoothed_per_thousand</th>\n      <th>...</th>\n      <th>female_smokers</th>\n      <th>male_smokers</th>\n      <th>handwashing_facilities</th>\n      <th>hospital_beds_per_thousand</th>\n      <th>life_expectancy</th>\n      <th>human_development_index</th>\n      <th>excess_mortality_cumulative_absolute</th>\n      <th>excess_mortality_cumulative</th>\n      <th>excess_mortality</th>\n      <th>excess_mortality_cumulative_per_million</th>\n    </tr>\n  </thead>\n  <tbody>\n    <tr>\n      <th>0</th>\n      <td>AFG</td>\n      <td>Asia</td>\n      <td>Afghanistan</td>\n      <td>2020-02-24</td>\n      <td>NaN</td>\n      <td>NaN</td>\n      <td>NaN</td>\n      <td>NaN</td>\n      <td>NaN</td>\n      <td>NaN</td>\n      <td>...</td>\n      <td>NaN</td>\n      <td>NaN</td>\n      <td>37.746</td>\n      <td>0.5</td>\n      <td>64.83</td>\n      <td>0.511</td>\n      <td>NaN</td>\n      <td>NaN</td>\n      <td>NaN</td>\n      <td>NaN</td>\n    </tr>\n    <tr>\n      <th>1</th>\n      <td>AFG</td>\n      <td>Asia</td>\n      <td>Afghanistan</td>\n      <td>2020-02-25</td>\n      <td>NaN</td>\n      <td>NaN</td>\n      <td>NaN</td>\n      <td>NaN</td>\n      <td>NaN</td>\n      <td>NaN</td>\n      <td>...</td>\n      <td>NaN</td>\n      <td>NaN</td>\n      <td>37.746</td>\n      <td>0.5</td>\n      <td>64.83</td>\n      <td>0.511</td>\n      <td>NaN</td>\n      <td>NaN</td>\n      <td>NaN</td>\n      <td>NaN</td>\n    </tr>\n    <tr>\n      <th>2</th>\n      <td>AFG</td>\n      <td>Asia</td>\n      <td>Afghanistan</td>\n      <td>2020-02-26</td>\n      <td>NaN</td>\n      <td>NaN</td>\n      <td>NaN</td>\n      <td>NaN</td>\n      <td>NaN</td>\n      <td>NaN</td>\n      <td>...</td>\n      <td>NaN</td>\n      <td>NaN</td>\n      <td>37.746</td>\n      <td>0.5</td>\n      <td>64.83</td>\n      <td>0.511</td>\n      <td>NaN</td>\n      <td>NaN</td>\n      <td>NaN</td>\n      <td>NaN</td>\n    </tr>\n    <tr>\n      <th>3</th>\n      <td>AFG</td>\n      <td>Asia</td>\n      <td>Afghanistan</td>\n      <td>2020-02-27</td>\n      <td>NaN</td>\n      <td>NaN</td>\n      <td>NaN</td>\n      <td>NaN</td>\n      <td>NaN</td>\n      <td>NaN</td>\n      <td>...</td>\n      <td>NaN</td>\n      <td>NaN</td>\n      <td>37.746</td>\n      <td>0.5</td>\n      <td>64.83</td>\n      <td>0.511</td>\n      <td>NaN</td>\n      <td>NaN</td>\n      <td>NaN</td>\n      <td>NaN</td>\n    </tr>\n    <tr>\n      <th>4</th>\n      <td>AFG</td>\n      <td>Asia</td>\n      <td>Afghanistan</td>\n      <td>2020-02-28</td>\n      <td>NaN</td>\n      <td>NaN</td>\n      <td>NaN</td>\n      <td>NaN</td>\n      <td>NaN</td>\n      <td>NaN</td>\n      <td>...</td>\n      <td>NaN</td>\n      <td>NaN</td>\n      <td>37.746</td>\n      <td>0.5</td>\n      <td>64.83</td>\n      <td>0.511</td>\n      <td>NaN</td>\n      <td>NaN</td>\n      <td>NaN</td>\n      <td>NaN</td>\n    </tr>\n    <tr>\n      <th>...</th>\n      <td>...</td>\n      <td>...</td>\n      <td>...</td>\n      <td>...</td>\n      <td>...</td>\n      <td>...</td>\n      <td>...</td>\n      <td>...</td>\n      <td>...</td>\n      <td>...</td>\n      <td>...</td>\n      <td>...</td>\n      <td>...</td>\n      <td>...</td>\n      <td>...</td>\n      <td>...</td>\n      <td>...</td>\n      <td>...</td>\n      <td>...</td>\n      <td>...</td>\n      <td>...</td>\n    </tr>\n    <tr>\n      <th>130595</th>\n      <td>None</td>\n      <td>None</td>\n      <td>None</td>\n      <td>None</td>\n      <td>2740.0</td>\n      <td>1368179.0</td>\n      <td>90.655</td>\n      <td>0.182</td>\n      <td>3018.0</td>\n      <td>0.200</td>\n      <td>...</td>\n      <td>1.6</td>\n      <td>30.7</td>\n      <td>36.791</td>\n      <td>1.7</td>\n      <td>61.49</td>\n      <td>0.571</td>\n      <td>NaN</td>\n      <td>NaN</td>\n      <td>NaN</td>\n      <td>NaN</td>\n    </tr>\n    <tr>\n      <th>130596</th>\n      <td>None</td>\n      <td>None</td>\n      <td>None</td>\n      <td>None</td>\n      <td>3755.0</td>\n      <td>1371934.0</td>\n      <td>90.904</td>\n      <td>0.249</td>\n      <td>3100.0</td>\n      <td>0.205</td>\n      <td>...</td>\n      <td>1.6</td>\n      <td>30.7</td>\n      <td>36.791</td>\n      <td>1.7</td>\n      <td>61.49</td>\n      <td>0.571</td>\n      <td>NaN</td>\n      <td>NaN</td>\n      <td>NaN</td>\n      <td>NaN</td>\n    </tr>\n    <tr>\n      <th>130597</th>\n      <td>None</td>\n      <td>None</td>\n      <td>None</td>\n      <td>None</td>\n      <td>NaN</td>\n      <td>NaN</td>\n      <td>NaN</td>\n      <td>NaN</td>\n      <td>NaN</td>\n      <td>NaN</td>\n      <td>...</td>\n      <td>1.6</td>\n      <td>30.7</td>\n      <td>36.791</td>\n      <td>1.7</td>\n      <td>61.49</td>\n      <td>0.571</td>\n      <td>NaN</td>\n      <td>NaN</td>\n      <td>NaN</td>\n      <td>NaN</td>\n    </tr>\n    <tr>\n      <th>130598</th>\n      <td>None</td>\n      <td>None</td>\n      <td>None</td>\n      <td>None</td>\n      <td>NaN</td>\n      <td>NaN</td>\n      <td>NaN</td>\n      <td>NaN</td>\n      <td>NaN</td>\n      <td>NaN</td>\n      <td>...</td>\n      <td>1.6</td>\n      <td>30.7</td>\n      <td>36.791</td>\n      <td>1.7</td>\n      <td>61.49</td>\n      <td>0.571</td>\n      <td>NaN</td>\n      <td>NaN</td>\n      <td>NaN</td>\n      <td>NaN</td>\n    </tr>\n    <tr>\n      <th>130599</th>\n      <td>None</td>\n      <td>None</td>\n      <td>None</td>\n      <td>None</td>\n      <td>NaN</td>\n      <td>NaN</td>\n      <td>NaN</td>\n      <td>NaN</td>\n      <td>NaN</td>\n      <td>NaN</td>\n      <td>...</td>\n      <td>1.6</td>\n      <td>30.7</td>\n      <td>36.791</td>\n      <td>1.7</td>\n      <td>61.49</td>\n      <td>0.571</td>\n      <td>NaN</td>\n      <td>NaN</td>\n      <td>NaN</td>\n      <td>NaN</td>\n    </tr>\n  </tbody>\n</table>\n<p>130600 rows × 43 columns</p>\n</div>"
     },
     "execution_count": 120,
     "metadata": {},
     "output_type": "execute_result"
    }
   ],
   "source": [
    "sql_string = 'SELECT * '\\\n",
    "             'FROM CovidVaccinations vac '\n",
    "pd.read_sql(sql_string, conn)"
   ],
   "metadata": {
    "collapsed": false,
    "pycharm": {
     "name": "#%%\n"
    }
   }
  }
 ],
 "metadata": {
  "kernelspec": {
   "display_name": "Python 3",
   "language": "python",
   "name": "python3"
  },
  "language_info": {
   "codemirror_mode": {
    "name": "ipython",
    "version": 2
   },
   "file_extension": ".py",
   "mimetype": "text/x-python",
   "name": "python",
   "nbconvert_exporter": "python",
   "pygments_lexer": "ipython2",
   "version": "2.7.6"
  }
 },
 "nbformat": 4,
 "nbformat_minor": 0
=======
{
 "cells": [
  {
   "cell_type": "markdown",
   "source": [
    "<h1 style=\"color:Orange;font-size:170%;\"> SQL Coronavirus (COVID-19) Deaths Project </h1>\n",
    "\n",
    "# Installing SQL module in the notebook"
   ],
   "metadata": {
    "collapsed": false
   }
  },
  {
   "cell_type": "code",
   "execution_count": 72,
   "metadata": {
    "collapsed": true
   },
   "outputs": [],
   "source": [
    "#conda install -c conda-forge jupyterlab"
   ]
  },
  {
   "cell_type": "code",
   "execution_count": 73,
   "outputs": [],
   "source": [
    "#!pip install ipython-sql"
   ],
   "metadata": {
    "collapsed": false,
    "pycharm": {
     "name": "#%%\n"
    }
   }
  },
  {
   "cell_type": "markdown",
   "source": [
    "# Loading the SQL module"
   ],
   "metadata": {
    "collapsed": false
   }
  },
  {
   "cell_type": "code",
   "execution_count": 74,
   "outputs": [
    {
     "data": {
      "application/javascript": "IPython.notebook.set_autosave_interval(60000)"
     },
     "metadata": {},
     "output_type": "display_data"
    },
    {
     "name": "stdout",
     "output_type": "stream",
     "text": [
      "Autosaving every 60 seconds\n",
      "The sql extension is already loaded. To reload it, use:\n",
      "  %reload_ext sql\n"
     ]
    }
   ],
   "source": [
    "import pandas as pd\n",
    "import sqlite3\n",
    "\n",
    "# autosave every minute\n",
    "%autosave 60\n",
    "\n",
    "# Load SQL Magic Module\n",
    "%load_ext sql"
   ],
   "metadata": {
    "collapsed": false,
    "pycharm": {
     "name": "#%%\n"
    }
   }
  },
  {
   "cell_type": "markdown",
   "source": [
    "# Create a new Database"
   ],
   "metadata": {
    "collapsed": false
   }
  },
  {
   "cell_type": "code",
   "execution_count": 101,
   "outputs": [],
   "source": [
    "#connect to a database\n",
    "conn = sqlite3.connect(r\"Database/COVID_19_db.sqlite\")\n",
    "#if the db does not exist, this creates a Any_Database_Name.db file in the current directory"
   ],
   "metadata": {
    "collapsed": false,
    "pycharm": {
     "name": "#%%\n"
    }
   }
  },
  {
   "cell_type": "markdown",
   "source": [
    "## Populate the database from file"
   ],
   "metadata": {
    "collapsed": false
   }
  },
  {
   "cell_type": "code",
   "execution_count": 104,
   "outputs": [
    {
     "name": "stdout",
     "output_type": "stream",
     "text": [
      "<class 'pandas.core.frame.DataFrame'>\n",
      "RangeIndex: 130600 entries, 0 to 130599\n",
      "Data columns (total 26 columns):\n",
      " #   Column                              Non-Null Count   Dtype  \n",
      "---  ------                              --------------   -----  \n",
      " 0   iso_code                            130600 non-null  object \n",
      " 1   continent                           122243 non-null  object \n",
      " 2   location                            130600 non-null  object \n",
      " 3   date                                130600 non-null  object \n",
      " 4   population                          129676 non-null  float64\n",
      " 5   total_cases                         123547 non-null  float64\n",
      " 6   new_cases                           123545 non-null  float64\n",
      " 7   new_cases_smoothed                  122502 non-null  float64\n",
      " 8   total_deaths                        112502 non-null  float64\n",
      " 9   new_deaths                          112698 non-null  float64\n",
      " 10  new_deaths_smoothed                 122502 non-null  float64\n",
      " 11  total_cases_per_million             122912 non-null  float64\n",
      " 12  new_cases_per_million               122910 non-null  float64\n",
      " 13  new_cases_smoothed_per_million      121872 non-null  float64\n",
      " 14  total_deaths_per_million            111880 non-null  float64\n",
      " 15  new_deaths_per_million              112076 non-null  float64\n",
      " 16  new_deaths_smoothed_per_million     121872 non-null  float64\n",
      " 17  reproduction_rate                   102576 non-null  float64\n",
      " 18  icu_patients                        15619 non-null   float64\n",
      " 19  icu_patients_per_million            15619 non-null   float64\n",
      " 20  hosp_patients                       18310 non-null   float64\n",
      " 21  hosp_patients_per_million           18310 non-null   float64\n",
      " 22  weekly_icu_admissions               1262 non-null    float64\n",
      " 23  weekly_icu_admissions_per_million   1262 non-null    float64\n",
      " 24  weekly_hosp_admissions              2186 non-null    float64\n",
      " 25  weekly_hosp_admissions_per_million  2186 non-null    float64\n",
      "dtypes: float64(22), object(4)\n",
      "memory usage: 25.9+ MB\n"
     ]
    }
   ],
   "source": [
    "#read the CSV\n",
    "#df_Death = pd.read_csv('DataSet/covid_data_death.csv')\n",
    "#df_Vaccin = pd.read_csv('DataSet/covid_data_vaccin.csv')\n",
    "\n",
    "df_Death = pd.read_csv('DataSet/covid_deaths.csv')\n",
    "df_Vaccin = pd.read_csv('DataSet/covid_vaccine.csv')\n",
    "df_Death.info()"
   ],
   "metadata": {
    "collapsed": false,
    "pycharm": {
     "name": "#%%\n"
    }
   }
  },
  {
   "cell_type": "code",
   "execution_count": 99,
   "outputs": [
    {
     "data": {
      "text/plain": "  iso_code continent     location        date  population  total_cases  \\\n0      AFG      Asia  Afghanistan  24/02/2020  39835428.0          5.0   \n1      AFG      Asia  Afghanistan  25/02/2020  39835428.0          5.0   \n2      AFG      Asia  Afghanistan  26/02/2020  39835428.0          5.0   \n3      AFG      Asia  Afghanistan  27/02/2020  39835428.0          5.0   \n4      AFG      Asia  Afghanistan  28/02/2020  39835428.0          5.0   \n\n   new_cases  new_cases_smoothed  total_deaths  new_deaths  ...  \\\n0        5.0                 NaN           NaN         NaN  ...   \n1        0.0                 NaN           NaN         NaN  ...   \n2        0.0                 NaN           NaN         NaN  ...   \n3        0.0                 NaN           NaN         NaN  ...   \n4        0.0                 NaN           NaN         NaN  ...   \n\n   new_deaths_smoothed_per_million  reproduction_rate  icu_patients  \\\n0                              NaN                NaN           NaN   \n1                              NaN                NaN           NaN   \n2                              NaN                NaN           NaN   \n3                              NaN                NaN           NaN   \n4                              NaN                NaN           NaN   \n\n   icu_patients_per_million  hosp_patients  hosp_patients_per_million  \\\n0                       NaN            NaN                        NaN   \n1                       NaN            NaN                        NaN   \n2                       NaN            NaN                        NaN   \n3                       NaN            NaN                        NaN   \n4                       NaN            NaN                        NaN   \n\n   weekly_icu_admissions  weekly_icu_admissions_per_million  \\\n0                    NaN                                NaN   \n1                    NaN                                NaN   \n2                    NaN                                NaN   \n3                    NaN                                NaN   \n4                    NaN                                NaN   \n\n   weekly_hosp_admissions  weekly_hosp_admissions_per_million  \n0                     NaN                                 NaN  \n1                     NaN                                 NaN  \n2                     NaN                                 NaN  \n3                     NaN                                 NaN  \n4                     NaN                                 NaN  \n\n[5 rows x 26 columns]",
      "text/html": "<div>\n<style scoped>\n    .dataframe tbody tr th:only-of-type {\n        vertical-align: middle;\n    }\n\n    .dataframe tbody tr th {\n        vertical-align: top;\n    }\n\n    .dataframe thead th {\n        text-align: right;\n    }\n</style>\n<table border=\"1\" class=\"dataframe\">\n  <thead>\n    <tr style=\"text-align: right;\">\n      <th></th>\n      <th>iso_code</th>\n      <th>continent</th>\n      <th>location</th>\n      <th>date</th>\n      <th>population</th>\n      <th>total_cases</th>\n      <th>new_cases</th>\n      <th>new_cases_smoothed</th>\n      <th>total_deaths</th>\n      <th>new_deaths</th>\n      <th>...</th>\n      <th>new_deaths_smoothed_per_million</th>\n      <th>reproduction_rate</th>\n      <th>icu_patients</th>\n      <th>icu_patients_per_million</th>\n      <th>hosp_patients</th>\n      <th>hosp_patients_per_million</th>\n      <th>weekly_icu_admissions</th>\n      <th>weekly_icu_admissions_per_million</th>\n      <th>weekly_hosp_admissions</th>\n      <th>weekly_hosp_admissions_per_million</th>\n    </tr>\n  </thead>\n  <tbody>\n    <tr>\n      <th>0</th>\n      <td>AFG</td>\n      <td>Asia</td>\n      <td>Afghanistan</td>\n      <td>24/02/2020</td>\n      <td>39835428.0</td>\n      <td>5.0</td>\n      <td>5.0</td>\n      <td>NaN</td>\n      <td>NaN</td>\n      <td>NaN</td>\n      <td>...</td>\n      <td>NaN</td>\n      <td>NaN</td>\n      <td>NaN</td>\n      <td>NaN</td>\n      <td>NaN</td>\n      <td>NaN</td>\n      <td>NaN</td>\n      <td>NaN</td>\n      <td>NaN</td>\n      <td>NaN</td>\n    </tr>\n    <tr>\n      <th>1</th>\n      <td>AFG</td>\n      <td>Asia</td>\n      <td>Afghanistan</td>\n      <td>25/02/2020</td>\n      <td>39835428.0</td>\n      <td>5.0</td>\n      <td>0.0</td>\n      <td>NaN</td>\n      <td>NaN</td>\n      <td>NaN</td>\n      <td>...</td>\n      <td>NaN</td>\n      <td>NaN</td>\n      <td>NaN</td>\n      <td>NaN</td>\n      <td>NaN</td>\n      <td>NaN</td>\n      <td>NaN</td>\n      <td>NaN</td>\n      <td>NaN</td>\n      <td>NaN</td>\n    </tr>\n    <tr>\n      <th>2</th>\n      <td>AFG</td>\n      <td>Asia</td>\n      <td>Afghanistan</td>\n      <td>26/02/2020</td>\n      <td>39835428.0</td>\n      <td>5.0</td>\n      <td>0.0</td>\n      <td>NaN</td>\n      <td>NaN</td>\n      <td>NaN</td>\n      <td>...</td>\n      <td>NaN</td>\n      <td>NaN</td>\n      <td>NaN</td>\n      <td>NaN</td>\n      <td>NaN</td>\n      <td>NaN</td>\n      <td>NaN</td>\n      <td>NaN</td>\n      <td>NaN</td>\n      <td>NaN</td>\n    </tr>\n    <tr>\n      <th>3</th>\n      <td>AFG</td>\n      <td>Asia</td>\n      <td>Afghanistan</td>\n      <td>27/02/2020</td>\n      <td>39835428.0</td>\n      <td>5.0</td>\n      <td>0.0</td>\n      <td>NaN</td>\n      <td>NaN</td>\n      <td>NaN</td>\n      <td>...</td>\n      <td>NaN</td>\n      <td>NaN</td>\n      <td>NaN</td>\n      <td>NaN</td>\n      <td>NaN</td>\n      <td>NaN</td>\n      <td>NaN</td>\n      <td>NaN</td>\n      <td>NaN</td>\n      <td>NaN</td>\n    </tr>\n    <tr>\n      <th>4</th>\n      <td>AFG</td>\n      <td>Asia</td>\n      <td>Afghanistan</td>\n      <td>28/02/2020</td>\n      <td>39835428.0</td>\n      <td>5.0</td>\n      <td>0.0</td>\n      <td>NaN</td>\n      <td>NaN</td>\n      <td>NaN</td>\n      <td>...</td>\n      <td>NaN</td>\n      <td>NaN</td>\n      <td>NaN</td>\n      <td>NaN</td>\n      <td>NaN</td>\n      <td>NaN</td>\n      <td>NaN</td>\n      <td>NaN</td>\n      <td>NaN</td>\n      <td>NaN</td>\n    </tr>\n  </tbody>\n</table>\n<p>5 rows × 26 columns</p>\n</div>"
     },
     "execution_count": 99,
     "metadata": {},
     "output_type": "execute_result"
    }
   ],
   "source": [
    "df_Death.head()"
   ],
   "metadata": {
    "collapsed": false,
    "pycharm": {
     "name": "#%%\n"
    }
   }
  },
  {
   "cell_type": "code",
   "execution_count": 78,
   "outputs": [
    {
     "name": "stdout",
     "output_type": "stream",
     "text": [
      "<class 'pandas.core.frame.DataFrame'>\n",
      "RangeIndex: 130600 entries, 0 to 130599\n",
      "Data columns (total 43 columns):\n",
      " #   Column                                   Non-Null Count   Dtype  \n",
      "---  ------                                   --------------   -----  \n",
      " 0   iso_code                                 122243 non-null  object \n",
      " 1   continent                                122243 non-null  object \n",
      " 2   location                                 122243 non-null  object \n",
      " 3   date                                     122243 non-null  object \n",
      " 4   new_tests                                54508 non-null   float64\n",
      " 5   total_tests                              54699 non-null   float64\n",
      " 6   total_tests_per_thousand                 54699 non-null   float64\n",
      " 7   new_tests_per_thousand                   54508 non-null   float64\n",
      " 8   new_tests_smoothed                       65945 non-null   float64\n",
      " 9   new_tests_smoothed_per_thousand          65945 non-null   float64\n",
      " 10  positive_rate                            61972 non-null   float64\n",
      " 11  tests_per_case                           61316 non-null   float64\n",
      " 12  tests_units                              67934 non-null   object \n",
      " 13  total_vaccinations                       32339 non-null   float64\n",
      " 14  people_vaccinated                        30847 non-null   float64\n",
      " 15  people_fully_vaccinated                  27820 non-null   float64\n",
      " 16  total_boosters                           5353 non-null    float64\n",
      " 17  new_vaccinations                         26969 non-null   float64\n",
      " 18  new_vaccinations_smoothed                57375 non-null   float64\n",
      " 19  total_vaccinations_per_hundred           32339 non-null   float64\n",
      " 20  people_vaccinated_per_hundred            30847 non-null   float64\n",
      " 21  people_fully_vaccinated_per_hundred      27820 non-null   float64\n",
      " 22  total_boosters_per_hundred               5353 non-null    float64\n",
      " 23  new_vaccinations_smoothed_per_million    57375 non-null   float64\n",
      " 24  stringency_index                         106737 non-null  float64\n",
      " 25  population_density                       118248 non-null  float64\n",
      " 26  median_age                               112730 non-null  float64\n",
      " 27  aged_65_older                            111482 non-null  float64\n",
      " 28  aged_70_older                            112114 non-null  float64\n",
      " 29  gdp_per_capita                           113459 non-null  float64\n",
      " 30  extreme_poverty                          75896 non-null   float64\n",
      " 31  cardiovasc_death_rate                    112985 non-null  float64\n",
      " 32  diabetes_prevalence                      116659 non-null  float64\n",
      " 33  female_smokers                           88023 non-null   float64\n",
      " 34  male_smokers                             86749 non-null   float64\n",
      " 35  handwashing_facilities                   56858 non-null   float64\n",
      " 36  hospital_beds_per_thousand               102686 non-null  float64\n",
      " 37  life_expectancy                          121411 non-null  float64\n",
      " 38  human_development_index                  113078 non-null  float64\n",
      " 39  excess_mortality_cumulative_absolute     4580 non-null    float64\n",
      " 40  excess_mortality_cumulative              4580 non-null    float64\n",
      " 41  excess_mortality                         4580 non-null    float64\n",
      " 42  excess_mortality_cumulative_per_million  4580 non-null    float64\n",
      "dtypes: float64(38), object(5)\n",
      "memory usage: 42.8+ MB\n"
     ]
    }
   ],
   "source": [
    "df_Vaccin.info()"
   ],
   "metadata": {
    "collapsed": false,
    "pycharm": {
     "name": "#%%\n"
    }
   }
  },
  {
   "cell_type": "code",
   "execution_count": 79,
   "outputs": [
    {
     "data": {
      "text/plain": "  iso_code continent     location        date  new_tests  total_tests  \\\n0      AFG      Asia  Afghanistan  24/02/2020        NaN          NaN   \n1      AFG      Asia  Afghanistan  25/02/2020        NaN          NaN   \n2      AFG      Asia  Afghanistan  26/02/2020        NaN          NaN   \n3      AFG      Asia  Afghanistan  27/02/2020        NaN          NaN   \n4      AFG      Asia  Afghanistan  28/02/2020        NaN          NaN   \n\n   total_tests_per_thousand  new_tests_per_thousand  new_tests_smoothed  \\\n0                       NaN                     NaN                 NaN   \n1                       NaN                     NaN                 NaN   \n2                       NaN                     NaN                 NaN   \n3                       NaN                     NaN                 NaN   \n4                       NaN                     NaN                 NaN   \n\n   new_tests_smoothed_per_thousand  ...  female_smokers  male_smokers  \\\n0                              NaN  ...             NaN           NaN   \n1                              NaN  ...             NaN           NaN   \n2                              NaN  ...             NaN           NaN   \n3                              NaN  ...             NaN           NaN   \n4                              NaN  ...             NaN           NaN   \n\n  handwashing_facilities  hospital_beds_per_thousand  life_expectancy  \\\n0                 37.746                         0.5            64.83   \n1                 37.746                         0.5            64.83   \n2                 37.746                         0.5            64.83   \n3                 37.746                         0.5            64.83   \n4                 37.746                         0.5            64.83   \n\n   human_development_index  excess_mortality_cumulative_absolute  \\\n0                    0.511                                   NaN   \n1                    0.511                                   NaN   \n2                    0.511                                   NaN   \n3                    0.511                                   NaN   \n4                    0.511                                   NaN   \n\n   excess_mortality_cumulative  excess_mortality  \\\n0                          NaN               NaN   \n1                          NaN               NaN   \n2                          NaN               NaN   \n3                          NaN               NaN   \n4                          NaN               NaN   \n\n   excess_mortality_cumulative_per_million  \n0                                      NaN  \n1                                      NaN  \n2                                      NaN  \n3                                      NaN  \n4                                      NaN  \n\n[5 rows x 43 columns]",
      "text/html": "<div>\n<style scoped>\n    .dataframe tbody tr th:only-of-type {\n        vertical-align: middle;\n    }\n\n    .dataframe tbody tr th {\n        vertical-align: top;\n    }\n\n    .dataframe thead th {\n        text-align: right;\n    }\n</style>\n<table border=\"1\" class=\"dataframe\">\n  <thead>\n    <tr style=\"text-align: right;\">\n      <th></th>\n      <th>iso_code</th>\n      <th>continent</th>\n      <th>location</th>\n      <th>date</th>\n      <th>new_tests</th>\n      <th>total_tests</th>\n      <th>total_tests_per_thousand</th>\n      <th>new_tests_per_thousand</th>\n      <th>new_tests_smoothed</th>\n      <th>new_tests_smoothed_per_thousand</th>\n      <th>...</th>\n      <th>female_smokers</th>\n      <th>male_smokers</th>\n      <th>handwashing_facilities</th>\n      <th>hospital_beds_per_thousand</th>\n      <th>life_expectancy</th>\n      <th>human_development_index</th>\n      <th>excess_mortality_cumulative_absolute</th>\n      <th>excess_mortality_cumulative</th>\n      <th>excess_mortality</th>\n      <th>excess_mortality_cumulative_per_million</th>\n    </tr>\n  </thead>\n  <tbody>\n    <tr>\n      <th>0</th>\n      <td>AFG</td>\n      <td>Asia</td>\n      <td>Afghanistan</td>\n      <td>24/02/2020</td>\n      <td>NaN</td>\n      <td>NaN</td>\n      <td>NaN</td>\n      <td>NaN</td>\n      <td>NaN</td>\n      <td>NaN</td>\n      <td>...</td>\n      <td>NaN</td>\n      <td>NaN</td>\n      <td>37.746</td>\n      <td>0.5</td>\n      <td>64.83</td>\n      <td>0.511</td>\n      <td>NaN</td>\n      <td>NaN</td>\n      <td>NaN</td>\n      <td>NaN</td>\n    </tr>\n    <tr>\n      <th>1</th>\n      <td>AFG</td>\n      <td>Asia</td>\n      <td>Afghanistan</td>\n      <td>25/02/2020</td>\n      <td>NaN</td>\n      <td>NaN</td>\n      <td>NaN</td>\n      <td>NaN</td>\n      <td>NaN</td>\n      <td>NaN</td>\n      <td>...</td>\n      <td>NaN</td>\n      <td>NaN</td>\n      <td>37.746</td>\n      <td>0.5</td>\n      <td>64.83</td>\n      <td>0.511</td>\n      <td>NaN</td>\n      <td>NaN</td>\n      <td>NaN</td>\n      <td>NaN</td>\n    </tr>\n    <tr>\n      <th>2</th>\n      <td>AFG</td>\n      <td>Asia</td>\n      <td>Afghanistan</td>\n      <td>26/02/2020</td>\n      <td>NaN</td>\n      <td>NaN</td>\n      <td>NaN</td>\n      <td>NaN</td>\n      <td>NaN</td>\n      <td>NaN</td>\n      <td>...</td>\n      <td>NaN</td>\n      <td>NaN</td>\n      <td>37.746</td>\n      <td>0.5</td>\n      <td>64.83</td>\n      <td>0.511</td>\n      <td>NaN</td>\n      <td>NaN</td>\n      <td>NaN</td>\n      <td>NaN</td>\n    </tr>\n    <tr>\n      <th>3</th>\n      <td>AFG</td>\n      <td>Asia</td>\n      <td>Afghanistan</td>\n      <td>27/02/2020</td>\n      <td>NaN</td>\n      <td>NaN</td>\n      <td>NaN</td>\n      <td>NaN</td>\n      <td>NaN</td>\n      <td>NaN</td>\n      <td>...</td>\n      <td>NaN</td>\n      <td>NaN</td>\n      <td>37.746</td>\n      <td>0.5</td>\n      <td>64.83</td>\n      <td>0.511</td>\n      <td>NaN</td>\n      <td>NaN</td>\n      <td>NaN</td>\n      <td>NaN</td>\n    </tr>\n    <tr>\n      <th>4</th>\n      <td>AFG</td>\n      <td>Asia</td>\n      <td>Afghanistan</td>\n      <td>28/02/2020</td>\n      <td>NaN</td>\n      <td>NaN</td>\n      <td>NaN</td>\n      <td>NaN</td>\n      <td>NaN</td>\n      <td>NaN</td>\n      <td>...</td>\n      <td>NaN</td>\n      <td>NaN</td>\n      <td>37.746</td>\n      <td>0.5</td>\n      <td>64.83</td>\n      <td>0.511</td>\n      <td>NaN</td>\n      <td>NaN</td>\n      <td>NaN</td>\n      <td>NaN</td>\n    </tr>\n  </tbody>\n</table>\n<p>5 rows × 43 columns</p>\n</div>"
     },
     "execution_count": 79,
     "metadata": {},
     "output_type": "execute_result"
    }
   ],
   "source": [
    "df_Vaccin.head()"
   ],
   "metadata": {
    "collapsed": false,
    "pycharm": {
     "name": "#%%\n"
    }
   }
  },
  {
   "cell_type": "code",
   "execution_count": 105,
   "outputs": [],
   "source": [
    "\n",
    "#store your table in the database:\n",
    "df_Death.to_sql('CovidDeaths', conn, index=False)\n",
    "\n",
    "df_Vaccin.to_sql('CovidVaccinations', conn, index=False)\n",
    "# We set index to false for not have a double index on the SQL tables\n"
   ],
   "metadata": {
    "collapsed": false,
    "pycharm": {
     "name": "#%%\n"
    }
   }
  },
  {
   "cell_type": "code",
   "execution_count": 106,
   "outputs": [
    {
     "data": {
      "text/plain": "       iso_code continent     location        date  population  total_cases  \\\n0           AFG      Asia  Afghanistan  2020-02-24  39835428.0          5.0   \n1           AFG      Asia  Afghanistan  2020-02-25  39835428.0          5.0   \n2           AFG      Asia  Afghanistan  2020-02-26  39835428.0          5.0   \n3           AFG      Asia  Afghanistan  2020-02-27  39835428.0          5.0   \n4           AFG      Asia  Afghanistan  2020-02-28  39835428.0          5.0   \n...         ...       ...          ...         ...         ...          ...   \n130595      ZWE    Africa     Zimbabwe  2021-10-29  15092171.0     132926.0   \n130596      ZWE    Africa     Zimbabwe  2021-10-30  15092171.0     132926.0   \n130597      ZWE    Africa     Zimbabwe  2021-10-31  15092171.0     132977.0   \n130598      ZWE    Africa     Zimbabwe  2021-11-01  15092171.0     133007.0   \n130599      ZWE    Africa     Zimbabwe  2021-11-02  15092171.0     133047.0   \n\n        new_cases  new_cases_smoothed  total_deaths  new_deaths  ...  \\\n0             5.0                 NaN           NaN         NaN  ...   \n1             0.0                 NaN           NaN         NaN  ...   \n2             0.0                 NaN           NaN         NaN  ...   \n3             0.0                 NaN           NaN         NaN  ...   \n4             0.0                 NaN           NaN         NaN  ...   \n...           ...                 ...           ...         ...  ...   \n130595       46.0              48.286        4675.0         0.0  ...   \n130596        0.0              48.286        4675.0         0.0  ...   \n130597       51.0              46.571        4678.0         3.0  ...   \n130598       30.0              45.571        4679.0         1.0  ...   \n130599       40.0              46.143        4683.0         4.0  ...   \n\n        new_deaths_smoothed_per_million  reproduction_rate  icu_patients  \\\n0                                   NaN                NaN           NaN   \n1                                   NaN                NaN           NaN   \n2                                   NaN                NaN           NaN   \n3                                   NaN                NaN           NaN   \n4                                   NaN                NaN           NaN   \n...                                 ...                ...           ...   \n130595                            0.114                NaN           NaN   \n130596                            0.114                NaN           NaN   \n130597                            0.085                NaN           NaN   \n130598                            0.057                NaN           NaN   \n130599                            0.085                NaN           NaN   \n\n        icu_patients_per_million  hosp_patients  hosp_patients_per_million  \\\n0                            NaN            NaN                        NaN   \n1                            NaN            NaN                        NaN   \n2                            NaN            NaN                        NaN   \n3                            NaN            NaN                        NaN   \n4                            NaN            NaN                        NaN   \n...                          ...            ...                        ...   \n130595                       NaN            NaN                        NaN   \n130596                       NaN            NaN                        NaN   \n130597                       NaN            NaN                        NaN   \n130598                       NaN            NaN                        NaN   \n130599                       NaN            NaN                        NaN   \n\n        weekly_icu_admissions  weekly_icu_admissions_per_million  \\\n0                         NaN                                NaN   \n1                         NaN                                NaN   \n2                         NaN                                NaN   \n3                         NaN                                NaN   \n4                         NaN                                NaN   \n...                       ...                                ...   \n130595                    NaN                                NaN   \n130596                    NaN                                NaN   \n130597                    NaN                                NaN   \n130598                    NaN                                NaN   \n130599                    NaN                                NaN   \n\n        weekly_hosp_admissions  weekly_hosp_admissions_per_million  \n0                          NaN                                 NaN  \n1                          NaN                                 NaN  \n2                          NaN                                 NaN  \n3                          NaN                                 NaN  \n4                          NaN                                 NaN  \n...                        ...                                 ...  \n130595                     NaN                                 NaN  \n130596                     NaN                                 NaN  \n130597                     NaN                                 NaN  \n130598                     NaN                                 NaN  \n130599                     NaN                                 NaN  \n\n[130600 rows x 26 columns]",
      "text/html": "<div>\n<style scoped>\n    .dataframe tbody tr th:only-of-type {\n        vertical-align: middle;\n    }\n\n    .dataframe tbody tr th {\n        vertical-align: top;\n    }\n\n    .dataframe thead th {\n        text-align: right;\n    }\n</style>\n<table border=\"1\" class=\"dataframe\">\n  <thead>\n    <tr style=\"text-align: right;\">\n      <th></th>\n      <th>iso_code</th>\n      <th>continent</th>\n      <th>location</th>\n      <th>date</th>\n      <th>population</th>\n      <th>total_cases</th>\n      <th>new_cases</th>\n      <th>new_cases_smoothed</th>\n      <th>total_deaths</th>\n      <th>new_deaths</th>\n      <th>...</th>\n      <th>new_deaths_smoothed_per_million</th>\n      <th>reproduction_rate</th>\n      <th>icu_patients</th>\n      <th>icu_patients_per_million</th>\n      <th>hosp_patients</th>\n      <th>hosp_patients_per_million</th>\n      <th>weekly_icu_admissions</th>\n      <th>weekly_icu_admissions_per_million</th>\n      <th>weekly_hosp_admissions</th>\n      <th>weekly_hosp_admissions_per_million</th>\n    </tr>\n  </thead>\n  <tbody>\n    <tr>\n      <th>0</th>\n      <td>AFG</td>\n      <td>Asia</td>\n      <td>Afghanistan</td>\n      <td>2020-02-24</td>\n      <td>39835428.0</td>\n      <td>5.0</td>\n      <td>5.0</td>\n      <td>NaN</td>\n      <td>NaN</td>\n      <td>NaN</td>\n      <td>...</td>\n      <td>NaN</td>\n      <td>NaN</td>\n      <td>NaN</td>\n      <td>NaN</td>\n      <td>NaN</td>\n      <td>NaN</td>\n      <td>NaN</td>\n      <td>NaN</td>\n      <td>NaN</td>\n      <td>NaN</td>\n    </tr>\n    <tr>\n      <th>1</th>\n      <td>AFG</td>\n      <td>Asia</td>\n      <td>Afghanistan</td>\n      <td>2020-02-25</td>\n      <td>39835428.0</td>\n      <td>5.0</td>\n      <td>0.0</td>\n      <td>NaN</td>\n      <td>NaN</td>\n      <td>NaN</td>\n      <td>...</td>\n      <td>NaN</td>\n      <td>NaN</td>\n      <td>NaN</td>\n      <td>NaN</td>\n      <td>NaN</td>\n      <td>NaN</td>\n      <td>NaN</td>\n      <td>NaN</td>\n      <td>NaN</td>\n      <td>NaN</td>\n    </tr>\n    <tr>\n      <th>2</th>\n      <td>AFG</td>\n      <td>Asia</td>\n      <td>Afghanistan</td>\n      <td>2020-02-26</td>\n      <td>39835428.0</td>\n      <td>5.0</td>\n      <td>0.0</td>\n      <td>NaN</td>\n      <td>NaN</td>\n      <td>NaN</td>\n      <td>...</td>\n      <td>NaN</td>\n      <td>NaN</td>\n      <td>NaN</td>\n      <td>NaN</td>\n      <td>NaN</td>\n      <td>NaN</td>\n      <td>NaN</td>\n      <td>NaN</td>\n      <td>NaN</td>\n      <td>NaN</td>\n    </tr>\n    <tr>\n      <th>3</th>\n      <td>AFG</td>\n      <td>Asia</td>\n      <td>Afghanistan</td>\n      <td>2020-02-27</td>\n      <td>39835428.0</td>\n      <td>5.0</td>\n      <td>0.0</td>\n      <td>NaN</td>\n      <td>NaN</td>\n      <td>NaN</td>\n      <td>...</td>\n      <td>NaN</td>\n      <td>NaN</td>\n      <td>NaN</td>\n      <td>NaN</td>\n      <td>NaN</td>\n      <td>NaN</td>\n      <td>NaN</td>\n      <td>NaN</td>\n      <td>NaN</td>\n      <td>NaN</td>\n    </tr>\n    <tr>\n      <th>4</th>\n      <td>AFG</td>\n      <td>Asia</td>\n      <td>Afghanistan</td>\n      <td>2020-02-28</td>\n      <td>39835428.0</td>\n      <td>5.0</td>\n      <td>0.0</td>\n      <td>NaN</td>\n      <td>NaN</td>\n      <td>NaN</td>\n      <td>...</td>\n      <td>NaN</td>\n      <td>NaN</td>\n      <td>NaN</td>\n      <td>NaN</td>\n      <td>NaN</td>\n      <td>NaN</td>\n      <td>NaN</td>\n      <td>NaN</td>\n      <td>NaN</td>\n      <td>NaN</td>\n    </tr>\n    <tr>\n      <th>...</th>\n      <td>...</td>\n      <td>...</td>\n      <td>...</td>\n      <td>...</td>\n      <td>...</td>\n      <td>...</td>\n      <td>...</td>\n      <td>...</td>\n      <td>...</td>\n      <td>...</td>\n      <td>...</td>\n      <td>...</td>\n      <td>...</td>\n      <td>...</td>\n      <td>...</td>\n      <td>...</td>\n      <td>...</td>\n      <td>...</td>\n      <td>...</td>\n      <td>...</td>\n      <td>...</td>\n    </tr>\n    <tr>\n      <th>130595</th>\n      <td>ZWE</td>\n      <td>Africa</td>\n      <td>Zimbabwe</td>\n      <td>2021-10-29</td>\n      <td>15092171.0</td>\n      <td>132926.0</td>\n      <td>46.0</td>\n      <td>48.286</td>\n      <td>4675.0</td>\n      <td>0.0</td>\n      <td>...</td>\n      <td>0.114</td>\n      <td>NaN</td>\n      <td>NaN</td>\n      <td>NaN</td>\n      <td>NaN</td>\n      <td>NaN</td>\n      <td>NaN</td>\n      <td>NaN</td>\n      <td>NaN</td>\n      <td>NaN</td>\n    </tr>\n    <tr>\n      <th>130596</th>\n      <td>ZWE</td>\n      <td>Africa</td>\n      <td>Zimbabwe</td>\n      <td>2021-10-30</td>\n      <td>15092171.0</td>\n      <td>132926.0</td>\n      <td>0.0</td>\n      <td>48.286</td>\n      <td>4675.0</td>\n      <td>0.0</td>\n      <td>...</td>\n      <td>0.114</td>\n      <td>NaN</td>\n      <td>NaN</td>\n      <td>NaN</td>\n      <td>NaN</td>\n      <td>NaN</td>\n      <td>NaN</td>\n      <td>NaN</td>\n      <td>NaN</td>\n      <td>NaN</td>\n    </tr>\n    <tr>\n      <th>130597</th>\n      <td>ZWE</td>\n      <td>Africa</td>\n      <td>Zimbabwe</td>\n      <td>2021-10-31</td>\n      <td>15092171.0</td>\n      <td>132977.0</td>\n      <td>51.0</td>\n      <td>46.571</td>\n      <td>4678.0</td>\n      <td>3.0</td>\n      <td>...</td>\n      <td>0.085</td>\n      <td>NaN</td>\n      <td>NaN</td>\n      <td>NaN</td>\n      <td>NaN</td>\n      <td>NaN</td>\n      <td>NaN</td>\n      <td>NaN</td>\n      <td>NaN</td>\n      <td>NaN</td>\n    </tr>\n    <tr>\n      <th>130598</th>\n      <td>ZWE</td>\n      <td>Africa</td>\n      <td>Zimbabwe</td>\n      <td>2021-11-01</td>\n      <td>15092171.0</td>\n      <td>133007.0</td>\n      <td>30.0</td>\n      <td>45.571</td>\n      <td>4679.0</td>\n      <td>1.0</td>\n      <td>...</td>\n      <td>0.057</td>\n      <td>NaN</td>\n      <td>NaN</td>\n      <td>NaN</td>\n      <td>NaN</td>\n      <td>NaN</td>\n      <td>NaN</td>\n      <td>NaN</td>\n      <td>NaN</td>\n      <td>NaN</td>\n    </tr>\n    <tr>\n      <th>130599</th>\n      <td>ZWE</td>\n      <td>Africa</td>\n      <td>Zimbabwe</td>\n      <td>2021-11-02</td>\n      <td>15092171.0</td>\n      <td>133047.0</td>\n      <td>40.0</td>\n      <td>46.143</td>\n      <td>4683.0</td>\n      <td>4.0</td>\n      <td>...</td>\n      <td>0.085</td>\n      <td>NaN</td>\n      <td>NaN</td>\n      <td>NaN</td>\n      <td>NaN</td>\n      <td>NaN</td>\n      <td>NaN</td>\n      <td>NaN</td>\n      <td>NaN</td>\n      <td>NaN</td>\n    </tr>\n  </tbody>\n</table>\n<p>130600 rows × 26 columns</p>\n</div>"
     },
     "execution_count": 106,
     "metadata": {},
     "output_type": "execute_result"
    }
   ],
   "source": [
    "sql_string = 'SELECT * FROM CovidDeaths Order by 3,4'\n",
    "df_D = pd.read_sql(sql_string, conn)\n",
    "df_D"
   ],
   "metadata": {
    "collapsed": false,
    "pycharm": {
     "name": "#%%\n"
    }
   }
  },
  {
   "cell_type": "code",
   "execution_count": 107,
   "outputs": [
    {
     "data": {
      "text/plain": "       iso_code continent  location        date  new_tests  total_tests  \\\n0          None      None      None        None    71466.0   13368172.0   \n1          None      None      None        None    96994.0   13465166.0   \n2          None      None      None        None   116083.0   13581249.0   \n3          None      None      None        None   131633.0   13712882.0   \n4          None      None      None        None   137606.0   13850488.0   \n...         ...       ...       ...         ...        ...          ...   \n130595      ZWE    Africa  Zimbabwe  2021-10-29   104673.0   12766260.0   \n130596      ZWE    Africa  Zimbabwe  2021-10-30   130573.0   12896833.0   \n130597      ZWE    Africa  Zimbabwe  2021-10-31   143336.0   13040169.0   \n130598      ZWE    Africa  Zimbabwe  2021-11-01   143991.0   13184160.0   \n130599      ZWE    Africa  Zimbabwe  2021-11-02   112546.0   13296706.0   \n\n        total_tests_per_thousand  new_tests_per_thousand  new_tests_smoothed  \\\n0                       1338.010                   7.153            116770.0   \n1                       1347.718                   9.708            114797.0   \n2                       1359.337                  11.619            116427.0   \n3                       1372.512                  13.175            116578.0   \n4                       1386.285                  13.773            115760.0   \n...                          ...                     ...                 ...   \n130595                  1277.765                  10.477            111124.0   \n130596                  1290.834                  13.069            113423.0   \n130597                  1305.181                  14.346            116706.0   \n130598                  1319.593                  14.412            119504.0   \n130599                  1330.857                  11.265            118717.0   \n\n        new_tests_smoothed_per_thousand  ...  female_smokers  male_smokers  \\\n0                                11.687  ...             1.2          37.4   \n1                                11.490  ...             1.2          37.4   \n2                                11.653  ...             1.2          37.4   \n3                                11.668  ...             1.2          37.4   \n4                                11.586  ...             1.2          37.4   \n...                                 ...  ...             ...           ...   \n130595                           11.122  ...             1.2          37.4   \n130596                           11.352  ...             1.2          37.4   \n130597                           11.681  ...             1.2          37.4   \n130598                           11.961  ...             1.2          37.4   \n130599                           11.882  ...             1.2          37.4   \n\n       handwashing_facilities  hospital_beds_per_thousand  life_expectancy  \\\n0                         NaN                         1.2            77.97   \n1                         NaN                         1.2            77.97   \n2                         NaN                         1.2            77.97   \n3                         NaN                         1.2            77.97   \n4                         NaN                         1.2            77.97   \n...                       ...                         ...              ...   \n130595                    NaN                         1.2            77.97   \n130596                    NaN                         1.2            77.97   \n130597                    NaN                         1.2            77.97   \n130598                    NaN                         1.2            77.97   \n130599                    NaN                         1.2            77.97   \n\n        human_development_index  excess_mortality_cumulative_absolute  \\\n0                          0.89                                   NaN   \n1                          0.89                                   NaN   \n2                          0.89                                   NaN   \n3                          0.89                                   NaN   \n4                          0.89                                   NaN   \n...                         ...                                   ...   \n130595                     0.89                                   NaN   \n130596                     0.89                                   NaN   \n130597                     0.89                                   NaN   \n130598                     0.89                                   NaN   \n130599                     0.89                                   NaN   \n\n        excess_mortality_cumulative  excess_mortality  \\\n0                               NaN               NaN   \n1                               NaN               NaN   \n2                               NaN               NaN   \n3                               NaN               NaN   \n4                               NaN               NaN   \n...                             ...               ...   \n130595                          NaN               NaN   \n130596                          NaN               NaN   \n130597                          NaN               NaN   \n130598                          NaN               NaN   \n130599                          NaN               NaN   \n\n        excess_mortality_cumulative_per_million  \n0                                           NaN  \n1                                           NaN  \n2                                           NaN  \n3                                           NaN  \n4                                           NaN  \n...                                         ...  \n130595                                      NaN  \n130596                                      NaN  \n130597                                      NaN  \n130598                                      NaN  \n130599                                      NaN  \n\n[130600 rows x 43 columns]",
      "text/html": "<div>\n<style scoped>\n    .dataframe tbody tr th:only-of-type {\n        vertical-align: middle;\n    }\n\n    .dataframe tbody tr th {\n        vertical-align: top;\n    }\n\n    .dataframe thead th {\n        text-align: right;\n    }\n</style>\n<table border=\"1\" class=\"dataframe\">\n  <thead>\n    <tr style=\"text-align: right;\">\n      <th></th>\n      <th>iso_code</th>\n      <th>continent</th>\n      <th>location</th>\n      <th>date</th>\n      <th>new_tests</th>\n      <th>total_tests</th>\n      <th>total_tests_per_thousand</th>\n      <th>new_tests_per_thousand</th>\n      <th>new_tests_smoothed</th>\n      <th>new_tests_smoothed_per_thousand</th>\n      <th>...</th>\n      <th>female_smokers</th>\n      <th>male_smokers</th>\n      <th>handwashing_facilities</th>\n      <th>hospital_beds_per_thousand</th>\n      <th>life_expectancy</th>\n      <th>human_development_index</th>\n      <th>excess_mortality_cumulative_absolute</th>\n      <th>excess_mortality_cumulative</th>\n      <th>excess_mortality</th>\n      <th>excess_mortality_cumulative_per_million</th>\n    </tr>\n  </thead>\n  <tbody>\n    <tr>\n      <th>0</th>\n      <td>None</td>\n      <td>None</td>\n      <td>None</td>\n      <td>None</td>\n      <td>71466.0</td>\n      <td>13368172.0</td>\n      <td>1338.010</td>\n      <td>7.153</td>\n      <td>116770.0</td>\n      <td>11.687</td>\n      <td>...</td>\n      <td>1.2</td>\n      <td>37.4</td>\n      <td>NaN</td>\n      <td>1.2</td>\n      <td>77.97</td>\n      <td>0.89</td>\n      <td>NaN</td>\n      <td>NaN</td>\n      <td>NaN</td>\n      <td>NaN</td>\n    </tr>\n    <tr>\n      <th>1</th>\n      <td>None</td>\n      <td>None</td>\n      <td>None</td>\n      <td>None</td>\n      <td>96994.0</td>\n      <td>13465166.0</td>\n      <td>1347.718</td>\n      <td>9.708</td>\n      <td>114797.0</td>\n      <td>11.490</td>\n      <td>...</td>\n      <td>1.2</td>\n      <td>37.4</td>\n      <td>NaN</td>\n      <td>1.2</td>\n      <td>77.97</td>\n      <td>0.89</td>\n      <td>NaN</td>\n      <td>NaN</td>\n      <td>NaN</td>\n      <td>NaN</td>\n    </tr>\n    <tr>\n      <th>2</th>\n      <td>None</td>\n      <td>None</td>\n      <td>None</td>\n      <td>None</td>\n      <td>116083.0</td>\n      <td>13581249.0</td>\n      <td>1359.337</td>\n      <td>11.619</td>\n      <td>116427.0</td>\n      <td>11.653</td>\n      <td>...</td>\n      <td>1.2</td>\n      <td>37.4</td>\n      <td>NaN</td>\n      <td>1.2</td>\n      <td>77.97</td>\n      <td>0.89</td>\n      <td>NaN</td>\n      <td>NaN</td>\n      <td>NaN</td>\n      <td>NaN</td>\n    </tr>\n    <tr>\n      <th>3</th>\n      <td>None</td>\n      <td>None</td>\n      <td>None</td>\n      <td>None</td>\n      <td>131633.0</td>\n      <td>13712882.0</td>\n      <td>1372.512</td>\n      <td>13.175</td>\n      <td>116578.0</td>\n      <td>11.668</td>\n      <td>...</td>\n      <td>1.2</td>\n      <td>37.4</td>\n      <td>NaN</td>\n      <td>1.2</td>\n      <td>77.97</td>\n      <td>0.89</td>\n      <td>NaN</td>\n      <td>NaN</td>\n      <td>NaN</td>\n      <td>NaN</td>\n    </tr>\n    <tr>\n      <th>4</th>\n      <td>None</td>\n      <td>None</td>\n      <td>None</td>\n      <td>None</td>\n      <td>137606.0</td>\n      <td>13850488.0</td>\n      <td>1386.285</td>\n      <td>13.773</td>\n      <td>115760.0</td>\n      <td>11.586</td>\n      <td>...</td>\n      <td>1.2</td>\n      <td>37.4</td>\n      <td>NaN</td>\n      <td>1.2</td>\n      <td>77.97</td>\n      <td>0.89</td>\n      <td>NaN</td>\n      <td>NaN</td>\n      <td>NaN</td>\n      <td>NaN</td>\n    </tr>\n    <tr>\n      <th>...</th>\n      <td>...</td>\n      <td>...</td>\n      <td>...</td>\n      <td>...</td>\n      <td>...</td>\n      <td>...</td>\n      <td>...</td>\n      <td>...</td>\n      <td>...</td>\n      <td>...</td>\n      <td>...</td>\n      <td>...</td>\n      <td>...</td>\n      <td>...</td>\n      <td>...</td>\n      <td>...</td>\n      <td>...</td>\n      <td>...</td>\n      <td>...</td>\n      <td>...</td>\n      <td>...</td>\n    </tr>\n    <tr>\n      <th>130595</th>\n      <td>ZWE</td>\n      <td>Africa</td>\n      <td>Zimbabwe</td>\n      <td>2021-10-29</td>\n      <td>104673.0</td>\n      <td>12766260.0</td>\n      <td>1277.765</td>\n      <td>10.477</td>\n      <td>111124.0</td>\n      <td>11.122</td>\n      <td>...</td>\n      <td>1.2</td>\n      <td>37.4</td>\n      <td>NaN</td>\n      <td>1.2</td>\n      <td>77.97</td>\n      <td>0.89</td>\n      <td>NaN</td>\n      <td>NaN</td>\n      <td>NaN</td>\n      <td>NaN</td>\n    </tr>\n    <tr>\n      <th>130596</th>\n      <td>ZWE</td>\n      <td>Africa</td>\n      <td>Zimbabwe</td>\n      <td>2021-10-30</td>\n      <td>130573.0</td>\n      <td>12896833.0</td>\n      <td>1290.834</td>\n      <td>13.069</td>\n      <td>113423.0</td>\n      <td>11.352</td>\n      <td>...</td>\n      <td>1.2</td>\n      <td>37.4</td>\n      <td>NaN</td>\n      <td>1.2</td>\n      <td>77.97</td>\n      <td>0.89</td>\n      <td>NaN</td>\n      <td>NaN</td>\n      <td>NaN</td>\n      <td>NaN</td>\n    </tr>\n    <tr>\n      <th>130597</th>\n      <td>ZWE</td>\n      <td>Africa</td>\n      <td>Zimbabwe</td>\n      <td>2021-10-31</td>\n      <td>143336.0</td>\n      <td>13040169.0</td>\n      <td>1305.181</td>\n      <td>14.346</td>\n      <td>116706.0</td>\n      <td>11.681</td>\n      <td>...</td>\n      <td>1.2</td>\n      <td>37.4</td>\n      <td>NaN</td>\n      <td>1.2</td>\n      <td>77.97</td>\n      <td>0.89</td>\n      <td>NaN</td>\n      <td>NaN</td>\n      <td>NaN</td>\n      <td>NaN</td>\n    </tr>\n    <tr>\n      <th>130598</th>\n      <td>ZWE</td>\n      <td>Africa</td>\n      <td>Zimbabwe</td>\n      <td>2021-11-01</td>\n      <td>143991.0</td>\n      <td>13184160.0</td>\n      <td>1319.593</td>\n      <td>14.412</td>\n      <td>119504.0</td>\n      <td>11.961</td>\n      <td>...</td>\n      <td>1.2</td>\n      <td>37.4</td>\n      <td>NaN</td>\n      <td>1.2</td>\n      <td>77.97</td>\n      <td>0.89</td>\n      <td>NaN</td>\n      <td>NaN</td>\n      <td>NaN</td>\n      <td>NaN</td>\n    </tr>\n    <tr>\n      <th>130599</th>\n      <td>ZWE</td>\n      <td>Africa</td>\n      <td>Zimbabwe</td>\n      <td>2021-11-02</td>\n      <td>112546.0</td>\n      <td>13296706.0</td>\n      <td>1330.857</td>\n      <td>11.265</td>\n      <td>118717.0</td>\n      <td>11.882</td>\n      <td>...</td>\n      <td>1.2</td>\n      <td>37.4</td>\n      <td>NaN</td>\n      <td>1.2</td>\n      <td>77.97</td>\n      <td>0.89</td>\n      <td>NaN</td>\n      <td>NaN</td>\n      <td>NaN</td>\n      <td>NaN</td>\n    </tr>\n  </tbody>\n</table>\n<p>130600 rows × 43 columns</p>\n</div>"
     },
     "execution_count": 107,
     "metadata": {},
     "output_type": "execute_result"
    }
   ],
   "source": [
    "sql_string = 'SELECT * FROM CovidVaccinations Order by 3,4'\n",
    "df_V = pd.read_sql(sql_string, conn)\n",
    "df_V"
   ],
   "metadata": {
    "collapsed": false,
    "pycharm": {
     "name": "#%%\n"
    }
   }
  },
  {
   "cell_type": "markdown",
   "source": [
    "Select the data we will use"
   ],
   "metadata": {
    "collapsed": false
   }
  },
  {
   "cell_type": "code",
   "execution_count": 108,
   "outputs": [
    {
     "data": {
      "text/plain": "           location        date  total_cases  new_cases  total_deaths  \\\n0       Afghanistan  2020-02-24          5.0        5.0           NaN   \n1       Afghanistan  2020-02-25          5.0        0.0           NaN   \n2       Afghanistan  2020-02-26          5.0        0.0           NaN   \n3       Afghanistan  2020-02-27          5.0        0.0           NaN   \n4       Afghanistan  2020-02-28          5.0        0.0           NaN   \n...             ...         ...          ...        ...           ...   \n130595     Zimbabwe  2021-10-29     132926.0       46.0        4675.0   \n130596     Zimbabwe  2021-10-30     132926.0        0.0        4675.0   \n130597     Zimbabwe  2021-10-31     132977.0       51.0        4678.0   \n130598     Zimbabwe  2021-11-01     133007.0       30.0        4679.0   \n130599     Zimbabwe  2021-11-02     133047.0       40.0        4683.0   \n\n        population  \n0       39835428.0  \n1       39835428.0  \n2       39835428.0  \n3       39835428.0  \n4       39835428.0  \n...            ...  \n130595  15092171.0  \n130596  15092171.0  \n130597  15092171.0  \n130598  15092171.0  \n130599  15092171.0  \n\n[130600 rows x 6 columns]",
      "text/html": "<div>\n<style scoped>\n    .dataframe tbody tr th:only-of-type {\n        vertical-align: middle;\n    }\n\n    .dataframe tbody tr th {\n        vertical-align: top;\n    }\n\n    .dataframe thead th {\n        text-align: right;\n    }\n</style>\n<table border=\"1\" class=\"dataframe\">\n  <thead>\n    <tr style=\"text-align: right;\">\n      <th></th>\n      <th>location</th>\n      <th>date</th>\n      <th>total_cases</th>\n      <th>new_cases</th>\n      <th>total_deaths</th>\n      <th>population</th>\n    </tr>\n  </thead>\n  <tbody>\n    <tr>\n      <th>0</th>\n      <td>Afghanistan</td>\n      <td>2020-02-24</td>\n      <td>5.0</td>\n      <td>5.0</td>\n      <td>NaN</td>\n      <td>39835428.0</td>\n    </tr>\n    <tr>\n      <th>1</th>\n      <td>Afghanistan</td>\n      <td>2020-02-25</td>\n      <td>5.0</td>\n      <td>0.0</td>\n      <td>NaN</td>\n      <td>39835428.0</td>\n    </tr>\n    <tr>\n      <th>2</th>\n      <td>Afghanistan</td>\n      <td>2020-02-26</td>\n      <td>5.0</td>\n      <td>0.0</td>\n      <td>NaN</td>\n      <td>39835428.0</td>\n    </tr>\n    <tr>\n      <th>3</th>\n      <td>Afghanistan</td>\n      <td>2020-02-27</td>\n      <td>5.0</td>\n      <td>0.0</td>\n      <td>NaN</td>\n      <td>39835428.0</td>\n    </tr>\n    <tr>\n      <th>4</th>\n      <td>Afghanistan</td>\n      <td>2020-02-28</td>\n      <td>5.0</td>\n      <td>0.0</td>\n      <td>NaN</td>\n      <td>39835428.0</td>\n    </tr>\n    <tr>\n      <th>...</th>\n      <td>...</td>\n      <td>...</td>\n      <td>...</td>\n      <td>...</td>\n      <td>...</td>\n      <td>...</td>\n    </tr>\n    <tr>\n      <th>130595</th>\n      <td>Zimbabwe</td>\n      <td>2021-10-29</td>\n      <td>132926.0</td>\n      <td>46.0</td>\n      <td>4675.0</td>\n      <td>15092171.0</td>\n    </tr>\n    <tr>\n      <th>130596</th>\n      <td>Zimbabwe</td>\n      <td>2021-10-30</td>\n      <td>132926.0</td>\n      <td>0.0</td>\n      <td>4675.0</td>\n      <td>15092171.0</td>\n    </tr>\n    <tr>\n      <th>130597</th>\n      <td>Zimbabwe</td>\n      <td>2021-10-31</td>\n      <td>132977.0</td>\n      <td>51.0</td>\n      <td>4678.0</td>\n      <td>15092171.0</td>\n    </tr>\n    <tr>\n      <th>130598</th>\n      <td>Zimbabwe</td>\n      <td>2021-11-01</td>\n      <td>133007.0</td>\n      <td>30.0</td>\n      <td>4679.0</td>\n      <td>15092171.0</td>\n    </tr>\n    <tr>\n      <th>130599</th>\n      <td>Zimbabwe</td>\n      <td>2021-11-02</td>\n      <td>133047.0</td>\n      <td>40.0</td>\n      <td>4683.0</td>\n      <td>15092171.0</td>\n    </tr>\n  </tbody>\n</table>\n<p>130600 rows × 6 columns</p>\n</div>"
     },
     "execution_count": 108,
     "metadata": {},
     "output_type": "execute_result"
    }
   ],
   "source": [
    "sql_string = 'SELECT Location, date, total_cases, new_cases, total_deaths, population' \\\n",
    "             ' FROM CovidDeaths ORDER BY 1,2 '\n",
    "pd.read_sql(sql_string, conn)\n"
   ],
   "metadata": {
    "collapsed": false,
    "pycharm": {
     "name": "#%%\n"
    }
   }
  },
  {
   "cell_type": "markdown",
   "source": [
    "Looking at total cases vs total deaths."
   ],
   "metadata": {
    "collapsed": false
   }
  },
  {
   "cell_type": "code",
   "execution_count": 109,
   "outputs": [
    {
     "data": {
      "text/plain": "           location        date  total_cases  total_deaths  population  \\\n0       Afghanistan  2020-02-24          5.0           NaN  39835428.0   \n1       Afghanistan  2020-02-25          5.0           NaN  39835428.0   \n2       Afghanistan  2020-02-26          5.0           NaN  39835428.0   \n3       Afghanistan  2020-02-27          5.0           NaN  39835428.0   \n4       Afghanistan  2020-02-28          5.0           NaN  39835428.0   \n...             ...         ...          ...           ...         ...   \n130595     Zimbabwe  2021-10-29     132926.0        4675.0  15092171.0   \n130596     Zimbabwe  2021-10-30     132926.0        4675.0  15092171.0   \n130597     Zimbabwe  2021-10-31     132977.0        4678.0  15092171.0   \n130598     Zimbabwe  2021-11-01     133007.0        4679.0  15092171.0   \n130599     Zimbabwe  2021-11-02     133047.0        4683.0  15092171.0   \n\n        Death_Rate  \n0              NaN  \n1              NaN  \n2              NaN  \n3              NaN  \n4              NaN  \n...            ...  \n130595        3.52  \n130596        3.52  \n130597        3.52  \n130598        3.52  \n130599        3.52  \n\n[130600 rows x 6 columns]",
      "text/html": "<div>\n<style scoped>\n    .dataframe tbody tr th:only-of-type {\n        vertical-align: middle;\n    }\n\n    .dataframe tbody tr th {\n        vertical-align: top;\n    }\n\n    .dataframe thead th {\n        text-align: right;\n    }\n</style>\n<table border=\"1\" class=\"dataframe\">\n  <thead>\n    <tr style=\"text-align: right;\">\n      <th></th>\n      <th>location</th>\n      <th>date</th>\n      <th>total_cases</th>\n      <th>total_deaths</th>\n      <th>population</th>\n      <th>Death_Rate</th>\n    </tr>\n  </thead>\n  <tbody>\n    <tr>\n      <th>0</th>\n      <td>Afghanistan</td>\n      <td>2020-02-24</td>\n      <td>5.0</td>\n      <td>NaN</td>\n      <td>39835428.0</td>\n      <td>NaN</td>\n    </tr>\n    <tr>\n      <th>1</th>\n      <td>Afghanistan</td>\n      <td>2020-02-25</td>\n      <td>5.0</td>\n      <td>NaN</td>\n      <td>39835428.0</td>\n      <td>NaN</td>\n    </tr>\n    <tr>\n      <th>2</th>\n      <td>Afghanistan</td>\n      <td>2020-02-26</td>\n      <td>5.0</td>\n      <td>NaN</td>\n      <td>39835428.0</td>\n      <td>NaN</td>\n    </tr>\n    <tr>\n      <th>3</th>\n      <td>Afghanistan</td>\n      <td>2020-02-27</td>\n      <td>5.0</td>\n      <td>NaN</td>\n      <td>39835428.0</td>\n      <td>NaN</td>\n    </tr>\n    <tr>\n      <th>4</th>\n      <td>Afghanistan</td>\n      <td>2020-02-28</td>\n      <td>5.0</td>\n      <td>NaN</td>\n      <td>39835428.0</td>\n      <td>NaN</td>\n    </tr>\n    <tr>\n      <th>...</th>\n      <td>...</td>\n      <td>...</td>\n      <td>...</td>\n      <td>...</td>\n      <td>...</td>\n      <td>...</td>\n    </tr>\n    <tr>\n      <th>130595</th>\n      <td>Zimbabwe</td>\n      <td>2021-10-29</td>\n      <td>132926.0</td>\n      <td>4675.0</td>\n      <td>15092171.0</td>\n      <td>3.52</td>\n    </tr>\n    <tr>\n      <th>130596</th>\n      <td>Zimbabwe</td>\n      <td>2021-10-30</td>\n      <td>132926.0</td>\n      <td>4675.0</td>\n      <td>15092171.0</td>\n      <td>3.52</td>\n    </tr>\n    <tr>\n      <th>130597</th>\n      <td>Zimbabwe</td>\n      <td>2021-10-31</td>\n      <td>132977.0</td>\n      <td>4678.0</td>\n      <td>15092171.0</td>\n      <td>3.52</td>\n    </tr>\n    <tr>\n      <th>130598</th>\n      <td>Zimbabwe</td>\n      <td>2021-11-01</td>\n      <td>133007.0</td>\n      <td>4679.0</td>\n      <td>15092171.0</td>\n      <td>3.52</td>\n    </tr>\n    <tr>\n      <th>130599</th>\n      <td>Zimbabwe</td>\n      <td>2021-11-02</td>\n      <td>133047.0</td>\n      <td>4683.0</td>\n      <td>15092171.0</td>\n      <td>3.52</td>\n    </tr>\n  </tbody>\n</table>\n<p>130600 rows × 6 columns</p>\n</div>"
     },
     "execution_count": 109,
     "metadata": {},
     "output_type": "execute_result"
    }
   ],
   "source": [
    "sql_string = 'SELECT location, date, total_cases, total_deaths, population, ROUND((total_deaths/total_cases)*100,2) AS Death_Rate ' \\\n",
    "             'FROM CovidDeaths ORDER BY 1,2 '\n",
    "pd.read_sql(sql_string, conn)"
   ],
   "metadata": {
    "collapsed": false,
    "pycharm": {
     "name": "#%%\n"
    }
   }
  },
  {
   "cell_type": "markdown",
   "source": [
    "Looking at total cases vs total deaths. You can change to your country."
   ],
   "metadata": {
    "collapsed": false
   }
  },
  {
   "cell_type": "code",
   "execution_count": 110,
   "outputs": [
    {
     "data": {
      "text/plain": "        location        date  total_cases  total_deaths  population  \\\n0    Switzerland  2020-02-25          1.0           NaN   8715494.0   \n1    Switzerland  2020-02-26          1.0           NaN   8715494.0   \n2    Switzerland  2020-02-27          8.0           NaN   8715494.0   \n3    Switzerland  2020-02-28          8.0           NaN   8715494.0   \n4    Switzerland  2020-02-29         18.0           NaN   8715494.0   \n..           ...         ...          ...           ...         ...   \n612  Switzerland  2021-10-29     872558.0       11233.0   8715494.0   \n613  Switzerland  2021-10-30     872558.0       11233.0   8715494.0   \n614  Switzerland  2021-10-31     872558.0       11234.0   8715494.0   \n615  Switzerland  2021-11-01     877098.0       11242.0   8715494.0   \n616  Switzerland  2021-11-02     879051.0       11259.0   8715494.0   \n\n     Death_Rate  \n0           NaN  \n1           NaN  \n2           NaN  \n3           NaN  \n4           NaN  \n..          ...  \n612        1.29  \n613        1.29  \n614        1.29  \n615        1.28  \n616        1.28  \n\n[617 rows x 6 columns]",
      "text/html": "<div>\n<style scoped>\n    .dataframe tbody tr th:only-of-type {\n        vertical-align: middle;\n    }\n\n    .dataframe tbody tr th {\n        vertical-align: top;\n    }\n\n    .dataframe thead th {\n        text-align: right;\n    }\n</style>\n<table border=\"1\" class=\"dataframe\">\n  <thead>\n    <tr style=\"text-align: right;\">\n      <th></th>\n      <th>location</th>\n      <th>date</th>\n      <th>total_cases</th>\n      <th>total_deaths</th>\n      <th>population</th>\n      <th>Death_Rate</th>\n    </tr>\n  </thead>\n  <tbody>\n    <tr>\n      <th>0</th>\n      <td>Switzerland</td>\n      <td>2020-02-25</td>\n      <td>1.0</td>\n      <td>NaN</td>\n      <td>8715494.0</td>\n      <td>NaN</td>\n    </tr>\n    <tr>\n      <th>1</th>\n      <td>Switzerland</td>\n      <td>2020-02-26</td>\n      <td>1.0</td>\n      <td>NaN</td>\n      <td>8715494.0</td>\n      <td>NaN</td>\n    </tr>\n    <tr>\n      <th>2</th>\n      <td>Switzerland</td>\n      <td>2020-02-27</td>\n      <td>8.0</td>\n      <td>NaN</td>\n      <td>8715494.0</td>\n      <td>NaN</td>\n    </tr>\n    <tr>\n      <th>3</th>\n      <td>Switzerland</td>\n      <td>2020-02-28</td>\n      <td>8.0</td>\n      <td>NaN</td>\n      <td>8715494.0</td>\n      <td>NaN</td>\n    </tr>\n    <tr>\n      <th>4</th>\n      <td>Switzerland</td>\n      <td>2020-02-29</td>\n      <td>18.0</td>\n      <td>NaN</td>\n      <td>8715494.0</td>\n      <td>NaN</td>\n    </tr>\n    <tr>\n      <th>...</th>\n      <td>...</td>\n      <td>...</td>\n      <td>...</td>\n      <td>...</td>\n      <td>...</td>\n      <td>...</td>\n    </tr>\n    <tr>\n      <th>612</th>\n      <td>Switzerland</td>\n      <td>2021-10-29</td>\n      <td>872558.0</td>\n      <td>11233.0</td>\n      <td>8715494.0</td>\n      <td>1.29</td>\n    </tr>\n    <tr>\n      <th>613</th>\n      <td>Switzerland</td>\n      <td>2021-10-30</td>\n      <td>872558.0</td>\n      <td>11233.0</td>\n      <td>8715494.0</td>\n      <td>1.29</td>\n    </tr>\n    <tr>\n      <th>614</th>\n      <td>Switzerland</td>\n      <td>2021-10-31</td>\n      <td>872558.0</td>\n      <td>11234.0</td>\n      <td>8715494.0</td>\n      <td>1.29</td>\n    </tr>\n    <tr>\n      <th>615</th>\n      <td>Switzerland</td>\n      <td>2021-11-01</td>\n      <td>877098.0</td>\n      <td>11242.0</td>\n      <td>8715494.0</td>\n      <td>1.28</td>\n    </tr>\n    <tr>\n      <th>616</th>\n      <td>Switzerland</td>\n      <td>2021-11-02</td>\n      <td>879051.0</td>\n      <td>11259.0</td>\n      <td>8715494.0</td>\n      <td>1.28</td>\n    </tr>\n  </tbody>\n</table>\n<p>617 rows × 6 columns</p>\n</div>"
     },
     "execution_count": 110,
     "metadata": {},
     "output_type": "execute_result"
    }
   ],
   "source": [
    "sql_string = 'SELECT location, date, total_cases, total_deaths, population, ROUND((total_deaths/total_cases)*100,2) AS Death_Rate '\\\n",
    "             'FROM CovidDeaths '\\\n",
    "             'WHERE location = \"Switzerland\" ORDER BY 1,2 '\n",
    "pd.read_sql(sql_string, conn)"
   ],
   "metadata": {
    "collapsed": false,
    "pycharm": {
     "name": "#%%\n"
    }
   }
  },
  {
   "cell_type": "markdown",
   "source": [
    "Looking at total cases vs population. It shows what percentage of population got covid each day."
   ],
   "metadata": {
    "collapsed": false
   }
  },
  {
   "cell_type": "code",
   "execution_count": 111,
   "outputs": [
    {
     "data": {
      "text/plain": "        location        date  total_cases  population  Infection_percentage\n0    Switzerland  2020-02-25          1.0   8715494.0                  0.00\n1    Switzerland  2020-02-26          1.0   8715494.0                  0.00\n2    Switzerland  2020-02-27          8.0   8715494.0                  0.00\n3    Switzerland  2020-02-28          8.0   8715494.0                  0.00\n4    Switzerland  2020-02-29         18.0   8715494.0                  0.00\n..           ...         ...          ...         ...                   ...\n612  Switzerland  2021-10-29     872558.0   8715494.0                 10.01\n613  Switzerland  2021-10-30     872558.0   8715494.0                 10.01\n614  Switzerland  2021-10-31     872558.0   8715494.0                 10.01\n615  Switzerland  2021-11-01     877098.0   8715494.0                 10.06\n616  Switzerland  2021-11-02     879051.0   8715494.0                 10.09\n\n[617 rows x 5 columns]",
      "text/html": "<div>\n<style scoped>\n    .dataframe tbody tr th:only-of-type {\n        vertical-align: middle;\n    }\n\n    .dataframe tbody tr th {\n        vertical-align: top;\n    }\n\n    .dataframe thead th {\n        text-align: right;\n    }\n</style>\n<table border=\"1\" class=\"dataframe\">\n  <thead>\n    <tr style=\"text-align: right;\">\n      <th></th>\n      <th>location</th>\n      <th>date</th>\n      <th>total_cases</th>\n      <th>population</th>\n      <th>Infection_percentage</th>\n    </tr>\n  </thead>\n  <tbody>\n    <tr>\n      <th>0</th>\n      <td>Switzerland</td>\n      <td>2020-02-25</td>\n      <td>1.0</td>\n      <td>8715494.0</td>\n      <td>0.00</td>\n    </tr>\n    <tr>\n      <th>1</th>\n      <td>Switzerland</td>\n      <td>2020-02-26</td>\n      <td>1.0</td>\n      <td>8715494.0</td>\n      <td>0.00</td>\n    </tr>\n    <tr>\n      <th>2</th>\n      <td>Switzerland</td>\n      <td>2020-02-27</td>\n      <td>8.0</td>\n      <td>8715494.0</td>\n      <td>0.00</td>\n    </tr>\n    <tr>\n      <th>3</th>\n      <td>Switzerland</td>\n      <td>2020-02-28</td>\n      <td>8.0</td>\n      <td>8715494.0</td>\n      <td>0.00</td>\n    </tr>\n    <tr>\n      <th>4</th>\n      <td>Switzerland</td>\n      <td>2020-02-29</td>\n      <td>18.0</td>\n      <td>8715494.0</td>\n      <td>0.00</td>\n    </tr>\n    <tr>\n      <th>...</th>\n      <td>...</td>\n      <td>...</td>\n      <td>...</td>\n      <td>...</td>\n      <td>...</td>\n    </tr>\n    <tr>\n      <th>612</th>\n      <td>Switzerland</td>\n      <td>2021-10-29</td>\n      <td>872558.0</td>\n      <td>8715494.0</td>\n      <td>10.01</td>\n    </tr>\n    <tr>\n      <th>613</th>\n      <td>Switzerland</td>\n      <td>2021-10-30</td>\n      <td>872558.0</td>\n      <td>8715494.0</td>\n      <td>10.01</td>\n    </tr>\n    <tr>\n      <th>614</th>\n      <td>Switzerland</td>\n      <td>2021-10-31</td>\n      <td>872558.0</td>\n      <td>8715494.0</td>\n      <td>10.01</td>\n    </tr>\n    <tr>\n      <th>615</th>\n      <td>Switzerland</td>\n      <td>2021-11-01</td>\n      <td>877098.0</td>\n      <td>8715494.0</td>\n      <td>10.06</td>\n    </tr>\n    <tr>\n      <th>616</th>\n      <td>Switzerland</td>\n      <td>2021-11-02</td>\n      <td>879051.0</td>\n      <td>8715494.0</td>\n      <td>10.09</td>\n    </tr>\n  </tbody>\n</table>\n<p>617 rows × 5 columns</p>\n</div>"
     },
     "execution_count": 111,
     "metadata": {},
     "output_type": "execute_result"
    }
   ],
   "source": [
    "sql_string = 'SELECT location, date, total_cases, population, ROUND((total_cases/population)*100,2) AS Infection_percentage '\\\n",
    "             'FROM CovidDeaths '\\\n",
    "             'WHERE location = \"Switzerland\" ORDER BY 1,2 '\n",
    "pd.read_sql(sql_string, conn)"
   ],
   "metadata": {
    "collapsed": false,
    "pycharm": {
     "name": "#%%\n"
    }
   }
  },
  {
   "cell_type": "markdown",
   "source": [
    "# Which country have the highest infection rate compare the population"
   ],
   "metadata": {
    "collapsed": false
   }
  },
  {
   "cell_type": "code",
   "execution_count": 112,
   "outputs": [
    {
     "data": {
      "text/plain": "                     location  population  Highest_Infection_Count  \\\n0                  Montenegro    628051.0                 145314.0   \n1                  Seychelles     98910.0                  22280.0   \n2                     Andorra     77354.0                  15516.0   \n3                     Georgia   3979773.0                 726941.0   \n4                      Serbia   6908224.0                1155756.0   \n..                        ...         ...                      ...   \n232                   Tokelau      1368.0                      NaN   \n233              Turkmenistan   6117933.0                      NaN   \n234  Turks and Caicos Islands     39226.0                      NaN   \n235                    Tuvalu     11925.0                      NaN   \n236         Wallis and Futuna     11094.0                      NaN   \n\n     Infection_percentage  \n0               23.137293  \n1               22.525528  \n2               20.058433  \n3               18.265891  \n4               16.730147  \n..                    ...  \n232                   NaN  \n233                   NaN  \n234                   NaN  \n235                   NaN  \n236                   NaN  \n\n[237 rows x 4 columns]",
      "text/html": "<div>\n<style scoped>\n    .dataframe tbody tr th:only-of-type {\n        vertical-align: middle;\n    }\n\n    .dataframe tbody tr th {\n        vertical-align: top;\n    }\n\n    .dataframe thead th {\n        text-align: right;\n    }\n</style>\n<table border=\"1\" class=\"dataframe\">\n  <thead>\n    <tr style=\"text-align: right;\">\n      <th></th>\n      <th>location</th>\n      <th>population</th>\n      <th>Highest_Infection_Count</th>\n      <th>Infection_percentage</th>\n    </tr>\n  </thead>\n  <tbody>\n    <tr>\n      <th>0</th>\n      <td>Montenegro</td>\n      <td>628051.0</td>\n      <td>145314.0</td>\n      <td>23.137293</td>\n    </tr>\n    <tr>\n      <th>1</th>\n      <td>Seychelles</td>\n      <td>98910.0</td>\n      <td>22280.0</td>\n      <td>22.525528</td>\n    </tr>\n    <tr>\n      <th>2</th>\n      <td>Andorra</td>\n      <td>77354.0</td>\n      <td>15516.0</td>\n      <td>20.058433</td>\n    </tr>\n    <tr>\n      <th>3</th>\n      <td>Georgia</td>\n      <td>3979773.0</td>\n      <td>726941.0</td>\n      <td>18.265891</td>\n    </tr>\n    <tr>\n      <th>4</th>\n      <td>Serbia</td>\n      <td>6908224.0</td>\n      <td>1155756.0</td>\n      <td>16.730147</td>\n    </tr>\n    <tr>\n      <th>...</th>\n      <td>...</td>\n      <td>...</td>\n      <td>...</td>\n      <td>...</td>\n    </tr>\n    <tr>\n      <th>232</th>\n      <td>Tokelau</td>\n      <td>1368.0</td>\n      <td>NaN</td>\n      <td>NaN</td>\n    </tr>\n    <tr>\n      <th>233</th>\n      <td>Turkmenistan</td>\n      <td>6117933.0</td>\n      <td>NaN</td>\n      <td>NaN</td>\n    </tr>\n    <tr>\n      <th>234</th>\n      <td>Turks and Caicos Islands</td>\n      <td>39226.0</td>\n      <td>NaN</td>\n      <td>NaN</td>\n    </tr>\n    <tr>\n      <th>235</th>\n      <td>Tuvalu</td>\n      <td>11925.0</td>\n      <td>NaN</td>\n      <td>NaN</td>\n    </tr>\n    <tr>\n      <th>236</th>\n      <td>Wallis and Futuna</td>\n      <td>11094.0</td>\n      <td>NaN</td>\n      <td>NaN</td>\n    </tr>\n  </tbody>\n</table>\n<p>237 rows × 4 columns</p>\n</div>"
     },
     "execution_count": 112,
     "metadata": {},
     "output_type": "execute_result"
    }
   ],
   "source": [
    "sql_string = 'SELECT location, population, MAX(total_cases) AS Highest_Infection_Count, MAX((total_cases/population)*100) AS Infection_percentage '\\\n",
    "             'FROM CovidDeaths '\\\n",
    "             'GROUP by location, population '\\\n",
    "             'ORDER by Infection_percentage DESC '\n",
    "pd.read_sql(sql_string, conn)"
   ],
   "metadata": {
    "collapsed": false,
    "pycharm": {
     "name": "#%%\n"
    }
   }
  },
  {
   "cell_type": "code",
   "execution_count": 113,
   "outputs": [
    {
     "data": {
      "text/plain": "  location  population  Highest_Infection_Count  Infection_percentage\n0     Peru  33359415.0                2202189.0              6.601402",
      "text/html": "<div>\n<style scoped>\n    .dataframe tbody tr th:only-of-type {\n        vertical-align: middle;\n    }\n\n    .dataframe tbody tr th {\n        vertical-align: top;\n    }\n\n    .dataframe thead th {\n        text-align: right;\n    }\n</style>\n<table border=\"1\" class=\"dataframe\">\n  <thead>\n    <tr style=\"text-align: right;\">\n      <th></th>\n      <th>location</th>\n      <th>population</th>\n      <th>Highest_Infection_Count</th>\n      <th>Infection_percentage</th>\n    </tr>\n  </thead>\n  <tbody>\n    <tr>\n      <th>0</th>\n      <td>Peru</td>\n      <td>33359415.0</td>\n      <td>2202189.0</td>\n      <td>6.601402</td>\n    </tr>\n  </tbody>\n</table>\n</div>"
     },
     "execution_count": 113,
     "metadata": {},
     "output_type": "execute_result"
    }
   ],
   "source": [
    "sql_string = 'SELECT location, population, MAX(total_cases) AS Highest_Infection_Count, MAX((total_cases/population)*100) AS Infection_percentage '\\\n",
    "             'FROM CovidDeaths ' \\\n",
    "             'WHERE location = \"Peru\"'\n",
    "pd.read_sql(sql_string, conn)"
   ],
   "metadata": {
    "collapsed": false,
    "pycharm": {
     "name": "#%%\n"
    }
   }
  },
  {
   "cell_type": "markdown",
   "source": [
    "### Showing countries with Highest Death Count per population"
   ],
   "metadata": {
    "collapsed": false
   }
  },
  {
   "cell_type": "code",
   "execution_count": 114,
   "outputs": [
    {
     "data": {
      "text/plain": "                            location  Total_Deaths_Count\n0                              World           5013591.0\n1                Upper middle income           2109730.0\n2                        High income           1758049.0\n3                             Europe           1313814.0\n4                               Asia           1178919.0\n..                               ...                 ...\n232           British Virgin Islands                 NaN\n233  Bonaire Sint Eustatius and Saba                 NaN\n234                          Bermuda                 NaN\n235                            Aruba                 NaN\n236                         Anguilla                 NaN\n\n[237 rows x 2 columns]",
      "text/html": "<div>\n<style scoped>\n    .dataframe tbody tr th:only-of-type {\n        vertical-align: middle;\n    }\n\n    .dataframe tbody tr th {\n        vertical-align: top;\n    }\n\n    .dataframe thead th {\n        text-align: right;\n    }\n</style>\n<table border=\"1\" class=\"dataframe\">\n  <thead>\n    <tr style=\"text-align: right;\">\n      <th></th>\n      <th>location</th>\n      <th>Total_Deaths_Count</th>\n    </tr>\n  </thead>\n  <tbody>\n    <tr>\n      <th>0</th>\n      <td>World</td>\n      <td>5013591.0</td>\n    </tr>\n    <tr>\n      <th>1</th>\n      <td>Upper middle income</td>\n      <td>2109730.0</td>\n    </tr>\n    <tr>\n      <th>2</th>\n      <td>High income</td>\n      <td>1758049.0</td>\n    </tr>\n    <tr>\n      <th>3</th>\n      <td>Europe</td>\n      <td>1313814.0</td>\n    </tr>\n    <tr>\n      <th>4</th>\n      <td>Asia</td>\n      <td>1178919.0</td>\n    </tr>\n    <tr>\n      <th>...</th>\n      <td>...</td>\n      <td>...</td>\n    </tr>\n    <tr>\n      <th>232</th>\n      <td>British Virgin Islands</td>\n      <td>NaN</td>\n    </tr>\n    <tr>\n      <th>233</th>\n      <td>Bonaire Sint Eustatius and Saba</td>\n      <td>NaN</td>\n    </tr>\n    <tr>\n      <th>234</th>\n      <td>Bermuda</td>\n      <td>NaN</td>\n    </tr>\n    <tr>\n      <th>235</th>\n      <td>Aruba</td>\n      <td>NaN</td>\n    </tr>\n    <tr>\n      <th>236</th>\n      <td>Anguilla</td>\n      <td>NaN</td>\n    </tr>\n  </tbody>\n</table>\n<p>237 rows × 2 columns</p>\n</div>"
     },
     "execution_count": 114,
     "metadata": {},
     "output_type": "execute_result"
    }
   ],
   "source": [
    "sql_string = 'SELECT location, MAX(total_deaths) AS Total_Deaths_Count '\\\n",
    "             'FROM CovidDeaths '\\\n",
    "             'GROUP by location '\\\n",
    "             'ORDER by Total_Deaths_Count DESC '\n",
    "pd.read_sql(sql_string, conn)"
   ],
   "metadata": {
    "collapsed": false,
    "pycharm": {
     "name": "#%%\n"
    }
   }
  },
  {
   "cell_type": "markdown",
   "source": [
    "We need to add a condition to exclude the continent count from out data, we can do that through <a style=\"color:Green;\">WHERE continent IS NOT NULL </a>."
   ],
   "metadata": {
    "collapsed": false
   }
  },
  {
   "cell_type": "code",
   "execution_count": 115,
   "outputs": [
    {
     "data": {
      "text/plain": "                            location  Total_Deaths_Count\n0                      United States            748518.0\n1                             Brazil            608071.0\n2                              India            459191.0\n3                             Mexico            288464.0\n4                             Russia            236462.0\n..                               ...                 ...\n219           British Virgin Islands                 NaN\n220  Bonaire Sint Eustatius and Saba                 NaN\n221                          Bermuda                 NaN\n222                            Aruba                 NaN\n223                         Anguilla                 NaN\n\n[224 rows x 2 columns]",
      "text/html": "<div>\n<style scoped>\n    .dataframe tbody tr th:only-of-type {\n        vertical-align: middle;\n    }\n\n    .dataframe tbody tr th {\n        vertical-align: top;\n    }\n\n    .dataframe thead th {\n        text-align: right;\n    }\n</style>\n<table border=\"1\" class=\"dataframe\">\n  <thead>\n    <tr style=\"text-align: right;\">\n      <th></th>\n      <th>location</th>\n      <th>Total_Deaths_Count</th>\n    </tr>\n  </thead>\n  <tbody>\n    <tr>\n      <th>0</th>\n      <td>United States</td>\n      <td>748518.0</td>\n    </tr>\n    <tr>\n      <th>1</th>\n      <td>Brazil</td>\n      <td>608071.0</td>\n    </tr>\n    <tr>\n      <th>2</th>\n      <td>India</td>\n      <td>459191.0</td>\n    </tr>\n    <tr>\n      <th>3</th>\n      <td>Mexico</td>\n      <td>288464.0</td>\n    </tr>\n    <tr>\n      <th>4</th>\n      <td>Russia</td>\n      <td>236462.0</td>\n    </tr>\n    <tr>\n      <th>...</th>\n      <td>...</td>\n      <td>...</td>\n    </tr>\n    <tr>\n      <th>219</th>\n      <td>British Virgin Islands</td>\n      <td>NaN</td>\n    </tr>\n    <tr>\n      <th>220</th>\n      <td>Bonaire Sint Eustatius and Saba</td>\n      <td>NaN</td>\n    </tr>\n    <tr>\n      <th>221</th>\n      <td>Bermuda</td>\n      <td>NaN</td>\n    </tr>\n    <tr>\n      <th>222</th>\n      <td>Aruba</td>\n      <td>NaN</td>\n    </tr>\n    <tr>\n      <th>223</th>\n      <td>Anguilla</td>\n      <td>NaN</td>\n    </tr>\n  </tbody>\n</table>\n<p>224 rows × 2 columns</p>\n</div>"
     },
     "execution_count": 115,
     "metadata": {},
     "output_type": "execute_result"
    }
   ],
   "source": [
    "sql_string = 'SELECT location, MAX(total_deaths) AS Total_Deaths_Count '\\\n",
    "             'FROM CovidDeaths '\\\n",
    "             'WHERE continent NOT NULL '\\\n",
    "             'GROUP by location '\\\n",
    "             'ORDER by Total_Deaths_Count DESC '\n",
    "pd.read_sql(sql_string, conn)"
   ],
   "metadata": {
    "collapsed": false,
    "pycharm": {
     "name": "#%%\n"
    }
   }
  },
  {
   "cell_type": "markdown",
   "source": [
    "# Let's break down things by Continent"
   ],
   "metadata": {
    "collapsed": false
   }
  },
  {
   "cell_type": "markdown",
   "source": [
    "## Showing the continent with highest death count per population"
   ],
   "metadata": {
    "collapsed": false
   }
  },
  {
   "cell_type": "code",
   "execution_count": 116,
   "outputs": [
    {
     "data": {
      "text/plain": "               location  Total_Deaths_Count\n0                 World           5013591.0\n1   Upper middle income           2109730.0\n2           High income           1758049.0\n3                Europe           1313814.0\n4                  Asia           1178919.0\n5         South America           1170638.0\n6         North America           1128788.0\n7   Lower middle income           1109395.0\n8        European Union            800862.0\n9                Africa            218561.0\n10           Low income             36402.0\n11              Oceania              2856.0\n12        International                15.0",
      "text/html": "<div>\n<style scoped>\n    .dataframe tbody tr th:only-of-type {\n        vertical-align: middle;\n    }\n\n    .dataframe tbody tr th {\n        vertical-align: top;\n    }\n\n    .dataframe thead th {\n        text-align: right;\n    }\n</style>\n<table border=\"1\" class=\"dataframe\">\n  <thead>\n    <tr style=\"text-align: right;\">\n      <th></th>\n      <th>location</th>\n      <th>Total_Deaths_Count</th>\n    </tr>\n  </thead>\n  <tbody>\n    <tr>\n      <th>0</th>\n      <td>World</td>\n      <td>5013591.0</td>\n    </tr>\n    <tr>\n      <th>1</th>\n      <td>Upper middle income</td>\n      <td>2109730.0</td>\n    </tr>\n    <tr>\n      <th>2</th>\n      <td>High income</td>\n      <td>1758049.0</td>\n    </tr>\n    <tr>\n      <th>3</th>\n      <td>Europe</td>\n      <td>1313814.0</td>\n    </tr>\n    <tr>\n      <th>4</th>\n      <td>Asia</td>\n      <td>1178919.0</td>\n    </tr>\n    <tr>\n      <th>5</th>\n      <td>South America</td>\n      <td>1170638.0</td>\n    </tr>\n    <tr>\n      <th>6</th>\n      <td>North America</td>\n      <td>1128788.0</td>\n    </tr>\n    <tr>\n      <th>7</th>\n      <td>Lower middle income</td>\n      <td>1109395.0</td>\n    </tr>\n    <tr>\n      <th>8</th>\n      <td>European Union</td>\n      <td>800862.0</td>\n    </tr>\n    <tr>\n      <th>9</th>\n      <td>Africa</td>\n      <td>218561.0</td>\n    </tr>\n    <tr>\n      <th>10</th>\n      <td>Low income</td>\n      <td>36402.0</td>\n    </tr>\n    <tr>\n      <th>11</th>\n      <td>Oceania</td>\n      <td>2856.0</td>\n    </tr>\n    <tr>\n      <th>12</th>\n      <td>International</td>\n      <td>15.0</td>\n    </tr>\n  </tbody>\n</table>\n</div>"
     },
     "execution_count": 116,
     "metadata": {},
     "output_type": "execute_result"
    }
   ],
   "source": [
    "sql_string = 'SELECT location, MAX(total_deaths) AS Total_Deaths_Count '\\\n",
    "             'FROM CovidDeaths '\\\n",
    "             'WHERE continent IS NULL '\\\n",
    "             'GROUP by location '\\\n",
    "             'ORDER by Total_Deaths_Count DESC '\n",
    "pd.read_sql(sql_string, conn)"
   ],
   "metadata": {
    "collapsed": false,
    "pycharm": {
     "name": "#%%\n"
    }
   }
  },
  {
   "cell_type": "code",
   "execution_count": 117,
   "outputs": [
    {
     "data": {
      "text/plain": "         location  Total_Deaths_Count\n0           World           5013591.0\n1          Europe           1313814.0\n2            Asia           1178919.0\n3   South America           1170638.0\n4   North America           1128788.0\n5  European Union            800862.0\n6          Africa            218561.0\n7         Oceania              2856.0\n8   International                15.0",
      "text/html": "<div>\n<style scoped>\n    .dataframe tbody tr th:only-of-type {\n        vertical-align: middle;\n    }\n\n    .dataframe tbody tr th {\n        vertical-align: top;\n    }\n\n    .dataframe thead th {\n        text-align: right;\n    }\n</style>\n<table border=\"1\" class=\"dataframe\">\n  <thead>\n    <tr style=\"text-align: right;\">\n      <th></th>\n      <th>location</th>\n      <th>Total_Deaths_Count</th>\n    </tr>\n  </thead>\n  <tbody>\n    <tr>\n      <th>0</th>\n      <td>World</td>\n      <td>5013591.0</td>\n    </tr>\n    <tr>\n      <th>1</th>\n      <td>Europe</td>\n      <td>1313814.0</td>\n    </tr>\n    <tr>\n      <th>2</th>\n      <td>Asia</td>\n      <td>1178919.0</td>\n    </tr>\n    <tr>\n      <th>3</th>\n      <td>South America</td>\n      <td>1170638.0</td>\n    </tr>\n    <tr>\n      <th>4</th>\n      <td>North America</td>\n      <td>1128788.0</td>\n    </tr>\n    <tr>\n      <th>5</th>\n      <td>European Union</td>\n      <td>800862.0</td>\n    </tr>\n    <tr>\n      <th>6</th>\n      <td>Africa</td>\n      <td>218561.0</td>\n    </tr>\n    <tr>\n      <th>7</th>\n      <td>Oceania</td>\n      <td>2856.0</td>\n    </tr>\n    <tr>\n      <th>8</th>\n      <td>International</td>\n      <td>15.0</td>\n    </tr>\n  </tbody>\n</table>\n</div>"
     },
     "execution_count": 117,
     "metadata": {},
     "output_type": "execute_result"
    }
   ],
   "source": [
    "# Remove the income variable\n",
    "sql_string = 'SELECT location, MAX(total_deaths) AS Total_Deaths_Count '\\\n",
    "             'FROM CovidDeaths '\\\n",
    "             'WHERE continent IS NULL ' \\\n",
    "             'AND location NOT IN (\"Upper middle income\", \"High income\", \"Lower middle income\",\"Low income\" )'\\\n",
    "             'GROUP by location '\\\n",
    "             'ORDER by Total_Deaths_Count DESC '\n",
    "pd.read_sql(sql_string, conn)"
   ],
   "metadata": {
    "collapsed": false,
    "pycharm": {
     "name": "#%%\n"
    }
   }
  },
  {
   "cell_type": "markdown",
   "source": [
    "## Global numbers\n",
    "by day"
   ],
   "metadata": {
    "collapsed": false
   }
  },
  {
   "cell_type": "code",
   "execution_count": 118,
   "outputs": [
    {
     "data": {
      "text/plain": "           date  Global_New_Cases  Global_New_Deaths  Death_Percentage\n0    2020-01-01               NaN                NaN               NaN\n1    2020-01-02               NaN                NaN               NaN\n2    2020-01-03               NaN                NaN               NaN\n3    2020-01-04               NaN                NaN               NaN\n4    2020-01-05               NaN                NaN               NaN\n..          ...               ...                ...               ...\n667  2021-01-07          891829.0            15154.0              1.70\n668  2021-04-29          898160.0            15772.0              1.76\n669  2021-04-22          898632.0            13877.0              1.54\n670  2021-04-23          903509.0            15174.0              1.68\n671  2021-04-28          905975.0            16043.0              1.77\n\n[672 rows x 4 columns]",
      "text/html": "<div>\n<style scoped>\n    .dataframe tbody tr th:only-of-type {\n        vertical-align: middle;\n    }\n\n    .dataframe tbody tr th {\n        vertical-align: top;\n    }\n\n    .dataframe thead th {\n        text-align: right;\n    }\n</style>\n<table border=\"1\" class=\"dataframe\">\n  <thead>\n    <tr style=\"text-align: right;\">\n      <th></th>\n      <th>date</th>\n      <th>Global_New_Cases</th>\n      <th>Global_New_Deaths</th>\n      <th>Death_Percentage</th>\n    </tr>\n  </thead>\n  <tbody>\n    <tr>\n      <th>0</th>\n      <td>2020-01-01</td>\n      <td>NaN</td>\n      <td>NaN</td>\n      <td>NaN</td>\n    </tr>\n    <tr>\n      <th>1</th>\n      <td>2020-01-02</td>\n      <td>NaN</td>\n      <td>NaN</td>\n      <td>NaN</td>\n    </tr>\n    <tr>\n      <th>2</th>\n      <td>2020-01-03</td>\n      <td>NaN</td>\n      <td>NaN</td>\n      <td>NaN</td>\n    </tr>\n    <tr>\n      <th>3</th>\n      <td>2020-01-04</td>\n      <td>NaN</td>\n      <td>NaN</td>\n      <td>NaN</td>\n    </tr>\n    <tr>\n      <th>4</th>\n      <td>2020-01-05</td>\n      <td>NaN</td>\n      <td>NaN</td>\n      <td>NaN</td>\n    </tr>\n    <tr>\n      <th>...</th>\n      <td>...</td>\n      <td>...</td>\n      <td>...</td>\n      <td>...</td>\n    </tr>\n    <tr>\n      <th>667</th>\n      <td>2021-01-07</td>\n      <td>891829.0</td>\n      <td>15154.0</td>\n      <td>1.70</td>\n    </tr>\n    <tr>\n      <th>668</th>\n      <td>2021-04-29</td>\n      <td>898160.0</td>\n      <td>15772.0</td>\n      <td>1.76</td>\n    </tr>\n    <tr>\n      <th>669</th>\n      <td>2021-04-22</td>\n      <td>898632.0</td>\n      <td>13877.0</td>\n      <td>1.54</td>\n    </tr>\n    <tr>\n      <th>670</th>\n      <td>2021-04-23</td>\n      <td>903509.0</td>\n      <td>15174.0</td>\n      <td>1.68</td>\n    </tr>\n    <tr>\n      <th>671</th>\n      <td>2021-04-28</td>\n      <td>905975.0</td>\n      <td>16043.0</td>\n      <td>1.77</td>\n    </tr>\n  </tbody>\n</table>\n<p>672 rows × 4 columns</p>\n</div>"
     },
     "execution_count": 118,
     "metadata": {},
     "output_type": "execute_result"
    }
   ],
   "source": [
    "sql_string = 'SELECT date, SUM(new_cases) AS Global_New_Cases, SUM(new_deaths) AS Global_New_Deaths, ROUND(SUM(new_deaths)/SUM(new_cases)*100,2) AS Death_Percentage '\\\n",
    "             'FROM CovidDeaths  ' \\\n",
    "             'WHERE continent IS NOT NULL ' \\\n",
    "             'GROUP BY date ' \\\n",
    "             'ORDER BY 2'\n",
    "pd.read_sql(sql_string, conn)"
   ],
   "metadata": {
    "collapsed": false,
    "pycharm": {
     "name": "#%%\n"
    }
   }
  },
  {
   "cell_type": "markdown",
   "source": [
    "Overall Global Death rate"
   ],
   "metadata": {
    "collapsed": false
   }
  },
  {
   "cell_type": "code",
   "execution_count": 119,
   "outputs": [
    {
     "data": {
      "text/plain": "   Global_New_Cases  Global_New_Deaths  Death_Percentage\n0       246947708.0          4996649.0              2.02",
      "text/html": "<div>\n<style scoped>\n    .dataframe tbody tr th:only-of-type {\n        vertical-align: middle;\n    }\n\n    .dataframe tbody tr th {\n        vertical-align: top;\n    }\n\n    .dataframe thead th {\n        text-align: right;\n    }\n</style>\n<table border=\"1\" class=\"dataframe\">\n  <thead>\n    <tr style=\"text-align: right;\">\n      <th></th>\n      <th>Global_New_Cases</th>\n      <th>Global_New_Deaths</th>\n      <th>Death_Percentage</th>\n    </tr>\n  </thead>\n  <tbody>\n    <tr>\n      <th>0</th>\n      <td>246947708.0</td>\n      <td>4996649.0</td>\n      <td>2.02</td>\n    </tr>\n  </tbody>\n</table>\n</div>"
     },
     "execution_count": 119,
     "metadata": {},
     "output_type": "execute_result"
    }
   ],
   "source": [
    "sql_string = 'SELECT SUM(new_cases) AS Global_New_Cases, SUM(new_deaths) AS Global_New_Deaths, ROUND(SUM(new_deaths)/SUM(new_cases)*100,2) AS Death_Percentage '\\\n",
    "             'FROM CovidDeaths  '\\\n",
    "             'WHERE continent IS NOT NULL '\\\n",
    "             'ORDER BY 2'\n",
    "pd.read_sql(sql_string, conn)"
   ],
   "metadata": {
    "collapsed": false,
    "pycharm": {
     "name": "#%%\n"
    }
   }
  },
  {
   "cell_type": "code",
   "execution_count": 120,
   "outputs": [
    {
     "data": {
      "text/plain": "       iso_code continent     location        date  new_tests  total_tests  \\\n0           AFG      Asia  Afghanistan  2020-02-24        NaN          NaN   \n1           AFG      Asia  Afghanistan  2020-02-25        NaN          NaN   \n2           AFG      Asia  Afghanistan  2020-02-26        NaN          NaN   \n3           AFG      Asia  Afghanistan  2020-02-27        NaN          NaN   \n4           AFG      Asia  Afghanistan  2020-02-28        NaN          NaN   \n...         ...       ...          ...         ...        ...          ...   \n130595     None      None         None        None     2740.0    1368179.0   \n130596     None      None         None        None     3755.0    1371934.0   \n130597     None      None         None        None        NaN          NaN   \n130598     None      None         None        None        NaN          NaN   \n130599     None      None         None        None        NaN          NaN   \n\n        total_tests_per_thousand  new_tests_per_thousand  new_tests_smoothed  \\\n0                            NaN                     NaN                 NaN   \n1                            NaN                     NaN                 NaN   \n2                            NaN                     NaN                 NaN   \n3                            NaN                     NaN                 NaN   \n4                            NaN                     NaN                 NaN   \n...                          ...                     ...                 ...   \n130595                    90.655                   0.182              3018.0   \n130596                    90.904                   0.249              3100.0   \n130597                       NaN                     NaN                 NaN   \n130598                       NaN                     NaN                 NaN   \n130599                       NaN                     NaN                 NaN   \n\n        new_tests_smoothed_per_thousand  ...  female_smokers  male_smokers  \\\n0                                   NaN  ...             NaN           NaN   \n1                                   NaN  ...             NaN           NaN   \n2                                   NaN  ...             NaN           NaN   \n3                                   NaN  ...             NaN           NaN   \n4                                   NaN  ...             NaN           NaN   \n...                                 ...  ...             ...           ...   \n130595                            0.200  ...             1.6          30.7   \n130596                            0.205  ...             1.6          30.7   \n130597                              NaN  ...             1.6          30.7   \n130598                              NaN  ...             1.6          30.7   \n130599                              NaN  ...             1.6          30.7   \n\n       handwashing_facilities  hospital_beds_per_thousand  life_expectancy  \\\n0                      37.746                         0.5            64.83   \n1                      37.746                         0.5            64.83   \n2                      37.746                         0.5            64.83   \n3                      37.746                         0.5            64.83   \n4                      37.746                         0.5            64.83   \n...                       ...                         ...              ...   \n130595                 36.791                         1.7            61.49   \n130596                 36.791                         1.7            61.49   \n130597                 36.791                         1.7            61.49   \n130598                 36.791                         1.7            61.49   \n130599                 36.791                         1.7            61.49   \n\n        human_development_index  excess_mortality_cumulative_absolute  \\\n0                         0.511                                   NaN   \n1                         0.511                                   NaN   \n2                         0.511                                   NaN   \n3                         0.511                                   NaN   \n4                         0.511                                   NaN   \n...                         ...                                   ...   \n130595                    0.571                                   NaN   \n130596                    0.571                                   NaN   \n130597                    0.571                                   NaN   \n130598                    0.571                                   NaN   \n130599                    0.571                                   NaN   \n\n        excess_mortality_cumulative  excess_mortality  \\\n0                               NaN               NaN   \n1                               NaN               NaN   \n2                               NaN               NaN   \n3                               NaN               NaN   \n4                               NaN               NaN   \n...                             ...               ...   \n130595                          NaN               NaN   \n130596                          NaN               NaN   \n130597                          NaN               NaN   \n130598                          NaN               NaN   \n130599                          NaN               NaN   \n\n        excess_mortality_cumulative_per_million  \n0                                           NaN  \n1                                           NaN  \n2                                           NaN  \n3                                           NaN  \n4                                           NaN  \n...                                         ...  \n130595                                      NaN  \n130596                                      NaN  \n130597                                      NaN  \n130598                                      NaN  \n130599                                      NaN  \n\n[130600 rows x 43 columns]",
      "text/html": "<div>\n<style scoped>\n    .dataframe tbody tr th:only-of-type {\n        vertical-align: middle;\n    }\n\n    .dataframe tbody tr th {\n        vertical-align: top;\n    }\n\n    .dataframe thead th {\n        text-align: right;\n    }\n</style>\n<table border=\"1\" class=\"dataframe\">\n  <thead>\n    <tr style=\"text-align: right;\">\n      <th></th>\n      <th>iso_code</th>\n      <th>continent</th>\n      <th>location</th>\n      <th>date</th>\n      <th>new_tests</th>\n      <th>total_tests</th>\n      <th>total_tests_per_thousand</th>\n      <th>new_tests_per_thousand</th>\n      <th>new_tests_smoothed</th>\n      <th>new_tests_smoothed_per_thousand</th>\n      <th>...</th>\n      <th>female_smokers</th>\n      <th>male_smokers</th>\n      <th>handwashing_facilities</th>\n      <th>hospital_beds_per_thousand</th>\n      <th>life_expectancy</th>\n      <th>human_development_index</th>\n      <th>excess_mortality_cumulative_absolute</th>\n      <th>excess_mortality_cumulative</th>\n      <th>excess_mortality</th>\n      <th>excess_mortality_cumulative_per_million</th>\n    </tr>\n  </thead>\n  <tbody>\n    <tr>\n      <th>0</th>\n      <td>AFG</td>\n      <td>Asia</td>\n      <td>Afghanistan</td>\n      <td>2020-02-24</td>\n      <td>NaN</td>\n      <td>NaN</td>\n      <td>NaN</td>\n      <td>NaN</td>\n      <td>NaN</td>\n      <td>NaN</td>\n      <td>...</td>\n      <td>NaN</td>\n      <td>NaN</td>\n      <td>37.746</td>\n      <td>0.5</td>\n      <td>64.83</td>\n      <td>0.511</td>\n      <td>NaN</td>\n      <td>NaN</td>\n      <td>NaN</td>\n      <td>NaN</td>\n    </tr>\n    <tr>\n      <th>1</th>\n      <td>AFG</td>\n      <td>Asia</td>\n      <td>Afghanistan</td>\n      <td>2020-02-25</td>\n      <td>NaN</td>\n      <td>NaN</td>\n      <td>NaN</td>\n      <td>NaN</td>\n      <td>NaN</td>\n      <td>NaN</td>\n      <td>...</td>\n      <td>NaN</td>\n      <td>NaN</td>\n      <td>37.746</td>\n      <td>0.5</td>\n      <td>64.83</td>\n      <td>0.511</td>\n      <td>NaN</td>\n      <td>NaN</td>\n      <td>NaN</td>\n      <td>NaN</td>\n    </tr>\n    <tr>\n      <th>2</th>\n      <td>AFG</td>\n      <td>Asia</td>\n      <td>Afghanistan</td>\n      <td>2020-02-26</td>\n      <td>NaN</td>\n      <td>NaN</td>\n      <td>NaN</td>\n      <td>NaN</td>\n      <td>NaN</td>\n      <td>NaN</td>\n      <td>...</td>\n      <td>NaN</td>\n      <td>NaN</td>\n      <td>37.746</td>\n      <td>0.5</td>\n      <td>64.83</td>\n      <td>0.511</td>\n      <td>NaN</td>\n      <td>NaN</td>\n      <td>NaN</td>\n      <td>NaN</td>\n    </tr>\n    <tr>\n      <th>3</th>\n      <td>AFG</td>\n      <td>Asia</td>\n      <td>Afghanistan</td>\n      <td>2020-02-27</td>\n      <td>NaN</td>\n      <td>NaN</td>\n      <td>NaN</td>\n      <td>NaN</td>\n      <td>NaN</td>\n      <td>NaN</td>\n      <td>...</td>\n      <td>NaN</td>\n      <td>NaN</td>\n      <td>37.746</td>\n      <td>0.5</td>\n      <td>64.83</td>\n      <td>0.511</td>\n      <td>NaN</td>\n      <td>NaN</td>\n      <td>NaN</td>\n      <td>NaN</td>\n    </tr>\n    <tr>\n      <th>4</th>\n      <td>AFG</td>\n      <td>Asia</td>\n      <td>Afghanistan</td>\n      <td>2020-02-28</td>\n      <td>NaN</td>\n      <td>NaN</td>\n      <td>NaN</td>\n      <td>NaN</td>\n      <td>NaN</td>\n      <td>NaN</td>\n      <td>...</td>\n      <td>NaN</td>\n      <td>NaN</td>\n      <td>37.746</td>\n      <td>0.5</td>\n      <td>64.83</td>\n      <td>0.511</td>\n      <td>NaN</td>\n      <td>NaN</td>\n      <td>NaN</td>\n      <td>NaN</td>\n    </tr>\n    <tr>\n      <th>...</th>\n      <td>...</td>\n      <td>...</td>\n      <td>...</td>\n      <td>...</td>\n      <td>...</td>\n      <td>...</td>\n      <td>...</td>\n      <td>...</td>\n      <td>...</td>\n      <td>...</td>\n      <td>...</td>\n      <td>...</td>\n      <td>...</td>\n      <td>...</td>\n      <td>...</td>\n      <td>...</td>\n      <td>...</td>\n      <td>...</td>\n      <td>...</td>\n      <td>...</td>\n      <td>...</td>\n    </tr>\n    <tr>\n      <th>130595</th>\n      <td>None</td>\n      <td>None</td>\n      <td>None</td>\n      <td>None</td>\n      <td>2740.0</td>\n      <td>1368179.0</td>\n      <td>90.655</td>\n      <td>0.182</td>\n      <td>3018.0</td>\n      <td>0.200</td>\n      <td>...</td>\n      <td>1.6</td>\n      <td>30.7</td>\n      <td>36.791</td>\n      <td>1.7</td>\n      <td>61.49</td>\n      <td>0.571</td>\n      <td>NaN</td>\n      <td>NaN</td>\n      <td>NaN</td>\n      <td>NaN</td>\n    </tr>\n    <tr>\n      <th>130596</th>\n      <td>None</td>\n      <td>None</td>\n      <td>None</td>\n      <td>None</td>\n      <td>3755.0</td>\n      <td>1371934.0</td>\n      <td>90.904</td>\n      <td>0.249</td>\n      <td>3100.0</td>\n      <td>0.205</td>\n      <td>...</td>\n      <td>1.6</td>\n      <td>30.7</td>\n      <td>36.791</td>\n      <td>1.7</td>\n      <td>61.49</td>\n      <td>0.571</td>\n      <td>NaN</td>\n      <td>NaN</td>\n      <td>NaN</td>\n      <td>NaN</td>\n    </tr>\n    <tr>\n      <th>130597</th>\n      <td>None</td>\n      <td>None</td>\n      <td>None</td>\n      <td>None</td>\n      <td>NaN</td>\n      <td>NaN</td>\n      <td>NaN</td>\n      <td>NaN</td>\n      <td>NaN</td>\n      <td>NaN</td>\n      <td>...</td>\n      <td>1.6</td>\n      <td>30.7</td>\n      <td>36.791</td>\n      <td>1.7</td>\n      <td>61.49</td>\n      <td>0.571</td>\n      <td>NaN</td>\n      <td>NaN</td>\n      <td>NaN</td>\n      <td>NaN</td>\n    </tr>\n    <tr>\n      <th>130598</th>\n      <td>None</td>\n      <td>None</td>\n      <td>None</td>\n      <td>None</td>\n      <td>NaN</td>\n      <td>NaN</td>\n      <td>NaN</td>\n      <td>NaN</td>\n      <td>NaN</td>\n      <td>NaN</td>\n      <td>...</td>\n      <td>1.6</td>\n      <td>30.7</td>\n      <td>36.791</td>\n      <td>1.7</td>\n      <td>61.49</td>\n      <td>0.571</td>\n      <td>NaN</td>\n      <td>NaN</td>\n      <td>NaN</td>\n      <td>NaN</td>\n    </tr>\n    <tr>\n      <th>130599</th>\n      <td>None</td>\n      <td>None</td>\n      <td>None</td>\n      <td>None</td>\n      <td>NaN</td>\n      <td>NaN</td>\n      <td>NaN</td>\n      <td>NaN</td>\n      <td>NaN</td>\n      <td>NaN</td>\n      <td>...</td>\n      <td>1.6</td>\n      <td>30.7</td>\n      <td>36.791</td>\n      <td>1.7</td>\n      <td>61.49</td>\n      <td>0.571</td>\n      <td>NaN</td>\n      <td>NaN</td>\n      <td>NaN</td>\n      <td>NaN</td>\n    </tr>\n  </tbody>\n</table>\n<p>130600 rows × 43 columns</p>\n</div>"
     },
     "execution_count": 120,
     "metadata": {},
     "output_type": "execute_result"
    }
   ],
   "source": [
    "sql_string = 'SELECT * '\\\n",
    "             'FROM CovidVaccinations vac '\n",
    "pd.read_sql(sql_string, conn)"
   ],
   "metadata": {
    "collapsed": false,
    "pycharm": {
     "name": "#%%\n"
    }
   }
  }
 ],
 "metadata": {
  "kernelspec": {
   "display_name": "Python 3",
   "language": "python",
   "name": "python3"
  },
  "language_info": {
   "codemirror_mode": {
    "name": "ipython",
    "version": 2
   },
   "file_extension": ".py",
   "mimetype": "text/x-python",
   "name": "python",
   "nbconvert_exporter": "python",
   "pygments_lexer": "ipython2",
   "version": "2.7.6"
  }
 },
 "nbformat": 4,
 "nbformat_minor": 0
>>>>>>> 3dbfd5ba35902a9d5e544c84ddf38a1073e59d90:SQL/Covid-19/Covid-19 Project.ipynb
}